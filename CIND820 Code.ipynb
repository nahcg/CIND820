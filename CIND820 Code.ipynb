{
 "cells": [
  {
   "cell_type": "code",
   "execution_count": 175,
   "metadata": {},
   "outputs": [],
   "source": [
    "import pandas as pd\n",
    "import numpy as np"
   ]
  },
  {
   "cell_type": "code",
   "execution_count": 176,
   "metadata": {},
   "outputs": [
    {
     "name": "stderr",
     "output_type": "stream",
     "text": [
      "C:\\Users\\callm\\anaconda3\\lib\\site-packages\\IPython\\core\\interactiveshell.py:3146: DtypeWarning: Columns (107,143,151) have mixed types.Specify dtype option on import or set low_memory=False.\n",
      "  has_raised = await self.run_ast_nodes(code_ast.body, cell_name,\n"
     ]
    },
    {
     "data": {
      "text/html": [
       "<div>\n",
       "<style scoped>\n",
       "    .dataframe tbody tr th:only-of-type {\n",
       "        vertical-align: middle;\n",
       "    }\n",
       "\n",
       "    .dataframe tbody tr th {\n",
       "        vertical-align: top;\n",
       "    }\n",
       "\n",
       "    .dataframe thead th {\n",
       "        text-align: right;\n",
       "    }\n",
       "</style>\n",
       "<table border=\"1\" class=\"dataframe\">\n",
       "  <thead>\n",
       "    <tr style=\"text-align: right;\">\n",
       "      <th></th>\n",
       "      <th>Age recode with &lt;1 year olds</th>\n",
       "      <th>Sex</th>\n",
       "      <th>Year of diagnosis</th>\n",
       "      <th>PRCDA 2017</th>\n",
       "      <th>Race recode (W, B, AI, API)</th>\n",
       "      <th>Origin recode NHIA (Hispanic, Non-Hisp)</th>\n",
       "      <th>Race and origin recode (NHW, NHB, NHAIAN, NHAPI, Hispanic)</th>\n",
       "      <th>Site recode ICD-O-3/WHO 2008</th>\n",
       "      <th>Behavior recode for analysis</th>\n",
       "      <th>AYA site recode/WHO 2008</th>\n",
       "      <th>...</th>\n",
       "      <th>SS seq # - mal (least detail)</th>\n",
       "      <th>SS seq # 1975+ - mal (least detail)</th>\n",
       "      <th>SS seq # 1992+ - mal (least detail)</th>\n",
       "      <th>SS seq # 2000+ - mal (least detail)</th>\n",
       "      <th>Site - malignant (least detail)</th>\n",
       "      <th>Patient ID</th>\n",
       "      <th>Type of Reporting Source</th>\n",
       "      <th>Marital status at diagnosis</th>\n",
       "      <th>Median household income inflation adj to 2018</th>\n",
       "      <th>Rural-Urban Continuum Code</th>\n",
       "    </tr>\n",
       "  </thead>\n",
       "  <tbody>\n",
       "    <tr>\n",
       "      <th>0</th>\n",
       "      <td>65-69 years</td>\n",
       "      <td>Male</td>\n",
       "      <td>2000</td>\n",
       "      <td>Not PRCDA</td>\n",
       "      <td>White</td>\n",
       "      <td>Non-Spanish-Hispanic-Latino</td>\n",
       "      <td>Non-Hispanic White</td>\n",
       "      <td>Rectum</td>\n",
       "      <td>Malignant</td>\n",
       "      <td>8.6.1 Carcinoma of colon and rectum</td>\n",
       "      <td>...</td>\n",
       "      <td>1</td>\n",
       "      <td>1</td>\n",
       "      <td>1</td>\n",
       "      <td>1</td>\n",
       "      <td>Colon and Rectum - mal</td>\n",
       "      <td>19</td>\n",
       "      <td>Hospital inpatient/outpatient or clinic</td>\n",
       "      <td>Single (never married)</td>\n",
       "      <td>$75,000+</td>\n",
       "      <td>Counties in metropolitan areas ge 1 million pop</td>\n",
       "    </tr>\n",
       "    <tr>\n",
       "      <th>1</th>\n",
       "      <td>35-39 years</td>\n",
       "      <td>Female</td>\n",
       "      <td>2008</td>\n",
       "      <td>Not PRCDA</td>\n",
       "      <td>White</td>\n",
       "      <td>Spanish-Hispanic-Latino</td>\n",
       "      <td>Hispanic (All Races)</td>\n",
       "      <td>Rectosigmoid Junction</td>\n",
       "      <td>Malignant</td>\n",
       "      <td>8.6.1 Carcinoma of colon and rectum</td>\n",
       "      <td>...</td>\n",
       "      <td>1</td>\n",
       "      <td>1</td>\n",
       "      <td>1</td>\n",
       "      <td>1</td>\n",
       "      <td>Colon and Rectum - mal</td>\n",
       "      <td>25</td>\n",
       "      <td>Hospital inpatient/outpatient or clinic</td>\n",
       "      <td>Single (never married)</td>\n",
       "      <td>$75,000+</td>\n",
       "      <td>Counties in metropolitan areas ge 1 million pop</td>\n",
       "    </tr>\n",
       "    <tr>\n",
       "      <th>2</th>\n",
       "      <td>80-84 years</td>\n",
       "      <td>Female</td>\n",
       "      <td>2008</td>\n",
       "      <td>Not PRCDA</td>\n",
       "      <td>White</td>\n",
       "      <td>Non-Spanish-Hispanic-Latino</td>\n",
       "      <td>Non-Hispanic White</td>\n",
       "      <td>Ascending Colon</td>\n",
       "      <td>Malignant</td>\n",
       "      <td>8.6.1 Carcinoma of colon and rectum</td>\n",
       "      <td>...</td>\n",
       "      <td>1</td>\n",
       "      <td>1</td>\n",
       "      <td>1</td>\n",
       "      <td>1</td>\n",
       "      <td>Colon and Rectum - mal</td>\n",
       "      <td>337</td>\n",
       "      <td>Hospital inpatient/outpatient or clinic</td>\n",
       "      <td>Widowed</td>\n",
       "      <td>$75,000+</td>\n",
       "      <td>Counties in metropolitan areas ge 1 million pop</td>\n",
       "    </tr>\n",
       "    <tr>\n",
       "      <th>3</th>\n",
       "      <td>65-69 years</td>\n",
       "      <td>Female</td>\n",
       "      <td>2014</td>\n",
       "      <td>Not PRCDA</td>\n",
       "      <td>Asian or Pacific Islander</td>\n",
       "      <td>Non-Spanish-Hispanic-Latino</td>\n",
       "      <td>Non-Hispanic Asian or Pacific Islander</td>\n",
       "      <td>Rectum</td>\n",
       "      <td>Malignant</td>\n",
       "      <td>8.6.1 Carcinoma of colon and rectum</td>\n",
       "      <td>...</td>\n",
       "      <td>1</td>\n",
       "      <td>1</td>\n",
       "      <td>1</td>\n",
       "      <td>1</td>\n",
       "      <td>Colon and Rectum - mal</td>\n",
       "      <td>465</td>\n",
       "      <td>Hospital inpatient/outpatient or clinic</td>\n",
       "      <td>Single (never married)</td>\n",
       "      <td>$75,000+</td>\n",
       "      <td>Counties in metropolitan areas ge 1 million pop</td>\n",
       "    </tr>\n",
       "    <tr>\n",
       "      <th>4</th>\n",
       "      <td>75-79 years</td>\n",
       "      <td>Male</td>\n",
       "      <td>2004</td>\n",
       "      <td>Not PRCDA</td>\n",
       "      <td>White</td>\n",
       "      <td>Non-Spanish-Hispanic-Latino</td>\n",
       "      <td>Non-Hispanic White</td>\n",
       "      <td>Rectum</td>\n",
       "      <td>Malignant</td>\n",
       "      <td>8.6.1 Carcinoma of colon and rectum</td>\n",
       "      <td>...</td>\n",
       "      <td>1</td>\n",
       "      <td>1</td>\n",
       "      <td>1</td>\n",
       "      <td>1</td>\n",
       "      <td>Colon and Rectum - mal</td>\n",
       "      <td>764</td>\n",
       "      <td>Hospital inpatient/outpatient or clinic</td>\n",
       "      <td>Married (including common law)</td>\n",
       "      <td>$75,000+</td>\n",
       "      <td>Counties in metropolitan areas ge 1 million pop</td>\n",
       "    </tr>\n",
       "  </tbody>\n",
       "</table>\n",
       "<p>5 rows × 196 columns</p>\n",
       "</div>"
      ],
      "text/plain": [
       "  Age recode with <1 year olds     Sex  Year of diagnosis PRCDA 2017  \\\n",
       "0                  65-69 years    Male               2000  Not PRCDA   \n",
       "1                  35-39 years  Female               2008  Not PRCDA   \n",
       "2                  80-84 years  Female               2008  Not PRCDA   \n",
       "3                  65-69 years  Female               2014  Not PRCDA   \n",
       "4                  75-79 years    Male               2004  Not PRCDA   \n",
       "\n",
       "  Race recode (W, B, AI, API) Origin recode NHIA (Hispanic, Non-Hisp)  \\\n",
       "0                       White             Non-Spanish-Hispanic-Latino   \n",
       "1                       White                 Spanish-Hispanic-Latino   \n",
       "2                       White             Non-Spanish-Hispanic-Latino   \n",
       "3   Asian or Pacific Islander             Non-Spanish-Hispanic-Latino   \n",
       "4                       White             Non-Spanish-Hispanic-Latino   \n",
       "\n",
       "  Race and origin recode (NHW, NHB, NHAIAN, NHAPI, Hispanic)  \\\n",
       "0                                 Non-Hispanic White           \n",
       "1                               Hispanic (All Races)           \n",
       "2                                 Non-Hispanic White           \n",
       "3             Non-Hispanic Asian or Pacific Islander           \n",
       "4                                 Non-Hispanic White           \n",
       "\n",
       "  Site recode ICD-O-3/WHO 2008 Behavior recode for analysis  \\\n",
       "0                       Rectum                    Malignant   \n",
       "1        Rectosigmoid Junction                    Malignant   \n",
       "2              Ascending Colon                    Malignant   \n",
       "3                       Rectum                    Malignant   \n",
       "4                       Rectum                    Malignant   \n",
       "\n",
       "              AYA site recode/WHO 2008  ... SS seq # - mal (least detail)  \\\n",
       "0  8.6.1 Carcinoma of colon and rectum  ...                             1   \n",
       "1  8.6.1 Carcinoma of colon and rectum  ...                             1   \n",
       "2  8.6.1 Carcinoma of colon and rectum  ...                             1   \n",
       "3  8.6.1 Carcinoma of colon and rectum  ...                             1   \n",
       "4  8.6.1 Carcinoma of colon and rectum  ...                             1   \n",
       "\n",
       "  SS seq # 1975+ - mal (least detail) SS seq # 1992+ - mal (least detail)  \\\n",
       "0                                   1                                   1   \n",
       "1                                   1                                   1   \n",
       "2                                   1                                   1   \n",
       "3                                   1                                   1   \n",
       "4                                   1                                   1   \n",
       "\n",
       "  SS seq # 2000+ - mal (least detail) Site - malignant (least detail)  \\\n",
       "0                                   1          Colon and Rectum - mal   \n",
       "1                                   1          Colon and Rectum - mal   \n",
       "2                                   1          Colon and Rectum - mal   \n",
       "3                                   1          Colon and Rectum - mal   \n",
       "4                                   1          Colon and Rectum - mal   \n",
       "\n",
       "   Patient ID                 Type of Reporting Source  \\\n",
       "0          19  Hospital inpatient/outpatient or clinic   \n",
       "1          25  Hospital inpatient/outpatient or clinic   \n",
       "2         337  Hospital inpatient/outpatient or clinic   \n",
       "3         465  Hospital inpatient/outpatient or clinic   \n",
       "4         764  Hospital inpatient/outpatient or clinic   \n",
       "\n",
       "      Marital status at diagnosis  \\\n",
       "0          Single (never married)   \n",
       "1          Single (never married)   \n",
       "2                         Widowed   \n",
       "3          Single (never married)   \n",
       "4  Married (including common law)   \n",
       "\n",
       "  Median household income inflation adj to 2018  \\\n",
       "0                                      $75,000+   \n",
       "1                                      $75,000+   \n",
       "2                                      $75,000+   \n",
       "3                                      $75,000+   \n",
       "4                                      $75,000+   \n",
       "\n",
       "                        Rural-Urban Continuum Code  \n",
       "0  Counties in metropolitan areas ge 1 million pop  \n",
       "1  Counties in metropolitan areas ge 1 million pop  \n",
       "2  Counties in metropolitan areas ge 1 million pop  \n",
       "3  Counties in metropolitan areas ge 1 million pop  \n",
       "4  Counties in metropolitan areas ge 1 million pop  \n",
       "\n",
       "[5 rows x 196 columns]"
      ]
     },
     "execution_count": 176,
     "metadata": {},
     "output_type": "execute_result"
    }
   ],
   "source": [
    "data = pd.read_csv('export.csv')\n",
    "data.head()"
   ]
  },
  {
   "cell_type": "markdown",
   "metadata": {},
   "source": [
    "## Removing columns and rows"
   ]
  },
  {
   "cell_type": "code",
   "execution_count": 177,
   "metadata": {
    "scrolled": true
   },
   "outputs": [
    {
     "data": {
      "text/plain": [
       "Age recode with <1 year olds                     0\n",
       "Sex                                              0\n",
       "Year of diagnosis                                0\n",
       "PRCDA 2017                                       0\n",
       "Race recode (W, B, AI, API)                      0\n",
       "                                                ..\n",
       "Patient ID                                       0\n",
       "Type of Reporting Source                         0\n",
       "Marital status at diagnosis                      0\n",
       "Median household income inflation adj to 2018    0\n",
       "Rural-Urban Continuum Code                       0\n",
       "Length: 196, dtype: int64"
      ]
     },
     "execution_count": 177,
     "metadata": {},
     "output_type": "execute_result"
    }
   ],
   "source": [
    "(data == 'Blank(s)').sum(axis=0)"
   ]
  },
  {
   "cell_type": "code",
   "execution_count": 178,
   "metadata": {},
   "outputs": [],
   "source": [
    "data = data.loc[:, data.isin(['Blank(s)']).mean() < .4]"
   ]
  },
  {
   "cell_type": "markdown",
   "metadata": {},
   "source": [
    "**Sum of \"Blank(s)\" within each column, remove column with over 60% \"Blank(s)\"\n",
    "Removed 76 columns, from 196 to 120 columns**"
   ]
  },
  {
   "cell_type": "code",
   "execution_count": 179,
   "metadata": {},
   "outputs": [
    {
     "name": "stdout",
     "output_type": "stream",
     "text": [
      "['65-69 years' '35-39 years' '80-84 years' '75-79 years' '60-64 years'\n",
      " '70-74 years' '45-49 years' '85+ years' '40-44 years' '50-54 years'\n",
      " '55-59 years' '30-34 years' '20-24 years' '25-29 years' '15-19 years'\n",
      " '00 years' '10-14 years' '05-09 years' '01-04 years']\n",
      "['Male' 'Female']\n",
      "[2000 2008 2014 2004 2011 2007 2009 2005 2017 2015 2001 2016 2012 2006\n",
      " 2003 2013 2002 2010]\n",
      "['Not PRCDA' 'PRCDA' 'Unknown PRCDA']\n",
      "['White' 'Asian or Pacific Islander' 'American Indian/Alaska Native'\n",
      " 'Black' 'Unknown']\n",
      "['Non-Spanish-Hispanic-Latino' 'Spanish-Hispanic-Latino']\n",
      "['Non-Hispanic White' 'Hispanic (All Races)'\n",
      " 'Non-Hispanic Asian or Pacific Islander' 'Non-Hispanic Black'\n",
      " 'Non-Hispanic American Indian/Alaska Native' 'Non-Hispanic Unknown Race']\n",
      "['Rectum' 'Rectosigmoid Junction' 'Ascending Colon' 'Appendix'\n",
      " 'Sigmoid Colon' 'Cecum' 'Large Intestine, NOS' 'Transverse Colon'\n",
      " 'Splenic Flexure' 'Descending Colon' 'Hepatic Flexure']\n",
      "['Malignant']\n",
      "['8.6.1 Carcinoma of colon and rectum'\n",
      " '10 Unspecified Malignant Neoplasms'\n",
      " '9.2.4 Other specified neoplasms, NOS'\n",
      " '5.3.2 Unspecified soft tissue sarcoma'\n",
      " '5.3.1.1 Specified (excluding Kaposi sarcoma)' '7.1 Melanoma'\n",
      " '8.6.5 Carc oth and ill-def sites, gastrointestinal tract'\n",
      " '5.1 Fibromatous neoplasms' '6.2.2 Other nongonadal'\n",
      " '5.2 Rhabdomyosarcoma' '9.2.1 Paraganglioma and glomus tumors'\n",
      " '9.1.3 Other pediatric and embryonal tumors, NOS' '4.1 Osteosarcoma'\n",
      " '4.3 Ewing tumor' '3.4.2 Supratentorial PNET'\n",
      " 'Unclassified and Non-Malignant' '9.1.2 Neuroblastoma']\n",
      "['Unclassified']\n",
      "['XIf Other and unspecified carcinomas'\n",
      " 'XIIb Other unspecified malignant tumors'\n",
      " 'XIIa Other specified malignant tumors'\n",
      " 'IXe Unspecified soft tissue sarcomas'\n",
      " 'IXd Other specified soft tissue sarcomas' 'XId Malignant melanomas'\n",
      " 'IXb Fibrosarcomas, peripheral nerve sheath tumors and oth fibrous neoplasms'\n",
      " 'Not classified by ICCC or in situ'\n",
      " 'Xb Malignant extracranial and extragonadal germ cell tumors'\n",
      " 'IXa Rhabdomyosarcomas' 'VIb Renal carcinomas' 'XIb Thyroid carcinomas'\n",
      " 'IIIc Intracranial and intraspinal embryonal tumors'\n",
      " 'Xd Gonadal carcinomas' 'IVa Neuroblastoma and ganglioneuroblastoma'\n",
      " 'IVb Other peripheral nervous cell tumors' 'VIIb Hepatic carcinomas'\n",
      " 'IIIe Other specified intracranial and intraspinal neoplasms']\n",
      "['Rectum' 'Colon' 'Appendix' 'NETRectum' 'NETColon' 'GISTColon'\n",
      " 'GISTRectum' 'CarcinoidAppendix' 'DigestiveOther' 'GISTAppendix']\n",
      "['Rectum' 'Colon' 'OthDigestive']\n",
      "['C20.9-Rectum, NOS' 'C19.9-Rectosigmoid junction' 'C18.2-Ascending colon'\n",
      " 'C18.1-Appendix' 'C18.7-Sigmoid colon' 'C18.0-Cecum' 'C18.9-Colon, NOS'\n",
      " 'C18.4-Transverse colon' 'C18.5-Splenic flexure of colon'\n",
      " 'C18.6-Descending colon' 'C18.8-Overlapping lesion of colon'\n",
      " 'C18.3-Hepatic flexure of colon' 'C26.0-Intestinal tract, NOS']\n",
      "[209 199 182 181 187 180 189 184 185 186 188 183 260]\n",
      "[8140 8480 8261 8246 8000 8263 8210 8490 8240 8243 8083 8010 8123 8481\n",
      " 8262 8936 8211 8244 8041 8255 8070 8510 8800 8560 8013 8890 8980 8021\n",
      " 8720 8221 8245 8220 8032 8470 8574 8124 8570 8249 8001 8071 8933 8801\n",
      " 8145 8046 8310 8072 8020 8440 8814 8542 8014 8323 8550 8891 8241 8507\n",
      " 8144 8094 8572 9100 8523 8260 9540 8503 8143 8050 8012 8141 8950 8051\n",
      " 8576 8441 8721 8746 8033 8142 9120 8380 8802 8045 8806 8213 8830 8120\n",
      " 8730 8931 8030 8920 8461 8500 8858 8084 8242 8082 8201 8772 8022 8711\n",
      " 8230 8951 9065 9040 8805 8073 8004 8251 8312 8551 8571 8744 8430 8896\n",
      " 9580 8825 8963 9180 8900 8815 8052 8074 8460 9364 8410 8031 8810 8044\n",
      " 8341 8482 9473 8851 8935 8471 9015 8850 8804 8075 8722 8320 8042 8076\n",
      " 9044 9130 8811 9260 8043 8982 8761 8015 8253 9560 8573 9085 9500 8003\n",
      " 9064 8147 8930 8683 8940 8780 8770 9150 8002 8153 8472 8160 8011 8280\n",
      " 9041 8005 9561]\n",
      "['Malignant']\n",
      "['Well differentiated; Grade I' 'Moderately differentiated; Grade II'\n",
      " 'Poorly differentiated; Grade III' 'Unknown'\n",
      " 'Undifferentiated; anaplastic; Grade IV']\n",
      "['Not a paired  site' 'Right - origin of primary'\n",
      " 'Left - origin of primary'\n",
      " 'Paired site, but no information concerning laterality'\n",
      " 'Only one side - side unspecified' 'Bilateral, single primary']\n",
      "['Positive histology' 'Clinical diagnosis only'\n",
      " 'Radiography without microscopic confirm'\n",
      " 'Positive exfoliative cytology, no positive histology'\n",
      " 'Positive laboratory test/marker study' 'Unknown'\n",
      " 'Direct visualization without microscopic confirmation'\n",
      " 'Positive microscopic confirm, method not specified'\n",
      " 'Pos hist AND immunophenotyping AND/OR pos genetic studies']\n",
      "['8140/3: Adenocarcinoma, NOS' '8480/3: Mucinous adenocarcinoma'\n",
      " '8261/3: Adenocarcinoma in villous adenoma'\n",
      " '8246/3: Neuroendocrine carcinoma, NOS' '8000/3: Neoplasm, malignant'\n",
      " '8263/3: Adenocarcinoma in tubulovillous adenoma'\n",
      " '8210/3: Adenocarcinoma in adenomatous polyp'\n",
      " '8490/3: Signet ring cell carcinoma' '8240/3: Carcinoid tumor, NOS'\n",
      " '8243/3: Goblet cell carcinoid'\n",
      " '8083/3: Basaloid squamous cell carcinoma' '8010/3: Carcinoma, NOS'\n",
      " '8123/3: Basaloid carcinoma' '8481/3: Mucin-producing adenocarcinoma'\n",
      " '8262/3: Villous adenocarcinoma'\n",
      " '8936/3: Gastrointestinal stromal sarcoma'\n",
      " '8211/3: Tubular adenocarcinoma'\n",
      " '8244/3: Mixed adenoneuroendocrine carcinoma (ICD-O-3 update)'\n",
      " '8041/3: Small cell carcinoma, NOS'\n",
      " '8255/3: Adenocarcinoma with mixed subtypes'\n",
      " '8070/3: Squamous cell carcinoma, NOS' '8510/3: Medullary carcinoma, NOS'\n",
      " '8800/3: Sarcoma, NOS' '8560/3: Adenosquamous carcinoma'\n",
      " '8013/3: Large cell neuroendocrine carcinoma'\n",
      " '8890/3: Leiomyosarcoma, NOS' '8980/3: Carcinosarcoma, NOS'\n",
      " '8021/3: Carcinoma, anaplastic, NOS' '8720/3: Malignant melanoma, NOS'\n",
      " '8221/3: Adenocarcinoma in multiple adenomatous polyps'\n",
      " '8245/3: Adenocarcinoid tumor'\n",
      " '8220/3: Adenocarcinoma in adenomatous polyposis coli'\n",
      " '8032/3: Spindle cell carcinoma, NOS'\n",
      " '8470/3: Mucinous cystadenocarcinoma, NOS'\n",
      " '8574/3: Adenocarcinoma with neuroendocrine differentiation'\n",
      " '8124/3: Cloacogenic carcinoma'\n",
      " '8570/3: Adenocarcinoma with squamous metaplasia'\n",
      " '8249/3: Atypical carcinoid tumor' '8001/3: Tumor cells, malignant'\n",
      " '8071/3: Squamous cell carcinoma, keratinizing, NOS'\n",
      " '8933/3: Adenosarcoma' '8801/3: Spindle cell sarcoma'\n",
      " '8145/3: Carcinoma, diffuse type' '8046/3: Non-small cell carcinoma'\n",
      " '8310/3: Clear cell adenocarcinoma, NOS'\n",
      " '8072/3: Squamous cell carcinoma, large cell, nonkeratinizing, NOS'\n",
      " '8020/3: Carcinoma, undifferentiated, NOS'\n",
      " '8440/3: Cystadenocarcinoma, NOS' '8814/3: Infantile fibrosarcoma'\n",
      " '8542/3: Paget disease, extramammary (except Paget disease of bone)'\n",
      " '8014/3: Large cell carcinoma with rhabdoid phenotype'\n",
      " '8323/3: Mixed cell adenocarcinoma' '8550/3: Acinar cell carcinoma'\n",
      " '8891/3: Epithelioid leiomyosarcoma'\n",
      " '8241/3: Enterochromaffin cell carcinoid'\n",
      " '8507/3: Ductal carcinoma, micropapillary'\n",
      " '8144/3: Adenocarcinoma, intestinal type'\n",
      " '8094/3: Basosquamous carcinoma'\n",
      " '8572/3: Adenocarcinoma with spindle cell metaplasia'\n",
      " '9100/3: Choriocarcinoma, NOS'\n",
      " '8523/3: Infiltrating duct mixed with other types of carcinoma'\n",
      " '8260/3: Papillary adenocarcinoma, NOS'\n",
      " '9540/3: Malignant peripheral nerve sheath tumor'\n",
      " '8503/3: Intraductal papillary adenocarcinoma with invasion'\n",
      " '8143/3: Superficial spreading adenocarcinoma'\n",
      " '8050/3: Papillary carcinoma, NOS' '8012/3: Large cell carcinoma, NOS'\n",
      " '8141/3: Scirrhous adenocarcinoma' '8950/3: Mullerian mixed tumor'\n",
      " '8051/3: Verrucous carcinoma, NOS' '8576/3: Hepatoid adenocarcinoma'\n",
      " '8441/3: Serous cystadenocarcinoma, NOS' '8721/3: Nodular melanoma'\n",
      " '8746/3: Mucosal lentiginous melanoma'\n",
      " '8033/3: Pseudosarcomatous carcinoma' '8142/3: Linitis plastica'\n",
      " '9120/3: Hemangiosarcoma' '8380/3: Endometrioid carcinoma'\n",
      " '8802/3: Giant cell sarcoma' '8045/3: Combined small cell carcinoma'\n",
      " '8806/3: Desmoplastic small round cell tumor'\n",
      " '8213/3: Serrated adenocarcinoma'\n",
      " '8830/3: Malignant fibrous histiocytoma'\n",
      " '8120/3: Transitional cell carcinoma, NOS' '8730/3: Amelanotic melanoma'\n",
      " '8931/3: Endometrial stromal sarcoma, low grade'\n",
      " '8030/3: Giant cell and spindle cell carcinoma'\n",
      " '8920/3: Alveolar rhabdomyosarcoma'\n",
      " '8461/3: Serous surface papillary carcinoma'\n",
      " '8500/3: Infiltrating duct carcinoma, NOS'\n",
      " '8858/3: Dedifferentiated liposarcoma'\n",
      " '8084/3: Squamous cell carcinoma, clear cell type'\n",
      " '8242/3: Enterochromaffin-like cell tumor, malignant'\n",
      " '8082/3: Lymphoepithelial carcinoma' '8201/3: Cribriform carcinoma, NOS'\n",
      " '8772/3: Spindle cell melanoma, NOS' '8022/3: Pleomorphic carcinoma'\n",
      " '8711/3: Glomus tumor, malignant' '8230/3: Solid carcinoma, NOS'\n",
      " '8951/3: Mesodermal mixed tumor'\n",
      " '9065/3: Germ cell tumor, nonseminomatous'\n",
      " '9040/3: Synovial sarcoma, NOS' '8805/3: Undifferentiated sarcoma'\n",
      " '8073/3: Squamous cell carcinoma, small cell, nonkeratinizing'\n",
      " '8004/3: Malignant tumor, spindle cell type'\n",
      " '8251/3: Alveolar adenocarcinoma' '8312/3: Renal cell carcinoma'\n",
      " '8551/3: Acinar cell cystadenocarcinoma'\n",
      " '8571/3: Adenocarcinoma with cartilaginous and osseous metaplasia'\n",
      " '8744/3: Acral lentiginous melanoma, malignant'\n",
      " '8430/3: Mucoepidermoid carcinoma' '8896/3: Myxoid leiomyosarcoma'\n",
      " '9580/3: Granular cell tumor, malignant'\n",
      " '8825/3: Myofibroblastoma, malignant' '8963/3: Malignant rhabdoid tumor'\n",
      " '9180/3: Osteosarcoma, NOS' '8900/3: Rhabdomyosarcoma, NOS'\n",
      " '8815/3: Solitary fibrous tumor, malignant'\n",
      " '8052/3: Papillary squamous cell carcinoma'\n",
      " '8074/3: Squamous cell carcinoma, spindle cell'\n",
      " '8460/3: Papillary serous cystadenocarcinoma'\n",
      " '9364/3: Peripheral neuroectodermal tumor'\n",
      " '8410/3: Sebaceous adenocarcinoma' '8031/3: Giant cell carcinoma'\n",
      " '8810/3: Fibrosarcoma, NOS'\n",
      " '8044/3: Small cell carcinoma, intermediate cell'\n",
      " '8341/3: Papillary microcarcinoma'\n",
      " '8482/3: Mucinous adenocarcinoma, endocervical type'\n",
      " '9473/3: Primitive neuroectodermal tumor'\n",
      " '8851/3: Liposarcoma, well differentiated' '8935/3: Stromal sarcoma, NOS'\n",
      " '8471/3: Papillary mucinous cystadenocarcinoma'\n",
      " '9015/3: Mucinous adenocarcinofibroma' '8850/3: Liposarcoma, NOS'\n",
      " '8804/3: Epithelioid sarcoma' '8075/3: Squamous cell carcinoma, adenoid'\n",
      " '8722/3: Balloon cell melanoma' '8320/3: Granular cell carcinoma'\n",
      " '8042/3: Oat cell carcinoma'\n",
      " '8076/3: Squamous cell carcinoma, micro-invasive'\n",
      " '9044/3: Clear cell sarcoma, NOS (except of kidney M-8964/3)'\n",
      " '9130/3: Hemangioendothelioma, malignant' '8811/3: Fibromyxosarcoma'\n",
      " '9260/3: Ewing sarcoma' '8043/3: Small cell carcinoma, fusiform cell'\n",
      " '8982/3: Malignant myoepithelioma'\n",
      " '8761/3: Malignant melanoma in giant pigmented nevus'\n",
      " '8015/3: Glassy cell carcinoma'\n",
      " '8253/3: Bronchiolo-alveolar carcinoma, mucinous'\n",
      " '9560/3: Neurilemoma, malignant (OBS)'\n",
      " '8573/3: Adenocarcinoma with apocrine metaplasia'\n",
      " '9085/3: Mixed germ cell tumor' '9500/3: Neuroblastoma, NOS'\n",
      " '8003/3: Malignant tumor, giant cell type' '9064/3: Germinoma'\n",
      " '8147/3: Basal cell adenocarcinoma'\n",
      " '8930/3: Endometrial stromal sarcoma, NOS'\n",
      " '8683/3: Gangliocytic paraganglioma, malignant'\n",
      " '8940/3: Mixed tumor, malignant, NOS' '8780/3: Blue nevus, malignant'\n",
      " '8770/3: Mixed epithelioid and spindle cell melanoma'\n",
      " '9150/3: Hemangiopericytoma, malignant'\n",
      " '8002/3: Malignant tumor, small cell type'\n",
      " '8153/3: Gastrinoma, malignant' '8472/3: Mucinous cystadenocarcinoma'\n",
      " '8160/3: Cholangiocarcinoma' '8011/3: Epithelioma, malignant'\n",
      " '8280/3: Acidophil carcinoma' '9041/3: Synovial sarcoma, spindle cell'\n",
      " '8005/3: Malignant tumor, clear cell type'\n",
      " '9561/3: MPNST with rhabdomyoblastic differentiation']\n"
     ]
    },
    {
     "name": "stdout",
     "output_type": "stream",
     "text": [
      "['8140/3: Adenocarcinoma, NOS' '8480/3: Mucinous adenocarcinoma'\n",
      " '8261/3: Adenocarcinoma in villous adenoma'\n",
      " '8246/3: Neuroendocrine carcinoma, NOS' '8000/3: Neoplasm, malignant'\n",
      " '8263/3: Adenocarcinoma in tubulovillous adenoma'\n",
      " '8210/3: Adenocarcinoma in adenomatous polyp'\n",
      " '8490/3: Signet ring cell carcinoma' '8240/3: Carcinoid tumor, NOS'\n",
      " '8243/3: Goblet cell carcinoid'\n",
      " '8083/3: Basaloid squamous cell carcinoma' '8010/3: Carcinoma, NOS'\n",
      " '8123/3: Basaloid carcinoma' '8481/3: Mucin-producing adenocarcinoma'\n",
      " '8262/3: Villous adenocarcinoma'\n",
      " '8936/3: Gastrointestinal stromal sarcoma'\n",
      " '8211/3: Tubular adenocarcinoma'\n",
      " '8244/3: Mixed adenoneuroendocrine carcinoma (ICD-O-3 update)'\n",
      " '8041/3: Small cell carcinoma, NOS'\n",
      " '8255/3: Adenocarcinoma with mixed subtypes'\n",
      " '8070/3: Squamous cell carcinoma, NOS' '8510/3: Medullary carcinoma, NOS'\n",
      " '8800/3: Sarcoma, NOS' '8560/3: Adenosquamous carcinoma'\n",
      " '8013/3: Large cell neuroendocrine carcinoma'\n",
      " '8890/3: Leiomyosarcoma, NOS' '8980/3: Carcinosarcoma, NOS'\n",
      " '8021/3: Carcinoma, anaplastic, NOS' '8720/3: Malignant melanoma, NOS'\n",
      " '8221/3: Adenocarcinoma in multiple adenomatous polyps'\n",
      " '8245/3: Adenocarcinoid tumor'\n",
      " '8220/3: Adenocarcinoma in adenomatous polyposis coli'\n",
      " '8032/3: Spindle cell carcinoma, NOS'\n",
      " '8470/3: Mucinous cystadenocarcinoma, NOS'\n",
      " '8574/3: Adenocarcinoma with neuroendocrine differentiation'\n",
      " '8124/3: Cloacogenic carcinoma'\n",
      " '8570/3: Adenocarcinoma with squamous metaplasia'\n",
      " '8249/3: Atypical carcinoid tumor' '8001/3: Tumor cells, malignant'\n",
      " '8071/3: Squamous cell carcinoma, keratinizing, NOS'\n",
      " '8933/3: Adenosarcoma' '8801/3: Spindle cell sarcoma'\n",
      " '8145/3: Carcinoma, diffuse type' '8046/3: Non-small cell carcinoma'\n",
      " '8310/3: Clear cell adenocarcinoma, NOS'\n",
      " '8072/3: Squamous cell carcinoma, large cell, nonkeratinizing, NOS'\n",
      " '8020/3: Carcinoma, undifferentiated, NOS'\n",
      " '8440/3: Cystadenocarcinoma, NOS' '8814/3: Infantile fibrosarcoma'\n",
      " '8542/3: Paget disease, extramammary (except Paget disease of bone)'\n",
      " '8014/3: Large cell carcinoma with rhabdoid phenotype'\n",
      " '8323/3: Mixed cell adenocarcinoma' '8550/3: Acinar cell carcinoma'\n",
      " '8891/3: Epithelioid leiomyosarcoma'\n",
      " '8241/3: Enterochromaffin cell carcinoid'\n",
      " '8507/3: Ductal carcinoma, micropapillary'\n",
      " '8144/3: Adenocarcinoma, intestinal type'\n",
      " '8094/3: Basosquamous carcinoma'\n",
      " '8572/3: Adenocarcinoma with spindle cell metaplasia'\n",
      " '9100/3: Choriocarcinoma, NOS'\n",
      " '8523/3: Infiltrating duct mixed with other types of carcinoma'\n",
      " '8260/3: Papillary adenocarcinoma, NOS'\n",
      " '9540/3: Malignant peripheral nerve sheath tumor'\n",
      " '8503/3: Intraductal papillary adenocarcinoma with invasion'\n",
      " '8143/3: Superficial spreading adenocarcinoma'\n",
      " '8050/3: Papillary carcinoma, NOS' '8012/3: Large cell carcinoma, NOS'\n",
      " '8141/3: Scirrhous adenocarcinoma' '8950/3: Mullerian mixed tumor'\n",
      " '8051/3: Verrucous carcinoma, NOS' '8576/3: Hepatoid adenocarcinoma'\n",
      " '8441/3: Serous cystadenocarcinoma, NOS' '8721/3: Nodular melanoma'\n",
      " '8746/3: Mucosal lentiginous melanoma'\n",
      " '8033/3: Pseudosarcomatous carcinoma' '8142/3: Linitis plastica'\n",
      " '9120/3: Hemangiosarcoma' '8380/3: Endometrioid carcinoma'\n",
      " '8802/3: Giant cell sarcoma' '8045/3: Combined small cell carcinoma'\n",
      " '8806/3: Desmoplastic small round cell tumor'\n",
      " '8213/3: Serrated adenocarcinoma'\n",
      " '8830/3: Malignant fibrous histiocytoma'\n",
      " '8120/3: Transitional cell carcinoma, NOS' '8730/3: Amelanotic melanoma'\n",
      " '8931/3: Endometrial stromal sarcoma, low grade'\n",
      " '8030/3: Giant cell and spindle cell carcinoma'\n",
      " '8920/3: Alveolar rhabdomyosarcoma'\n",
      " '8461/3: Serous surface papillary carcinoma'\n",
      " '8500/3: Infiltrating duct carcinoma, NOS'\n",
      " '8858/3: Dedifferentiated liposarcoma'\n",
      " '8084/3: Squamous cell carcinoma, clear cell type'\n",
      " '8242/3: Enterochromaffin-like cell tumor, malignant'\n",
      " '8082/3: Lymphoepithelial carcinoma' '8201/3: Cribriform carcinoma, NOS'\n",
      " '8772/3: Spindle cell melanoma, NOS' '8022/3: Pleomorphic carcinoma'\n",
      " '8711/3: Glomus tumor, malignant' '8230/3: Solid carcinoma, NOS'\n",
      " '8951/3: Mesodermal mixed tumor'\n",
      " '9065/3: Germ cell tumor, nonseminomatous'\n",
      " '9040/3: Synovial sarcoma, NOS' '8805/3: Undifferentiated sarcoma'\n",
      " '8073/3: Squamous cell carcinoma, small cell, nonkeratinizing'\n",
      " '8004/3: Malignant tumor, spindle cell type'\n",
      " '8251/3: Alveolar adenocarcinoma' '8312/3: Renal cell carcinoma'\n",
      " '8551/3: Acinar cell cystadenocarcinoma'\n",
      " '8571/3: Adenocarcinoma with cartilaginous and osseous metaplasia'\n",
      " '8744/3: Acral lentiginous melanoma, malignant'\n",
      " '8430/3: Mucoepidermoid carcinoma' '8896/3: Myxoid leiomyosarcoma'\n",
      " '9580/3: Granular cell tumor, malignant'\n",
      " '8825/3: Myofibroblastoma, malignant' '8963/3: Malignant rhabdoid tumor'\n",
      " '9180/3: Osteosarcoma, NOS' '8900/3: Rhabdomyosarcoma, NOS'\n",
      " '8815/3: Solitary fibrous tumor, malignant'\n",
      " '8052/3: Papillary squamous cell carcinoma'\n",
      " '8074/3: Squamous cell carcinoma, spindle cell'\n",
      " '8460/3: Papillary serous cystadenocarcinoma'\n",
      " '9364/3: Peripheral neuroectodermal tumor'\n",
      " '8410/3: Sebaceous adenocarcinoma' '8031/3: Giant cell carcinoma'\n",
      " '8810/3: Fibrosarcoma, NOS'\n",
      " '8044/3: Small cell carcinoma, intermediate cell'\n",
      " '8341/3: Papillary microcarcinoma'\n",
      " '8482/3: Mucinous adenocarcinoma, endocervical type'\n",
      " '9473/3: Primitive neuroectodermal tumor'\n",
      " '8851/3: Liposarcoma, well differentiated' '8935/3: Stromal sarcoma, NOS'\n",
      " '8471/3: Papillary mucinous cystadenocarcinoma'\n",
      " '9015/3: Mucinous adenocarcinofibroma' '8850/3: Liposarcoma, NOS'\n",
      " '8804/3: Epithelioid sarcoma' '8075/3: Squamous cell carcinoma, adenoid'\n",
      " '8722/3: Balloon cell melanoma' '8320/3: Granular cell carcinoma'\n",
      " '8042/3: Oat cell carcinoma'\n",
      " '8076/3: Squamous cell carcinoma, micro-invasive'\n",
      " '9044/3: Clear cell sarcoma, NOS (except of kidney M-8964/3)'\n",
      " '9130/3: Hemangioendothelioma, malignant' '8811/3: Fibromyxosarcoma'\n",
      " '9260/3: Ewing sarcoma' '8043/3: Small cell carcinoma, fusiform cell'\n",
      " '8982/3: Malignant myoepithelioma'\n",
      " '8761/3: Malignant melanoma in giant pigmented nevus'\n",
      " '8015/3: Glassy cell carcinoma'\n",
      " '8253/3: Bronchiolo-alveolar carcinoma, mucinous'\n",
      " '9560/3: Neurilemoma, malignant (OBS)'\n",
      " '8573/3: Adenocarcinoma with apocrine metaplasia'\n",
      " '9085/3: Mixed germ cell tumor' '9500/3: Neuroblastoma, NOS'\n",
      " '8003/3: Malignant tumor, giant cell type' '9064/3: Germinoma'\n",
      " '8147/3: Basal cell adenocarcinoma'\n",
      " '8930/3: Endometrial stromal sarcoma, NOS'\n",
      " '8683/3: Gangliocytic paraganglioma, malignant'\n",
      " '8940/3: Mixed tumor, malignant, NOS' '8780/3: Blue nevus, malignant'\n",
      " '8770/3: Mixed epithelioid and spindle cell melanoma'\n",
      " '9150/3: Hemangiopericytoma, malignant'\n",
      " '8002/3: Malignant tumor, small cell type'\n",
      " '8153/3: Gastrinoma, malignant' '8472/3: Mucinous cystadenocarcinoma'\n",
      " '8160/3: Cholangiocarcinoma' '8011/3: Epithelioma, malignant'\n",
      " '8280/3: Acidophil carcinoma' '9041/3: Synovial sarcoma, spindle cell'\n",
      " '8005/3: Malignant tumor, clear cell type'\n",
      " '9561/3: MPNST with rhabdomyoblastic differentiation']\n",
      "['8140-8389: adenomas and adenocarcinomas'\n",
      " '8440-8499: cystic, mucinous and serous neoplasms'\n",
      " '8000-8009: unspecified neoplasms' '8050-8089: squamous cell neoplasms'\n",
      " '8010-8049: epithelial neoplasms, NOS'\n",
      " '8120-8139: transitional cell papillomas and carcinomas'\n",
      " '8930-8999: complex mixed and stromal neoplasms'\n",
      " '8500-8549: ductal and lobular neoplasms'\n",
      " '8800-8809: soft tissue tumors and sarcomas, NOS'\n",
      " '8560-8579: complex epithelial neoplasms'\n",
      " '8890-8929: myomatous neoplasms' '8720-8799: nevi and melanomas'\n",
      " '8810-8839: fibromatous neoplasms' '8550-8559: acinar cell neoplasms'\n",
      " '8090-8119: basal cell neoplasms' '9100-9109: trophoblastic neoplasms'\n",
      " '9540-9579: nerve sheath tumors' '9120-9169: blood vessel tumors'\n",
      " '8850-8889: lipomatous neoplasms'\n",
      " '8680-8719: paragangliomas and glumus tumors'\n",
      " '9060-9099: germ cell neoplasms' '9040-9049: synovial-like neoplasms'\n",
      " '8430-8439: mucoepidermoid neoplasms'\n",
      " '9580-9589: granular cell tumors & alveolar soft part sarcoma'\n",
      " '9180-9249: osseous and chondromatous neoplasms'\n",
      " '9350-9379: miscellaneous tumors'\n",
      " '8390-8429: adnexal and skin appendage neoplasms' '9380-9489: gliomas'\n",
      " '9000-9039: fibroepithelial neoplasms'\n",
      " '9260-9269: miscellaneous bone tumors (C40._, C41._)'\n",
      " '9490-9529: neuroepitheliomatous neoplasms']\n",
      "['Not Brain']\n",
      "['XIf2 Carcinomas of colon and rectum' 'XIf3 Carcinomas of appendix'\n",
      " 'XIIb Other unspecified malignant tumors'\n",
      " 'XIIa1 Malignant gastrointestinal stromal tumor'\n",
      " 'IXe Unspecified soft tissue sarcomas' 'IXd6 Leiomyosarcomas'\n",
      " 'XIIa4 Other complex mixed and stromal neoplasms'\n",
      " 'XId Malignant melanomas' 'XIf10 Carcinomas of other specified sites'\n",
      " 'IXb1 Fibroblastic and myofibroblastic tumors'\n",
      " 'Not classified by SEER or in situ'\n",
      " 'Xb5 Choriocarcinomas of extracranial and extragonadal sites'\n",
      " 'IXb2 Nerve sheath tumors' 'IXd8 Blood vessel tumors'\n",
      " 'IXd11 Miscellaneous soft tissue sarcomas' 'IXd5 Fibrohistiocytic tumors'\n",
      " 'IXa Rhabdomyosarcomas' 'IXd4 Liposarcomas'\n",
      " 'Xb1 Malignant germinomas of extracranial and extragonadal sites'\n",
      " 'IXd7 Synovial sarcomas' 'VIb Renal carcinomas'\n",
      " 'IXb3 Other fibromatous neoplasms'\n",
      " 'IXd3 Extrarenal extrahepatic rhabdoid tumor'\n",
      " 'IXd2 Peripheral neuroectodermal tumor (pPNET) of soft tissue'\n",
      " 'XIb Thyroid carcinomas' 'IIIc2 Primitive neuroectodermal tumor (PNET)'\n",
      " 'Xd Gonadal carcinomas' 'IXd1 Ewing tumor and Askin tumor of soft tissue'\n",
      " 'Xb6 Oth/unspec malig mixed germ cell tumors of extracranial/extragonadal'\n",
      " 'IVa Neuroblastoma and ganglioneuroblastoma'\n",
      " 'IVb Other peripheral nervous cell tumors' 'VIIb Hepatic carcinomas'\n",
      " 'IIIe1 Pituitary adenomas and carcinomas']\n",
      "['Rectum' 'Rectosigmoid Junction' 'Ascending Colon' 'Appendix'\n",
      " 'Sigmoid Colon' 'Cecum' 'Large Intestine, NOS' 'Transverse Colon'\n",
      " 'Splenic Flexure' 'Descending Colon' 'Hepatic Flexure']\n",
      "['XI(f) Other and unspecified carcinomas'\n",
      " 'XII(b) Other unspecified malignant tumors'\n",
      " 'XII(a) Other specified malignant tumors'\n",
      " 'IX(e) Unspecified soft tissue sarcomas'\n",
      " 'IX(d) Other specified soft tissue sarcomas' 'XI(d) Malignant melanomas'\n",
      " 'X(d) Gonadal carcinomas'\n",
      " 'IX(b) Fibrosarcomas, peripheral nerve & other fibrous'\n",
      " 'Not classified by ICCC or in situ'\n",
      " 'X(b) Extracranial & extragonadal germ cell tumors'\n",
      " 'IX(a) Rhabdomyosarcomas' 'VI(b) Renal carcinomas'\n",
      " 'XI(b) Thyroid carcinomas'\n",
      " 'III(c) Intracranial and intraspinal embryonal tumors'\n",
      " 'IV(a) Neuroblastoma and ganglioneuroblastoma'\n",
      " 'IV(b) Other peripheral nervous cell tumors' 'VII(b) Hepatic carcinomas'\n",
      " 'III(e) Other specified intracranial/intraspinal neoplasms']\n",
      "['XI(f.2) Carcinomas of colon and rectum' 'XI(f.3) Carcinomas of appendix'\n",
      " 'XII(b) Other unspecified malignant tumors'\n",
      " 'XII(a.1) Gastrointestinal stromal tumor'\n",
      " 'IX(e) Unspecified soft tissue sarcomas' 'IX(d.6) Leiomyosarcomas'\n",
      " 'XII(a.4) Other complex mixed and stromal neoplasms'\n",
      " 'XI(d) Malignant melanomas'\n",
      " 'XI(f.10) Carcinomas of other specified sites' 'X(d) Gonadal carcinomas'\n",
      " 'IX(b.1) Fibroblastic and myofibroblastic tumors'\n",
      " 'Not classified by ICCC or in situ'\n",
      " 'X(b.5) Choriocarcinomas: extracranial/extragonadal'\n",
      " 'IX(b.2) Nerve sheath tumors' 'IX(d.8) Blood vessel tumors'\n",
      " 'IX(d.11) Miscellaneous soft tissue sarcomas'\n",
      " 'IX(d.5) Fibrohistiocytic tumors' 'IX(a) Rhabdomyosarcomas'\n",
      " 'IX(d.4) Liposarcomas' 'X(b.1) Germinomas: extracranial/extragonadal'\n",
      " 'IX(d.7) Synovial sarcomas' 'VI(b) Renal carcinomas'\n",
      " 'IX(b.3) Other fibromatous neoplasms' 'IX(d.3) Extrarenal rhabdoid tumor'\n",
      " 'IX(d.2) pPNET of soft tissue' 'XI(b) Thyroid carcinomas' 'III(c.2) PNET'\n",
      " 'IX(d.1) Ewing tumor and Askin tumor of soft tissue'\n",
      " 'X(b.6) Other mixed germ cell: extracranial/extragonadal'\n",
      " 'IV(a) Neuroblastoma and ganglioneuroblastoma'\n",
      " 'IV(b) Other peripheral nervous cell tumors' 'VII(b) Hepatic carcinomas'\n"
     ]
    },
    {
     "name": "stdout",
     "output_type": "stream",
     "text": [
      " 'III(e.1) Pituitary adenomas and carcinomas']\n",
      "['Localized' 'Distant' 'Regional' 'Unknown/unstaged']\n",
      "['Blank(s)' 'Distant site(s)/node(s) involved'\n",
      " 'Regional by both direct extension and lymph node involvement'\n",
      " 'Regional lymph nodes involved only' 'Localized only'\n",
      " 'Regional by direct extension only' 'Unknown/unstaged/unspecified/DCO'\n",
      " 'Regional, NOS']\n",
      "['Localized' 'Distant' 'Regional' 'Unstaged' 'Blank(s)']\n",
      "['Blank(s)' 'IV' 'IIIB' 'IIA' 'IIIA' '0' 'I' 'UNK Stage' 'IIB' 'IIIC' nan\n",
      " 'IIINOS']\n",
      "['Blank(s)' 'T3' 'T1' 'TX' 'Tis' 'T2' 'T4' nan 'T0']\n",
      "['Blank(s)' 'N1' 'N0' 'NX' 'N2' nan]\n",
      "['Blank(s)' 'M1' 'M0' nan 'MX']\n",
      "[nan 'Blank(s)']\n",
      "[30  0 50 40 26 28 70 41 80 27 32 29 20 90 60 25 99 51 22 55 12 56 24 31\n",
      " 61 10 23 65 21 57 11 13 66 14]\n",
      "['Blank(s)' '4 or more regional lymph nodes removed' 'None'\n",
      " 'Number of regional lymph nodes removed unknown'\n",
      " '1 to 3 regional lymph nodes removed' 'Unknown or not applicable'\n",
      " 'Biopsy or aspiration of regional lymph node, NOS'\n",
      " 'Sentinel node biopsy and lym nd removed same/unstated time'\n",
      " 'Sentinel node biopsy and lym nd removed different times'\n",
      " 'Sentinel lymph node biopsy']\n",
      "['Blank(s)' 'None; diagnosed at autopsy'\n",
      " 'Non-primary surgical procedure to distant site'\n",
      " 'Any combo of sur proc to oth rg, dis lym nd, and/or dis site'\n",
      " 'Non-primary surgical procedure to other regional sites'\n",
      " 'Unknown; death certificate only'\n",
      " 'Non-primary surgical procedure performed'\n",
      " 'Non-primary surgical procedure to distant lymph node(s)']\n",
      "['No radiation and/or cancer-directed surgery' 'Radiation after surgery'\n",
      " 'Radiation prior to surgery' 'Sequence unknown, but both were given'\n",
      " 'Radiation before and after surgery'\n",
      " 'Intraoperative rad with other rad before/after surgery'\n",
      " 'Intraoperative radiation' 'Surgery both before and after radiation']\n",
      "['Surgery performed'\n",
      " 'Not recommended, contraindicated due to other cond; autopsy only (1973-2002)'\n",
      " 'Recommended, unknown if performed' 'Not recommended'\n",
      " 'Recommended but not performed, patient refused'\n",
      " 'Recommended but not performed, unknown reason'\n",
      " 'Unknown; death certificate; or autopsy only (2003+)'\n",
      " 'Not performed, patient died prior to recommended surgery']\n",
      "['None/Unknown' 'Beam radiation'\n",
      " 'Radiation, NOS  method or source not specified' 'Radioisotopes (1988+)'\n",
      " 'Radioactive implants (includes brachytherapy) (1988+)'\n",
      " 'Combination of beam with implants or isotopes' 'Refused (1988+)'\n",
      " 'Recommended, unknown if administered']\n",
      "['No/Unknown' 'Yes']\n",
      "['Blank(s)' 'Systemic therapy after surgery'\n",
      " 'No systemic therapy and/or surgical procedures'\n",
      " 'Systemic therapy before surgery' 'Intraoperative systemic therapy'\n",
      " 'Systemic therapy both before and after surgery'\n",
      " 'Surgery both before and after systemic therapy' 'Sequence unknown'\n",
      " 'Intraop systemic rx & oth systemic rx before/after surg']\n",
      "[10  8  0 16  7 14 13 18 20 98 27 66 23  9 12 53 99 11 34  6 17 15 19  5\n",
      "  3  4 29 33 44  2 36 30 24  1 32 41 22 21 35 80 25 58 26 48 38 31 69 40\n",
      " 52 43 39 55 54 97 28 42 84 45 95 37 70 50 47 59 56 64 49 51 96 67 46 73\n",
      " 61 65 57 62 83 90 78 63 82 71 68 79 74 60 72 89 77 86 81 87 76 75 88 85]\n",
      "[ 0  1 98  2 97 99  6  3  4 14  5  8 10 16 12 11  7  9 30 80 47 18 19 13\n",
      " 21 25 95 17 24 26 15 23 29 20 43 22 32 36 35 28 27 33 40 31 41 34 50 38\n",
      " 48 61 54 59 37 45 56 39 55 42 51 46 90 67 64 58 49 52 69 44 62 57 77 73\n",
      " 60 74 71 68 79 75 53 66 63]\n",
      "['Not 2010+ Breast']\n",
      "['Not 1990+ Breast']\n",
      "['Not 1990+ Breast']\n",
      "['Not 2010+ Breast']\n",
      "['Blank(s)' '035' '999' '050' '070' '040' '015' '007' '085' '010' '049'\n",
      " '030' '120' '060' '065' '053' '028' '063' '045' '003' '080' '055' '032'\n",
      " '021' '017' '025' '990' '031' '048' '052' '059' '046' '038' '095' '034'\n",
      " '020' '022' '058' '075' '006' '005' '105' '083' '042' '076' '140' '013'\n",
      " '037' '004' '016' '041' '036' '012' '104' '026' '029' '027' '002' '110'\n",
      " '068' '033' '044' '019' '024' '082' '130' '043' '000' '001' '062' '089'\n",
      " '125' '067' '054' '018' '009' '073' '061' '135' '100' '057' '023' '090'\n",
      " '008' '077' '039' '078' '064' '047' '150' '991' '109' '072' '081' '086'\n",
      " '014' '998' '700' '051' '069' '131' '115' '093' '011' '088' '066' '079'\n",
      " '056' '099' '165' '071' '102' '850' '098' '160' '074' '992' '084' '202'\n",
      " '117' '200' '092' '995' '087' '107' '103' '181' '133' '170' '097' '994'\n",
      " '145' '240' '993' '116' '122' '190' '108' '230' '989' '114' '300' '137'\n",
      " '750' '094' '112' '134' '127' '147' '119' '965' '500' '096' '106' '091'\n",
      " '126' '180' '185' '950' '148' '250' '132' '113' '194' '141' '390' '175'\n",
      " '124' '945' '450' '530' '800' '121' '136' '207' '152' '520' '550' '380'\n",
      " '210' '118' '400' '153' '101' '111' '146' '144' '123' '143' '830' '580'\n",
      " '225' '996' '155' '370' '223' '128' '420' '280' '168' '888' '600' '235'\n",
      " '174' '650' '270' '139' '510' '796' '222' '129' '151' '966' '220' '660'\n",
      " '138' '969' '189' '176' '808' '505' '260' '900' '285' '177' '405' '320'\n",
      " '142' '215' '198' '195' '310' '166' '440' '340' '988' '330' '173' '920'\n",
      " '350' '167' '161' '205' '157' '980' '790' '570' '154' '158' '670' '164'\n",
      " '640' '162' '183' '149' '492' '290' '269' '286' '975' '178' '303' '257'\n",
      " '637' '360' '457' '935' '172' '630' '163' '620' '156' '959' '938' '442'\n",
      " '970' '720' '206' '770' '182' '187' '159' '890' '193' '810' '606' '211'\n",
      " '803' '997' '430' '470' '960' '930' '204' '333' '201' '480' '780' '560'\n",
      " '870' '184' '295']\n",
      "['Blank(s)' '400' '450' '470' '160' '999' '110' '200' '300' '610' '500'\n",
      " '455' '650' '458' '565' '150' '600' '800' '750' '130' '100' '460' '700'\n",
      " '655' '550' '570' '170' '660' '140' '950' '120' '155' '210' '900' '415'\n",
      " '410' '555' '510' '165' '401' '560' '601' '490' '675' '850' '513' '451'\n",
      " '250' '810' '514' '330' '320' '335' '190' '180' '665' '512' '701' '270'\n",
      " '370' '511' '751' '501' '440']\n",
      "['Blank(s)' '100' '300' '000' '110' '999' '210' '800' '200' '050' '480'\n",
      " '220' '420' '430' '450' '470' '410' '460' '400']\n",
      "['Blank(s)' '40' '00' '50' '45' '36' '26' '99' '60' '10' '29' '31' '48'\n",
      " '16' '12' '33' '27' '08' '05' '11' '35' '23' '20' '18' '55' '15' '25']\n",
      "['Blank(s)' '3' '0' '5' '9' '1' '6' '2' '8']\n",
      "['Blank(s)' '3' '0' '5' '9' '1' '6' '2' '8']\n",
      "['Blank(s)' '3' '0' '1' '9' '5' '6' '2' '8']\n",
      "['Blank(s)' '020' '998' '010' '999' '030' '997']\n",
      "['Blank(s)' '100' '020' '988' '000' '999' '400' '120' '010' '200' '110'\n",
      " '005' '998' '003' '300' '001']\n",
      "['Blank(s)' '988' 988]\n",
      "['Blank(s)' '020510' '020550' '020540' '020530' '020520']\n",
      "['Blank(s)' '010401' '020550' '010100' '020302' '010300' '010200' '020440'\n",
      " '010002' '020200' '010400' '010004' '010003' '010000' '020100' '020001'\n",
      " '010005' '000937']\n",
      "['Blank(s)' '020550']\n",
      "['Rectum and Rectosigmoid Junction' 'Alive'\n",
      " 'Chronic Obstructive Pulmonary Disease and Allied Cond'\n",
      " 'Other Cause of Death' 'Colon excluding Rectum' 'Diseases of Heart'\n",
      " 'Nephritis, Nephrotic Syndrome and Nephrosis' 'Cerebrovascular Diseases'\n",
      " 'Urinary Bladder' 'Aortic Aneurysm and Dissection' 'Lung and Bronchus'\n",
      " 'Diabetes Mellitus'\n",
      " 'State DC not available or state DC available but no COD'\n",
      " 'Atherosclerosis' 'Other Infectious and Parasitic Diseases including HIV'\n",
      " 'Alzheimers (ICD-9 and 10 only)' 'Hypertension without Heart Disease'\n",
      " 'Kidney and Renal Pelvis' 'Chronic Lymphocytic Leukemia'\n",
      " 'Accidents and Adverse Effects' 'Septicemia' 'Non-Hodgkin Lymphoma'\n",
      " 'Miscellaneous Malignant Cancer' 'Other Myeloid/Monocytic Leukemia'\n",
      " 'Pneumonia and Influenza' 'Breast' 'Uterus, NOS' 'Other Digestive Organs'\n",
      " 'Ovary' 'Other Acute Leukemia' 'Thyroid' 'Congenital Anomalies'\n",
      " 'Other Oral Cavity and Pharynx' 'Other Female Genital Organs'\n",
      " 'Acute Myeloid Leukemia' 'Testis' 'Prostate' 'Non-Melanoma Skin'\n",
      " 'Pancreas' 'Homicide and Legal Intervention' 'Corpus Uteri' 'Vagina'\n",
      " 'Intrahepatic Bile Duct' 'Stomach' 'Suicide and Self-Inflicted Injury'\n",
      " 'Myeloma' 'Symptoms, Signs and Ill-Defined Conditions'\n",
      " 'Other Lymphocytic Leukemia' 'Small Intestine' 'Hodgkin Lymphoma'\n",
      " 'Larynx' 'Liver' 'Anus, Anal Canal and Anorectum' 'Cervix Uteri'\n",
      " 'In situ, benign or unknown behavior neoplasm' 'Chronic Myeloid Leukemia'\n",
      " 'Brain and Other Nervous System' 'Melanoma of the Skin' 'Esophagus'\n",
      " 'Stomach and Duodenal Ulcers' 'Peritoneum, Omentum and Mesentery'\n",
      " 'Other Diseases of Arteries, Arterioles, Capillaries' 'Gallbladder'\n",
      " 'Nasopharynx' 'Chronic Liver Disease and Cirrhosis' 'Other Biliary'\n",
      " 'Gum and Other Mouth' 'Oropharynx' 'Aleukemic, Subleukemic and NOS'\n",
      " 'Retroperitoneum' 'Nose, Nasal Cavity and Middle Ear'\n",
      " 'Soft Tissue including Heart'\n",
      " 'Complications of Pregnancy, Childbirth, Puerperium' 'Tuberculosis'\n",
      " 'Pleura' 'Tongue' 'Penis' 'Other Urinary Organs' 'Bones and Joints'\n",
      " 'Other Endocrine including Thymus' 'Vulva' 'Acute Lymphocytic Leukemia'\n",
      " 'Salivary Gland' 'Ureter'\n",
      " 'Trachea, Mediastinum and Other Respiratory Organs' 'Hypopharynx'\n",
      " 'Tonsil' 'Floor of Mouth' 'Acute Monocytic Leukemia'\n",
      " 'Certain Conditions Originating in Perinatal Period' 'Eye and Orbit'\n",
      " 'Other Male Genital Organs' 'Syphilis' 'Lip']\n"
     ]
    },
    {
     "name": "stdout",
     "output_type": "stream",
     "text": [
      "['Dead (attributable to this cancer dx)' 'Alive or dead of other cause'\n",
      " 'Dead (missing/unknown COD)' 'N/A not seq 0-59']\n",
      "['Alive or dead due to cancer'\n",
      " 'Dead (attributable to causes other than this cancer dx)'\n",
      " 'Dead (missing/unknown COD)' 'N/A not seq 0-59']\n",
      "['0049' '0119' '0000' '0042' '0004' '0158' '0074' '0029' '0080' '0059'\n",
      " '0110' '0127' '0002' '0006' '0001' '0026' '0053' '0023' '0013' '0015'\n",
      " '0175' '0007' '0067' '0177' '0030' '0019' '0113' '0020' '0155' '0011'\n",
      " '0083' '0205' '0095' '0041' '0181' '0043' '0071' '0073' '0112' '0092'\n",
      " '0062' '0003' '0055' '0100' '0010' '0191' '0114' '0056' '0060' '0065'\n",
      " '0136' '0022' '0061' '0037' '0129' '0145' '0197' '0031' '0098' '0125'\n",
      " '0012' '0075' '0046' '0185' '0198' '0077' '0048' '0016' '0038' '0142'\n",
      " '0094' '0146' '0134' '0078' '0033' '0104' '0076' '0079' '0005' '0025'\n",
      " '0058' '0028' '0143' '0034' '0164' '0069' '0207' '0123' '0206' '0017'\n",
      " '0171' '0186' '0021' '0170' '0044' '0027' '0101' '0141' '0126' '0201'\n",
      " '0018' '0039' '0050' '0052' '0064' '0130' '0137' '0176' '0008' '0108'\n",
      " '0009' '0168' '0036' '0161' '0063' '0035' '0172' '0196' '0040' '0214'\n",
      " '0066' '0107' '0081' '0070' '0120' '0180' '0115' '0014' '0116' '0184'\n",
      " '0144' '0051' '0121' '0084' '0135' '0192' '0160' '0117' '0089' '0024'\n",
      " '0045' '0133' '0182' '0054' '0118' '0148' '0105' '0032' '0212' '0187'\n",
      " '0150' '0087' '0082' '0088' '0099' '0213' '0153' 'Unknown' '0106' '0157'\n",
      " '0072' '0179' '0057' '0122' '0190' '0085' '0162' '0047' '0188' '0086'\n",
      " '0159' '0193' '0103' '0096' '0163' '0210' '0156' '0093' '0138' '0166'\n",
      " '0139' '0124' '0109' '0152' '0131' '0140' '0097' '0102' '0111' '0178'\n",
      " '0173' '0189' '0149' '0183' '0090' '0169' '0165' '0167' '0174' '0199'\n",
      " '0068' '0091' '0203' '0154' '0211' '0128' '0194' '0202' '0204' '0132'\n",
      " '0147' '0215' '0208' '0200' '0195' '0209' '0151' 33 31 7 15 27 21 32 6 0\n",
      " 12 20 5 26 24 2 11 18 34 28 30 50 17 25 39 23 35 4 1 19 10 22 40 14 9 29\n",
      " 16 36 118 43 8 45 73 38 42 13 3 37 44 46 41 52 149 47 58 140 125 54 90\n",
      " 104 77 160 71 132 51 55 114 57 102 195 84 99 193 194 113 201 155 61 200\n",
      " 203 116 179 211 209 207 199 208 197 91 65 56 196 74 82 198 158 191 142 53\n",
      " 59 151 72 166 202 80 81 76 119 141 138 88 204 49 64 63 48 186 147 62 173\n",
      " 87 103 108 107 187 135 115 92 181 164 85 98 182 67 124 133 190 130 159\n",
      " 184 75 168 86 106 167 176 154 93 122 156 60 152 185 94 78 215 105 214 97\n",
      " 183 175 206 157 180 172 120 100 192 146 163 111 126 145 70 153 66 112 68\n",
      " 210 136 143 150 205 177 212 174 178 101 69 95 89 123 79 161 171 144 162\n",
      " 96 139 188 110 137 121 127 83 189 128 148 129 117 131 109 170 165 134 169]\n",
      "['Complete dates are available and there are more than 0 days of survival'\n",
      " 'Incomplete dates are available and there cannot be zero days of follow-up'\n",
      " 'Complete dates are available and there are 0 days of survival'\n",
      " 'Not calculated because a Death Certificate Only or Autopsy Only case'\n",
      " 'Incomplete dates are available and there could be zero days of follow-up']\n",
      "['Rectum and Rectosigmoid Junction' 'Alive'\n",
      " 'Chronic Obstructive Pulmonary Disease and Allied Cond'\n",
      " 'Other Cause of Death' 'Colon excluding Rectum' 'Diseases of Heart'\n",
      " 'Nephritis, Nephrotic Syndrome and Nephrosis' 'Cerebrovascular Diseases'\n",
      " 'Urinary Bladder' 'Aortic Aneurysm and Dissection' 'Lung and Bronchus'\n",
      " 'Diabetes Mellitus'\n",
      " 'State DC not available or state DC available but no COD'\n",
      " 'Atherosclerosis' 'Other Infectious and Parasitic Diseases including HIV'\n",
      " 'Alzheimers (ICD-9 and 10 only)' 'Hypertension without Heart Disease'\n",
      " 'Kidney and Renal Pelvis' 'Chronic Lymphocytic Leukemia'\n",
      " 'Accidents and Adverse Effects' 'Septicemia' 'Non-Hodgkin Lymphoma'\n",
      " 'Miscellaneous Malignant Cancer' 'Other Myeloid/Monocytic Leukemia'\n",
      " 'Pneumonia and Influenza' 'Breast' 'Uterus, NOS' 'Other Digestive Organs'\n",
      " 'Ovary' 'Other Acute Leukemia' 'Thyroid' 'Congenital Anomalies'\n",
      " 'Other Oral Cavity and Pharynx' 'Other Female Genital Organs'\n",
      " 'Acute Myeloid Leukemia' 'Testis' 'Prostate'\n",
      " 'Kaposi Sarcoma (ICD-10 only)' 'Pancreas'\n",
      " 'Homicide and Legal Intervention' 'Corpus Uteri' 'Vagina'\n",
      " 'Intrahepatic Bile Duct' 'Stomach' 'Suicide and Self-Inflicted Injury'\n",
      " 'Myeloma' 'Symptoms, Signs and Ill-Defined Conditions'\n",
      " 'Other Lymphocytic Leukemia' 'Small Intestine' 'Hodgkin Lymphoma'\n",
      " 'Larynx' 'Liver' 'Anus, Anal Canal and Anorectum' 'Cervix Uteri'\n",
      " 'In situ, benign or unknown behavior neoplasm' 'Chronic Myeloid Leukemia'\n",
      " 'Mesothelioma (ICD-10 only)' 'Brain and Other Nervous System'\n",
      " 'Melanoma of the Skin' 'Esophagus' 'Stomach and Duodenal Ulcers'\n",
      " 'Peritoneum, Omentum and Mesentery'\n",
      " 'Other Diseases of Arteries, Arterioles, Capillaries' 'Gallbladder'\n",
      " 'Nasopharynx' 'Chronic Liver Disease and Cirrhosis' 'Other Biliary'\n",
      " 'Non-Melanoma Skin' 'Gum and Other Mouth' 'Oropharynx'\n",
      " 'Aleukemic, Subleukemic and NOS' 'Retroperitoneum'\n",
      " 'Nose, Nasal Cavity and Middle Ear' 'Soft Tissue including Heart'\n",
      " 'Complications of Pregnancy, Childbirth, Puerperium' 'Tuberculosis'\n",
      " 'Tongue' 'Penis' 'Other Urinary Organs' 'Bones and Joints'\n",
      " 'Other Endocrine including Thymus' 'Vulva' 'Acute Lymphocytic Leukemia'\n",
      " 'Salivary Gland' 'Ureter'\n",
      " 'Trachea, Mediastinum and Other Respiratory Organs' 'Hypopharynx'\n",
      " 'Tonsil' 'Pleura' 'Floor of Mouth' 'Acute Monocytic Leukemia'\n",
      " 'Certain Conditions Originating in Perinatal Period' 'Eye and Orbit'\n",
      " 'Other Male Genital Organs' 'Syphilis' 'Lip']\n",
      "['Dead' 'Alive']\n",
      "['2nd of 2 or more primaries' '3rd of 3 or more primaries'\n",
      " 'One primary only' '4th of 4 or more primaries'\n",
      " '1st of 2 or more primaries' '5th of 5 or more primaries'\n",
      " '6th of 6 or more primaries' '8th of 8 or more primaries'\n",
      " '7th of 7 or more primaries' '12th of 12 or more primaries'\n",
      " 'Unknown seq num - federally required in situ or malig tumors'\n",
      " '9th of 9 or more primaries' '20th of 20 or more primaries'\n",
      " '11th of 11 or more primaries']\n",
      "['No' 'Yes']\n",
      "['Yes' 'No']\n",
      "[2 1 4 3 5 8 6 7 9]\n",
      "[2 3 1 4 5 6 7 8 14 '01' '02' '03' '04' '05' '06' 'Unknown' 9 10 11 20\n",
      " '07']\n",
      "[0 1 2 3 4]\n",
      "['Malignant' 'Borderline malignancy']\n",
      "[8140 8480 8261 8246 8000 8263 8210 8490 8240 8243 8070 8010 8123 8481\n",
      " 8262 8930 8211 8244 8041 8510 8800 8560 8012 8890 8980 8021 8720 8221\n",
      " 8245 8220 8032 8470 8124 8570 8001 8071 8933 8801 8145 8310 8072 8020\n",
      " 8440 8814 8542 8323 8550 8891 8241 8500 8144 8094 8572 9100 8260 9540\n",
      " 8503 8143 8050 8141 8950 8051 8441 8721 8742 8033 8142 9120 8380 8802\n",
      " 8045 8830 8120 8730 8931 8030 8920 8461 8858 8082 8201 8772 8022 8711\n",
      " 8230 8951 9064 9040 8073 8004 8251 8312 8571 8744 8430 8896 9580 8963\n",
      " 9180 8900 8810 8052 8074 8460 9364 8410 8031 8044 9473 8851 8471 9015\n",
      " 8850 8804 8075 8722 8320 8042 8076 9044 9130 8811 9260 8043 8982 8761\n",
      " 8250 9560 8573 9085 9500 8003 8147 8683 8940 8780 8770 9150 8002 8153\n",
      " 8472 8160 8011 8280 9041 9561]\n",
      "['White' 'Other (American Indian/AK Native, Asian/Pacific Islander)'\n",
      " 'Black' 'Unknown']\n",
      "['69 years' '39 years' '82 years' '67 years' '78 years' '64 years'\n",
      " '70 years' '76 years' '49 years' '85+ years' '65 years' '41 years'\n",
      " '54 years' '55 years' '84 years' '45 years' '83 years' '47 years'\n",
      " '51 years' '63 years' '74 years' '81 years' '79 years' '48 years'\n",
      " '68 years' '72 years' '50 years' '62 years' '66 years' '58 years'\n",
      " '56 years' '73 years' '59 years' '80 years' '34 years' '52 years'\n",
      " '40 years' '42 years' '61 years' '60 years' '53 years' '71 years'\n",
      " '77 years' '75 years' '57 years' '44 years' '43 years' '46 years'\n",
      " '36 years' '33 years' '38 years' '22 years' '31 years' '29 years'\n",
      " '23 years' '30 years' '37 years' '35 years' '32 years' '18 years'\n",
      " '26 years' '28 years' '24 years' '27 years' '21 years' '25 years'\n",
      " '20 years' '00 years' '19 years' '17 years' '15 years' '12 years'\n",
      " '13 years' '10 years' '16 years' '14 years' '11 years' '09 years'\n",
      " '08 years' '04 years' '06 years' '07 years']\n",
      "['White' 'Japanese' 'Chinese' 'Other Asian (1991+)'\n",
      " 'American Indian/Alaska Native' 'Black' 'Asian Indian (2010+)'\n",
      " 'Guamanian, NOS (1991+)' 'Filipino' 'Vietnamese (1988+)' 'Korean (1988+)'\n",
      " 'Laotian (1988+)' 'Unknown' 'Hawaiian'\n",
      " 'Asian Indian or Pakistani, NOS (1988+)' 'Samoan (1991+)'\n",
      " 'Melanesian, NOS (1991+)' 'Tongan (1991+)' 'Fiji Islander (1991+)'\n",
      " 'Other' 'Chamorran (1991+)' 'Pakistani (2010+)' 'Thai (1994+)'\n",
      " 'Hmong (1988+)' 'Kampuchean (1988+)' 'Pacific Islander, NOS (1991+)'\n",
      " 'Polynesian, NOS (1991+)' 'Micronesian, NOS (1991+)' 'Tahitian (1991+)'\n",
      " 'New Guinean (1991+)']\n"
     ]
    },
    {
     "name": "stdout",
     "output_type": "stream",
     "text": [
      "['Record sent for linkage, no IHS match'\n",
      " 'Record sent for linkage, IHS match' 'Blank(s)']\n",
      "['69 years' '39 years' '82 years' '67 years' '78 years' '64 years'\n",
      " '70 years' '76 years' '49 years' '91 years' '65 years' '41 years'\n",
      " '90 years' '54 years' '92 years' '55 years' '84 years' '45 years'\n",
      " '83 years' '87 years' '85 years' '47 years' '89 years' '88 years'\n",
      " '51 years' '63 years' '74 years' '81 years' '79 years' '48 years'\n",
      " '68 years' '72 years' '50 years' '93 years' '62 years' '66 years'\n",
      " '86 years' '58 years' '96 years' '56 years' '73 years' '59 years'\n",
      " '80 years' '34 years' '52 years' '40 years' '42 years' '61 years'\n",
      " '60 years' '53 years' '71 years' '77 years' '94 years' '97 years'\n",
      " '75 years' '57 years' '44 years' '95 years' '99 years' '43 years'\n",
      " '98 years' '100+ years' '46 years' '36 years' '33 years' '38 years'\n",
      " '22 years' '31 years' '29 years' '23 years' '30 years' '37 years'\n",
      " '35 years' '32 years' '18 years' '26 years' '28 years' '24 years'\n",
      " '27 years' '21 years' '25 years' '20 years' '00 years' '19 years'\n",
      " '17 years' '15 years' '12 years' '13 years' '10 years' '16 years'\n",
      " '14 years' '11 years' '09 years' '08 years' '04 years' '06 years'\n",
      " '07 years']\n",
      "['California' 'Connecticut' 'Detroit (Metropolitan)' 'Hawaii' 'Iowa'\n",
      " 'New Mexico' 'Seattle (Puget Sound)' 'Utah' 'Georgia' 'Alaska Natives'\n",
      " 'Kentucky' 'Louisiana' 'New Jersey']\n",
      "[1 2 3 4 5]\n",
      "[1 2 3 4 5]\n",
      "[1 2 3 4 5]\n",
      "[1 2 3 4 5]\n",
      "['Rectum - mal+ins' 'Rectosigmoid Junction - mal+ins'\n",
      " 'Ascending Colon - mal+ins' 'Appendix - mal+ins'\n",
      " 'Sigmoid Colon - mal+ins' 'Cecum - mal+ins'\n",
      " 'Large Intestine, NOS - mal+ins' 'Transverse Colon - mal+ins'\n",
      " 'Splenic Flexure - mal+ins' 'Descending Colon - mal+ins'\n",
      " 'Hepatic Flexure - mal+ins']\n",
      "[1 2 3 4]\n",
      "[1 2 3 4]\n",
      "[1 2 3 4]\n",
      "[1 2 3 4]\n",
      "['Rectum - mal' 'Rectosigmoid Junction - mal' 'Ascending Colon - mal'\n",
      " 'Appendix - mal' 'Sigmoid Colon - mal' 'Cecum - mal'\n",
      " 'Large Intestine, NOS - mal' 'Transverse Colon - mal'\n",
      " 'Splenic Flexure - mal' 'Descending Colon - mal' 'Hepatic Flexure - mal']\n",
      "[1 3 4 2 5 6 7]\n",
      "[1 3 4 2 5 6 7]\n",
      "[1 3 4 2 5 6 7]\n",
      "[1 3 4 2 5 6 7]\n",
      "['Rectum and Rectosigmoid Junction - mal+ins'\n",
      " 'Colon excluding Rectum - mal+ins']\n",
      "[1 2 3 4 5 6 7]\n",
      "[1 2 3 4 5 6 7]\n",
      "[1 2 3 4 5 6 7]\n",
      "[1 2 3 4 5 6 7]\n",
      "['Rectum and Rectosigmoid Junction - mal' 'Colon excluding Rectum - mal']\n",
      "[1 3 4 2 5 6 7 8 9]\n",
      "[1 3 4 2 5 6 7 8 9]\n",
      "[1 3 4 2 5 6 7 8 9]\n",
      "[1 3 4 2 5 6 7 8 9]\n",
      "['Colon and Rectum - mal+ins']\n",
      "[1 2 3 4 5 6 7 8 9]\n",
      "[1 2 3 4 5 6 7 8 9]\n",
      "[1 2 3 4 5 6 7 8 9]\n",
      "[1 2 3 4 5 6 7 8 9]\n",
      "['Colon and Rectum - mal']\n",
      "[      19       25      337 ... 75826081 75826133 75826140]\n",
      "['Hospital inpatient/outpatient or clinic'\n",
      " 'Physicians office/private medical practitioner (LMD)'\n",
      " 'Radiation treatment or medical oncology center (2006+)'\n",
      " 'Death certificate only' 'Autopsy only'\n",
      " 'Laboratory only (hospital or private)'\n",
      " 'Other hospital outpatient unit or surgery center (2006+)'\n",
      " 'Nursing/convalescent home/hospice']\n",
      "['Single (never married)' 'Widowed' 'Married (including common law)'\n",
      " 'Divorced' 'Unknown' 'Unmarried or Domestic Partner' 'Separated']\n",
      "['$75,000+' '$65,000 - $69,999' '$70,000 - $74,999' '$60,000 - $64,999'\n",
      " '$55,000 - $59,999' '$45,000 - $49,999' '$40,000 - $44,999'\n",
      " '$50,000 - $54,999' '< $35,000' 'Unknown/missing/no match/Not 1990-2017'\n",
      " '$35,000 - $39,999']\n",
      "['Counties in metropolitan areas ge 1 million pop'\n",
      " 'Counties in metropolitan areas of 250,000 to 1 million pop'\n",
      " 'Nonmetropolitan counties adjacent to a metropolitan area'\n",
      " 'Nonmetropolitan counties not adjacent to a metropolitan area'\n",
      " 'Counties in metropolitan areas of lt 250 thousand pop'\n",
      " 'Unknown/missing/no match/Not 1990-2017'\n",
      " 'Unknown/missing/no match (Alaska or Hawaii - Entire State)']\n"
     ]
    }
   ],
   "source": [
    "for col in data:\n",
    "    print(data[col].unique())"
   ]
  },
  {
   "cell_type": "markdown",
   "metadata": {},
   "source": [
    "**List unique values of each column, select columns to delete based on redundancy, usefulness, past literature, and reference guide to column information from SEER database**"
   ]
  },
  {
   "cell_type": "code",
   "execution_count": 180,
   "metadata": {},
   "outputs": [],
   "source": [
    "data.drop(data.iloc[:,77:116], axis = 1, inplace = True)"
   ]
  },
  {
   "cell_type": "code",
   "execution_count": 181,
   "metadata": {},
   "outputs": [],
   "source": [
    "data.drop(data.iloc[:,74:75], axis = 1, inplace = True)"
   ]
  },
  {
   "cell_type": "code",
   "execution_count": 182,
   "metadata": {},
   "outputs": [],
   "source": [
    "data.drop(data.iloc[:,68:73], axis = 1, inplace = True)"
   ]
  },
  {
   "cell_type": "code",
   "execution_count": 183,
   "metadata": {},
   "outputs": [],
   "source": [
    "data.drop(data.iloc[:,47:51], axis = 1, inplace = True)"
   ]
  },
  {
   "cell_type": "code",
   "execution_count": 184,
   "metadata": {},
   "outputs": [],
   "source": [
    "data.drop(data.columns[36], axis = 1, inplace = True)"
   ]
  },
  {
   "cell_type": "code",
   "execution_count": 185,
   "metadata": {},
   "outputs": [],
   "source": [
    "data.drop(data.iloc[:,21:29], axis = 1, inplace = True)"
   ]
  },
  {
   "cell_type": "code",
   "execution_count": 186,
   "metadata": {},
   "outputs": [],
   "source": [
    "data.drop(data.iloc[:,8:18], axis = 1, inplace = True)"
   ]
  },
  {
   "cell_type": "code",
   "execution_count": 187,
   "metadata": {},
   "outputs": [],
   "source": [
    "data.drop(data.iloc[:,2:6], axis = 1, inplace = True)"
   ]
  },
  {
   "cell_type": "markdown",
   "metadata": {},
   "source": [
    "**Narrow down columns with target class information. Group three column together to form 1 column that has labels either \"dead\", \"alive\" or \"dead other\". Drop 2 unnecessary columns, drop rows with \"dead other\"**"
   ]
  },
  {
   "cell_type": "code",
   "execution_count": 188,
   "metadata": {},
   "outputs": [
    {
     "data": {
      "text/html": [
       "<div>\n",
       "<style scoped>\n",
       "    .dataframe tbody tr th:only-of-type {\n",
       "        vertical-align: middle;\n",
       "    }\n",
       "\n",
       "    .dataframe tbody tr th {\n",
       "        vertical-align: top;\n",
       "    }\n",
       "\n",
       "    .dataframe thead th {\n",
       "        text-align: right;\n",
       "    }\n",
       "</style>\n",
       "<table border=\"1\" class=\"dataframe\">\n",
       "  <thead>\n",
       "    <tr style=\"text-align: right;\">\n",
       "      <th></th>\n",
       "      <th>COD to site recode</th>\n",
       "      <th>SEER cause-specific death classification</th>\n",
       "      <th>SEER other cause of death classification</th>\n",
       "    </tr>\n",
       "  </thead>\n",
       "  <tbody>\n",
       "    <tr>\n",
       "      <th>0</th>\n",
       "      <td>Rectum and Rectosigmoid Junction</td>\n",
       "      <td>Dead (attributable to this cancer dx)</td>\n",
       "      <td>Alive or dead due to cancer</td>\n",
       "    </tr>\n",
       "    <tr>\n",
       "      <th>1</th>\n",
       "      <td>Alive</td>\n",
       "      <td>Alive or dead of other cause</td>\n",
       "      <td>Alive or dead due to cancer</td>\n",
       "    </tr>\n",
       "    <tr>\n",
       "      <th>2</th>\n",
       "      <td>Chronic Obstructive Pulmonary Disease and Alli...</td>\n",
       "      <td>Alive or dead of other cause</td>\n",
       "      <td>Dead (attributable to causes other than this c...</td>\n",
       "    </tr>\n",
       "    <tr>\n",
       "      <th>3</th>\n",
       "      <td>Alive</td>\n",
       "      <td>Alive or dead of other cause</td>\n",
       "      <td>Alive or dead due to cancer</td>\n",
       "    </tr>\n",
       "    <tr>\n",
       "      <th>4</th>\n",
       "      <td>Other Cause of Death</td>\n",
       "      <td>Dead (attributable to this cancer dx)</td>\n",
       "      <td>Alive or dead due to cancer</td>\n",
       "    </tr>\n",
       "    <tr>\n",
       "      <th>...</th>\n",
       "      <td>...</td>\n",
       "      <td>...</td>\n",
       "      <td>...</td>\n",
       "    </tr>\n",
       "    <tr>\n",
       "      <th>690445</th>\n",
       "      <td>Colon excluding Rectum</td>\n",
       "      <td>Dead (attributable to this cancer dx)</td>\n",
       "      <td>Alive or dead due to cancer</td>\n",
       "    </tr>\n",
       "    <tr>\n",
       "      <th>690446</th>\n",
       "      <td>Rectum and Rectosigmoid Junction</td>\n",
       "      <td>Dead (attributable to this cancer dx)</td>\n",
       "      <td>Alive or dead due to cancer</td>\n",
       "    </tr>\n",
       "    <tr>\n",
       "      <th>690447</th>\n",
       "      <td>Alive</td>\n",
       "      <td>Alive or dead of other cause</td>\n",
       "      <td>Alive or dead due to cancer</td>\n",
       "    </tr>\n",
       "    <tr>\n",
       "      <th>690448</th>\n",
       "      <td>Alive</td>\n",
       "      <td>Alive or dead of other cause</td>\n",
       "      <td>Alive or dead due to cancer</td>\n",
       "    </tr>\n",
       "    <tr>\n",
       "      <th>690449</th>\n",
       "      <td>State DC not available or state DC available b...</td>\n",
       "      <td>Dead (missing/unknown COD)</td>\n",
       "      <td>Dead (missing/unknown COD)</td>\n",
       "    </tr>\n",
       "  </tbody>\n",
       "</table>\n",
       "<p>690450 rows × 3 columns</p>\n",
       "</div>"
      ],
      "text/plain": [
       "                                       COD to site recode  \\\n",
       "0                        Rectum and Rectosigmoid Junction   \n",
       "1                                                   Alive   \n",
       "2       Chronic Obstructive Pulmonary Disease and Alli...   \n",
       "3                                                   Alive   \n",
       "4                                    Other Cause of Death   \n",
       "...                                                   ...   \n",
       "690445                             Colon excluding Rectum   \n",
       "690446                   Rectum and Rectosigmoid Junction   \n",
       "690447                                              Alive   \n",
       "690448                                              Alive   \n",
       "690449  State DC not available or state DC available b...   \n",
       "\n",
       "       SEER cause-specific death classification  \\\n",
       "0         Dead (attributable to this cancer dx)   \n",
       "1                  Alive or dead of other cause   \n",
       "2                  Alive or dead of other cause   \n",
       "3                  Alive or dead of other cause   \n",
       "4         Dead (attributable to this cancer dx)   \n",
       "...                                         ...   \n",
       "690445    Dead (attributable to this cancer dx)   \n",
       "690446    Dead (attributable to this cancer dx)   \n",
       "690447             Alive or dead of other cause   \n",
       "690448             Alive or dead of other cause   \n",
       "690449               Dead (missing/unknown COD)   \n",
       "\n",
       "                 SEER other cause of death classification  \n",
       "0                             Alive or dead due to cancer  \n",
       "1                             Alive or dead due to cancer  \n",
       "2       Dead (attributable to causes other than this c...  \n",
       "3                             Alive or dead due to cancer  \n",
       "4                             Alive or dead due to cancer  \n",
       "...                                                   ...  \n",
       "690445                        Alive or dead due to cancer  \n",
       "690446                        Alive or dead due to cancer  \n",
       "690447                        Alive or dead due to cancer  \n",
       "690448                        Alive or dead due to cancer  \n",
       "690449                         Dead (missing/unknown COD)  \n",
       "\n",
       "[690450 rows x 3 columns]"
      ]
     },
     "execution_count": 188,
     "metadata": {},
     "output_type": "execute_result"
    }
   ],
   "source": [
    "data.iloc[: , 37:40]"
   ]
  },
  {
   "cell_type": "code",
   "execution_count": 189,
   "metadata": {},
   "outputs": [],
   "source": [
    "data.loc[data['COD to site recode'] == 'Alive', 'SEER cause-specific death classification'] = 'Alive'"
   ]
  },
  {
   "cell_type": "code",
   "execution_count": 190,
   "metadata": {},
   "outputs": [],
   "source": [
    "data['SEER cause-specific death classification'] = data['SEER cause-specific death classification'].replace(['Alive or dead of other cause'], 'Dead Other')"
   ]
  },
  {
   "cell_type": "code",
   "execution_count": 191,
   "metadata": {},
   "outputs": [],
   "source": [
    "data['SEER cause-specific death classification'] = data['SEER cause-specific death classification'].replace(['Dead (attributable to this cancer dx)'], 'Dead')"
   ]
  },
  {
   "cell_type": "code",
   "execution_count": 192,
   "metadata": {},
   "outputs": [],
   "source": [
    "data['SEER cause-specific death classification'] = data['SEER cause-specific death classification'].replace(['Dead (missing/unknown COD)'], 'Dead Other')"
   ]
  },
  {
   "cell_type": "code",
   "execution_count": 193,
   "metadata": {},
   "outputs": [],
   "source": [
    "data.drop(data.columns[37], axis = 1, inplace = True)"
   ]
  },
  {
   "cell_type": "code",
   "execution_count": 194,
   "metadata": {},
   "outputs": [],
   "source": [
    "data.drop(data.columns[38], axis = 1, inplace = True)"
   ]
  },
  {
   "cell_type": "code",
   "execution_count": 195,
   "metadata": {},
   "outputs": [],
   "source": [
    "data1 = data[data['SEER cause-specific death classification'] != \"Dead Other\"]"
   ]
  },
  {
   "cell_type": "code",
   "execution_count": 196,
   "metadata": {},
   "outputs": [],
   "source": [
    "data1 = data1[data1['SEER cause-specific death classification'] != \"N/A not seq 0-59\"]"
   ]
  },
  {
   "cell_type": "code",
   "execution_count": 197,
   "metadata": {},
   "outputs": [
    {
     "name": "stdout",
     "output_type": "stream",
     "text": [
      "['65-69 years' '35-39 years' '75-79 years' '60-64 years' '70-74 years'\n",
      " '40-44 years' '50-54 years' '85+ years' '55-59 years' '45-49 years'\n",
      " '80-84 years' '30-34 years' '20-24 years' '25-29 years' '15-19 years'\n",
      " '00 years' '10-14 years' '05-09 years' '01-04 years']\n",
      "['Male' 'Female']\n",
      "['Non-Hispanic White' 'Hispanic (All Races)'\n",
      " 'Non-Hispanic Asian or Pacific Islander' 'Non-Hispanic Black'\n",
      " 'Non-Hispanic American Indian/Alaska Native' 'Non-Hispanic Unknown Race']\n",
      "['Rectum' 'Rectosigmoid Junction' 'Appendix' 'Ascending Colon'\n",
      " 'Sigmoid Colon' 'Splenic Flexure' 'Transverse Colon' 'Descending Colon'\n",
      " 'Cecum' 'Hepatic Flexure' 'Large Intestine, NOS']\n",
      "['Well differentiated; Grade I' 'Moderately differentiated; Grade II'\n",
      " 'Unknown' 'Poorly differentiated; Grade III'\n",
      " 'Undifferentiated; anaplastic; Grade IV']\n",
      "['Not a paired  site' 'Right - origin of primary'\n",
      " 'Left - origin of primary'\n",
      " 'Paired site, but no information concerning laterality'\n",
      " 'Only one side - side unspecified' 'Bilateral, single primary']\n",
      "['Positive histology' 'Radiography without microscopic confirm'\n",
      " 'Positive exfoliative cytology, no positive histology'\n",
      " 'Positive laboratory test/marker study' 'Unknown'\n",
      " 'Direct visualization without microscopic confirmation'\n",
      " 'Clinical diagnosis only'\n",
      " 'Positive microscopic confirm, method not specified'\n",
      " 'Pos hist AND immunophenotyping AND/OR pos genetic studies']\n",
      "['Localized' 'Distant' 'Regional' 'Unknown/unstaged']\n",
      "['Blank(s)' 'Distant site(s)/node(s) involved'\n",
      " 'Regional by both direct extension and lymph node involvement'\n",
      " 'Regional lymph nodes involved only' 'Localized only'\n",
      " 'Regional by direct extension only' 'Unknown/unstaged/unspecified/DCO'\n",
      " 'Regional, NOS']\n",
      "['Localized' 'Distant' 'Regional' 'Blank(s)' 'Unstaged']\n",
      "['Blank(s)' 'IV' 'IIIB' 'IIA' 'IIIA' '0' 'I' 'IIB' 'IIIC' nan 'UNK Stage'\n",
      " 'IIINOS']\n",
      "['Blank(s)' 'T3' 'T1' 'TX' 'Tis' 'T2' 'T4' nan 'T0']\n",
      "['Blank(s)' 'N1' 'N0' 'NX' 'N2' nan]\n",
      "['Blank(s)' 'M1' 'M0' nan 'MX']\n",
      "[30  0 50 40 26 70 80 27 32 29 28 41 20 25 60 99 51 22 55 56 90 24 12 31\n",
      " 61 23 65 21 57 11 13 66 14 10]\n",
      "['Blank(s)' '4 or more regional lymph nodes removed' 'None'\n",
      " 'Number of regional lymph nodes removed unknown'\n",
      " '1 to 3 regional lymph nodes removed' 'Unknown or not applicable'\n",
      " 'Sentinel node biopsy and lym nd removed same/unstated time'\n",
      " 'Sentinel node biopsy and lym nd removed different times'\n",
      " 'Biopsy or aspiration of regional lymph node, NOS'\n",
      " 'Sentinel lymph node biopsy']\n",
      "['Blank(s)' 'None; diagnosed at autopsy'\n",
      " 'Non-primary surgical procedure to distant site'\n",
      " 'Any combo of sur proc to oth rg, dis lym nd, and/or dis site'\n",
      " 'Non-primary surgical procedure to other regional sites'\n",
      " 'Unknown; death certificate only'\n",
      " 'Non-primary surgical procedure performed'\n",
      " 'Non-primary surgical procedure to distant lymph node(s)']\n",
      "['No radiation and/or cancer-directed surgery' 'Radiation after surgery'\n",
      " 'Radiation prior to surgery' 'Sequence unknown, but both were given'\n",
      " 'Radiation before and after surgery'\n",
      " 'Intraoperative rad with other rad before/after surgery'\n",
      " 'Intraoperative radiation' 'Surgery both before and after radiation']\n",
      "['Surgery performed' 'Recommended, unknown if performed' 'Not recommended'\n",
      " 'Not recommended, contraindicated due to other cond; autopsy only (1973-2002)'\n",
      " 'Recommended but not performed, patient refused'\n",
      " 'Unknown; death certificate; or autopsy only (2003+)'\n",
      " 'Recommended but not performed, unknown reason'\n",
      " 'Not performed, patient died prior to recommended surgery']\n",
      "['None/Unknown' 'Beam radiation'\n",
      " 'Radiation, NOS  method or source not specified' 'Radioisotopes (1988+)'\n",
      " 'Radioactive implants (includes brachytherapy) (1988+)'\n",
      " 'Combination of beam with implants or isotopes' 'Refused (1988+)'\n",
      " 'Recommended, unknown if administered']\n",
      "['No/Unknown' 'Yes']\n",
      "['Blank(s)' 'Systemic therapy after surgery'\n",
      " 'No systemic therapy and/or surgical procedures'\n",
      " 'Systemic therapy before surgery' 'Intraoperative systemic therapy'\n",
      " 'Systemic therapy both before and after surgery'\n",
      " 'Surgery both before and after systemic therapy' 'Sequence unknown'\n",
      " 'Intraop systemic rx & oth systemic rx before/after surg']\n",
      "[10  8  0 16  7 13 18 98 66 23  9 12 53 99 11 34 20 14  6 17 19  5 15  3\n",
      " 44 36 30  4 24  2  1 41 29 27 32 21 35 80 58 26 25 48 22 38 31 69 43 39\n",
      " 40 55 33 54 28 42 97 70 47 59 56 50 37 49 51 96 95 67 46 45 73 52 61 65\n",
      " 57 62 83 90 78 64 63 82 71 68 79 74 60 72 84 89 77 86 81 87 76 88 75 85]\n",
      "[ 0  1 98  2 97 99  6  4  3 14  8 10 16 12  5 11  7  9 30 80 47 18 19 13\n",
      " 21 25 17 24 26 15 23 95 29 20 43 22 32 36 35 28 27 33 40 31 41 34 50 38\n",
      " 48 61 54 59 37 45 56 39 55 42 51 46 90 67 64 58 49 52 69 44 57 77 60 74\n",
      " 71 68 79 75 53 66 62]\n",
      "['Blank(s)' '035' '050' '070' '040' '015' '999' '007' '049' '030' '120'\n",
      " '085' '060' '065' '053' '003' '080' '055' '032' '021' '045' '017' '990'\n",
      " '031' '052' '059' '046' '038' '095' '025' '034' '075' '048' '006' '005'\n",
      " '105' '020' '010' '083' '076' '140' '037' '004' '016' '041' '012' '104'\n",
      " '029' '027' '002' '110' '068' '033' '024' '130' '043' '000' '001' '062'\n",
      " '042' '089' '125' '018' '036' '009' '073' '061' '044' '135' '100' '057'\n",
      " '023' '026' '008' '077' '039' '082' '022' '028' '019' '078' '058' '090'\n",
      " '064' '047' '150' '991' '109' '063' '072' '081' '086' '014' '013' '067'\n",
      " '700' '069' '131' '115' '054' '051' '093' '011' '088' '066' '079' '056'\n",
      " '099' '165' '071' '098' '160' '074' '202' '117' '200' '092' '995' '084'\n",
      " '087' '107' '103' '181' '133' '097' '994' '145' '240' '993' '116' '992'\n",
      " '122' '190' '108' '230' '170' '114' '300' '137' '750' '094' '112' '102'\n",
      " '134' '127' '147' '989' '119' '998' '965' '500' '106' '091' '096' '126'\n",
      " '180' '185' '148' '250' '132' '113' '194' '141' '390' '175' '124' '945'\n",
      " '450' '530' '850' '800' '121' '136' '207' '152' '520' '550' '210' '118'\n",
      " '153' '101' '111' '146' '144' '123' '143' '830' '580' '225' '370' '223'\n",
      " '128' '420' '400' '168' '888' '600' '235' '174' '650' '139' '510' '796'\n",
      " '222' '129' '151' '966' '220' '660' '138' '189' '176' '505' '260' '155'\n",
      " '280' '285' '177' '405' '320' '142' '270' '215' '198' '900' '195' '310'\n",
      " '166' '340' '988' '330' '173' '920' '350' '167' '161' '205' '157' '570'\n",
      " '154' '158' '670' '164' '640' '162' '183' '149' '492' '950' '290' '269'\n",
      " '286' '975' '178' '303' '257' '637' '360' '457' '935' '172' '630' '163'\n",
      " '156' '959' '938' '442' '970' '720' '770' '182' '187' '159' '890' '193'\n",
      " '810' '211' '997' '430' '206' '440' '470' '960' '930' '204' '333' '996'\n",
      " '201' '380' '480' '780' '560' '184' '295']\n",
      "['Blank(s)' '400' '470' '160' '999' '110' '200' '300' '610' '450' '500'\n",
      " '455' '650' '565' '150' '600' '800' '750' '130' '100' '460' '458' '700'\n",
      " '655' '550' '660' '140' '950' '120' '570' '155' '210' '170' '900' '415'\n",
      " '410' '555' '510' '560' '601' '675' '850' '401' '513' '451' '250' '810'\n",
      " '165' '514' '330' '320' '335' '190' '180' '665' '490' '512' '701' '270'\n",
      " '370' '511' '751' '501' '440']\n",
      "['Blank(s)' '100' '300' '000' '110' '999' '210' '200' '050' '480' '220'\n",
      " '800' '420' '430' '450' '470' '410' '460' '400']\n",
      "['Blank(s)' '40' '00' '50' '36' '26' '45' '99' '60' '10' '31' '48' '16'\n",
      " '12' '33' '27' '08' '05' '11' '35' '29' '23' '20' '18' '55' '15' '25']\n",
      "['Blank(s)' '3' '5' '9' '1' '0' '6' '2' '8']\n",
      "['Blank(s)' '3' '5' '9' '0' '1' '6' '2' '8']\n",
      "['Blank(s)' '3' '0' '1' '9' '5' '6' '2' '8']\n",
      "['Blank(s)' '020' '010' '998' '999' '030' '997']\n",
      "['Blank(s)' '100' '020' '988' '000' '999' '400' '120' '010' '200' '110'\n",
      " '005' '998' '003' '300' '001']\n",
      "['Blank(s)' '988' 988]\n",
      "['Blank(s)' '020510' '020550' '020540' '020530' '020520']\n",
      "['Blank(s)' '010401' '020550' '010100' '020302' '010300' '020440' '010200'\n",
      " '020200' '010002' '010400' '010003' '010004' '020100' '010000' '020001'\n",
      " '010005' '000937']\n",
      "['Blank(s)' '020550']\n",
      "['Dead' 'Alive']\n",
      "['0049' '0119' '0042' '0004' '0158' '0074' '0029' '0110' '0127' '0006'\n",
      " '0000' '0026' '0013' '0015' '0175' '0007' '0067' '0177' '0019' '0113'\n",
      " '0020' '0155' '0083' '0205' '0095' '0041' '0181' '0001' '0071' '0073'\n",
      " '0043' '0003' '0053' '0112' '0010' '0191' '0114' '0060' '0065' '0136'\n",
      " '0061' '0129' '0145' '0059' '0197' '0031' '0125' '0012' '0011' '0046'\n",
      " '0185' '0198' '0077' '0022' '0048' '0016' '0146' '0134' '0078' '0033'\n",
      " '0079' '0005' '0025' '0028' '0207' '0206' '0017' '0002' '0186' '0021'\n",
      " '0170' '0044' '0141' '0142' '0201' '0018' '0050' '0052' '0034' '0064'\n",
      " '0137' '0100' '0008' '0009' '0168' '0039' '0023' '0036' '0092' '0030'\n",
      " '0161' '0035' '0027' '0062' '0104' '0214' '0063' '0080' '0014' '0171'\n",
      " '0070' '0038' '0144' '0121' '0084' '0176' '0135' '0192' '0160' '0117'\n",
      " '0089' '0056' '0024' '0045' '0040' '0107' '0133' '0182' '0054' '0118'\n",
      " '0058' '0143' '0148' '0105' '0032' '0212' '0187' '0150' '0087' '0051'\n",
      " '0213' '0130' '0153' 'Unknown' '0157' '0055' '0179' '0076' '0122' '0190'\n",
      " '0162' '0088' '0047' '0188' '0108' '0037' '0081' '0123' '0193' '0069'\n",
      " '0082' '0163' '0210' '0156' '0093' '0138' '0166' '0124' '0131' '0103'\n",
      " '0066' '0097' '0102' '0111' '0178' '0173' '0189' '0149' '0183' '0085'\n",
      " '0165' '0086' '0167' '0174' '0101' '0072' '0115' '0094' '0140' '0169'\n",
      " '0098' '0159' '0068' '0203' '0199' '0154' '0116' '0109' '0211' '0057'\n",
      " '0152' '0075' '0194' '0096' '0204' '0099' '0090' '0139' '0091' '0196'\n",
      " '0132' '0126' '0180' '0128' '0215' '0200' '0195' '0209' '0208' '0202'\n",
      " '0147' '0172' '0164' '0184' '0120' '0106' '0151' 33 31 15 27 21 32 6 0 12\n",
      " 20 26 5 24 2 11 18 34 7 28 30 50 17 25 39 23 35 1 19 22 40 10 14 9 29 4\n",
      " 36 16 118 43 8 45 73 38 42 13 3 37 44 46 41 149 47 58 125 54 90 104 77 71\n",
      " 52 51 55 114 57 102 195 193 194 201 155 61 200 203 211 209 207 91 65 56\n",
      " 199 197 196 74 82 198 59 151 202 80 81 88 204 64 48 173 87 63 92 62 181\n",
      " 98 67 124 190 186 130 159 147 86 176 93 184 122 138 106 116 156 60 152 53\n",
      " 166 191 215 105 214 175 206 208 192 70 112 68 210 66 108 154 142 113 205\n",
      " 75 212 99 179 178 101 78 95 49 89 123 69 161 180 79 140 144 94 185 158 84\n",
      " 110 85 115 139 182 76 83 189 148 117 187 97 164 109 162 120 129 127 170\n",
      " 188 131 96 126 141 168 160 135 133 128 107 100 183 163 157 145 72 143 169\n",
      " 172 137 165]\n",
      "['Yes' 'No']\n",
      "[2 3 4 1 5 6 8 7 14 '01' '02' '03' '04' '05' '06' 9 10 'Unknown' 11 '07']\n",
      "[0 1 2 3]\n",
      "['Hospital inpatient/outpatient or clinic'\n",
      " 'Physicians office/private medical practitioner (LMD)'\n",
      " 'Radiation treatment or medical oncology center (2006+)'\n",
      " 'Death certificate only' 'Autopsy only'\n",
      " 'Laboratory only (hospital or private)'\n",
      " 'Other hospital outpatient unit or surgery center (2006+)'\n",
      " 'Nursing/convalescent home/hospice']\n"
     ]
    },
    {
     "name": "stdout",
     "output_type": "stream",
     "text": [
      "['Single (never married)' 'Married (including common law)' 'Divorced'\n",
      " 'Widowed' 'Unknown' 'Unmarried or Domestic Partner' 'Separated']\n",
      "['$75,000+' '$65,000 - $69,999' '$70,000 - $74,999' '$60,000 - $64,999'\n",
      " '$55,000 - $59,999' '$45,000 - $49,999' '$40,000 - $44,999'\n",
      " '$50,000 - $54,999' '$35,000 - $39,999' '< $35,000'\n",
      " 'Unknown/missing/no match/Not 1990-2017']\n",
      "['Counties in metropolitan areas ge 1 million pop'\n",
      " 'Counties in metropolitan areas of 250,000 to 1 million pop'\n",
      " 'Nonmetropolitan counties adjacent to a metropolitan area'\n",
      " 'Nonmetropolitan counties not adjacent to a metropolitan area'\n",
      " 'Counties in metropolitan areas of lt 250 thousand pop'\n",
      " 'Unknown/missing/no match/Not 1990-2017'\n",
      " 'Unknown/missing/no match (Alaska or Hawaii - Entire State)']\n"
     ]
    }
   ],
   "source": [
    "for col in data1:\n",
    "    print(data1[col].unique())"
   ]
  },
  {
   "cell_type": "code",
   "execution_count": 198,
   "metadata": {},
   "outputs": [
    {
     "name": "stdout",
     "output_type": "stream",
     "text": [
      "<class 'pandas.core.frame.DataFrame'>\n",
      "Int64Index: 543412 entries, 0 to 690448\n",
      "Data columns (total 46 columns):\n",
      " #   Column                                                      Non-Null Count   Dtype \n",
      "---  ------                                                      --------------   ----- \n",
      " 0   Age recode with <1 year olds                                543412 non-null  object\n",
      " 1   Sex                                                         543412 non-null  object\n",
      " 2   Race and origin recode (NHW, NHB, NHAIAN, NHAPI, Hispanic)  543412 non-null  object\n",
      " 3   Site recode ICD-O-3/WHO 2008                                543412 non-null  object\n",
      " 4   Grade                                                       543412 non-null  object\n",
      " 5   Laterality                                                  543412 non-null  object\n",
      " 6   Diagnostic Confirmation                                     543412 non-null  object\n",
      " 7   Summary stage 2000 (1998+)                                  543412 non-null  object\n",
      " 8   SEER Combined Summary Stage 2000 (2004+)                    543412 non-null  object\n",
      " 9   SEER historic stage A (1973-2015)                           543412 non-null  object\n",
      " 10  Derived AJCC Stage Group, 6th ed (2004-2015)                527801 non-null  object\n",
      " 11  Derived AJCC T, 6th ed (2004-2015)                          527801 non-null  object\n",
      " 12  Derived AJCC N, 6th ed (2004-2015)                          527801 non-null  object\n",
      " 13  Derived AJCC M, 6th ed (2004-2015)                          527801 non-null  object\n",
      " 14  RX Summ--Surg Prim Site (1998+)                             543412 non-null  int64 \n",
      " 15  RX Summ--Scope Reg LN Sur (2003+)                           543412 non-null  object\n",
      " 16  RX Summ--Surg Oth Reg/Dis (2003+)                           543412 non-null  object\n",
      " 17  RX Summ--Surg/Rad Seq                                       543412 non-null  object\n",
      " 18  Reason no cancer-directed surgery                           543412 non-null  object\n",
      " 19  Radiation recode                                            543412 non-null  object\n",
      " 20  Chemotherapy recode (yes, no/unk)                           543412 non-null  object\n",
      " 21  RX Summ--Systemic/Sur Seq                                   543412 non-null  object\n",
      " 22  Regional nodes examined (1988+)                             543412 non-null  int64 \n",
      " 23  Regional nodes positive (1988+)                             543412 non-null  int64 \n",
      " 24  CS tumor size (2004-2015)                                   543412 non-null  object\n",
      " 25  CS extension (2004-2015)                                    543412 non-null  object\n",
      " 26  CS lymph nodes (2004-2015)                                  543412 non-null  object\n",
      " 27  CS mets at dx (2004-2015)                                   543412 non-null  object\n",
      " 28  CS Tumor Size/Ext Eval (2004-2015)                          543412 non-null  object\n",
      " 29  CS Reg Node Eval (2004-2015)                                543412 non-null  object\n",
      " 30  CS Mets Eval (2004-2015)                                    543412 non-null  object\n",
      " 31  CS site-specific factor 1 (2004+ varying by schema)         543412 non-null  object\n",
      " 32  CS site-specific factor 2 (2004+ varying by schema)         543412 non-null  object\n",
      " 33  CS site-specific factor 25 (2004+ varying by schema)        543412 non-null  object\n",
      " 34  CS version input current (2004-2015)                        543412 non-null  object\n",
      " 35  CS version input original (2004-2015)                       543412 non-null  object\n",
      " 36  CS version derived (2004-2015)                              543412 non-null  object\n",
      " 37  SEER cause-specific death classification                    543412 non-null  object\n",
      " 38  Survival months                                             543412 non-null  object\n",
      " 39  Primary by international rules                              543412 non-null  object\n",
      " 40  Total number of in situ/malignant tumors for patient        543412 non-null  object\n",
      " 41  Total number of benign/borderline tumors for patient        543412 non-null  int64 \n",
      " 42  Type of Reporting Source                                    543412 non-null  object\n",
      " 43  Marital status at diagnosis                                 543412 non-null  object\n",
      " 44  Median household income inflation adj to 2018               543412 non-null  object\n",
      " 45  Rural-Urban Continuum Code                                  543412 non-null  object\n",
      "dtypes: int64(4), object(42)\n",
      "memory usage: 194.9+ MB\n"
     ]
    }
   ],
   "source": [
    "data1.info()"
   ]
  },
  {
   "cell_type": "markdown",
   "metadata": {},
   "source": [
    "### Review all possible 'unknown' labels, not only \"Blank(s)\" & Review each column closely\n",
    "* [2]: 'Non-Hispanic Unknown Race'\n",
    "* [4]: 'Unknown'\n",
    "* [5]: 'Paired site, but no information concerning laterality'\n",
    "* [6]: 'Unknown'\n",
    "* [7]: 'Unknown/unstaged'\n",
    "* [8]: 'Blank(s)', 'Unknown/unstaged/unspecified/DCO'\n",
    "* [9]: 'Blank(s)', 'Unstaged'\n",
    "* [10]: 'Blank(s)', nan, 'UNK Stage'\n",
    "* [11]: 'Blank(s)', 'TX', nan\n",
    "* [12]: 'Blank(s)', 'NX, nan\n",
    "* [13]: 'Blank(s)', 'MX, nan\n",
    "* [14]: '99'\n",
    "* [15]: 'Blank(s)'\n",
    "* [16]: **Remove** column completely, not as specific as other columns, redundant\n",
    "* [21]: 'Blank(s)', 'Sequence unknown'\n",
    "* [22]: '99', '126'\n",
    "* [23]: '99', '126'\n",
    "* [24]: 'Blank(s)', '999', '888', '1022'\n",
    "* [25]: 'Blank(s)', '999' ## CS extension same as T Stage\n",
    "* [26]: 'Blank(s)', '999' ## CS lymph nodes same as N Stage\n",
    "* [27]: 'Blank(s)', '99' ## CS mets at dx same as M Stage\n",
    "* [28, 29, 30]: **Remove** columns completley, used to determine last 3 columns\n",
    "* [31]: 'Blank(s)', '999', '997' ##SSF1\n",
    "* [32]: 'Blank(s)', '999', '988' ##SSF2, similar to N stage, no. of metastases in regional nodes or no. of regional nodes positive (may be removed as redundant)\n",
    "* [33]: **Remove** completely, all values 'Blank(s)' or '988'\n",
    "* [34, 35, 36]: **remove** completely, CS Version information\n",
    "* [38]: 'Unknown'\n",
    "* [42]: **Remove** column\n",
    "* [44]: 'Unknown/missing/no match/Not 1990-2017'\n",
    "* [45]: **Remove** column"
   ]
  },
  {
   "cell_type": "code",
   "execution_count": 199,
   "metadata": {},
   "outputs": [],
   "source": [
    "data1.drop(data1.columns[45], axis = 1, inplace = True)"
   ]
  },
  {
   "cell_type": "code",
   "execution_count": 200,
   "metadata": {},
   "outputs": [],
   "source": [
    "data1.drop(data1.columns[42], axis = 1, inplace = True)"
   ]
  },
  {
   "cell_type": "code",
   "execution_count": 201,
   "metadata": {},
   "outputs": [],
   "source": [
    "data1.drop(data1.iloc[:,34:37], axis = 1, inplace = True)"
   ]
  },
  {
   "cell_type": "code",
   "execution_count": 202,
   "metadata": {},
   "outputs": [],
   "source": [
    "data1.drop(data1.columns[33], axis = 1, inplace = True)"
   ]
  },
  {
   "cell_type": "code",
   "execution_count": 203,
   "metadata": {},
   "outputs": [],
   "source": [
    "data1.drop(data1.iloc[:,28:31], axis = 1, inplace = True)"
   ]
  },
  {
   "cell_type": "code",
   "execution_count": 204,
   "metadata": {},
   "outputs": [],
   "source": [
    "data1.drop(data1.columns[16], axis = 1, inplace = True)"
   ]
  },
  {
   "cell_type": "code",
   "execution_count": 205,
   "metadata": {},
   "outputs": [],
   "source": [
    "data2 = data1[data1['Race and origin recode (NHW, NHB, NHAIAN, NHAPI, Hispanic)'] != 'Non-Hispanic Unknown Race']"
   ]
  },
  {
   "cell_type": "code",
   "execution_count": 206,
   "metadata": {},
   "outputs": [],
   "source": [
    "data2 = data2[data2['Grade'] != 'Unknown']"
   ]
  },
  {
   "cell_type": "code",
   "execution_count": 207,
   "metadata": {},
   "outputs": [],
   "source": [
    "data2 = data2[data2['Diagnostic Confirmation'] !='Unknown']"
   ]
  },
  {
   "cell_type": "code",
   "execution_count": 208,
   "metadata": {},
   "outputs": [],
   "source": [
    "data2 = data2[data2['Summary stage 2000 (1998+)'] != 'Unknown/unstaged']"
   ]
  },
  {
   "cell_type": "code",
   "execution_count": 209,
   "metadata": {},
   "outputs": [],
   "source": [
    "data2 = data2[data2['SEER Combined Summary Stage 2000 (2004+)'] != 'Unknown/unstaged/unspecified/DCO']"
   ]
  },
  {
   "cell_type": "code",
   "execution_count": 210,
   "metadata": {},
   "outputs": [],
   "source": [
    "data2 = data2[(data2['SEER historic stage A (1973-2015)'] != 'Blank(s)') & (data2['SEER historic stage A (1973-2015)'] != 'Unstaged')]"
   ]
  },
  {
   "cell_type": "code",
   "execution_count": 211,
   "metadata": {},
   "outputs": [],
   "source": [
    "data2 = data2[data2['Derived AJCC Stage Group, 6th ed (2004-2015)'] != 'UNK Stage']"
   ]
  },
  {
   "cell_type": "code",
   "execution_count": 212,
   "metadata": {},
   "outputs": [],
   "source": [
    "data2 = data2[(data2['Derived AJCC T, 6th ed (2004-2015)'] != 'Blank(s)') & (data2['Derived AJCC T, 6th ed (2004-2015)'] != 'TX') & (data2['Derived AJCC T, 6th ed (2004-2015)'].notna())]"
   ]
  },
  {
   "cell_type": "code",
   "execution_count": 213,
   "metadata": {},
   "outputs": [],
   "source": [
    "data2 = data2[data2['Derived AJCC N, 6th ed (2004-2015)'] != 'NX']"
   ]
  },
  {
   "cell_type": "code",
   "execution_count": 214,
   "metadata": {},
   "outputs": [],
   "source": [
    "data2 = data2[data2['Derived AJCC M, 6th ed (2004-2015)'] != 'MX']"
   ]
  },
  {
   "cell_type": "code",
   "execution_count": 215,
   "metadata": {},
   "outputs": [],
   "source": [
    "data2 = data2[data2['RX Summ--Surg Prim Site (1998+)'] != 99]"
   ]
  },
  {
   "cell_type": "code",
   "execution_count": 216,
   "metadata": {},
   "outputs": [],
   "source": [
    "data2 = data2[(data2['RX Summ--Scope Reg LN Sur (2003+)'] != 'Number of regional lymph nodes removed unknown') & (data2['RX Summ--Scope Reg LN Sur (2003+)'] != 'Unknown or not applicable')]"
   ]
  },
  {
   "cell_type": "code",
   "execution_count": 217,
   "metadata": {},
   "outputs": [],
   "source": [
    "data2 = data2[(data2['RX Summ--Systemic/Sur Seq'] != 'Blank(s)') & (data2['RX Summ--Systemic/Sur Seq'] != 'Sequence unknown')]"
   ]
  },
  {
   "cell_type": "code",
   "execution_count": 218,
   "metadata": {},
   "outputs": [],
   "source": [
    "data2 = data2[(data2['Regional nodes examined (1988+)'] != 99) & (data2['Regional nodes examined (1988+)'] != 126)]"
   ]
  },
  {
   "cell_type": "code",
   "execution_count": 219,
   "metadata": {},
   "outputs": [],
   "source": [
    "data2 = data2[(data2['Regional nodes positive (1988+)'] != 99) & (data2['Regional nodes positive (1988+)'] != 126)]"
   ]
  },
  {
   "cell_type": "code",
   "execution_count": 220,
   "metadata": {},
   "outputs": [],
   "source": [
    "data2 = data2[(data2['CS tumor size (2004-2015)'] != '999') & (data2['CS tumor size (2004-2015)'] != '888') & (data2['CS tumor size (2004-2015)'] != '1022')] "
   ]
  },
  {
   "cell_type": "code",
   "execution_count": 221,
   "metadata": {},
   "outputs": [],
   "source": [
    "data2 = data2[data2['Survival months'] != 'Unknown']"
   ]
  },
  {
   "cell_type": "code",
   "execution_count": 222,
   "metadata": {},
   "outputs": [],
   "source": [
    "data2 = data2[data2['Total number of in situ/malignant tumors for patient'] != 'Unknown']"
   ]
  },
  {
   "cell_type": "code",
   "execution_count": 223,
   "metadata": {},
   "outputs": [],
   "source": [
    "data2 = data2[data2['Median household income inflation adj to 2018'] != 'Unknown/missing/no match/Not 1990-2017']"
   ]
  },
  {
   "cell_type": "markdown",
   "metadata": {},
   "source": [
    "data3.columns[24:27] same as data3.columns[11:14] ##CS staging vs TNM staging"
   ]
  },
  {
   "cell_type": "code",
   "execution_count": 224,
   "metadata": {},
   "outputs": [],
   "source": [
    "data2.drop(data2.iloc[:,24:27], axis = 1, inplace = True)"
   ]
  },
  {
   "cell_type": "markdown",
   "metadata": {},
   "source": [
    "Drop column 24 (SSF1 because most values are unknown or test not ordered, codes: 080, 988, 997 and 999) and 25 (SSF2 because similar to N staging, most values are 000 or 999 or 998 which correspond to unknown / useless values)"
   ]
  },
  {
   "cell_type": "code",
   "execution_count": 225,
   "metadata": {},
   "outputs": [
    {
     "data": {
      "text/plain": [
       "020         64886\n",
       "010         50351\n",
       "999         45950\n",
       "998         29185\n",
       "997          2139\n",
       "Blank(s)     1498\n",
       "030           641\n",
       "Name: CS site-specific factor 1 (2004+ varying by schema), dtype: int64"
      ]
     },
     "execution_count": 225,
     "metadata": {},
     "output_type": "execute_result"
    }
   ],
   "source": [
    "data2['CS site-specific factor 1 (2004+ varying by schema)'].value_counts()"
   ]
  },
  {
   "cell_type": "code",
   "execution_count": 226,
   "metadata": {},
   "outputs": [
    {
     "data": {
      "text/plain": [
       "000    127282\n",
       "999     25220\n",
       "988     17235\n",
       "400     10488\n",
       "100      5962\n",
       "010      2769\n",
       "200      2325\n",
       "020      1773\n",
       "110       951\n",
       "120       645\n",
       "Name: CS site-specific factor 2 (2004+ varying by schema), dtype: int64"
      ]
     },
     "execution_count": 226,
     "metadata": {},
     "output_type": "execute_result"
    }
   ],
   "source": [
    "data2['CS site-specific factor 2 (2004+ varying by schema)'].value_counts() "
   ]
  },
  {
   "cell_type": "code",
   "execution_count": 227,
   "metadata": {},
   "outputs": [],
   "source": [
    "data2.drop(data2.iloc[:,24:26], axis = 1, inplace = True)"
   ]
  },
  {
   "cell_type": "code",
   "execution_count": 228,
   "metadata": {},
   "outputs": [],
   "source": [
    "data2.drop(columns=['Reason no cancer-directed surgery'], axis = 1, inplace = True)"
   ]
  },
  {
   "cell_type": "code",
   "execution_count": 229,
   "metadata": {},
   "outputs": [],
   "source": [
    "data2.drop(columns=['Marital status at diagnosis'], axis = 1, inplace = True)"
   ]
  },
  {
   "cell_type": "code",
   "execution_count": 230,
   "metadata": {},
   "outputs": [],
   "source": [
    "data2.drop(columns=['Summary stage 2000 (1998+)'], axis = 1, inplace = True)"
   ]
  },
  {
   "cell_type": "code",
   "execution_count": 231,
   "metadata": {},
   "outputs": [],
   "source": [
    "data2.drop(columns=['SEER historic stage A (1973-2015)'], axis = 1, inplace = True)"
   ]
  },
  {
   "cell_type": "code",
   "execution_count": 232,
   "metadata": {},
   "outputs": [
    {
     "name": "stdout",
     "output_type": "stream",
     "text": [
      "['35-39 years' '65-69 years' '70-74 years' '40-44 years' '80-84 years'\n",
      " '85+ years' '60-64 years' '50-54 years' '55-59 years' '75-79 years'\n",
      " '45-49 years' '30-34 years' '25-29 years' '15-19 years' '20-24 years'\n",
      " '10-14 years' '05-09 years']\n",
      "['Female' 'Male']\n",
      "['Hispanic (All Races)' 'Non-Hispanic Asian or Pacific Islander'\n",
      " 'Non-Hispanic White' 'Non-Hispanic Black'\n",
      " 'Non-Hispanic American Indian/Alaska Native']\n",
      "['Rectosigmoid Junction' 'Rectum' 'Ascending Colon' 'Sigmoid Colon'\n",
      " 'Transverse Colon' 'Cecum' 'Hepatic Flexure' 'Descending Colon'\n",
      " 'Splenic Flexure' 'Appendix' 'Large Intestine, NOS']\n",
      "['Moderately differentiated; Grade II' 'Well differentiated; Grade I'\n",
      " 'Poorly differentiated; Grade III'\n",
      " 'Undifferentiated; anaplastic; Grade IV']\n",
      "['Not a paired  site' 'Right - origin of primary'\n",
      " 'Left - origin of primary'\n",
      " 'Paired site, but no information concerning laterality'\n",
      " 'Only one side - side unspecified' 'Bilateral, single primary']\n",
      "['Positive histology' 'Positive microscopic confirm, method not specified'\n",
      " 'Positive exfoliative cytology, no positive histology'\n",
      " 'Direct visualization without microscopic confirmation'\n",
      " 'Pos hist AND immunophenotyping AND/OR pos genetic studies'\n",
      " 'Radiography without microscopic confirm' 'Clinical diagnosis only']\n",
      "['Distant site(s)/node(s) involved'\n",
      " 'Regional by both direct extension and lymph node involvement'\n",
      " 'Regional lymph nodes involved only' 'Localized only'\n",
      " 'Regional by direct extension only']\n",
      "['IV' 'IIIB' 'IIIA' '0' 'I' 'IIA' 'IIIC' 'IIB']\n",
      "['T3' 'T1' 'Tis' 'T2' 'T4' 'T0']\n",
      "['N1' 'N0' 'N2']\n",
      "['M1' 'M0']\n",
      "[30  0 40 26 50 27 32 80 28 60 41 51 20 29 55 70 56 90 22 31 12 13 25 61\n",
      " 57 65 66 24 23 10 14]\n",
      "['4 or more regional lymph nodes removed' 'None'\n",
      " '1 to 3 regional lymph nodes removed'\n",
      " 'Sentinel node biopsy and lym nd removed same/unstated time'\n",
      " 'Sentinel node biopsy and lym nd removed different times'\n",
      " 'Biopsy or aspiration of regional lymph node, NOS'\n",
      " 'Sentinel lymph node biopsy']\n",
      "['Radiation after surgery' 'No radiation and/or cancer-directed surgery'\n",
      " 'Radiation prior to surgery' 'Radiation before and after surgery'\n",
      " 'Intraoperative rad with other rad before/after surgery'\n",
      " 'Sequence unknown, but both were given'\n",
      " 'Surgery both before and after radiation' 'Intraoperative radiation']\n",
      "['Beam radiation' 'None/Unknown'\n",
      " 'Radiation, NOS  method or source not specified' 'Radioisotopes (1988+)'\n",
      " 'Combination of beam with implants or isotopes'\n",
      " 'Radioactive implants (includes brachytherapy) (1988+)' 'Refused (1988+)'\n",
      " 'Recommended, unknown if administered']\n",
      "['Yes' 'No/Unknown']\n",
      "['Systemic therapy after surgery'\n",
      " 'No systemic therapy and/or surgical procedures'\n",
      " 'Intraoperative systemic therapy' 'Systemic therapy before surgery'\n",
      " 'Systemic therapy both before and after surgery'\n",
      " 'Surgery both before and after systemic therapy'\n",
      " 'Intraop systemic rx & oth systemic rx before/after surg']\n",
      "[ 8  0 10 13 23 12 34 20 14 17 18  3  5  6 16 44 30  7 15 24  9 27 32 58\n",
      " 25 48 22 26 19 21 36  4 38 11 69 35 43 39  1 31  2 33 28 40 29 98 41 37\n",
      " 51 47 53 73 50 45 42 56 46 97 55 61 64 82 78 90 52 49 57 62 71 65 79 95\n",
      " 68 67 66 59 54 74 60 70 72 80 63 84 89 96 76 86 81 88 75 85 87 77 83]\n",
      "[ 1 98  0  4  6  8  2 10  3 12 11  7  9 47 18  5 19 25 13 97 16 24 17 26\n",
      " 29 14 20 27 28 15 23 22 21 40 31 35 41 95 34 30 33 50 38 32 37 56 55 42\n",
      " 36 51 43 48 46 39 49 64 44 54 90 74 45 71 52 68 75 53 60 59 58 62]\n",
      "['035' '050' '015' '007' '049' '030' '120' '085' '060' '040' '053' '065'\n",
      " '003' '080' '032' '021' '045' '017' '031' '052' '059' '046' '095' '034'\n",
      " '075' '048' '005' '105' '020' '010' '083' '055' '070' '025' '140' '012'\n",
      " '104' '027' '002' '068' '037' '016' '033' '043' '006' '062' '089' '041'\n",
      " '125' '018' '042' '036' '073' '061' '044' '135' '004' '023' '026' '001'\n",
      " '077' '100' '039' '008' '082' '022' '024' '038' '028' '019' '078' '058'\n",
      " '110' '090' '064' '057' '991' '029' '109' '072' '086' '063' '014' '047'\n",
      " '067' '700' '130' '069' '115' '150' '054' '076' '000' '066' '013' '990'\n",
      " '056' '099' '079' '009' '051' '202' '088' '087' '071' '011' '074' '133'\n",
      " '093' '107' '097' '098' '145' '994' '993' '116' '081' '992' '200' '122'\n",
      " '190' '108' '230' '170' '114' '300' '137' '750' '160' '094' '102' '134'\n",
      " '112' '147' '084' '989' '119' '998' '500' '092' '180' '185' '148' '132'\n",
      " '127' '126' '096' '113' '194' '141' '165' '390' '091' '175' '124' '945'\n",
      " '450' '530' '800' '121' '995' '550' '210' '118' '153' '111' '146' '144'\n",
      " '106' '123' '143' '250' '830' '580' '225' '370' '223' '103' '117' '128'\n",
      " '101' '420' '400' '600' '139' '650' '510' '796' '222' '151' '966' '220'\n",
      " '660' '138' '176' '131' '505' '136' '155' '280' '320' '142' '270' '215'\n",
      " '900' '195' '310' '166' '330' '850' '340' '920' '350' '167' '161' '205'\n",
      " '157' '570' '988' '670' '129' '640' '240' '520' '183' '950' '269' '975'\n",
      " '303' '164' '637' '360' '935' '162' '163' '168' '156' '154' '172' '970'\n",
      " '770' '182' '152' '149' '193' '810' '211' '235' '430' '206' '440' '158'\n",
      " '470' '930' '204' '260' '333' '201' '380' '290' '480' '720' '560' '184'\n",
      " '295']\n",
      "['Alive' 'Dead']\n",
      "['0119' '0042' '0074' '0110' '0127' '0000' '0026' '0007' '0029' '0113'\n",
      " '0049' '0083' '0041' '0071' '0043' '0001' '0112' '0114' '0060' '0065'\n",
      " '0136' '0061' '0059' '0067' '0077' '0048' '0016' '0134' '0033' '0006'\n",
      " '0005' '0025' '0028' '0141' '0052' '0011' '0003' '0064' '0018' '0100'\n",
      " '0009' '0039' '0030' '0035' '0013' '0027' '0104' '0142' '0063' '0080'\n",
      " '0070' '0121' '0079' '0089' '0038' '0034' '0019' '0056' '0129' '0024'\n",
      " '0020' '0107' '0133' '0008' '0084' '0054' '0058' '0143' '0002' '0015'\n",
      " '0105' '0012' '0073' '0087' '0051' '0130' '0032' '0055' '0050' '0010'\n",
      " '0044' '0088' '0108' '0037' '0137' '0053' '0069' '0045' '0076' '0046'\n",
      " '0138' '0125' '0123' '0131' '0103' '0082' '0066' '0097' '0102' '0031'\n",
      " '0111' '0004' '0081' '0062' '0086' '0040' '0017' '0117' '0022' '0021'\n",
      " '0036' '0101' '0072' '0124' '0115' '0014' '0140' '0068' '0098' '0023'\n",
      " '0085' '0116' '0094' '0135' '0057' '0075' '0122' '0096' '0090' '0047'\n",
      " '0093' '0139' '0091' '0092' '0128' '0132' '0109' '0095' '0126' '0078'\n",
      " '0099' '0106' '0118' '0120' 33 31 15 32 6 0 20 26 12 11 18 34 7 28 30 24\n",
      " 39 23 35 25 9 1 2 36 16 29 4 22 17 45 38 42 27 40 8 19 37 13 21 5 14 44\n",
      " 46 41 10 43 3 47 58 125 54 90 52 51 57 74 59 124 122 48 99 49 73 67 84 50\n",
      " 98 66 87 94 63 61 91 76 115 114 56 102 69 75 83 71 79 100 135 68]\n",
      "['Yes' 'No']\n",
      "[2 3 4 5 6 1 7 '02' '03' '04' '01' '06' '05' 8 9 11 '07']\n",
      "[0 1 2 3]\n",
      "['$75,000+' '$65,000 - $69,999' '$70,000 - $74,999' '$60,000 - $64,999'\n",
      " '$55,000 - $59,999' '$40,000 - $44,999' '$45,000 - $49,999'\n",
      " '$50,000 - $54,999' '$35,000 - $39,999' '< $35,000']\n"
     ]
    }
   ],
   "source": [
    "for col in data2:\n",
    "    print(data2[col].unique())"
   ]
  },
  {
   "cell_type": "code",
   "execution_count": 233,
   "metadata": {},
   "outputs": [],
   "source": [
    "data2 = data2.reset_index(drop=True)"
   ]
  },
  {
   "cell_type": "markdown",
   "metadata": {},
   "source": [
    "## Cleaning up values"
   ]
  },
  {
   "cell_type": "code",
   "execution_count": 234,
   "metadata": {},
   "outputs": [
    {
     "name": "stdout",
     "output_type": "stream",
     "text": [
      "<class 'pandas.core.frame.DataFrame'>\n",
      "RangeIndex: 194650 entries, 0 to 194649\n",
      "Data columns (total 27 columns):\n",
      " #   Column                                                      Non-Null Count   Dtype \n",
      "---  ------                                                      --------------   ----- \n",
      " 0   Age recode with <1 year olds                                194650 non-null  object\n",
      " 1   Sex                                                         194650 non-null  object\n",
      " 2   Race and origin recode (NHW, NHB, NHAIAN, NHAPI, Hispanic)  194650 non-null  object\n",
      " 3   Site recode ICD-O-3/WHO 2008                                194650 non-null  object\n",
      " 4   Grade                                                       194650 non-null  object\n",
      " 5   Laterality                                                  194650 non-null  object\n",
      " 6   Diagnostic Confirmation                                     194650 non-null  object\n",
      " 7   SEER Combined Summary Stage 2000 (2004+)                    194650 non-null  object\n",
      " 8   Derived AJCC Stage Group, 6th ed (2004-2015)                194650 non-null  object\n",
      " 9   Derived AJCC T, 6th ed (2004-2015)                          194650 non-null  object\n",
      " 10  Derived AJCC N, 6th ed (2004-2015)                          194650 non-null  object\n",
      " 11  Derived AJCC M, 6th ed (2004-2015)                          194650 non-null  object\n",
      " 12  RX Summ--Surg Prim Site (1998+)                             194650 non-null  int64 \n",
      " 13  RX Summ--Scope Reg LN Sur (2003+)                           194650 non-null  object\n",
      " 14  RX Summ--Surg/Rad Seq                                       194650 non-null  object\n",
      " 15  Radiation recode                                            194650 non-null  object\n",
      " 16  Chemotherapy recode (yes, no/unk)                           194650 non-null  object\n",
      " 17  RX Summ--Systemic/Sur Seq                                   194650 non-null  object\n",
      " 18  Regional nodes examined (1988+)                             194650 non-null  int64 \n",
      " 19  Regional nodes positive (1988+)                             194650 non-null  int64 \n",
      " 20  CS tumor size (2004-2015)                                   194650 non-null  object\n",
      " 21  SEER cause-specific death classification                    194650 non-null  object\n",
      " 22  Survival months                                             194650 non-null  object\n",
      " 23  Primary by international rules                              194650 non-null  object\n",
      " 24  Total number of in situ/malignant tumors for patient        194650 non-null  object\n",
      " 25  Total number of benign/borderline tumors for patient        194650 non-null  int64 \n",
      " 26  Median household income inflation adj to 2018               194650 non-null  object\n",
      "dtypes: int64(4), object(23)\n",
      "memory usage: 40.1+ MB\n"
     ]
    }
   ],
   "source": [
    "data2.info()"
   ]
  },
  {
   "cell_type": "code",
   "execution_count": 235,
   "metadata": {},
   "outputs": [],
   "source": [
    "data2['CS tumor size (2004-2015)']=data2['CS tumor size (2004-2015)'].astype(int)"
   ]
  },
  {
   "cell_type": "code",
   "execution_count": 236,
   "metadata": {},
   "outputs": [],
   "source": [
    "data2['Survival months']=data2['Survival months'].astype(int)"
   ]
  },
  {
   "cell_type": "code",
   "execution_count": 237,
   "metadata": {},
   "outputs": [],
   "source": [
    "data2['Total number of in situ/malignant tumors for patient']=data2['Total number of in situ/malignant tumors for patient'].astype(int)"
   ]
  },
  {
   "cell_type": "code",
   "execution_count": 238,
   "metadata": {},
   "outputs": [],
   "source": [
    "column_indices = [0, 2, 3, 7, 8, 9, 10, 11, 12, 13, 14, 15, 16, 17, 18, 19, 20, 21, 24, 25, 26]\n",
    "new_names = ['Age', 'Race', 'Site', 'Combined Summary Stage 2000', 'Derived AJCC Stage Group', 'Derived AJCC T', 'Derived AJCC N', 'Derived AJCC M', 'Surg Prim Site', 'Scope Reg Lymph Node Surg', 'Surg/Rad Seq', 'Radiation', 'Chemotherapy', 'Systemic/Sur Seq', 'Regional nodes examined', 'Regional nodes positive', 'Tumor Size', 'Alive/Dead', 'Num of in situ/malignant tumors', 'Num of benign/borderline tumors', 'Median household income']\n",
    "old_names = data2.columns[column_indices]\n",
    "data2.rename(columns=dict(zip(old_names, new_names)), inplace=True)"
   ]
  },
  {
   "cell_type": "code",
   "execution_count": 239,
   "metadata": {},
   "outputs": [],
   "source": [
    "data2['Grade'] = data2['Grade'].replace(['Moderately differentiated; Grade II','Well differentiated; Grade I','Poorly differentiated; Grade III','Undifferentiated; anaplastic; Grade IV'],['Grade II: Moderately differentiated','Grade I: Well differentiated','Grade III: Poorly differentiated','Grade IV: Undifferentiated; anaplastic'])"
   ]
  },
  {
   "cell_type": "code",
   "execution_count": 240,
   "metadata": {},
   "outputs": [],
   "source": [
    "data2['Median household income'] = data2['Median household income'].replace(['< $35,000'],'$0 - $34,999')"
   ]
  },
  {
   "cell_type": "code",
   "execution_count": 241,
   "metadata": {},
   "outputs": [],
   "source": [
    "data2['Radiation'] = data2['Radiation'].replace(['None/Unknown'],'No')"
   ]
  },
  {
   "cell_type": "code",
   "execution_count": 242,
   "metadata": {},
   "outputs": [],
   "source": [
    "data2['Chemotherapy'] = data2['Chemotherapy'].replace(['No/Unknown'],'No')"
   ]
  },
  {
   "cell_type": "markdown",
   "metadata": {},
   "source": [
    "# Binning"
   ]
  },
  {
   "cell_type": "markdown",
   "metadata": {},
   "source": [
    "### Creating bins for survival months, if survived 24 months, considered 24-35 group (i.e. 2 years +)"
   ]
  },
  {
   "cell_type": "code",
   "execution_count": 243,
   "metadata": {
    "scrolled": true
   },
   "outputs": [
    {
     "data": {
      "text/plain": [
       ">=60     79727\n",
       "24-59    73058\n",
       "0-23     41865\n",
       "Name: Survival months, dtype: int64"
      ]
     },
     "execution_count": 243,
     "metadata": {},
     "output_type": "execute_result"
    }
   ],
   "source": [
    "degrees = [\"0-23\", \"24-59\", \">=60\"]\n",
    "column = data2['Survival months']\n",
    "\n",
    "data2['Survival months'] = pd.cut(column, [-1, 23, 59, np.inf], labels=degrees)\n",
    "pd.value_counts(data2['Survival months'])"
   ]
  },
  {
   "cell_type": "markdown",
   "metadata": {},
   "source": [
    "### Creating bins for tumor size"
   ]
  },
  {
   "cell_type": "markdown",
   "metadata": {},
   "source": [
    "000: No mass/tumor found  \n",
    "001-988: 001 - 988 millimeters (Exact size in mm)  \n",
    "989: 989 mm or larger  \n",
    "990: Microscopic focus or foci only, no size of focus given  \n",
    "991: Described as \"less than 1 cm\"  \n",
    "992: Described as \"less than 2 cm,\" or \"greater than 1 cm,\" or \"between 1 cm and 2 cm\"  \n",
    "993: Described as \"less than 3 cm,\" or \"greater than 2 cm,\" or \"between 2 cm and 3 cm\"  \n",
    "994: Described as \"less than 4 cm,\" or \"greater than 3 cm,\" or \"between 3 cm and 4 cm\"  \n",
    "995: Described as \"less than 5 cm,\" or \"greater than 4 cm,\" or \"between 4 cm and 5 cm\"  \n",
    "998: Familial/multiple polyposis (M-8220/8221)  \n",
    "https://staging.seer.cancer.gov/cs/input/02.05.50/colon/size/?breadcrumbs=(~schema_list~),(~view_schema~,~colon~)"
   ]
  },
  {
   "cell_type": "code",
   "execution_count": 244,
   "metadata": {},
   "outputs": [],
   "source": [
    "data3 = data2.loc[(data2['Tumor Size'] >= 1) & (data2['Tumor Size'] <= 988)].copy()"
   ]
  },
  {
   "cell_type": "code",
   "execution_count": 245,
   "metadata": {},
   "outputs": [],
   "source": [
    "data4 = data2.loc[(data2['Tumor Size'] == 0) | (data2['Tumor Size'] == 989) | (data2['Tumor Size'] == 990) | (data2['Tumor Size'] == 991) | (data2['Tumor Size'] == 992) | (data2['Tumor Size'] == 993) | (data2['Tumor Size'] == 994) | (data2['Tumor Size'] == 995) | (data2['Tumor Size'] == 998)].copy()"
   ]
  },
  {
   "cell_type": "code",
   "execution_count": 246,
   "metadata": {
    "scrolled": true
   },
   "outputs": [
    {
     "data": {
      "text/plain": [
       "1607"
      ]
     },
     "execution_count": 246,
     "metadata": {},
     "output_type": "execute_result"
    }
   ],
   "source": [
    "data4[\"Tumor Size\"].value_counts().sum()"
   ]
  },
  {
   "cell_type": "code",
   "execution_count": 247,
   "metadata": {
    "scrolled": true
   },
   "outputs": [
    {
     "data": {
      "text/plain": [
       "193043"
      ]
     },
     "execution_count": 247,
     "metadata": {},
     "output_type": "execute_result"
    }
   ],
   "source": [
    "data3[\"Tumor Size\"].count()"
   ]
  },
  {
   "cell_type": "code",
   "execution_count": 248,
   "metadata": {
    "scrolled": true
   },
   "outputs": [
    {
     "data": {
      "text/plain": [
       "40-49      33242\n",
       "30-39      33067\n",
       "50-59      27083\n",
       "20-29      24568\n",
       "60-69      18250\n",
       "10-19      14719\n",
       "70-79      11930\n",
       "1-9         9084\n",
       "80-89       8110\n",
       "100-149     7362\n",
       "90-99       4560\n",
       "150-199      689\n",
       "200-299      157\n",
       "300-399       55\n",
       "500-599       41\n",
       "400-499       33\n",
       "900-989       29\n",
       "800-899       24\n",
       "700-799       21\n",
       "600-699       19\n",
       "Name: Tumor Size, dtype: int64"
      ]
     },
     "execution_count": 248,
     "metadata": {},
     "output_type": "execute_result"
    }
   ],
   "source": [
    "t_degrees = [\"1-9\", \"10-19\", \"20-29\", \"30-39\", \"40-49\", \"50-59\", \"60-69\", \"70-79\", \"80-89\", \"90-99\", \"100-149\", \"150-199\", \"200-299\", \"300-399\", \"400-499\", \"500-599\", \"600-699\", \"700-799\", \"800-899\", \"900-989\"]\n",
    "column = data3['Tumor Size']\n",
    "\n",
    "data3['Tumor Size'] = pd.cut(column, [0, 9, 19, 29, 39, 49, 59, 69, 79, 89, 99, 149, 199, 299, 399, 499, 599, 699, 799, 899, 989], labels=t_degrees)\n",
    "pd.value_counts(data3['Tumor Size'])"
   ]
  },
  {
   "cell_type": "code",
   "execution_count": 249,
   "metadata": {},
   "outputs": [],
   "source": [
    "level_map={0: '0', 990: \"Foci only\", 991: '1-9', 992: '10-19', 993: '20-29', 994: '30-39', 995: '40-49', 989: '989+', 998: \"multiple polyposis\"}\n",
    "data4['Tumor Size']=data4['Tumor Size'].replace(level_map)"
   ]
  },
  {
   "cell_type": "code",
   "execution_count": 250,
   "metadata": {},
   "outputs": [],
   "source": [
    "data2 = pd.concat([data3, data4])"
   ]
  },
  {
   "cell_type": "markdown",
   "metadata": {},
   "source": [
    "## Explore values using barplot, histograms, boxplot and value counts"
   ]
  },
  {
   "cell_type": "code",
   "execution_count": 251,
   "metadata": {},
   "outputs": [],
   "source": [
    "import matplotlib.pyplot as plt\n",
    "import seaborn as sns"
   ]
  },
  {
   "cell_type": "code",
   "execution_count": 252,
   "metadata": {},
   "outputs": [
    {
     "data": {
      "text/plain": [
       "Alive    127015\n",
       "Dead      67635\n",
       "Name: Alive/Dead, dtype: int64"
      ]
     },
     "execution_count": 252,
     "metadata": {},
     "output_type": "execute_result"
    }
   ],
   "source": [
    "data2[\"Alive/Dead\"].value_counts()"
   ]
  },
  {
   "cell_type": "code",
   "execution_count": 253,
   "metadata": {},
   "outputs": [
    {
     "data": {
      "text/plain": [
       "<seaborn.axisgrid.FacetGrid at 0x207e9507dc0>"
      ]
     },
     "execution_count": 253,
     "metadata": {},
     "output_type": "execute_result"
    },
    {
     "data": {
      "image/png": "[encoded data removed]",
      "text/plain": [
       "<Figure size 1080x360 with 1 Axes>"
      ]
     },
     "metadata": {},
     "output_type": "display_data"
    }
   ],
   "source": [
    "sns.catplot(y=\"Survival months\", kind=\"count\", aspect= 3, order=sorted(data2['Survival months'].unique()), palette=\"ch:s=.25, rot=-.25\", data=data2)"
   ]
  },
  {
   "cell_type": "code",
   "execution_count": 254,
   "metadata": {},
   "outputs": [
    {
     "data": {
      "text/plain": [
       "<seaborn.axisgrid.FacetGrid at 0x20802049d90>"
      ]
     },
     "execution_count": 254,
     "metadata": {},
     "output_type": "execute_result"
    },
    {
     "data": {
      "image/png": "[encoded data removed]",
      "text/plain": [
       "<Figure size 1080x360 with 1 Axes>"
      ]
     },
     "metadata": {},
     "output_type": "display_data"
    }
   ],
   "source": [
    "sns.catplot(y=\"Age\", kind=\"count\", aspect = 3, order=sorted(data2.Age.unique()), palette=\"ch:.25\", data=data2)"
   ]
  },
  {
   "cell_type": "code",
   "execution_count": 255,
   "metadata": {},
   "outputs": [
    {
     "data": {
      "text/plain": [
       "Non-Hispanic White                            133723\n",
       "Non-Hispanic Black                             22834\n",
       "Hispanic (All Races)                           20736\n",
       "Non-Hispanic Asian or Pacific Islander         16015\n",
       "Non-Hispanic American Indian/Alaska Native      1342\n",
       "Name: Race, dtype: int64"
      ]
     },
     "execution_count": 255,
     "metadata": {},
     "output_type": "execute_result"
    },
    {
     "data": {
      "image/png": "[encoded data removed]",
      "text/plain": [
       "<Figure size 900x360 with 1 Axes>"
      ]
     },
     "metadata": {},
     "output_type": "display_data"
    }
   ],
   "source": [
    "sns.catplot(x=\"Race\", kind=\"count\", aspect=2.5, data=data2)\n",
    "data2[\"Race\"].value_counts()"
   ]
  },
  {
   "cell_type": "code",
   "execution_count": 256,
   "metadata": {},
   "outputs": [
    {
     "data": {
      "image/png": "[encoded data removed]",
      "text/plain": [
       "<Figure size 1080x576 with 1 Axes>"
      ]
     },
     "metadata": {},
     "output_type": "display_data"
    }
   ],
   "source": [
    "plt.figure(figsize=(15,8))\n",
    "graph = sns.countplot(x=\"Tumor Size\", palette = 'pastel', data=data2, order=['0','Foci only','1-9','10-19','20-29','30-39','40-49','50-59','60-69','70-79','80-89','90-99','100-149','150-199','200-299','300-399','400-499','500-599','600-699','700-799','800-899','900-989','989+','multiple polyposis'])\n",
    "graph.set_xticklabels(graph.get_xticklabels(),rotation=90)\n",
    "i=0\n",
    "for p in graph.patches:\n",
    "    height = p.get_height()\n",
    "    graph.text(p.get_x()+p.get_width()/2., height + 0.1,\n",
    "        data2['Tumor Size'].value_counts()[i],ha=\"center\")\n",
    "    i += 1\n",
    "plt.show()"
   ]
  },
  {
   "cell_type": "code",
   "execution_count": 257,
   "metadata": {},
   "outputs": [
    {
     "data": {
      "text/plain": [
       "<seaborn.axisgrid.FacetGrid at 0x207ffead790>"
      ]
     },
     "execution_count": 257,
     "metadata": {},
     "output_type": "execute_result"
    },
    {
     "data": {
      "image/png": "[encoded data removed]",
      "text/plain": [
       "<Figure size 900x360 with 1 Axes>"
      ]
     },
     "metadata": {},
     "output_type": "display_data"
    }
   ],
   "source": [
    "sns.catplot(x=\"Survival months\", kind=\"count\", aspect=2.5, data=data2)"
   ]
  },
  {
   "cell_type": "markdown",
   "metadata": {},
   "source": [
    "# Apriori"
   ]
  },
  {
   "cell_type": "markdown",
   "metadata": {},
   "source": [
    "import matplotlib.pyplot as plt\n",
    "!pip install apyori\n",
    "from apyori import apriori"
   ]
  },
  {
   "cell_type": "markdown",
   "metadata": {},
   "source": [
    "records = []\n",
    "for i in range(0, 500):\n",
    "    records.append([str(data2.values[i,j]) for j in range(0, 5)])"
   ]
  },
  {
   "cell_type": "markdown",
   "metadata": {},
   "source": [
    "association_rules = apriori(records, min_support=0.05, min_confidence=0.5, min_lift=1)\n",
    "association_results = list(association_rules)"
   ]
  },
  {
   "cell_type": "markdown",
   "metadata": {},
   "source": [
    "association_results"
   ]
  },
  {
   "cell_type": "markdown",
   "metadata": {},
   "source": [
    "## Encode ordinal and nominal categorical data"
   ]
  },
  {
   "cell_type": "markdown",
   "metadata": {},
   "source": [
    "### Ordinal"
   ]
  },
  {
   "cell_type": "code",
   "execution_count": 258,
   "metadata": {},
   "outputs": [
    {
     "name": "stdout",
     "output_type": "stream",
     "text": [
      "['35-39 years' '65-69 years' '70-74 years' '40-44 years' '80-84 years'\n",
      " '85+ years' '60-64 years' '50-54 years' '55-59 years' '75-79 years'\n",
      " '45-49 years' '30-34 years' '25-29 years' '15-19 years' '20-24 years'\n",
      " '10-14 years' '05-09 years']\n",
      "['Female' 'Male']\n",
      "['Hispanic (All Races)' 'Non-Hispanic Asian or Pacific Islander'\n",
      " 'Non-Hispanic White' 'Non-Hispanic Black'\n",
      " 'Non-Hispanic American Indian/Alaska Native']\n",
      "['Rectosigmoid Junction' 'Rectum' 'Ascending Colon' 'Sigmoid Colon'\n",
      " 'Transverse Colon' 'Cecum' 'Hepatic Flexure' 'Descending Colon'\n",
      " 'Splenic Flexure' 'Appendix' 'Large Intestine, NOS']\n",
      "['Grade II: Moderately differentiated' 'Grade I: Well differentiated'\n",
      " 'Grade III: Poorly differentiated'\n",
      " 'Grade IV: Undifferentiated; anaplastic']\n",
      "['Not a paired  site' 'Right - origin of primary'\n",
      " 'Left - origin of primary'\n",
      " 'Paired site, but no information concerning laterality'\n",
      " 'Only one side - side unspecified' 'Bilateral, single primary']\n",
      "['Positive histology' 'Positive microscopic confirm, method not specified'\n",
      " 'Positive exfoliative cytology, no positive histology'\n",
      " 'Direct visualization without microscopic confirmation'\n",
      " 'Pos hist AND immunophenotyping AND/OR pos genetic studies'\n",
      " 'Radiography without microscopic confirm' 'Clinical diagnosis only']\n",
      "['Distant site(s)/node(s) involved'\n",
      " 'Regional by both direct extension and lymph node involvement'\n",
      " 'Regional lymph nodes involved only' 'Localized only'\n",
      " 'Regional by direct extension only']\n",
      "['IV' 'IIIB' 'IIIA' '0' 'I' 'IIA' 'IIIC' 'IIB']\n",
      "['T3' 'T1' 'Tis' 'T2' 'T4' 'T0']\n",
      "['N1' 'N0' 'N2']\n",
      "['M1' 'M0']\n",
      "[30  0 40 26 50 27 32 80 28 60 41 51 20 29 55 70 56 90 22 31 12 13 25 61\n",
      " 57 65 66 24 23 10 14]\n",
      "['4 or more regional lymph nodes removed' 'None'\n",
      " '1 to 3 regional lymph nodes removed'\n",
      " 'Sentinel node biopsy and lym nd removed same/unstated time'\n",
      " 'Sentinel node biopsy and lym nd removed different times'\n",
      " 'Biopsy or aspiration of regional lymph node, NOS'\n",
      " 'Sentinel lymph node biopsy']\n",
      "['Radiation after surgery' 'No radiation and/or cancer-directed surgery'\n",
      " 'Radiation prior to surgery' 'Radiation before and after surgery'\n",
      " 'Intraoperative rad with other rad before/after surgery'\n",
      " 'Sequence unknown, but both were given'\n",
      " 'Surgery both before and after radiation' 'Intraoperative radiation']\n",
      "['Beam radiation' 'No' 'Radiation, NOS  method or source not specified'\n",
      " 'Radioisotopes (1988+)' 'Combination of beam with implants or isotopes'\n",
      " 'Radioactive implants (includes brachytherapy) (1988+)' 'Refused (1988+)'\n",
      " 'Recommended, unknown if administered']\n",
      "['Yes' 'No']\n",
      "['Systemic therapy after surgery'\n",
      " 'No systemic therapy and/or surgical procedures'\n",
      " 'Intraoperative systemic therapy' 'Systemic therapy before surgery'\n",
      " 'Systemic therapy both before and after surgery'\n",
      " 'Surgery both before and after systemic therapy'\n",
      " 'Intraop systemic rx & oth systemic rx before/after surg']\n",
      "[ 8  0 10 13 23 12 34 20 14 17 18  3  5  6 16 44 30  7 15 24  9 27 32 58\n",
      " 25 48 22 26 19 21 36  4 38 11 69 35 43 39  1 31  2 33 28 40 29 98 41 37\n",
      " 51 47 53 73 50 45 42 56 46 97 55 61 64 82 90 52 49 57 62 71 65 79 78 95\n",
      " 68 67 66 59 54 74 60 70 72 80 63 84 89 96 76 86 81 85 87 77 75 83 88]\n",
      "[ 1 98  0  4  6  8  2 10  3 12 11  7  9 47 18  5 19 25 13 97 16 24 17 26\n",
      " 29 14 20 27 28 15 23 22 21 40 31 35 41 95 34 30 33 50 38 32 37 56 55 42\n",
      " 36 51 43 48 46 39 49 64 44 54 90 74 45 71 52 68 75 53 60 59 58 62]\n",
      "['30-39' '50-59' '10-19' '1-9' '40-49' '100-149' '80-89' '60-69' '20-29'\n",
      " '90-99' '70-79' '700-799' '150-199' '200-299' '300-399' '500-599'\n",
      " '900-989' '400-499' '800-899' '600-699' '0' 'Foci only' '989+'\n",
      " 'multiple polyposis']\n",
      "['Alive' 'Dead']\n",
      "['>=60', '24-59', '0-23']\n",
      "Categories (3, object): ['0-23' < '24-59' < '>=60']\n",
      "['Yes' 'No']\n",
      "[ 2  3  4  5  6  1  7  8  9 11]\n",
      "[0 1 2 3]\n",
      "['$75,000+' '$65,000 - $69,999' '$70,000 - $74,999' '$60,000 - $64,999'\n",
      " '$55,000 - $59,999' '$40,000 - $44,999' '$45,000 - $49,999'\n",
      " '$50,000 - $54,999' '$35,000 - $39,999' '$0 - $34,999']\n"
     ]
    }
   ],
   "source": [
    "for col in data2:\n",
    "    print(data2[col].unique())"
   ]
  },
  {
   "cell_type": "markdown",
   "metadata": {},
   "source": [
    "Split data into ordinal, nominal or continuous categories"
   ]
  },
  {
   "cell_type": "code",
   "execution_count": 259,
   "metadata": {},
   "outputs": [],
   "source": [
    "from sklearn.preprocessing import OrdinalEncoder"
   ]
  },
  {
   "cell_type": "code",
   "execution_count": 260,
   "metadata": {},
   "outputs": [],
   "source": [
    "l_m = {'0':0,'Foci only':1, '1-9':2, '10-19':3, '20-29':4, '30-39':5,'40-49':6,'50-59':7,'60-69':8, '70-79':9 , '80-89':10, '90-99':11, '100-149':12, '150-199':13, '200-299':14, '300-399':15, '400-499':16, '500-599':17, '600-699':18, '700-799': 19, '800-899':20, '900-989':21, '989+':22,  'multiple polyposis':23}\n",
    "data2['Tumor Size']=data2['Tumor Size'].replace(l_m)"
   ]
  },
  {
   "cell_type": "code",
   "execution_count": 261,
   "metadata": {},
   "outputs": [],
   "source": [
    "level_mapping={'T0':0, 'Tis':1, 'T1':2, 'T2':3, 'T3':4, 'T4':5}\n",
    "data2['Derived AJCC T']=data2['Derived AJCC T'].replace(level_mapping)"
   ]
  },
  {
   "cell_type": "code",
   "execution_count": 262,
   "metadata": {},
   "outputs": [],
   "source": [
    "enc = OrdinalEncoder()\n",
    "enc.fit(data2[[\"Age\", \"Grade\", \"Derived AJCC Stage Group\", \"Derived AJCC M\", \"Derived AJCC N\", \"Median household income\", \"Survival months\"]])\n",
    "data2[[\"Age\", \"Grade\", \"Derived AJCC Stage Group\", \"Derived AJCC M\", \"Derived AJCC N\", \"Median household income\", \"Survival months\"]] = enc.transform(data2[[\"Age\", \"Grade\", \"Derived AJCC Stage Group\", \"Derived AJCC M\", \"Derived AJCC N\", \"Median household income\", \"Survival months\"]]).astype(int)"
   ]
  },
  {
   "cell_type": "code",
   "execution_count": 263,
   "metadata": {},
   "outputs": [
    {
     "data": {
      "text/html": [
       "<div>\n",
       "<style scoped>\n",
       "    .dataframe tbody tr th:only-of-type {\n",
       "        vertical-align: middle;\n",
       "    }\n",
       "\n",
       "    .dataframe tbody tr th {\n",
       "        vertical-align: top;\n",
       "    }\n",
       "\n",
       "    .dataframe thead th {\n",
       "        text-align: right;\n",
       "    }\n",
       "</style>\n",
       "<table border=\"1\" class=\"dataframe\">\n",
       "  <thead>\n",
       "    <tr style=\"text-align: right;\">\n",
       "      <th></th>\n",
       "      <th>Age</th>\n",
       "      <th>Grade</th>\n",
       "      <th>Derived AJCC Stage Group</th>\n",
       "      <th>Derived AJCC T</th>\n",
       "      <th>Derived AJCC M</th>\n",
       "      <th>Derived AJCC N</th>\n",
       "      <th>Median household income</th>\n",
       "      <th>Survival months</th>\n",
       "      <th>Tumor Size</th>\n",
       "    </tr>\n",
       "  </thead>\n",
       "  <tbody>\n",
       "    <tr>\n",
       "      <th>0</th>\n",
       "      <td>6</td>\n",
       "      <td>1</td>\n",
       "      <td>7</td>\n",
       "      <td>4</td>\n",
       "      <td>1</td>\n",
       "      <td>1</td>\n",
       "      <td>9</td>\n",
       "      <td>2</td>\n",
       "      <td>5</td>\n",
       "    </tr>\n",
       "    <tr>\n",
       "      <th>1</th>\n",
       "      <td>12</td>\n",
       "      <td>1</td>\n",
       "      <td>5</td>\n",
       "      <td>4</td>\n",
       "      <td>0</td>\n",
       "      <td>1</td>\n",
       "      <td>9</td>\n",
       "      <td>1</td>\n",
       "      <td>7</td>\n",
       "    </tr>\n",
       "    <tr>\n",
       "      <th>2</th>\n",
       "      <td>13</td>\n",
       "      <td>1</td>\n",
       "      <td>4</td>\n",
       "      <td>2</td>\n",
       "      <td>0</td>\n",
       "      <td>1</td>\n",
       "      <td>9</td>\n",
       "      <td>2</td>\n",
       "      <td>3</td>\n",
       "    </tr>\n",
       "    <tr>\n",
       "      <th>3</th>\n",
       "      <td>12</td>\n",
       "      <td>0</td>\n",
       "      <td>0</td>\n",
       "      <td>1</td>\n",
       "      <td>0</td>\n",
       "      <td>0</td>\n",
       "      <td>9</td>\n",
       "      <td>2</td>\n",
       "      <td>2</td>\n",
       "    </tr>\n",
       "    <tr>\n",
       "      <th>4</th>\n",
       "      <td>7</td>\n",
       "      <td>1</td>\n",
       "      <td>1</td>\n",
       "      <td>3</td>\n",
       "      <td>0</td>\n",
       "      <td>0</td>\n",
       "      <td>9</td>\n",
       "      <td>2</td>\n",
       "      <td>5</td>\n",
       "    </tr>\n",
       "    <tr>\n",
       "      <th>5</th>\n",
       "      <td>15</td>\n",
       "      <td>1</td>\n",
       "      <td>1</td>\n",
       "      <td>3</td>\n",
       "      <td>0</td>\n",
       "      <td>0</td>\n",
       "      <td>9</td>\n",
       "      <td>0</td>\n",
       "      <td>6</td>\n",
       "    </tr>\n",
       "    <tr>\n",
       "      <th>6</th>\n",
       "      <td>16</td>\n",
       "      <td>1</td>\n",
       "      <td>2</td>\n",
       "      <td>4</td>\n",
       "      <td>0</td>\n",
       "      <td>0</td>\n",
       "      <td>9</td>\n",
       "      <td>1</td>\n",
       "      <td>5</td>\n",
       "    </tr>\n",
       "    <tr>\n",
       "      <th>7</th>\n",
       "      <td>16</td>\n",
       "      <td>1</td>\n",
       "      <td>5</td>\n",
       "      <td>4</td>\n",
       "      <td>0</td>\n",
       "      <td>1</td>\n",
       "      <td>9</td>\n",
       "      <td>0</td>\n",
       "      <td>12</td>\n",
       "    </tr>\n",
       "    <tr>\n",
       "      <th>8</th>\n",
       "      <td>11</td>\n",
       "      <td>1</td>\n",
       "      <td>7</td>\n",
       "      <td>4</td>\n",
       "      <td>1</td>\n",
       "      <td>0</td>\n",
       "      <td>9</td>\n",
       "      <td>1</td>\n",
       "      <td>10</td>\n",
       "    </tr>\n",
       "    <tr>\n",
       "      <th>9</th>\n",
       "      <td>13</td>\n",
       "      <td>1</td>\n",
       "      <td>2</td>\n",
       "      <td>4</td>\n",
       "      <td>0</td>\n",
       "      <td>0</td>\n",
       "      <td>9</td>\n",
       "      <td>2</td>\n",
       "      <td>5</td>\n",
       "    </tr>\n",
       "    <tr>\n",
       "      <th>10</th>\n",
       "      <td>15</td>\n",
       "      <td>2</td>\n",
       "      <td>7</td>\n",
       "      <td>5</td>\n",
       "      <td>1</td>\n",
       "      <td>2</td>\n",
       "      <td>9</td>\n",
       "      <td>0</td>\n",
       "      <td>8</td>\n",
       "    </tr>\n",
       "    <tr>\n",
       "      <th>11</th>\n",
       "      <td>12</td>\n",
       "      <td>1</td>\n",
       "      <td>2</td>\n",
       "      <td>4</td>\n",
       "      <td>0</td>\n",
       "      <td>0</td>\n",
       "      <td>9</td>\n",
       "      <td>1</td>\n",
       "      <td>6</td>\n",
       "    </tr>\n",
       "    <tr>\n",
       "      <th>12</th>\n",
       "      <td>16</td>\n",
       "      <td>0</td>\n",
       "      <td>2</td>\n",
       "      <td>4</td>\n",
       "      <td>0</td>\n",
       "      <td>0</td>\n",
       "      <td>9</td>\n",
       "      <td>2</td>\n",
       "      <td>7</td>\n",
       "    </tr>\n",
       "    <tr>\n",
       "      <th>13</th>\n",
       "      <td>16</td>\n",
       "      <td>2</td>\n",
       "      <td>2</td>\n",
       "      <td>4</td>\n",
       "      <td>0</td>\n",
       "      <td>0</td>\n",
       "      <td>9</td>\n",
       "      <td>1</td>\n",
       "      <td>8</td>\n",
       "    </tr>\n",
       "    <tr>\n",
       "      <th>14</th>\n",
       "      <td>11</td>\n",
       "      <td>1</td>\n",
       "      <td>6</td>\n",
       "      <td>4</td>\n",
       "      <td>0</td>\n",
       "      <td>2</td>\n",
       "      <td>9</td>\n",
       "      <td>2</td>\n",
       "      <td>7</td>\n",
       "    </tr>\n",
       "    <tr>\n",
       "      <th>15</th>\n",
       "      <td>15</td>\n",
       "      <td>1</td>\n",
       "      <td>1</td>\n",
       "      <td>2</td>\n",
       "      <td>0</td>\n",
       "      <td>0</td>\n",
       "      <td>9</td>\n",
       "      <td>1</td>\n",
       "      <td>2</td>\n",
       "    </tr>\n",
       "    <tr>\n",
       "      <th>16</th>\n",
       "      <td>16</td>\n",
       "      <td>2</td>\n",
       "      <td>5</td>\n",
       "      <td>5</td>\n",
       "      <td>0</td>\n",
       "      <td>1</td>\n",
       "      <td>9</td>\n",
       "      <td>0</td>\n",
       "      <td>10</td>\n",
       "    </tr>\n",
       "    <tr>\n",
       "      <th>17</th>\n",
       "      <td>13</td>\n",
       "      <td>2</td>\n",
       "      <td>1</td>\n",
       "      <td>3</td>\n",
       "      <td>0</td>\n",
       "      <td>0</td>\n",
       "      <td>9</td>\n",
       "      <td>2</td>\n",
       "      <td>5</td>\n",
       "    </tr>\n",
       "    <tr>\n",
       "      <th>18</th>\n",
       "      <td>11</td>\n",
       "      <td>1</td>\n",
       "      <td>2</td>\n",
       "      <td>4</td>\n",
       "      <td>0</td>\n",
       "      <td>0</td>\n",
       "      <td>9</td>\n",
       "      <td>2</td>\n",
       "      <td>5</td>\n",
       "    </tr>\n",
       "    <tr>\n",
       "      <th>19</th>\n",
       "      <td>15</td>\n",
       "      <td>1</td>\n",
       "      <td>2</td>\n",
       "      <td>4</td>\n",
       "      <td>0</td>\n",
       "      <td>0</td>\n",
       "      <td>9</td>\n",
       "      <td>2</td>\n",
       "      <td>7</td>\n",
       "    </tr>\n",
       "  </tbody>\n",
       "</table>\n",
       "</div>"
      ],
      "text/plain": [
       "    Age  Grade  Derived AJCC Stage Group  Derived AJCC T  Derived AJCC M  \\\n",
       "0     6      1                         7               4               1   \n",
       "1    12      1                         5               4               0   \n",
       "2    13      1                         4               2               0   \n",
       "3    12      0                         0               1               0   \n",
       "4     7      1                         1               3               0   \n",
       "5    15      1                         1               3               0   \n",
       "6    16      1                         2               4               0   \n",
       "7    16      1                         5               4               0   \n",
       "8    11      1                         7               4               1   \n",
       "9    13      1                         2               4               0   \n",
       "10   15      2                         7               5               1   \n",
       "11   12      1                         2               4               0   \n",
       "12   16      0                         2               4               0   \n",
       "13   16      2                         2               4               0   \n",
       "14   11      1                         6               4               0   \n",
       "15   15      1                         1               2               0   \n",
       "16   16      2                         5               5               0   \n",
       "17   13      2                         1               3               0   \n",
       "18   11      1                         2               4               0   \n",
       "19   15      1                         2               4               0   \n",
       "\n",
       "    Derived AJCC N  Median household income  Survival months  Tumor Size  \n",
       "0                1                        9                2           5  \n",
       "1                1                        9                1           7  \n",
       "2                1                        9                2           3  \n",
       "3                0                        9                2           2  \n",
       "4                0                        9                2           5  \n",
       "5                0                        9                0           6  \n",
       "6                0                        9                1           5  \n",
       "7                1                        9                0          12  \n",
       "8                0                        9                1          10  \n",
       "9                0                        9                2           5  \n",
       "10               2                        9                0           8  \n",
       "11               0                        9                1           6  \n",
       "12               0                        9                2           7  \n",
       "13               0                        9                1           8  \n",
       "14               2                        9                2           7  \n",
       "15               0                        9                1           2  \n",
       "16               1                        9                0          10  \n",
       "17               0                        9                2           5  \n",
       "18               0                        9                2           5  \n",
       "19               0                        9                2           7  "
      ]
     },
     "execution_count": 263,
     "metadata": {},
     "output_type": "execute_result"
    }
   ],
   "source": [
    "data2[['Age','Grade','Derived AJCC Stage Group', 'Derived AJCC T', 'Derived AJCC M', 'Derived AJCC N', 'Median household income', 'Survival months', 'Tumor Size']].head(20)"
   ]
  },
  {
   "cell_type": "markdown",
   "metadata": {},
   "source": [
    "### Nominal"
   ]
  },
  {
   "cell_type": "code",
   "execution_count": 264,
   "metadata": {},
   "outputs": [
    {
     "data": {
      "text/plain": [
       "['Female', 'Male']"
      ]
     },
     "execution_count": 264,
     "metadata": {},
     "output_type": "execute_result"
    }
   ],
   "source": [
    "sorted(data2.Sex.unique())"
   ]
  },
  {
   "cell_type": "code",
   "execution_count": 265,
   "metadata": {},
   "outputs": [],
   "source": [
    "from sklearn import preprocessing\n",
    "from collections import defaultdict"
   ]
  },
  {
   "cell_type": "code",
   "execution_count": 266,
   "metadata": {},
   "outputs": [],
   "source": [
    "import joblib"
   ]
  },
  {
   "cell_type": "code",
   "execution_count": 267,
   "metadata": {},
   "outputs": [],
   "source": [
    "dic = defaultdict(preprocessing.LabelEncoder)"
   ]
  },
  {
   "cell_type": "code",
   "execution_count": 268,
   "metadata": {},
   "outputs": [],
   "source": [
    "le = preprocessing.LabelEncoder()"
   ]
  },
  {
   "cell_type": "code",
   "execution_count": 269,
   "metadata": {},
   "outputs": [],
   "source": [
    "data2[['Sex', 'Race', 'Site', 'Laterality', 'Diagnostic Confirmation', 'Combined Summary Stage 2000', 'Scope Reg Lymph Node Surg', 'Surg/Rad Seq', 'Radiation', 'Chemotherapy', 'Systemic/Sur Seq', 'Alive/Dead', 'Primary by international rules']] = data2[['Sex', 'Race', 'Site', 'Laterality', 'Diagnostic Confirmation', 'Combined Summary Stage 2000', 'Scope Reg Lymph Node Surg', 'Surg/Rad Seq', 'Radiation', 'Chemotherapy', 'Systemic/Sur Seq', 'Alive/Dead', 'Primary by international rules']].apply(lambda x: dic[x.name].fit_transform(x))"
   ]
  },
  {
   "cell_type": "code",
   "execution_count": 270,
   "metadata": {
    "scrolled": true
   },
   "outputs": [
    {
     "name": "stdout",
     "output_type": "stream",
     "text": [
      "        0\n",
      "Female  0\n",
      "Male    1\n",
      "                                            0\n",
      "Hispanic (All Races)                        0\n",
      "Non-Hispanic American Indian/Alaska Native  1\n",
      "Non-Hispanic Asian or Pacific Islander      2\n",
      "Non-Hispanic Black                          3\n",
      "Non-Hispanic White                          4\n",
      "                        0\n",
      "Appendix                0\n",
      "Ascending Colon         1\n",
      "Cecum                   2\n",
      "Descending Colon        3\n",
      "Hepatic Flexure         4\n",
      "Large Intestine, NOS    5\n",
      "Rectosigmoid Junction   6\n",
      "Rectum                  7\n",
      "Sigmoid Colon           8\n",
      "Splenic Flexure         9\n",
      "Transverse Colon       10\n",
      "                                                    0\n",
      "Bilateral, single primary                           0\n",
      "Left - origin of primary                            1\n",
      "Not a paired  site                                  2\n",
      "Only one side - side unspecified                    3\n",
      "Paired site, but no information concerning late...  4\n",
      "Right - origin of primary                           5\n",
      "                                                    0\n",
      "Clinical diagnosis only                             0\n",
      "Direct visualization without microscopic confir...  1\n",
      "Pos hist AND immunophenotyping AND/OR pos genet...  2\n",
      "Positive exfoliative cytology, no positive hist...  3\n",
      "Positive histology                                  4\n",
      "Positive microscopic confirm, method not specified  5\n",
      "Radiography without microscopic confirm             6\n",
      "                                                    0\n",
      "Distant site(s)/node(s) involved                    0\n",
      "Localized only                                      1\n",
      "Regional by both direct extension and lymph nod...  2\n",
      "Regional by direct extension only                   3\n",
      "Regional lymph nodes involved only                  4\n",
      "                                                    0\n",
      "1 to 3 regional lymph nodes removed                 0\n",
      "4 or more regional lymph nodes removed              1\n",
      "Biopsy or aspiration of regional lymph node, NOS    2\n",
      "None                                                3\n",
      "Sentinel lymph node biopsy                          4\n",
      "Sentinel node biopsy and lym nd removed differe...  5\n",
      "Sentinel node biopsy and lym nd removed same/un...  6\n",
      "                                                    0\n",
      "Intraoperative rad with other rad before/after ...  0\n",
      "Intraoperative radiation                            1\n",
      "No radiation and/or cancer-directed surgery         2\n",
      "Radiation after surgery                             3\n",
      "Radiation before and after surgery                  4\n",
      "Radiation prior to surgery                          5\n",
      "Sequence unknown, but both were given               6\n",
      "Surgery both before and after radiation             7\n",
      "                                                    0\n",
      "Beam radiation                                      0\n",
      "Combination of beam with implants or isotopes       1\n",
      "No                                                  2\n",
      "Radiation, NOS  method or source not specified      3\n",
      "Radioactive implants (includes brachytherapy) (...  4\n",
      "Radioisotopes (1988+)                               5\n",
      "Recommended, unknown if administered                6\n",
      "Refused (1988+)                                     7\n",
      "     0\n",
      "No   0\n",
      "Yes  1\n",
      "                                                    0\n",
      "Intraop systemic rx & oth systemic rx before/af...  0\n",
      "Intraoperative systemic therapy                     1\n",
      "No systemic therapy and/or surgical procedures      2\n",
      "Surgery both before and after systemic therapy      3\n",
      "Systemic therapy after surgery                      4\n",
      "Systemic therapy before surgery                     5\n",
      "Systemic therapy both before and after surgery      6\n",
      "       0\n",
      "Alive  0\n",
      "Dead   1\n",
      "     0\n",
      "No   0\n",
      "Yes  1\n"
     ]
    }
   ],
   "source": [
    "for k in dic:\n",
    "    nom_dict = pd.DataFrame.from_dict(dict(zip(dic[k].classes_, le.fit_transform(dic[k].classes_, ))), orient='index')\n",
    "    print(nom_dict)"
   ]
  },
  {
   "cell_type": "code",
   "execution_count": 271,
   "metadata": {},
   "outputs": [
    {
     "name": "stdout",
     "output_type": "stream",
     "text": [
      "<class 'pandas.core.frame.DataFrame'>\n",
      "Int64Index: 194650 entries, 0 to 194495\n",
      "Data columns (total 27 columns):\n",
      " #   Column                           Non-Null Count   Dtype\n",
      "---  ------                           --------------   -----\n",
      " 0   Age                              194650 non-null  int64\n",
      " 1   Sex                              194650 non-null  int32\n",
      " 2   Race                             194650 non-null  int32\n",
      " 3   Site                             194650 non-null  int32\n",
      " 4   Grade                            194650 non-null  int64\n",
      " 5   Laterality                       194650 non-null  int32\n",
      " 6   Diagnostic Confirmation          194650 non-null  int32\n",
      " 7   Combined Summary Stage 2000      194650 non-null  int32\n",
      " 8   Derived AJCC Stage Group         194650 non-null  int64\n",
      " 9   Derived AJCC T                   194650 non-null  int64\n",
      " 10  Derived AJCC N                   194650 non-null  int64\n",
      " 11  Derived AJCC M                   194650 non-null  int64\n",
      " 12  Surg Prim Site                   194650 non-null  int64\n",
      " 13  Scope Reg Lymph Node Surg        194650 non-null  int32\n",
      " 14  Surg/Rad Seq                     194650 non-null  int32\n",
      " 15  Radiation                        194650 non-null  int32\n",
      " 16  Chemotherapy                     194650 non-null  int32\n",
      " 17  Systemic/Sur Seq                 194650 non-null  int32\n",
      " 18  Regional nodes examined          194650 non-null  int64\n",
      " 19  Regional nodes positive          194650 non-null  int64\n",
      " 20  Tumor Size                       194650 non-null  int64\n",
      " 21  Alive/Dead                       194650 non-null  int32\n",
      " 22  Survival months                  194650 non-null  int64\n",
      " 23  Primary by international rules   194650 non-null  int32\n",
      " 24  Num of in situ/malignant tumors  194650 non-null  int32\n",
      " 25  Num of benign/borderline tumors  194650 non-null  int64\n",
      " 26  Median household income          194650 non-null  int64\n",
      "dtypes: int32(14), int64(13)\n",
      "memory usage: 36.2 MB\n"
     ]
    }
   ],
   "source": [
    "data2.info()"
   ]
  },
  {
   "cell_type": "markdown",
   "metadata": {},
   "source": [
    "# Corr numerical / continuous, ChiSquare categorical / nominal"
   ]
  },
  {
   "cell_type": "code",
   "execution_count": 272,
   "metadata": {},
   "outputs": [
    {
     "data": {
      "text/html": [
       "<style  type=\"text/css\" >\n",
       "#T_8398b336_903f_11eb_9d17_fd972676988crow0_col0,#T_8398b336_903f_11eb_9d17_fd972676988crow1_col1,#T_8398b336_903f_11eb_9d17_fd972676988crow2_col2{\n",
       "            background-color:  #b40426;\n",
       "            color:  #f1f1f1;\n",
       "        }#T_8398b336_903f_11eb_9d17_fd972676988crow0_col1,#T_8398b336_903f_11eb_9d17_fd972676988crow1_col0{\n",
       "            background-color:  #3d50c3;\n",
       "            color:  #f1f1f1;\n",
       "        }#T_8398b336_903f_11eb_9d17_fd972676988crow0_col2,#T_8398b336_903f_11eb_9d17_fd972676988crow1_col2,#T_8398b336_903f_11eb_9d17_fd972676988crow2_col0,#T_8398b336_903f_11eb_9d17_fd972676988crow2_col1{\n",
       "            background-color:  #3b4cc0;\n",
       "            color:  #f1f1f1;\n",
       "        }</style><table id=\"T_8398b336_903f_11eb_9d17_fd972676988c\" ><thead>    <tr>        <th class=\"blank level0\" ></th>        <th class=\"col_heading level0 col0\" >Num of in situ/malignant tumors</th>        <th class=\"col_heading level0 col1\" >Num of benign/borderline tumors</th>        <th class=\"col_heading level0 col2\" >Survival months</th>    </tr></thead><tbody>\n",
       "                <tr>\n",
       "                        <th id=\"T_8398b336_903f_11eb_9d17_fd972676988clevel0_row0\" class=\"row_heading level0 row0\" >Num of in situ/malignant tumors</th>\n",
       "                        <td id=\"T_8398b336_903f_11eb_9d17_fd972676988crow0_col0\" class=\"data row0 col0\" >1.000000</td>\n",
       "                        <td id=\"T_8398b336_903f_11eb_9d17_fd972676988crow0_col1\" class=\"data row0 col1\" >0.014408</td>\n",
       "                        <td id=\"T_8398b336_903f_11eb_9d17_fd972676988crow0_col2\" class=\"data row0 col2\" >0.004282</td>\n",
       "            </tr>\n",
       "            <tr>\n",
       "                        <th id=\"T_8398b336_903f_11eb_9d17_fd972676988clevel0_row1\" class=\"row_heading level0 row1\" >Num of benign/borderline tumors</th>\n",
       "                        <td id=\"T_8398b336_903f_11eb_9d17_fd972676988crow1_col0\" class=\"data row1 col0\" >0.014408</td>\n",
       "                        <td id=\"T_8398b336_903f_11eb_9d17_fd972676988crow1_col1\" class=\"data row1 col1\" >1.000000</td>\n",
       "                        <td id=\"T_8398b336_903f_11eb_9d17_fd972676988crow1_col2\" class=\"data row1 col2\" >0.006162</td>\n",
       "            </tr>\n",
       "            <tr>\n",
       "                        <th id=\"T_8398b336_903f_11eb_9d17_fd972676988clevel0_row2\" class=\"row_heading level0 row2\" >Survival months</th>\n",
       "                        <td id=\"T_8398b336_903f_11eb_9d17_fd972676988crow2_col0\" class=\"data row2 col0\" >0.004282</td>\n",
       "                        <td id=\"T_8398b336_903f_11eb_9d17_fd972676988crow2_col1\" class=\"data row2 col1\" >0.006162</td>\n",
       "                        <td id=\"T_8398b336_903f_11eb_9d17_fd972676988crow2_col2\" class=\"data row2 col2\" >1.000000</td>\n",
       "            </tr>\n",
       "    </tbody></table>"
      ],
      "text/plain": [
       "<pandas.io.formats.style.Styler at 0x20801f07340>"
      ]
     },
     "execution_count": 272,
     "metadata": {},
     "output_type": "execute_result"
    }
   ],
   "source": [
    "corr = data2[['Num of in situ/malignant tumors', 'Num of benign/borderline tumors', 'Survival months']].corr()\n",
    "corr.style.background_gradient(cmap='coolwarm')"
   ]
  },
  {
   "cell_type": "code",
   "execution_count": 273,
   "metadata": {},
   "outputs": [
    {
     "data": {
      "text/plain": [
       "<AxesSubplot:xlabel='Survival months', ylabel='Tumor Size'>"
      ]
     },
     "execution_count": 273,
     "metadata": {},
     "output_type": "execute_result"
    },
    {
     "data": {
      "image/png": "[encoded data removed]",
      "text/plain": [
       "<Figure size 576x396 with 1 Axes>"
      ]
     },
     "metadata": {},
     "output_type": "display_data"
    }
   ],
   "source": [
    "sns.lineplot(data=data2, y='Tumor Size', x='Survival months')"
   ]
  },
  {
   "cell_type": "code",
   "execution_count": 274,
   "metadata": {},
   "outputs": [],
   "source": [
    "from scipy.stats import chisquare"
   ]
  },
  {
   "cell_type": "code",
   "execution_count": 275,
   "metadata": {},
   "outputs": [
    {
     "data": {
      "text/plain": [
       "Power_divergenceResult(statistic=array([1.20238604e+05, 9.53480000e+04, 1.00081057e+05, 3.57004109e+05,\n",
       "       6.06233031e+04, 4.40008119e+03, 5.75006795e+01, 1.98172253e+05,\n",
       "       2.72199669e+05, 4.51090711e+04, 1.84006089e+05, 1.63533000e+05,\n",
       "       6.03570401e+05, 7.16822877e+04, 5.46417580e+04, 6.78808403e+04,\n",
       "       1.12087000e+05, 9.33029228e+04, 1.58593385e+06, 1.38745113e+07,\n",
       "       2.02675817e+05, 1.27015000e+05, 9.56266849e+04, 5.82200000e+03,\n",
       "       6.28152867e+04, 2.10882688e+05, 2.13408767e+05]), pvalue=array([1.00000000e+000, 1.00000000e+000, 1.00000000e+000, 0.00000000e+000,\n",
       "       1.00000000e+000, 1.00000000e+000, 1.00000000e+000, 9.87617340e-009,\n",
       "       0.00000000e+000, 1.00000000e+000, 1.00000000e+000, 1.00000000e+000,\n",
       "       0.00000000e+000, 1.00000000e+000, 1.00000000e+000, 1.00000000e+000,\n",
       "       1.00000000e+000, 1.00000000e+000, 0.00000000e+000, 0.00000000e+000,\n",
       "       3.22724257e-037, 1.00000000e+000, 1.00000000e+000, 1.00000000e+000,\n",
       "       1.00000000e+000, 7.62516263e-142, 3.84971481e-187]))"
      ]
     },
     "execution_count": 275,
     "metadata": {},
     "output_type": "execute_result"
    }
   ],
   "source": [
    "chisquare(data2)"
   ]
  },
  {
   "cell_type": "markdown",
   "metadata": {},
   "source": [
    "# Cluster"
   ]
  },
  {
   "cell_type": "markdown",
   "metadata": {},
   "source": [
    "## Determine K"
   ]
  },
  {
   "cell_type": "code",
   "execution_count": 278,
   "metadata": {},
   "outputs": [],
   "source": [
    "data_no_target = data2.drop(['Alive/Dead', 'Survival months'],axis=1)\n",
    "data_target = data2[['Survival months']]"
   ]
  },
  {
   "cell_type": "code",
   "execution_count": 279,
   "metadata": {},
   "outputs": [],
   "source": [
    "from sklearn.cluster import KMeans\n",
    "from sklearn import datasets"
   ]
  },
  {
   "cell_type": "code",
   "execution_count": 280,
   "metadata": {},
   "outputs": [],
   "source": [
    "Sum_of_squared_distances = []\n",
    "K = range(1,10)\n",
    "for k in K:\n",
    "    km = KMeans(n_clusters=k)\n",
    "    km = km.fit(data_no_target)\n",
    "    Sum_of_squared_distances.append(km.inertia_)"
   ]
  },
  {
   "cell_type": "code",
   "execution_count": 281,
   "metadata": {},
   "outputs": [
    {
     "data": {
      "image/png": "[encoded data removed]",
      "text/plain": [
       "<Figure size 576x396 with 1 Axes>"
      ]
     },
     "metadata": {},
     "output_type": "display_data"
    }
   ],
   "source": [
    "plt.plot(K, Sum_of_squared_distances, 'bx-')\n",
    "plt.xlabel('k')\n",
    "plt.ylabel('Sum_of_squared_distances')\n",
    "plt.title('Elbow Method For Optimal k')\n",
    "plt.show()"
   ]
  },
  {
   "cell_type": "code",
   "execution_count": 282,
   "metadata": {},
   "outputs": [],
   "source": [
    "from sklearn.metrics import silhouette_score"
   ]
  },
  {
   "cell_type": "code",
   "execution_count": 283,
   "metadata": {},
   "outputs": [
    {
     "name": "stdout",
     "output_type": "stream",
     "text": [
      "Requirement already satisfied: yellowbrick in c:\\users\\callm\\anaconda3\\lib\\site-packages (1.3.post1)\n",
      "Requirement already satisfied: matplotlib!=3.0.0,>=2.0.2 in c:\\users\\callm\\anaconda3\\lib\\site-packages (from yellowbrick) (3.3.2)\n",
      "Requirement already satisfied: numpy<1.20,>=1.16.0 in c:\\users\\callm\\anaconda3\\lib\\site-packages (from yellowbrick) (1.19.2)\n",
      "Requirement already satisfied: scipy>=1.0.0 in c:\\users\\callm\\anaconda3\\lib\\site-packages (from yellowbrick) (1.5.2)\n",
      "Requirement already satisfied: cycler>=0.10.0 in c:\\users\\callm\\anaconda3\\lib\\site-packages (from yellowbrick) (0.10.0)\n",
      "Requirement already satisfied: scikit-learn>=0.20 in c:\\users\\callm\\anaconda3\\lib\\site-packages (from yellowbrick) (0.23.2)\n",
      "Requirement already satisfied: certifi>=2020.06.20 in c:\\users\\callm\\anaconda3\\lib\\site-packages (from matplotlib!=3.0.0,>=2.0.2->yellowbrick) (2020.6.20)\n",
      "Requirement already satisfied: kiwisolver>=1.0.1 in c:\\users\\callm\\anaconda3\\lib\\site-packages (from matplotlib!=3.0.0,>=2.0.2->yellowbrick) (1.3.0)\n",
      "Requirement already satisfied: python-dateutil>=2.1 in c:\\users\\callm\\anaconda3\\lib\\site-packages (from matplotlib!=3.0.0,>=2.0.2->yellowbrick) (2.8.1)\n",
      "Requirement already satisfied: pyparsing!=2.0.4,!=2.1.2,!=2.1.6,>=2.0.3 in c:\\users\\callm\\anaconda3\\lib\\site-packages (from matplotlib!=3.0.0,>=2.0.2->yellowbrick) (2.4.7)\n",
      "Requirement already satisfied: pillow>=6.2.0 in c:\\users\\callm\\anaconda3\\lib\\site-packages (from matplotlib!=3.0.0,>=2.0.2->yellowbrick) (8.0.1)\n",
      "Requirement already satisfied: six in c:\\users\\callm\\anaconda3\\lib\\site-packages (from cycler>=0.10.0->yellowbrick) (1.15.0)\n",
      "Requirement already satisfied: threadpoolctl>=2.0.0 in c:\\users\\callm\\anaconda3\\lib\\site-packages (from scikit-learn>=0.20->yellowbrick) (2.1.0)\n",
      "Requirement already satisfied: joblib>=0.11 in c:\\users\\callm\\anaconda3\\lib\\site-packages (from scikit-learn>=0.20->yellowbrick) (0.17.0)\n"
     ]
    }
   ],
   "source": [
    "!pip install yellowbrick"
   ]
  },
  {
   "cell_type": "code",
   "execution_count": 284,
   "metadata": {},
   "outputs": [],
   "source": [
    "from yellowbrick.cluster import KElbowVisualizer"
   ]
  },
  {
   "cell_type": "code",
   "execution_count": 285,
   "metadata": {},
   "outputs": [
    {
     "data": {
      "image/png": "[encoded data removed]",
      "text/plain": [
       "<Figure size 576x396 with 1 Axes>"
      ]
     },
     "metadata": {},
     "output_type": "display_data"
    },
    {
     "data": {
      "text/plain": [
       "<AxesSubplot:title={'center':'Calinski Harabasz Score Elbow for KMeans Clustering'}, xlabel='k', ylabel='calinski harabasz score'>"
      ]
     },
     "execution_count": 285,
     "metadata": {},
     "output_type": "execute_result"
    }
   ],
   "source": [
    "model = KMeans(random_state=0)\n",
    "\n",
    "visualizer = KElbowVisualizer(model, k=(2,6), metric='calinski_harabasz', timings=False)\n",
    "\n",
    "visualizer.fit(data_no_target)    \n",
    "visualizer.poof()"
   ]
  },
  {
   "cell_type": "markdown",
   "metadata": {},
   "source": [
    "## K-means clustering"
   ]
  },
  {
   "cell_type": "code",
   "execution_count": 290,
   "metadata": {},
   "outputs": [],
   "source": [
    "from sklearn.model_selection import train_test_split\n",
    "\n",
    "X = data2.drop(['Alive/Dead', 'Survival months'],axis=1)\n",
    "y = data2['Survival months']\n",
    "\n",
    "X_train, X_test, y_train, y_test = train_test_split(X, y, test_size=0.30, random_state=42)"
   ]
  },
  {
   "cell_type": "code",
   "execution_count": 292,
   "metadata": {},
   "outputs": [],
   "source": [
    "def get_clusters(X_train: pd.DataFrame, X_test: pd.DataFrame, n_clusters: int) -> Tuple[pd.DataFrame, pd.DataFrame]:\n",
    "\n",
    "    clustering = KMeans(n_clusters=n_clusters, random_state=1022)\n",
    "    clustering.fit(X_train)\n",
    "\n",
    "    train_labels = clustering.labels_\n",
    "    X_train_clstrs = X_train.copy()\n",
    "    X_train_clstrs['clusters'] = train_labels\n",
    "    \n",
    "\n",
    "    test_labels = clustering.predict(X_test)\n",
    "    X_test_clstrs = X_test.copy()\n",
    "    X_test_clstrs['clusters'] = test_labels\n",
    "    \n",
    "    return X_train_clstrs, X_test_clstrs"
   ]
  },
  {
   "cell_type": "code",
   "execution_count": 293,
   "metadata": {},
   "outputs": [],
   "source": [
    "X_train_clstrs, X_test_clstrs = get_clusters(X_train, X_test, 2)"
   ]
  },
  {
   "cell_type": "markdown",
   "metadata": {},
   "source": [
    "## Scaling Data"
   ]
  },
  {
   "cell_type": "code",
   "execution_count": 294,
   "metadata": {},
   "outputs": [],
   "source": [
    "from sklearn.preprocessing import StandardScaler\n",
    "def scale_features(X_train_clstrs: pd.DataFrame, X_test_clstrs: pd.DataFrame):\n",
    "    sc = StandardScaler()\n",
    "    X_train_clstrs = sc.fit_transform(X_train_clstrs)\n",
    "    X_test_clstrs = sc.transform (X_test_clstrs)\n",
    "    \n",
    "    return X_train_clstrs, X_test_clstrs\n",
    "X_train_scaled, X_test_scaled = scale_features(X_train_clstrs, X_test_clstrs)"
   ]
  },
  {
   "cell_type": "code",
   "execution_count": 295,
   "metadata": {},
   "outputs": [],
   "source": [
    "X_train_scaled = pd.DataFrame(X_train_scaled, index=X_train_clstrs.index, columns=X_train_clstrs.columns)"
   ]
  },
  {
   "cell_type": "code",
   "execution_count": 296,
   "metadata": {},
   "outputs": [],
   "source": [
    "X_test_scaled = pd.DataFrame(X_test_scaled, index=X_test_clstrs.index, columns=X_test_clstrs.columns)"
   ]
  },
  {
   "cell_type": "markdown",
   "metadata": {},
   "source": [
    "## Split Data into 0, 1 and base Clusters"
   ]
  },
  {
   "cell_type": "code",
   "execution_count": 297,
   "metadata": {},
   "outputs": [],
   "source": [
    "# locate the \"0\" cluster\n",
    "X_train0 = X_train_scaled[X_train_scaled['clusters'] < 0]\n",
    "X_test0 = X_test_scaled[X_test_scaled['clusters'] < 0]\n",
    "y_train0 = y_train[X_train_scaled['clusters'] < 0]\n",
    "y_test0 = y_test[X_test_scaled['clusters'] < 0]\n",
    "\n",
    "# locate the \"1\" cluster\n",
    "X_train1 = X_train_scaled[X_train_scaled['clusters'] > 0]\n",
    "X_test1 = X_test_scaled[X_test_scaled['clusters'] > 0]\n",
    "y_train1 = y_train[X_train_scaled['clusters'] > 0]\n",
    "y_test1 = y_test[X_test_scaled['clusters'] > 0]\n",
    "\n",
    "# drop cluster from the base dataset \n",
    "X_train_base = X_train_scaled.drop(columns=['clusters'])\n",
    "X_test_base = X_test_scaled.drop(columns=['clusters'])\n",
    "y_train_base = y_train.copy()\n",
    "y_test_base = y_test.copy()"
   ]
  },
  {
   "cell_type": "code",
   "execution_count": 300,
   "metadata": {},
   "outputs": [],
   "source": [
    "datasets = {\n",
    "    'base': (X_train_base, y_train_base, X_test_base, y_test_base),\n",
    "    'cluster-0': (X_train0, y_train0, X_test0, y_test0),\n",
    "    'cluster-1': (X_train1, y_train1, X_test1, y_test1),\n",
    "}"
   ]
  },
  {
   "cell_type": "code",
   "execution_count": 359,
   "metadata": {},
   "outputs": [],
   "source": [
    "from matplotlib import pyplot\n",
    "from sklearn import model_selection\n",
    "from sklearn.model_selection import cross_val_score\n",
    "from sklearn.model_selection import StratifiedKFold\n",
    "from sklearn.linear_model import LogisticRegression\n",
    "from sklearn.naive_bayes import GaussianNB\n",
    "from sklearn.ensemble import RandomForestClassifier\n",
    "from sklearn.svm import SVC\n",
    "from sklearn.metrics import accuracy_score\n",
    "from sklearn.metrics import confusion_matrix\n",
    "from sklearn.metrics import classification_report"
   ]
  },
  {
   "cell_type": "markdown",
   "metadata": {},
   "source": [
    "### Comparison of the RF, NB and LR on training set "
   ]
  },
  {
   "cell_type": "code",
   "execution_count": 406,
   "metadata": {},
   "outputs": [
    {
     "name": "stdout",
     "output_type": "stream",
     "text": [
      "RF: 0.516421 (0.002691)\n",
      "NB: 0.499923 (0.003036)\n",
      "LR: 0.521830 (0.003470)\n"
     ]
    }
   ],
   "source": [
    "models = []\n",
    "models.append(('RF', RandomForestClassifier(n_estimators=20)))\n",
    "models.append(('NB', GaussianNB()))\n",
    "models.append(('LR', LogisticRegression(multi_class='multinomial', class_weight='balanced', solver='lbfgs', random_state=999, max_iter=10000)))\n",
    "results = []\n",
    "names = []\n",
    "for name, model in models:\n",
    "    kfold = StratifiedKFold(n_splits=10, random_state=1, shuffle=True)\n",
    "    cv_results = cross_val_score(model, X_train_base, y_train_base, cv=kfold, scoring='accuracy')\n",
    "    results.append(cv_results)\n",
    "    names.append(name)\n",
    "    print('%s: %f (%f)' % (name, cv_results.mean(), cv_results.std()))"
   ]
  },
  {
   "cell_type": "code",
   "execution_count": 407,
   "metadata": {},
   "outputs": [
    {
     "data": {
      "image/png": "[encoded data removed]",
      "text/plain": [
       "<Figure size 576x396 with 1 Axes>"
      ]
     },
     "metadata": {},
     "output_type": "display_data"
    }
   ],
   "source": [
    "pyplot.boxplot(results, labels=names)\n",
    "pyplot.title('Algorithm Comparison')\n",
    "pyplot.show()"
   ]
  },
  {
   "cell_type": "markdown",
   "metadata": {},
   "source": [
    "### Logistic Regression on Base, 0 and 1 Clusters"
   ]
  },
  {
   "cell_type": "code",
   "execution_count": 380,
   "metadata": {},
   "outputs": [
    {
     "name": "stdout",
     "output_type": "stream",
     "text": [
      "0.5215001284356537\n",
      "[[ 8802  1680  2077]\n",
      " [ 5619  5622 10684]\n",
      " [ 3007  4875 16029]]\n",
      "              precision    recall  f1-score   support\n",
      "\n",
      "           0       0.51      0.70      0.59     12559\n",
      "           1       0.46      0.26      0.33     21925\n",
      "           2       0.56      0.67      0.61     23911\n",
      "\n",
      "    accuracy                           0.52     58395\n",
      "   macro avg       0.51      0.54      0.51     58395\n",
      "weighted avg       0.51      0.52      0.50     58395\n",
      "\n"
     ]
    }
   ],
   "source": [
    "lrmodel = LogisticRegression(class_weight='balanced', solver='lbfgs', random_state=999, max_iter=10000)\n",
    "lrmodel.fit(X_train_base, y_train_base)\n",
    "predictions = lrmodel.predict(X_test_base)\n",
    "print(accuracy_score(y_test_base, predictions))\n",
    "print(confusion_matrix(y_test_base, predictions))\n",
    "print(classification_report(y_test_base, predictions))"
   ]
  },
  {
   "cell_type": "code",
   "execution_count": 381,
   "metadata": {},
   "outputs": [
    {
     "name": "stdout",
     "output_type": "stream",
     "text": [
      "0.5705482362940927\n",
      "[[1214  215  161]\n",
      " [ 447  406  842]\n",
      " [ 113  243 1065]]\n",
      "              precision    recall  f1-score   support\n",
      "\n",
      "           0       0.68      0.76      0.72      1590\n",
      "           1       0.47      0.24      0.32      1695\n",
      "           2       0.51      0.75      0.61      1421\n",
      "\n",
      "    accuracy                           0.57      4706\n",
      "   macro avg       0.56      0.58      0.55      4706\n",
      "weighted avg       0.56      0.57      0.54      4706\n",
      "\n"
     ]
    }
   ],
   "source": [
    "lrmodel = LogisticRegression(class_weight='balanced', solver='lbfgs', random_state=999, max_iter=10000)\n",
    "lrmodel.fit(X_train0, y_train0)\n",
    "predictions = lrmodel.predict(X_test0)\n",
    "print(accuracy_score(y_test0, predictions))\n",
    "print(confusion_matrix(y_test0, predictions))\n",
    "print(classification_report(y_test0, predictions))"
   ]
  },
  {
   "cell_type": "code",
   "execution_count": 382,
   "metadata": {},
   "outputs": [
    {
     "name": "stdout",
     "output_type": "stream",
     "text": [
      "0.5198644042541303\n",
      "[[ 7683  1461  1825]\n",
      " [ 5162  5246  9822]\n",
      " [ 2922  4586 14982]]\n",
      "              precision    recall  f1-score   support\n",
      "\n",
      "           0       0.49      0.70      0.57     10969\n",
      "           1       0.46      0.26      0.33     20230\n",
      "           2       0.56      0.67      0.61     22490\n",
      "\n",
      "    accuracy                           0.52     53689\n",
      "   macro avg       0.50      0.54      0.51     53689\n",
      "weighted avg       0.51      0.52      0.50     53689\n",
      "\n"
     ]
    }
   ],
   "source": [
    "lrmodel = LogisticRegression(class_weight='balanced', solver='lbfgs', random_state=999, max_iter=10000)\n",
    "lrmodel.fit(X_train1, y_train1)\n",
    "predictions = lrmodel.predict(X_test1)\n",
    "print(accuracy_score(y_test1, predictions))\n",
    "print(confusion_matrix(y_test1, predictions))\n",
    "print(classification_report(y_test1, predictions))"
   ]
  },
  {
   "cell_type": "markdown",
   "metadata": {},
   "source": [
    "### Random Forest on Base, 0 and 1 Clusters"
   ]
  },
  {
   "cell_type": "code",
   "execution_count": 378,
   "metadata": {},
   "outputs": [
    {
     "name": "stdout",
     "output_type": "stream",
     "text": [
      "0.5142734823186916\n",
      "[[ 6903  3390  2266]\n",
      " [ 3200  9228  9497]\n",
      " [ 1569  8442 13900]]\n",
      "              precision    recall  f1-score   support\n",
      "\n",
      "           0       0.59      0.55      0.57     12559\n",
      "           1       0.44      0.42      0.43     21925\n",
      "           2       0.54      0.58      0.56     23911\n",
      "\n",
      "    accuracy                           0.51     58395\n",
      "   macro avg       0.52      0.52      0.52     58395\n",
      "weighted avg       0.51      0.51      0.51     58395\n",
      "\n"
     ]
    }
   ],
   "source": [
    "rfmodel = RandomForestClassifier(n_estimators=20)\n",
    "rfmodel.fit(X_train_base, y_train_base)\n",
    "predictions = rfmodel.predict(X_test_base)\n",
    "print(accuracy_score(y_test_base, predictions))\n",
    "print(confusion_matrix(y_test_base, predictions))\n",
    "print(classification_report(y_test_base, predictions))"
   ]
  },
  {
   "cell_type": "code",
   "execution_count": 405,
   "metadata": {},
   "outputs": [
    {
     "name": "stdout",
     "output_type": "stream",
     "text": [
      "[(0.1526, 'Regional nodes examined'), (0.107, 'Tumor Size'), (0.1069, 'Age'), (0.0942, 'Median household income'), (0.0874, 'Site'), (0.0554, 'Surg Prim Site'), (0.0474, 'Regional nodes positive'), (0.0441, 'Race'), (0.0388, 'Num of in situ/malignant tumors'), (0.0385, 'Grade'), (0.0368, 'Combined Summary Stage 2000'), (0.0315, 'Sex'), (0.03, 'Derived AJCC T'), (0.0246, 'Derived AJCC Stage Group'), (0.0242, 'Derived AJCC M'), (0.0194, 'Systemic/Sur Seq'), (0.012, 'Chemotherapy'), (0.0109, 'Derived AJCC N'), (0.0093, 'Scope Reg Lymph Node Surg'), (0.0092, 'Radiation'), (0.0085, 'Surg/Rad Seq'), (0.0065, 'Primary by international rules'), (0.0028, 'Laterality'), (0.0017, 'Num of benign/borderline tumors'), (0.0004, 'Diagnostic Confirmation')]\n"
     ]
    }
   ],
   "source": [
    "print(sorted(zip(map(lambda x: round(x, 4), rfmodel.feature_importances_), X_train_base.columns), reverse=True))"
   ]
  },
  {
   "cell_type": "code",
   "execution_count": 363,
   "metadata": {},
   "outputs": [
    {
     "name": "stdout",
     "output_type": "stream",
     "text": [
      "[[1153  326  111]\n",
      " [ 432  730  533]\n",
      " [ 125  633  663]]\n",
      "              precision    recall  f1-score   support\n",
      "\n",
      "           0       0.67      0.73      0.70      1590\n",
      "           1       0.43      0.43      0.43      1695\n",
      "           2       0.51      0.47      0.49      1421\n",
      "\n",
      "    accuracy                           0.54      4706\n",
      "   macro avg       0.54      0.54      0.54      4706\n",
      "weighted avg       0.54      0.54      0.54      4706\n",
      "\n"
     ]
    }
   ],
   "source": [
    "rfmodel = RandomForestClassifier(n_estimators=20)\n",
    "rfmodel = rfmodel.fit(X_train0, y_train0)\n",
    "predictions = rfmodel.predict(X_test0)\n",
    "print(confusion_matrix(y_test0, predictions))\n",
    "print(classification_report(y_test0, predictions))"
   ]
  },
  {
   "cell_type": "code",
   "execution_count": 367,
   "metadata": {},
   "outputs": [
    {
     "name": "stdout",
     "output_type": "stream",
     "text": [
      "[[ 5712  3116  2141]\n",
      " [ 2838  8573  8819]\n",
      " [ 1446  7827 13217]]\n",
      "              precision    recall  f1-score   support\n",
      "\n",
      "           0       0.57      0.52      0.54     10969\n",
      "           1       0.44      0.42      0.43     20230\n",
      "           2       0.55      0.59      0.57     22490\n",
      "\n",
      "    accuracy                           0.51     53689\n",
      "   macro avg       0.52      0.51      0.51     53689\n",
      "weighted avg       0.51      0.51      0.51     53689\n",
      "\n"
     ]
    }
   ],
   "source": [
    "rfmodel = RandomForestClassifier(n_estimators=20)\n",
    "rfmodel.fit(X_train1, y_train1)\n",
    "predictions = rfmodel.predict(X_test1)\n",
    "print(confusion_matrix(y_test1, predictions))\n",
    "print(classification_report(y_test1, predictions))"
   ]
  },
  {
   "cell_type": "markdown",
   "metadata": {},
   "source": [
    "### Naive Bayes on Base, 0 and 1 Clusters"
   ]
  },
  {
   "cell_type": "code",
   "execution_count": 353,
   "metadata": {},
   "outputs": [
    {
     "name": "stdout",
     "output_type": "stream",
     "text": [
      "[[ 7473   641  4445]\n",
      " [ 4921  2048 14956]\n",
      " [ 2476  1838 19597]]\n",
      "              precision    recall  f1-score   support\n",
      "\n",
      "           0       0.50      0.60      0.54     12559\n",
      "           1       0.45      0.09      0.15     21925\n",
      "           2       0.50      0.82      0.62     23911\n",
      "\n",
      "    accuracy                           0.50     58395\n",
      "   macro avg       0.49      0.50      0.44     58395\n",
      "weighted avg       0.48      0.50      0.43     58395\n",
      "\n"
     ]
    }
   ],
   "source": [
    "model = GaussianNB()\n",
    "model.fit(X_train_base, y_train_base)\n",
    "predictions = model.predict(X_test_base)\n",
    "print(confusion_matrix(y_test_base, predictions))\n",
    "print(classification_report(y_test_base, predictions))"
   ]
  },
  {
   "cell_type": "code",
   "execution_count": 365,
   "metadata": {},
   "outputs": [
    {
     "name": "stdout",
     "output_type": "stream",
     "text": [
      "[[1052   72  466]\n",
      " [ 444  141 1110]\n",
      " [ 121   74 1226]]\n",
      "              precision    recall  f1-score   support\n",
      "\n",
      "           0       0.65      0.66      0.66      1590\n",
      "           1       0.49      0.08      0.14      1695\n",
      "           2       0.44      0.86      0.58      1421\n",
      "\n",
      "    accuracy                           0.51      4706\n",
      "   macro avg       0.53      0.54      0.46      4706\n",
      "weighted avg       0.53      0.51      0.45      4706\n",
      "\n"
     ]
    }
   ],
   "source": [
    "model = GaussianNB()\n",
    "model.fit(X_train0, y_train0)\n",
    "predictions = model.predict(X_test0)\n",
    "print(confusion_matrix(y_test0, predictions))\n",
    "print(classification_report(y_test0, predictions))"
   ]
  },
  {
   "cell_type": "code",
   "execution_count": 366,
   "metadata": {},
   "outputs": [
    {
     "name": "stdout",
     "output_type": "stream",
     "text": [
      "[[ 6350   648  3971]\n",
      " [ 4569  1836 13825]\n",
      " [ 2482  1508 18500]]\n",
      "              precision    recall  f1-score   support\n",
      "\n",
      "           0       0.47      0.58      0.52     10969\n",
      "           1       0.46      0.09      0.15     20230\n",
      "           2       0.51      0.82      0.63     22490\n",
      "\n",
      "    accuracy                           0.50     53689\n",
      "   macro avg       0.48      0.50      0.43     53689\n",
      "weighted avg       0.48      0.50      0.43     53689\n",
      "\n"
     ]
    }
   ],
   "source": [
    "model = GaussianNB()\n",
    "model.fit(X_train1, y_train1)\n",
    "predictions = model.predict(X_test1)\n",
    "print(confusion_matrix(y_test1, predictions))\n",
    "print(classification_report(y_test1, predictions))"
   ]
  },
  {
   "cell_type": "markdown",
   "metadata": {},
   "source": [
    "## Redo Kmeans and model using filtered dataset"
   ]
  },
  {
   "cell_type": "code",
   "execution_count": 286,
   "metadata": {},
   "outputs": [],
   "source": [
    "data2_filt = data2.iloc[:, [9,10,11,15,16,19,20,21,22,24,25]]"
   ]
  },
  {
   "cell_type": "code",
   "execution_count": 287,
   "metadata": {},
   "outputs": [],
   "source": [
    "filt_no_target = data2_filt.drop(['Alive/Dead', 'Survival months'],axis=1)\n",
    "filt_target = data2_filt[['Survival months']]"
   ]
  },
  {
   "cell_type": "code",
   "execution_count": 288,
   "metadata": {},
   "outputs": [],
   "source": [
    "Sum_of_squared_distances = []\n",
    "K = range(1,10)\n",
    "for k in K:\n",
    "    km = KMeans(n_clusters=k)\n",
    "    km = km.fit(filt_no_target)\n",
    "    Sum_of_squared_distances.append(km.inertia_)"
   ]
  },
  {
   "cell_type": "code",
   "execution_count": 289,
   "metadata": {
    "scrolled": true
   },
   "outputs": [
    {
     "data": {
      "image/png": "[encoded data removed]",
      "text/plain": [
       "<Figure size 576x396 with 1 Axes>"
      ]
     },
     "metadata": {},
     "output_type": "display_data"
    }
   ],
   "source": [
    "plt.plot(K, Sum_of_squared_distances, 'bx-')\n",
    "plt.xlabel('k')\n",
    "plt.ylabel('Sum_of_squared_distances')\n",
    "plt.title('Elbow Method For Optimal k')\n",
    "plt.show()"
   ]
  },
  {
   "cell_type": "code",
   "execution_count": 389,
   "metadata": {},
   "outputs": [],
   "source": [
    "from sklearn.model_selection import train_test_split\n",
    "\n",
    "Xf = data2_filt.drop(['Alive/Dead', 'Survival months'],axis=1)\n",
    "yf = data2_filt['Survival months']\n",
    "\n",
    "Xf_train, Xf_test, yf_train, yf_test = train_test_split(Xf, yf, test_size=0.30, random_state=42)"
   ]
  },
  {
   "cell_type": "code",
   "execution_count": 390,
   "metadata": {},
   "outputs": [],
   "source": [
    "from typing import Tuple"
   ]
  },
  {
   "cell_type": "code",
   "execution_count": 391,
   "metadata": {},
   "outputs": [],
   "source": [
    "def get_clusters(Xf_train: pd.DataFrame, Xf_test: pd.DataFrame, n_clusters: int) -> Tuple[pd.DataFrame, pd.DataFrame]:\n",
    "\n",
    "    clustering = KMeans(n_clusters=n_clusters, random_state=1022)\n",
    "    clustering.fit(Xf_train)\n",
    "\n",
    "    train_labels = clustering.labels_\n",
    "    Xf_train_clstrs = Xf_train.copy()\n",
    "    Xf_train_clstrs['clusters'] = train_labels\n",
    "    \n",
    "\n",
    "    test_labels = clustering.predict(Xf_test)\n",
    "    Xf_test_clstrs = Xf_test.copy()\n",
    "    Xf_test_clstrs['clusters'] = test_labels\n",
    "    \n",
    "    return Xf_train_clstrs, Xf_test_clstrs"
   ]
  },
  {
   "cell_type": "code",
   "execution_count": 392,
   "metadata": {},
   "outputs": [],
   "source": [
    "Xf_train_clstrs, Xf_test_clstrs = get_clusters(Xf_train, Xf_test, 2)"
   ]
  },
  {
   "cell_type": "code",
   "execution_count": 393,
   "metadata": {},
   "outputs": [],
   "source": [
    "from sklearn.preprocessing import StandardScaler\n",
    "def scale_features(Xf_train_clstrs: pd.DataFrame, Xf_test_clstrs: pd.DataFrame):\n",
    "    sc = StandardScaler()\n",
    "    Xf_train_clstrs = sc.fit_transform(Xf_train_clstrs)\n",
    "    Xf_test_clstrs = sc.transform(Xf_test_clstrs)\n",
    "    \n",
    "    return Xf_train_clstrs, Xf_test_clstrs\n",
    "Xf_train_scaled, Xf_test_scaled = scale_features(Xf_train_clstrs, Xf_test_clstrs)"
   ]
  },
  {
   "cell_type": "code",
   "execution_count": 394,
   "metadata": {},
   "outputs": [],
   "source": [
    "Xf_train_scaled = pd.DataFrame(Xf_train_scaled, index=Xf_train_clstrs.index, columns=Xf_train_clstrs.columns)"
   ]
  },
  {
   "cell_type": "code",
   "execution_count": 395,
   "metadata": {},
   "outputs": [],
   "source": [
    "Xf_test_scaled = pd.DataFrame(Xf_test_scaled, index=Xf_test_clstrs.index, columns=Xf_test_clstrs.columns)"
   ]
  },
  {
   "cell_type": "code",
   "execution_count": 396,
   "metadata": {},
   "outputs": [],
   "source": [
    "# locate the \"0\" cluster\n",
    "Xf_train0 = Xf_train_scaled[Xf_train_scaled['clusters'] < 0]\n",
    "Xf_test0 = Xf_test_scaled[Xf_test_scaled['clusters'] < 0]\n",
    "yf_train0 = yf_train[Xf_train_scaled['clusters'] < 0]\n",
    "yf_test0 = yf_test[Xf_test_scaled['clusters'] < 0]\n",
    "\n",
    "# locate the \"1\" cluster\n",
    "Xf_train1 = Xf_train_scaled[Xf_train_scaled['clusters'] > 0]\n",
    "Xf_test1 = Xf_test_scaled[Xf_test_scaled['clusters'] > 0]\n",
    "yf_train1 = yf_train[Xf_train_scaled['clusters'] > 0]\n",
    "yf_test1 = yf_test[Xf_test_scaled['clusters'] > 0]\n",
    "\n",
    "# drop cluster from the base dataset \n",
    "Xf_train_base = Xf_train_scaled.drop(columns=['clusters'])\n",
    "Xf_test_base = Xf_test_scaled.drop(columns=['clusters'])\n",
    "yf_train_base = yf_train.copy()\n",
    "yf_test_base = yf_test.copy()"
   ]
  },
  {
   "cell_type": "code",
   "execution_count": 397,
   "metadata": {},
   "outputs": [
    {
     "name": "stdout",
     "output_type": "stream",
     "text": [
      "RF: 0.506646 (0.003613)\n",
      "NB: 0.497817 (0.002336)\n",
      "LR: 0.505002 (0.003866)\n"
     ]
    }
   ],
   "source": [
    "models = []\n",
    "models.append(('RF', RandomForestClassifier(n_estimators=20)))\n",
    "models.append(('NB', GaussianNB()))\n",
    "models.append(('LR', LogisticRegression(multi_class='multinomial', class_weight='balanced', solver='lbfgs', random_state=999, max_iter=10000)))\n",
    "results = []\n",
    "names = []\n",
    "for name, model in models:\n",
    "    kfold = StratifiedKFold(n_splits=10, random_state=1, shuffle=True)\n",
    "    cv_results = cross_val_score(model, Xf_train_base, yf_train_base, cv=kfold, scoring='accuracy')\n",
    "    results.append(cv_results)\n",
    "    names.append(name)\n",
    "    print('%s: %f (%f)' % (name, cv_results.mean(), cv_results.std()))"
   ]
  }
 ],
 "metadata": {
  "kernelspec": {
   "display_name": "Python 3",
   "language": "python",
   "name": "python3"
  },
  "language_info": {
   "codemirror_mode": {
    "name": "ipython",
    "version": 3
   },
   "file_extension": ".py",
   "mimetype": "text/x-python",
   "name": "python",
   "nbconvert_exporter": "python",
   "pygments_lexer": "ipython3",
   "version": "3.8.5"
  }
 },
 "nbformat": 4,
 "nbformat_minor": 4
}
