{
 "cells": [
  {
   "cell_type": "markdown",
   "metadata": {
    "id": "T28vBOo669I_"
   },
   "source": [
    "## Does unsupervised clustering improve model performance for classifiying survival months in Colorectal Cancer?"
   ]
  },
  {
   "cell_type": "code",
   "execution_count": 184,
   "metadata": {
    "executionInfo": {
     "elapsed": 577,
     "status": "ok",
     "timestamp": 1617893173205,
     "user": {
      "displayName": "Gloria Chan",
      "photoUrl": "",
      "userId": "05580339533920140505"
     },
     "user_tz": 240
    },
    "id": "urB3U4wZ69JE"
   },
   "outputs": [],
   "source": [
    "import pandas as pd\n",
    "import numpy as np\n",
    "import statistics"
   ]
  },
  {
   "cell_type": "code",
   "execution_count": 185,
   "metadata": {
    "colab": {
     "base_uri": "https://localhost:8080/",
     "height": 391
    },
    "executionInfo": {
     "elapsed": 379,
     "status": "error",
     "timestamp": 1617893528908,
     "user": {
      "displayName": "Gloria Chan",
      "photoUrl": "",
      "userId": "05580339533920140505"
     },
     "user_tz": 240
    },
    "id": "acgHWkdD69JF",
    "outputId": "cb14f879-b0fc-4143-bb57-b5142422cce8"
   },
   "outputs": [
    {
     "name": "stderr",
     "output_type": "stream",
     "text": [
      "C:\\Users\\Gchan\\Anaconda3\\lib\\site-packages\\IPython\\core\\interactiveshell.py:3146: DtypeWarning: Columns (107,143,151) have mixed types.Specify dtype option on import or set low_memory=False.\n",
      "  has_raised = await self.run_ast_nodes(code_ast.body, cell_name,\n"
     ]
    },
    {
     "data": {
      "text/html": [
       "<div>\n",
       "<style scoped>\n",
       "    .dataframe tbody tr th:only-of-type {\n",
       "        vertical-align: middle;\n",
       "    }\n",
       "\n",
       "    .dataframe tbody tr th {\n",
       "        vertical-align: top;\n",
       "    }\n",
       "\n",
       "    .dataframe thead th {\n",
       "        text-align: right;\n",
       "    }\n",
       "</style>\n",
       "<table border=\"1\" class=\"dataframe\">\n",
       "  <thead>\n",
       "    <tr style=\"text-align: right;\">\n",
       "      <th></th>\n",
       "      <th>Age recode with &lt;1 year olds</th>\n",
       "      <th>Sex</th>\n",
       "      <th>Year of diagnosis</th>\n",
       "      <th>PRCDA 2017</th>\n",
       "      <th>Race recode (W, B, AI, API)</th>\n",
       "      <th>Origin recode NHIA (Hispanic, Non-Hisp)</th>\n",
       "      <th>Race and origin recode (NHW, NHB, NHAIAN, NHAPI, Hispanic)</th>\n",
       "      <th>Site recode ICD-O-3/WHO 2008</th>\n",
       "      <th>Behavior recode for analysis</th>\n",
       "      <th>AYA site recode/WHO 2008</th>\n",
       "      <th>...</th>\n",
       "      <th>SS seq # - mal (least detail)</th>\n",
       "      <th>SS seq # 1975+ - mal (least detail)</th>\n",
       "      <th>SS seq # 1992+ - mal (least detail)</th>\n",
       "      <th>SS seq # 2000+ - mal (least detail)</th>\n",
       "      <th>Site - malignant (least detail)</th>\n",
       "      <th>Patient ID</th>\n",
       "      <th>Type of Reporting Source</th>\n",
       "      <th>Marital status at diagnosis</th>\n",
       "      <th>Median household income inflation adj to 2018</th>\n",
       "      <th>Rural-Urban Continuum Code</th>\n",
       "    </tr>\n",
       "  </thead>\n",
       "  <tbody>\n",
       "    <tr>\n",
       "      <th>0</th>\n",
       "      <td>65-69 years</td>\n",
       "      <td>Male</td>\n",
       "      <td>2000</td>\n",
       "      <td>Not PRCDA</td>\n",
       "      <td>White</td>\n",
       "      <td>Non-Spanish-Hispanic-Latino</td>\n",
       "      <td>Non-Hispanic White</td>\n",
       "      <td>Rectum</td>\n",
       "      <td>Malignant</td>\n",
       "      <td>8.6.1 Carcinoma of colon and rectum</td>\n",
       "      <td>...</td>\n",
       "      <td>1</td>\n",
       "      <td>1</td>\n",
       "      <td>1</td>\n",
       "      <td>1</td>\n",
       "      <td>Colon and Rectum - mal</td>\n",
       "      <td>19</td>\n",
       "      <td>Hospital inpatient/outpatient or clinic</td>\n",
       "      <td>Single (never married)</td>\n",
       "      <td>$75,000+</td>\n",
       "      <td>Counties in metropolitan areas ge 1 million pop</td>\n",
       "    </tr>\n",
       "    <tr>\n",
       "      <th>1</th>\n",
       "      <td>35-39 years</td>\n",
       "      <td>Female</td>\n",
       "      <td>2008</td>\n",
       "      <td>Not PRCDA</td>\n",
       "      <td>White</td>\n",
       "      <td>Spanish-Hispanic-Latino</td>\n",
       "      <td>Hispanic (All Races)</td>\n",
       "      <td>Rectosigmoid Junction</td>\n",
       "      <td>Malignant</td>\n",
       "      <td>8.6.1 Carcinoma of colon and rectum</td>\n",
       "      <td>...</td>\n",
       "      <td>1</td>\n",
       "      <td>1</td>\n",
       "      <td>1</td>\n",
       "      <td>1</td>\n",
       "      <td>Colon and Rectum - mal</td>\n",
       "      <td>25</td>\n",
       "      <td>Hospital inpatient/outpatient or clinic</td>\n",
       "      <td>Single (never married)</td>\n",
       "      <td>$75,000+</td>\n",
       "      <td>Counties in metropolitan areas ge 1 million pop</td>\n",
       "    </tr>\n",
       "    <tr>\n",
       "      <th>2</th>\n",
       "      <td>80-84 years</td>\n",
       "      <td>Female</td>\n",
       "      <td>2008</td>\n",
       "      <td>Not PRCDA</td>\n",
       "      <td>White</td>\n",
       "      <td>Non-Spanish-Hispanic-Latino</td>\n",
       "      <td>Non-Hispanic White</td>\n",
       "      <td>Ascending Colon</td>\n",
       "      <td>Malignant</td>\n",
       "      <td>8.6.1 Carcinoma of colon and rectum</td>\n",
       "      <td>...</td>\n",
       "      <td>1</td>\n",
       "      <td>1</td>\n",
       "      <td>1</td>\n",
       "      <td>1</td>\n",
       "      <td>Colon and Rectum - mal</td>\n",
       "      <td>337</td>\n",
       "      <td>Hospital inpatient/outpatient or clinic</td>\n",
       "      <td>Widowed</td>\n",
       "      <td>$75,000+</td>\n",
       "      <td>Counties in metropolitan areas ge 1 million pop</td>\n",
       "    </tr>\n",
       "    <tr>\n",
       "      <th>3</th>\n",
       "      <td>65-69 years</td>\n",
       "      <td>Female</td>\n",
       "      <td>2014</td>\n",
       "      <td>Not PRCDA</td>\n",
       "      <td>Asian or Pacific Islander</td>\n",
       "      <td>Non-Spanish-Hispanic-Latino</td>\n",
       "      <td>Non-Hispanic Asian or Pacific Islander</td>\n",
       "      <td>Rectum</td>\n",
       "      <td>Malignant</td>\n",
       "      <td>8.6.1 Carcinoma of colon and rectum</td>\n",
       "      <td>...</td>\n",
       "      <td>1</td>\n",
       "      <td>1</td>\n",
       "      <td>1</td>\n",
       "      <td>1</td>\n",
       "      <td>Colon and Rectum - mal</td>\n",
       "      <td>465</td>\n",
       "      <td>Hospital inpatient/outpatient or clinic</td>\n",
       "      <td>Single (never married)</td>\n",
       "      <td>$75,000+</td>\n",
       "      <td>Counties in metropolitan areas ge 1 million pop</td>\n",
       "    </tr>\n",
       "    <tr>\n",
       "      <th>4</th>\n",
       "      <td>75-79 years</td>\n",
       "      <td>Male</td>\n",
       "      <td>2004</td>\n",
       "      <td>Not PRCDA</td>\n",
       "      <td>White</td>\n",
       "      <td>Non-Spanish-Hispanic-Latino</td>\n",
       "      <td>Non-Hispanic White</td>\n",
       "      <td>Rectum</td>\n",
       "      <td>Malignant</td>\n",
       "      <td>8.6.1 Carcinoma of colon and rectum</td>\n",
       "      <td>...</td>\n",
       "      <td>1</td>\n",
       "      <td>1</td>\n",
       "      <td>1</td>\n",
       "      <td>1</td>\n",
       "      <td>Colon and Rectum - mal</td>\n",
       "      <td>764</td>\n",
       "      <td>Hospital inpatient/outpatient or clinic</td>\n",
       "      <td>Married (including common law)</td>\n",
       "      <td>$75,000+</td>\n",
       "      <td>Counties in metropolitan areas ge 1 million pop</td>\n",
       "    </tr>\n",
       "  </tbody>\n",
       "</table>\n",
       "<p>5 rows × 196 columns</p>\n",
       "</div>"
      ],
      "text/plain": [
       "  Age recode with <1 year olds     Sex  Year of diagnosis PRCDA 2017  \\\n",
       "0                  65-69 years    Male               2000  Not PRCDA   \n",
       "1                  35-39 years  Female               2008  Not PRCDA   \n",
       "2                  80-84 years  Female               2008  Not PRCDA   \n",
       "3                  65-69 years  Female               2014  Not PRCDA   \n",
       "4                  75-79 years    Male               2004  Not PRCDA   \n",
       "\n",
       "  Race recode (W, B, AI, API) Origin recode NHIA (Hispanic, Non-Hisp)  \\\n",
       "0                       White             Non-Spanish-Hispanic-Latino   \n",
       "1                       White                 Spanish-Hispanic-Latino   \n",
       "2                       White             Non-Spanish-Hispanic-Latino   \n",
       "3   Asian or Pacific Islander             Non-Spanish-Hispanic-Latino   \n",
       "4                       White             Non-Spanish-Hispanic-Latino   \n",
       "\n",
       "  Race and origin recode (NHW, NHB, NHAIAN, NHAPI, Hispanic)  \\\n",
       "0                                 Non-Hispanic White           \n",
       "1                               Hispanic (All Races)           \n",
       "2                                 Non-Hispanic White           \n",
       "3             Non-Hispanic Asian or Pacific Islander           \n",
       "4                                 Non-Hispanic White           \n",
       "\n",
       "  Site recode ICD-O-3/WHO 2008 Behavior recode for analysis  \\\n",
       "0                       Rectum                    Malignant   \n",
       "1        Rectosigmoid Junction                    Malignant   \n",
       "2              Ascending Colon                    Malignant   \n",
       "3                       Rectum                    Malignant   \n",
       "4                       Rectum                    Malignant   \n",
       "\n",
       "              AYA site recode/WHO 2008  ... SS seq # - mal (least detail)  \\\n",
       "0  8.6.1 Carcinoma of colon and rectum  ...                             1   \n",
       "1  8.6.1 Carcinoma of colon and rectum  ...                             1   \n",
       "2  8.6.1 Carcinoma of colon and rectum  ...                             1   \n",
       "3  8.6.1 Carcinoma of colon and rectum  ...                             1   \n",
       "4  8.6.1 Carcinoma of colon and rectum  ...                             1   \n",
       "\n",
       "  SS seq # 1975+ - mal (least detail) SS seq # 1992+ - mal (least detail)  \\\n",
       "0                                   1                                   1   \n",
       "1                                   1                                   1   \n",
       "2                                   1                                   1   \n",
       "3                                   1                                   1   \n",
       "4                                   1                                   1   \n",
       "\n",
       "  SS seq # 2000+ - mal (least detail) Site - malignant (least detail)  \\\n",
       "0                                   1          Colon and Rectum - mal   \n",
       "1                                   1          Colon and Rectum - mal   \n",
       "2                                   1          Colon and Rectum - mal   \n",
       "3                                   1          Colon and Rectum - mal   \n",
       "4                                   1          Colon and Rectum - mal   \n",
       "\n",
       "   Patient ID                 Type of Reporting Source  \\\n",
       "0          19  Hospital inpatient/outpatient or clinic   \n",
       "1          25  Hospital inpatient/outpatient or clinic   \n",
       "2         337  Hospital inpatient/outpatient or clinic   \n",
       "3         465  Hospital inpatient/outpatient or clinic   \n",
       "4         764  Hospital inpatient/outpatient or clinic   \n",
       "\n",
       "      Marital status at diagnosis  \\\n",
       "0          Single (never married)   \n",
       "1          Single (never married)   \n",
       "2                         Widowed   \n",
       "3          Single (never married)   \n",
       "4  Married (including common law)   \n",
       "\n",
       "  Median household income inflation adj to 2018  \\\n",
       "0                                      $75,000+   \n",
       "1                                      $75,000+   \n",
       "2                                      $75,000+   \n",
       "3                                      $75,000+   \n",
       "4                                      $75,000+   \n",
       "\n",
       "                        Rural-Urban Continuum Code  \n",
       "0  Counties in metropolitan areas ge 1 million pop  \n",
       "1  Counties in metropolitan areas ge 1 million pop  \n",
       "2  Counties in metropolitan areas ge 1 million pop  \n",
       "3  Counties in metropolitan areas ge 1 million pop  \n",
       "4  Counties in metropolitan areas ge 1 million pop  \n",
       "\n",
       "[5 rows x 196 columns]"
      ]
     },
     "execution_count": 185,
     "metadata": {},
     "output_type": "execute_result"
    }
   ],
   "source": [
    "data = pd.read_csv('export1.csv')\n",
    "data.head()"
   ]
  },
  {
   "cell_type": "markdown",
   "metadata": {
    "id": "3sJy11KX69JG"
   },
   "source": [
    "## Trimming down number of columns and rows"
   ]
  },
  {
   "cell_type": "code",
   "execution_count": 186,
   "metadata": {
    "id": "4FDnz0R069JH",
    "outputId": "12c8fda1-9881-4632-afb4-465b8c4259d5",
    "scrolled": true
   },
   "outputs": [
    {
     "data": {
      "text/plain": [
       "Age recode with <1 year olds                     0\n",
       "Sex                                              0\n",
       "Year of diagnosis                                0\n",
       "PRCDA 2017                                       0\n",
       "Race recode (W, B, AI, API)                      0\n",
       "                                                ..\n",
       "Patient ID                                       0\n",
       "Type of Reporting Source                         0\n",
       "Marital status at diagnosis                      0\n",
       "Median household income inflation adj to 2018    0\n",
       "Rural-Urban Continuum Code                       0\n",
       "Length: 196, dtype: int64"
      ]
     },
     "execution_count": 186,
     "metadata": {},
     "output_type": "execute_result"
    }
   ],
   "source": [
    "(data == 'Blank(s)').sum(axis=0)"
   ]
  },
  {
   "cell_type": "code",
   "execution_count": 187,
   "metadata": {
    "id": "8hDbM_a869JH"
   },
   "outputs": [],
   "source": [
    "data = data.loc[:, data.isin(['Blank(s)']).mean() < .4]"
   ]
  },
  {
   "cell_type": "markdown",
   "metadata": {
    "id": "i_P3yY2G69JH"
   },
   "source": [
    "Sum of \"Blank(s)\" within each column, remove column with over 60% \"Blank(s)\"  \n",
    "**Removed 76 columns, from 196 to 120 columns**"
   ]
  },
  {
   "cell_type": "code",
   "execution_count": 188,
   "metadata": {
    "id": "bljrwXjr69JH"
   },
   "outputs": [
    {
     "name": "stdout",
     "output_type": "stream",
     "text": [
      "['65-69 years' '35-39 years' '80-84 years' '75-79 years' '60-64 years'\n",
      " '70-74 years' '45-49 years' '85+ years' '40-44 years' '50-54 years'\n",
      " '55-59 years' '30-34 years' '20-24 years' '25-29 years' '15-19 years'\n",
      " '00 years' '10-14 years' '05-09 years' '01-04 years']\n",
      "['Male' 'Female']\n",
      "[2000 2008 2014 2004 2011 2007 2009 2005 2017 2015 2001 2016 2012 2006\n",
      " 2003 2013 2002 2010]\n",
      "['Not PRCDA' 'PRCDA' 'Unknown PRCDA']\n",
      "['White' 'Asian or Pacific Islander' 'American Indian/Alaska Native'\n",
      " 'Black' 'Unknown']\n",
      "['Non-Spanish-Hispanic-Latino' 'Spanish-Hispanic-Latino']\n",
      "['Non-Hispanic White' 'Hispanic (All Races)'\n",
      " 'Non-Hispanic Asian or Pacific Islander' 'Non-Hispanic Black'\n",
      " 'Non-Hispanic American Indian/Alaska Native' 'Non-Hispanic Unknown Race']\n",
      "['Rectum' 'Rectosigmoid Junction' 'Ascending Colon' 'Appendix'\n",
      " 'Sigmoid Colon' 'Cecum' 'Large Intestine, NOS' 'Transverse Colon'\n",
      " 'Splenic Flexure' 'Descending Colon' 'Hepatic Flexure']\n",
      "['Malignant']\n",
      "['8.6.1 Carcinoma of colon and rectum'\n",
      " '10 Unspecified Malignant Neoplasms'\n",
      " '9.2.4 Other specified neoplasms, NOS'\n",
      " '5.3.2 Unspecified soft tissue sarcoma'\n",
      " '5.3.1.1 Specified (excluding Kaposi sarcoma)' '7.1 Melanoma'\n",
      " '8.6.5 Carc oth and ill-def sites, gastrointestinal tract'\n",
      " '5.1 Fibromatous neoplasms' '6.2.2 Other nongonadal'\n",
      " '5.2 Rhabdomyosarcoma' '9.2.1 Paraganglioma and glomus tumors'\n",
      " '9.1.3 Other pediatric and embryonal tumors, NOS' '4.1 Osteosarcoma'\n",
      " '4.3 Ewing tumor' '3.4.2 Supratentorial PNET'\n",
      " 'Unclassified and Non-Malignant' '9.1.2 Neuroblastoma']\n",
      "['Unclassified']\n",
      "['XIf Other and unspecified carcinomas'\n",
      " 'XIIb Other unspecified malignant tumors'\n",
      " 'XIIa Other specified malignant tumors'\n",
      " 'IXe Unspecified soft tissue sarcomas'\n",
      " 'IXd Other specified soft tissue sarcomas' 'XId Malignant melanomas'\n",
      " 'IXb Fibrosarcomas, peripheral nerve sheath tumors and oth fibrous neoplasms'\n",
      " 'Not classified by ICCC or in situ'\n",
      " 'Xb Malignant extracranial and extragonadal germ cell tumors'\n",
      " 'IXa Rhabdomyosarcomas' 'VIb Renal carcinomas' 'XIb Thyroid carcinomas'\n",
      " 'IIIc Intracranial and intraspinal embryonal tumors'\n",
      " 'Xd Gonadal carcinomas' 'IVa Neuroblastoma and ganglioneuroblastoma'\n",
      " 'IVb Other peripheral nervous cell tumors' 'VIIb Hepatic carcinomas'\n",
      " 'IIIe Other specified intracranial and intraspinal neoplasms']\n",
      "['Rectum' 'Colon' 'Appendix' 'NETRectum' 'NETColon' 'GISTColon'\n",
      " 'GISTRectum' 'CarcinoidAppendix' 'DigestiveOther' 'GISTAppendix']\n",
      "['Rectum' 'Colon' 'OthDigestive']\n",
      "['C20.9-Rectum, NOS' 'C19.9-Rectosigmoid junction' 'C18.2-Ascending colon'\n",
      " 'C18.1-Appendix' 'C18.7-Sigmoid colon' 'C18.0-Cecum' 'C18.9-Colon, NOS'\n",
      " 'C18.4-Transverse colon' 'C18.5-Splenic flexure of colon'\n",
      " 'C18.6-Descending colon' 'C18.8-Overlapping lesion of colon'\n",
      " 'C18.3-Hepatic flexure of colon' 'C26.0-Intestinal tract, NOS']\n",
      "[209 199 182 181 187 180 189 184 185 186 188 183 260]\n",
      "[8140 8480 8261 8246 8000 8263 8210 8490 8240 8243 8083 8010 8123 8481\n",
      " 8262 8936 8211 8244 8041 8255 8070 8510 8800 8560 8013 8890 8980 8021\n",
      " 8720 8221 8245 8220 8032 8470 8574 8124 8570 8249 8001 8071 8933 8801\n",
      " 8145 8046 8310 8072 8020 8440 8814 8542 8014 8323 8550 8891 8241 8507\n",
      " 8144 8094 8572 9100 8523 8260 9540 8503 8143 8050 8012 8141 8950 8051\n",
      " 8576 8441 8721 8746 8033 8142 9120 8380 8802 8045 8806 8213 8830 8120\n",
      " 8730 8931 8030 8920 8461 8500 8858 8084 8242 8082 8201 8772 8022 8711\n",
      " 8230 8951 9065 9040 8805 8073 8004 8251 8312 8551 8571 8744 8430 8896\n",
      " 9580 8825 8963 9180 8900 8815 8052 8074 8460 9364 8410 8031 8810 8044\n",
      " 8341 8482 9473 8851 8935 8471 9015 8850 8804 8075 8722 8320 8042 8076\n",
      " 9044 9130 8811 9260 8043 8982 8761 8015 8253 9560 8573 9085 9500 8003\n",
      " 9064 8147 8930 8683 8940 8780 8770 9150 8002 8153 8472 8160 8011 8280\n",
      " 9041 8005 9561]\n",
      "['Malignant']\n",
      "['Well differentiated; Grade I' 'Moderately differentiated; Grade II'\n",
      " 'Poorly differentiated; Grade III' 'Unknown'\n",
      " 'Undifferentiated; anaplastic; Grade IV']\n",
      "['Not a paired  site' 'Right - origin of primary'\n",
      " 'Left - origin of primary'\n",
      " 'Paired site, but no information concerning laterality'\n",
      " 'Only one side - side unspecified' 'Bilateral, single primary']\n",
      "['Positive histology' 'Clinical diagnosis only'\n",
      " 'Radiography without microscopic confirm'\n",
      " 'Positive exfoliative cytology, no positive histology'\n",
      " 'Positive laboratory test/marker study' 'Unknown'\n",
      " 'Direct visualization without microscopic confirmation'\n",
      " 'Positive microscopic confirm, method not specified'\n",
      " 'Pos hist AND immunophenotyping AND/OR pos genetic studies']\n",
      "['8140/3: Adenocarcinoma, NOS' '8480/3: Mucinous adenocarcinoma'\n",
      " '8261/3: Adenocarcinoma in villous adenoma'\n",
      " '8246/3: Neuroendocrine carcinoma, NOS' '8000/3: Neoplasm, malignant'\n",
      " '8263/3: Adenocarcinoma in tubulovillous adenoma'\n",
      " '8210/3: Adenocarcinoma in adenomatous polyp'\n",
      " '8490/3: Signet ring cell carcinoma' '8240/3: Carcinoid tumor, NOS'\n",
      " '8243/3: Goblet cell carcinoid'\n",
      " '8083/3: Basaloid squamous cell carcinoma' '8010/3: Carcinoma, NOS'\n",
      " '8123/3: Basaloid carcinoma' '8481/3: Mucin-producing adenocarcinoma'\n",
      " '8262/3: Villous adenocarcinoma'\n",
      " '8936/3: Gastrointestinal stromal sarcoma'\n",
      " '8211/3: Tubular adenocarcinoma'\n",
      " '8244/3: Mixed adenoneuroendocrine carcinoma (ICD-O-3 update)'\n",
      " '8041/3: Small cell carcinoma, NOS'\n",
      " '8255/3: Adenocarcinoma with mixed subtypes'\n",
      " '8070/3: Squamous cell carcinoma, NOS' '8510/3: Medullary carcinoma, NOS'\n",
      " '8800/3: Sarcoma, NOS' '8560/3: Adenosquamous carcinoma'\n",
      " '8013/3: Large cell neuroendocrine carcinoma'\n",
      " '8890/3: Leiomyosarcoma, NOS' '8980/3: Carcinosarcoma, NOS'\n",
      " '8021/3: Carcinoma, anaplastic, NOS' '8720/3: Malignant melanoma, NOS'\n",
      " '8221/3: Adenocarcinoma in multiple adenomatous polyps'\n",
      " '8245/3: Adenocarcinoid tumor'\n",
      " '8220/3: Adenocarcinoma in adenomatous polyposis coli'\n",
      " '8032/3: Spindle cell carcinoma, NOS'\n",
      " '8470/3: Mucinous cystadenocarcinoma, NOS'\n",
      " '8574/3: Adenocarcinoma with neuroendocrine differentiation'\n",
      " '8124/3: Cloacogenic carcinoma'\n",
      " '8570/3: Adenocarcinoma with squamous metaplasia'\n",
      " '8249/3: Atypical carcinoid tumor' '8001/3: Tumor cells, malignant'\n",
      " '8071/3: Squamous cell carcinoma, keratinizing, NOS'\n",
      " '8933/3: Adenosarcoma' '8801/3: Spindle cell sarcoma'\n",
      " '8145/3: Carcinoma, diffuse type' '8046/3: Non-small cell carcinoma'\n",
      " '8310/3: Clear cell adenocarcinoma, NOS'\n",
      " '8072/3: Squamous cell carcinoma, large cell, nonkeratinizing, NOS'\n",
      " '8020/3: Carcinoma, undifferentiated, NOS'\n",
      " '8440/3: Cystadenocarcinoma, NOS' '8814/3: Infantile fibrosarcoma'\n",
      " '8542/3: Paget disease, extramammary (except Paget disease of bone)'\n",
      " '8014/3: Large cell carcinoma with rhabdoid phenotype'\n",
      " '8323/3: Mixed cell adenocarcinoma' '8550/3: Acinar cell carcinoma'\n",
      " '8891/3: Epithelioid leiomyosarcoma'\n",
      " '8241/3: Enterochromaffin cell carcinoid'\n",
      " '8507/3: Ductal carcinoma, micropapillary'\n",
      " '8144/3: Adenocarcinoma, intestinal type'\n",
      " '8094/3: Basosquamous carcinoma'\n",
      " '8572/3: Adenocarcinoma with spindle cell metaplasia'\n",
      " '9100/3: Choriocarcinoma, NOS'\n",
      " '8523/3: Infiltrating duct mixed with other types of carcinoma'\n",
      " '8260/3: Papillary adenocarcinoma, NOS'\n",
      " '9540/3: Malignant peripheral nerve sheath tumor'\n",
      " '8503/3: Intraductal papillary adenocarcinoma with invasion'\n",
      " '8143/3: Superficial spreading adenocarcinoma'\n",
      " '8050/3: Papillary carcinoma, NOS' '8012/3: Large cell carcinoma, NOS'\n",
      " '8141/3: Scirrhous adenocarcinoma' '8950/3: Mullerian mixed tumor'\n",
      " '8051/3: Verrucous carcinoma, NOS' '8576/3: Hepatoid adenocarcinoma'\n",
      " '8441/3: Serous cystadenocarcinoma, NOS' '8721/3: Nodular melanoma'\n",
      " '8746/3: Mucosal lentiginous melanoma'\n",
      " '8033/3: Pseudosarcomatous carcinoma' '8142/3: Linitis plastica'\n",
      " '9120/3: Hemangiosarcoma' '8380/3: Endometrioid carcinoma'\n",
      " '8802/3: Giant cell sarcoma' '8045/3: Combined small cell carcinoma'\n",
      " '8806/3: Desmoplastic small round cell tumor'\n",
      " '8213/3: Serrated adenocarcinoma'\n",
      " '8830/3: Malignant fibrous histiocytoma'\n",
      " '8120/3: Transitional cell carcinoma, NOS' '8730/3: Amelanotic melanoma'\n",
      " '8931/3: Endometrial stromal sarcoma, low grade'\n",
      " '8030/3: Giant cell and spindle cell carcinoma'\n",
      " '8920/3: Alveolar rhabdomyosarcoma'\n",
      " '8461/3: Serous surface papillary carcinoma'\n",
      " '8500/3: Infiltrating duct carcinoma, NOS'\n",
      " '8858/3: Dedifferentiated liposarcoma'\n",
      " '8084/3: Squamous cell carcinoma, clear cell type'\n",
      " '8242/3: Enterochromaffin-like cell tumor, malignant'\n",
      " '8082/3: Lymphoepithelial carcinoma' '8201/3: Cribriform carcinoma, NOS'\n",
      " '8772/3: Spindle cell melanoma, NOS' '8022/3: Pleomorphic carcinoma'\n",
      " '8711/3: Glomus tumor, malignant' '8230/3: Solid carcinoma, NOS'\n",
      " '8951/3: Mesodermal mixed tumor'\n",
      " '9065/3: Germ cell tumor, nonseminomatous'\n",
      " '9040/3: Synovial sarcoma, NOS' '8805/3: Undifferentiated sarcoma'\n",
      " '8073/3: Squamous cell carcinoma, small cell, nonkeratinizing'\n",
      " '8004/3: Malignant tumor, spindle cell type'\n",
      " '8251/3: Alveolar adenocarcinoma' '8312/3: Renal cell carcinoma'\n",
      " '8551/3: Acinar cell cystadenocarcinoma'\n",
      " '8571/3: Adenocarcinoma with cartilaginous and osseous metaplasia'\n",
      " '8744/3: Acral lentiginous melanoma, malignant'\n",
      " '8430/3: Mucoepidermoid carcinoma' '8896/3: Myxoid leiomyosarcoma'\n",
      " '9580/3: Granular cell tumor, malignant'\n",
      " '8825/3: Myofibroblastoma, malignant' '8963/3: Malignant rhabdoid tumor'\n",
      " '9180/3: Osteosarcoma, NOS' '8900/3: Rhabdomyosarcoma, NOS'\n",
      " '8815/3: Solitary fibrous tumor, malignant'\n",
      " '8052/3: Papillary squamous cell carcinoma'\n",
      " '8074/3: Squamous cell carcinoma, spindle cell'\n",
      " '8460/3: Papillary serous cystadenocarcinoma'\n",
      " '9364/3: Peripheral neuroectodermal tumor'\n",
      " '8410/3: Sebaceous adenocarcinoma' '8031/3: Giant cell carcinoma'\n",
      " '8810/3: Fibrosarcoma, NOS'\n",
      " '8044/3: Small cell carcinoma, intermediate cell'\n",
      " '8341/3: Papillary microcarcinoma'\n",
      " '8482/3: Mucinous adenocarcinoma, endocervical type'\n",
      " '9473/3: Primitive neuroectodermal tumor'\n",
      " '8851/3: Liposarcoma, well differentiated' '8935/3: Stromal sarcoma, NOS'\n",
      " '8471/3: Papillary mucinous cystadenocarcinoma'\n",
      " '9015/3: Mucinous adenocarcinofibroma' '8850/3: Liposarcoma, NOS'\n",
      " '8804/3: Epithelioid sarcoma' '8075/3: Squamous cell carcinoma, adenoid'\n",
      " '8722/3: Balloon cell melanoma' '8320/3: Granular cell carcinoma'\n",
      " '8042/3: Oat cell carcinoma'\n",
      " '8076/3: Squamous cell carcinoma, micro-invasive'\n",
      " '9044/3: Clear cell sarcoma, NOS (except of kidney M-8964/3)'\n",
      " '9130/3: Hemangioendothelioma, malignant' '8811/3: Fibromyxosarcoma'\n",
      " '9260/3: Ewing sarcoma' '8043/3: Small cell carcinoma, fusiform cell'\n",
      " '8982/3: Malignant myoepithelioma'\n",
      " '8761/3: Malignant melanoma in giant pigmented nevus'\n",
      " '8015/3: Glassy cell carcinoma'\n",
      " '8253/3: Bronchiolo-alveolar carcinoma, mucinous'\n",
      " '9560/3: Neurilemoma, malignant (OBS)'\n",
      " '8573/3: Adenocarcinoma with apocrine metaplasia'\n",
      " '9085/3: Mixed germ cell tumor' '9500/3: Neuroblastoma, NOS'\n",
      " '8003/3: Malignant tumor, giant cell type' '9064/3: Germinoma'\n",
      " '8147/3: Basal cell adenocarcinoma'\n",
      " '8930/3: Endometrial stromal sarcoma, NOS'\n",
      " '8683/3: Gangliocytic paraganglioma, malignant'\n",
      " '8940/3: Mixed tumor, malignant, NOS' '8780/3: Blue nevus, malignant'\n",
      " '8770/3: Mixed epithelioid and spindle cell melanoma'\n",
      " '9150/3: Hemangiopericytoma, malignant'\n",
      " '8002/3: Malignant tumor, small cell type'\n",
      " '8153/3: Gastrinoma, malignant' '8472/3: Mucinous cystadenocarcinoma'\n",
      " '8160/3: Cholangiocarcinoma' '8011/3: Epithelioma, malignant'\n",
      " '8280/3: Acidophil carcinoma' '9041/3: Synovial sarcoma, spindle cell'\n",
      " '8005/3: Malignant tumor, clear cell type'\n",
      " '9561/3: MPNST with rhabdomyoblastic differentiation']\n",
      "['8140/3: Adenocarcinoma, NOS' '8480/3: Mucinous adenocarcinoma'\n",
      " '8261/3: Adenocarcinoma in villous adenoma'\n",
      " '8246/3: Neuroendocrine carcinoma, NOS' '8000/3: Neoplasm, malignant'\n",
      " '8263/3: Adenocarcinoma in tubulovillous adenoma'\n",
      " '8210/3: Adenocarcinoma in adenomatous polyp'\n",
      " '8490/3: Signet ring cell carcinoma' '8240/3: Carcinoid tumor, NOS'\n",
      " '8243/3: Goblet cell carcinoid'\n",
      " '8083/3: Basaloid squamous cell carcinoma' '8010/3: Carcinoma, NOS'\n",
      " '8123/3: Basaloid carcinoma' '8481/3: Mucin-producing adenocarcinoma'\n",
      " '8262/3: Villous adenocarcinoma'\n",
      " '8936/3: Gastrointestinal stromal sarcoma'\n",
      " '8211/3: Tubular adenocarcinoma'\n",
      " '8244/3: Mixed adenoneuroendocrine carcinoma (ICD-O-3 update)'\n",
      " '8041/3: Small cell carcinoma, NOS'\n",
      " '8255/3: Adenocarcinoma with mixed subtypes'\n",
      " '8070/3: Squamous cell carcinoma, NOS' '8510/3: Medullary carcinoma, NOS'\n",
      " '8800/3: Sarcoma, NOS' '8560/3: Adenosquamous carcinoma'\n",
      " '8013/3: Large cell neuroendocrine carcinoma'\n",
      " '8890/3: Leiomyosarcoma, NOS' '8980/3: Carcinosarcoma, NOS'\n",
      " '8021/3: Carcinoma, anaplastic, NOS' '8720/3: Malignant melanoma, NOS'\n",
      " '8221/3: Adenocarcinoma in multiple adenomatous polyps'\n",
      " '8245/3: Adenocarcinoid tumor'\n",
      " '8220/3: Adenocarcinoma in adenomatous polyposis coli'\n",
      " '8032/3: Spindle cell carcinoma, NOS'\n",
      " '8470/3: Mucinous cystadenocarcinoma, NOS'\n",
      " '8574/3: Adenocarcinoma with neuroendocrine differentiation'\n",
      " '8124/3: Cloacogenic carcinoma'\n",
      " '8570/3: Adenocarcinoma with squamous metaplasia'\n",
      " '8249/3: Atypical carcinoid tumor' '8001/3: Tumor cells, malignant'\n",
      " '8071/3: Squamous cell carcinoma, keratinizing, NOS'\n",
      " '8933/3: Adenosarcoma' '8801/3: Spindle cell sarcoma'\n",
      " '8145/3: Carcinoma, diffuse type' '8046/3: Non-small cell carcinoma'\n",
      " '8310/3: Clear cell adenocarcinoma, NOS'\n",
      " '8072/3: Squamous cell carcinoma, large cell, nonkeratinizing, NOS'\n",
      " '8020/3: Carcinoma, undifferentiated, NOS'\n",
      " '8440/3: Cystadenocarcinoma, NOS' '8814/3: Infantile fibrosarcoma'\n",
      " '8542/3: Paget disease, extramammary (except Paget disease of bone)'\n",
      " '8014/3: Large cell carcinoma with rhabdoid phenotype'\n",
      " '8323/3: Mixed cell adenocarcinoma' '8550/3: Acinar cell carcinoma'\n",
      " '8891/3: Epithelioid leiomyosarcoma'\n",
      " '8241/3: Enterochromaffin cell carcinoid'\n",
      " '8507/3: Ductal carcinoma, micropapillary'\n",
      " '8144/3: Adenocarcinoma, intestinal type'\n",
      " '8094/3: Basosquamous carcinoma'\n",
      " '8572/3: Adenocarcinoma with spindle cell metaplasia'\n",
      " '9100/3: Choriocarcinoma, NOS'\n",
      " '8523/3: Infiltrating duct mixed with other types of carcinoma'\n",
      " '8260/3: Papillary adenocarcinoma, NOS'\n",
      " '9540/3: Malignant peripheral nerve sheath tumor'\n",
      " '8503/3: Intraductal papillary adenocarcinoma with invasion'\n",
      " '8143/3: Superficial spreading adenocarcinoma'\n",
      " '8050/3: Papillary carcinoma, NOS' '8012/3: Large cell carcinoma, NOS'\n",
      " '8141/3: Scirrhous adenocarcinoma' '8950/3: Mullerian mixed tumor'\n",
      " '8051/3: Verrucous carcinoma, NOS' '8576/3: Hepatoid adenocarcinoma'\n",
      " '8441/3: Serous cystadenocarcinoma, NOS' '8721/3: Nodular melanoma'\n",
      " '8746/3: Mucosal lentiginous melanoma'\n",
      " '8033/3: Pseudosarcomatous carcinoma' '8142/3: Linitis plastica'\n",
      " '9120/3: Hemangiosarcoma' '8380/3: Endometrioid carcinoma'\n",
      " '8802/3: Giant cell sarcoma' '8045/3: Combined small cell carcinoma'\n",
      " '8806/3: Desmoplastic small round cell tumor'\n",
      " '8213/3: Serrated adenocarcinoma'\n",
      " '8830/3: Malignant fibrous histiocytoma'\n",
      " '8120/3: Transitional cell carcinoma, NOS' '8730/3: Amelanotic melanoma'\n",
      " '8931/3: Endometrial stromal sarcoma, low grade'\n",
      " '8030/3: Giant cell and spindle cell carcinoma'\n",
      " '8920/3: Alveolar rhabdomyosarcoma'\n",
      " '8461/3: Serous surface papillary carcinoma'\n",
      " '8500/3: Infiltrating duct carcinoma, NOS'\n",
      " '8858/3: Dedifferentiated liposarcoma'\n",
      " '8084/3: Squamous cell carcinoma, clear cell type'\n",
      " '8242/3: Enterochromaffin-like cell tumor, malignant'\n",
      " '8082/3: Lymphoepithelial carcinoma' '8201/3: Cribriform carcinoma, NOS'\n",
      " '8772/3: Spindle cell melanoma, NOS' '8022/3: Pleomorphic carcinoma'\n",
      " '8711/3: Glomus tumor, malignant' '8230/3: Solid carcinoma, NOS'\n",
      " '8951/3: Mesodermal mixed tumor'\n",
      " '9065/3: Germ cell tumor, nonseminomatous'\n",
      " '9040/3: Synovial sarcoma, NOS' '8805/3: Undifferentiated sarcoma'\n",
      " '8073/3: Squamous cell carcinoma, small cell, nonkeratinizing'\n",
      " '8004/3: Malignant tumor, spindle cell type'\n",
      " '8251/3: Alveolar adenocarcinoma' '8312/3: Renal cell carcinoma'\n",
      " '8551/3: Acinar cell cystadenocarcinoma'\n",
      " '8571/3: Adenocarcinoma with cartilaginous and osseous metaplasia'\n",
      " '8744/3: Acral lentiginous melanoma, malignant'\n",
      " '8430/3: Mucoepidermoid carcinoma' '8896/3: Myxoid leiomyosarcoma'\n",
      " '9580/3: Granular cell tumor, malignant'\n",
      " '8825/3: Myofibroblastoma, malignant' '8963/3: Malignant rhabdoid tumor'\n",
      " '9180/3: Osteosarcoma, NOS' '8900/3: Rhabdomyosarcoma, NOS'\n",
      " '8815/3: Solitary fibrous tumor, malignant'\n",
      " '8052/3: Papillary squamous cell carcinoma'\n",
      " '8074/3: Squamous cell carcinoma, spindle cell'\n",
      " '8460/3: Papillary serous cystadenocarcinoma'\n",
      " '9364/3: Peripheral neuroectodermal tumor'\n",
      " '8410/3: Sebaceous adenocarcinoma' '8031/3: Giant cell carcinoma'\n",
      " '8810/3: Fibrosarcoma, NOS'\n",
      " '8044/3: Small cell carcinoma, intermediate cell'\n",
      " '8341/3: Papillary microcarcinoma'\n",
      " '8482/3: Mucinous adenocarcinoma, endocervical type'\n",
      " '9473/3: Primitive neuroectodermal tumor'\n",
      " '8851/3: Liposarcoma, well differentiated' '8935/3: Stromal sarcoma, NOS'\n",
      " '8471/3: Papillary mucinous cystadenocarcinoma'\n",
      " '9015/3: Mucinous adenocarcinofibroma' '8850/3: Liposarcoma, NOS'\n",
      " '8804/3: Epithelioid sarcoma' '8075/3: Squamous cell carcinoma, adenoid'\n",
      " '8722/3: Balloon cell melanoma' '8320/3: Granular cell carcinoma'\n",
      " '8042/3: Oat cell carcinoma'\n",
      " '8076/3: Squamous cell carcinoma, micro-invasive'\n",
      " '9044/3: Clear cell sarcoma, NOS (except of kidney M-8964/3)'\n",
      " '9130/3: Hemangioendothelioma, malignant' '8811/3: Fibromyxosarcoma'\n",
      " '9260/3: Ewing sarcoma' '8043/3: Small cell carcinoma, fusiform cell'\n",
      " '8982/3: Malignant myoepithelioma'\n",
      " '8761/3: Malignant melanoma in giant pigmented nevus'\n",
      " '8015/3: Glassy cell carcinoma'\n",
      " '8253/3: Bronchiolo-alveolar carcinoma, mucinous'\n",
      " '9560/3: Neurilemoma, malignant (OBS)'\n",
      " '8573/3: Adenocarcinoma with apocrine metaplasia'\n",
      " '9085/3: Mixed germ cell tumor' '9500/3: Neuroblastoma, NOS'\n",
      " '8003/3: Malignant tumor, giant cell type' '9064/3: Germinoma'\n",
      " '8147/3: Basal cell adenocarcinoma'\n",
      " '8930/3: Endometrial stromal sarcoma, NOS'\n",
      " '8683/3: Gangliocytic paraganglioma, malignant'\n",
      " '8940/3: Mixed tumor, malignant, NOS' '8780/3: Blue nevus, malignant'\n",
      " '8770/3: Mixed epithelioid and spindle cell melanoma'\n",
      " '9150/3: Hemangiopericytoma, malignant'\n",
      " '8002/3: Malignant tumor, small cell type'\n",
      " '8153/3: Gastrinoma, malignant' '8472/3: Mucinous cystadenocarcinoma'\n",
      " '8160/3: Cholangiocarcinoma' '8011/3: Epithelioma, malignant'\n",
      " '8280/3: Acidophil carcinoma' '9041/3: Synovial sarcoma, spindle cell'\n",
      " '8005/3: Malignant tumor, clear cell type'\n",
      " '9561/3: MPNST with rhabdomyoblastic differentiation']\n",
      "['8140-8389: adenomas and adenocarcinomas'\n",
      " '8440-8499: cystic, mucinous and serous neoplasms'\n",
      " '8000-8009: unspecified neoplasms' '8050-8089: squamous cell neoplasms'\n",
      " '8010-8049: epithelial neoplasms, NOS'\n",
      " '8120-8139: transitional cell papillomas and carcinomas'\n",
      " '8930-8999: complex mixed and stromal neoplasms'\n",
      " '8500-8549: ductal and lobular neoplasms'\n",
      " '8800-8809: soft tissue tumors and sarcomas, NOS'\n",
      " '8560-8579: complex epithelial neoplasms'\n",
      " '8890-8929: myomatous neoplasms' '8720-8799: nevi and melanomas'\n",
      " '8810-8839: fibromatous neoplasms' '8550-8559: acinar cell neoplasms'\n",
      " '8090-8119: basal cell neoplasms' '9100-9109: trophoblastic neoplasms'\n",
      " '9540-9579: nerve sheath tumors' '9120-9169: blood vessel tumors'\n",
      " '8850-8889: lipomatous neoplasms'\n",
      " '8680-8719: paragangliomas and glumus tumors'\n",
      " '9060-9099: germ cell neoplasms' '9040-9049: synovial-like neoplasms'\n",
      " '8430-8439: mucoepidermoid neoplasms'\n",
      " '9580-9589: granular cell tumors & alveolar soft part sarcoma'\n",
      " '9180-9249: osseous and chondromatous neoplasms'\n",
      " '9350-9379: miscellaneous tumors'\n",
      " '8390-8429: adnexal and skin appendage neoplasms' '9380-9489: gliomas'\n",
      " '9000-9039: fibroepithelial neoplasms'\n",
      " '9260-9269: miscellaneous bone tumors (C40._, C41._)'\n",
      " '9490-9529: neuroepitheliomatous neoplasms']\n"
     ]
    },
    {
     "name": "stdout",
     "output_type": "stream",
     "text": [
      "['Not Brain']\n",
      "['XIf2 Carcinomas of colon and rectum' 'XIf3 Carcinomas of appendix'\n",
      " 'XIIb Other unspecified malignant tumors'\n",
      " 'XIIa1 Malignant gastrointestinal stromal tumor'\n",
      " 'IXe Unspecified soft tissue sarcomas' 'IXd6 Leiomyosarcomas'\n",
      " 'XIIa4 Other complex mixed and stromal neoplasms'\n",
      " 'XId Malignant melanomas' 'XIf10 Carcinomas of other specified sites'\n",
      " 'IXb1 Fibroblastic and myofibroblastic tumors'\n",
      " 'Not classified by SEER or in situ'\n",
      " 'Xb5 Choriocarcinomas of extracranial and extragonadal sites'\n",
      " 'IXb2 Nerve sheath tumors' 'IXd8 Blood vessel tumors'\n",
      " 'IXd11 Miscellaneous soft tissue sarcomas' 'IXd5 Fibrohistiocytic tumors'\n",
      " 'IXa Rhabdomyosarcomas' 'IXd4 Liposarcomas'\n",
      " 'Xb1 Malignant germinomas of extracranial and extragonadal sites'\n",
      " 'IXd7 Synovial sarcomas' 'VIb Renal carcinomas'\n",
      " 'IXb3 Other fibromatous neoplasms'\n",
      " 'IXd3 Extrarenal extrahepatic rhabdoid tumor'\n",
      " 'IXd2 Peripheral neuroectodermal tumor (pPNET) of soft tissue'\n",
      " 'XIb Thyroid carcinomas' 'IIIc2 Primitive neuroectodermal tumor (PNET)'\n",
      " 'Xd Gonadal carcinomas' 'IXd1 Ewing tumor and Askin tumor of soft tissue'\n",
      " 'Xb6 Oth/unspec malig mixed germ cell tumors of extracranial/extragonadal'\n",
      " 'IVa Neuroblastoma and ganglioneuroblastoma'\n",
      " 'IVb Other peripheral nervous cell tumors' 'VIIb Hepatic carcinomas'\n",
      " 'IIIe1 Pituitary adenomas and carcinomas']\n",
      "['Rectum' 'Rectosigmoid Junction' 'Ascending Colon' 'Appendix'\n",
      " 'Sigmoid Colon' 'Cecum' 'Large Intestine, NOS' 'Transverse Colon'\n",
      " 'Splenic Flexure' 'Descending Colon' 'Hepatic Flexure']\n",
      "['XI(f) Other and unspecified carcinomas'\n",
      " 'XII(b) Other unspecified malignant tumors'\n",
      " 'XII(a) Other specified malignant tumors'\n",
      " 'IX(e) Unspecified soft tissue sarcomas'\n",
      " 'IX(d) Other specified soft tissue sarcomas' 'XI(d) Malignant melanomas'\n",
      " 'X(d) Gonadal carcinomas'\n",
      " 'IX(b) Fibrosarcomas, peripheral nerve & other fibrous'\n",
      " 'Not classified by ICCC or in situ'\n",
      " 'X(b) Extracranial & extragonadal germ cell tumors'\n",
      " 'IX(a) Rhabdomyosarcomas' 'VI(b) Renal carcinomas'\n",
      " 'XI(b) Thyroid carcinomas'\n",
      " 'III(c) Intracranial and intraspinal embryonal tumors'\n",
      " 'IV(a) Neuroblastoma and ganglioneuroblastoma'\n",
      " 'IV(b) Other peripheral nervous cell tumors' 'VII(b) Hepatic carcinomas'\n",
      " 'III(e) Other specified intracranial/intraspinal neoplasms']\n",
      "['XI(f.2) Carcinomas of colon and rectum' 'XI(f.3) Carcinomas of appendix'\n",
      " 'XII(b) Other unspecified malignant tumors'\n",
      " 'XII(a.1) Gastrointestinal stromal tumor'\n",
      " 'IX(e) Unspecified soft tissue sarcomas' 'IX(d.6) Leiomyosarcomas'\n",
      " 'XII(a.4) Other complex mixed and stromal neoplasms'\n",
      " 'XI(d) Malignant melanomas'\n",
      " 'XI(f.10) Carcinomas of other specified sites' 'X(d) Gonadal carcinomas'\n",
      " 'IX(b.1) Fibroblastic and myofibroblastic tumors'\n",
      " 'Not classified by ICCC or in situ'\n",
      " 'X(b.5) Choriocarcinomas: extracranial/extragonadal'\n",
      " 'IX(b.2) Nerve sheath tumors' 'IX(d.8) Blood vessel tumors'\n",
      " 'IX(d.11) Miscellaneous soft tissue sarcomas'\n",
      " 'IX(d.5) Fibrohistiocytic tumors' 'IX(a) Rhabdomyosarcomas'\n",
      " 'IX(d.4) Liposarcomas' 'X(b.1) Germinomas: extracranial/extragonadal'\n",
      " 'IX(d.7) Synovial sarcomas' 'VI(b) Renal carcinomas'\n",
      " 'IX(b.3) Other fibromatous neoplasms' 'IX(d.3) Extrarenal rhabdoid tumor'\n",
      " 'IX(d.2) pPNET of soft tissue' 'XI(b) Thyroid carcinomas' 'III(c.2) PNET'\n",
      " 'IX(d.1) Ewing tumor and Askin tumor of soft tissue'\n",
      " 'X(b.6) Other mixed germ cell: extracranial/extragonadal'\n",
      " 'IV(a) Neuroblastoma and ganglioneuroblastoma'\n",
      " 'IV(b) Other peripheral nervous cell tumors' 'VII(b) Hepatic carcinomas'\n",
      " 'III(e.1) Pituitary adenomas and carcinomas']\n",
      "['Localized' 'Distant' 'Regional' 'Unknown/unstaged']\n",
      "['Blank(s)' 'Distant site(s)/node(s) involved'\n",
      " 'Regional by both direct extension and lymph node involvement'\n",
      " 'Regional lymph nodes involved only' 'Localized only'\n",
      " 'Regional by direct extension only' 'Unknown/unstaged/unspecified/DCO'\n",
      " 'Regional, NOS']\n",
      "['Localized' 'Distant' 'Regional' 'Unstaged' 'Blank(s)']\n",
      "['Blank(s)' 'IV' 'IIIB' 'IIA' 'IIIA' '0' 'I' 'UNK Stage' 'IIB' 'IIIC' nan\n",
      " 'IIINOS']\n",
      "['Blank(s)' 'T3' 'T1' 'TX' 'Tis' 'T2' 'T4' nan 'T0']\n",
      "['Blank(s)' 'N1' 'N0' 'NX' 'N2' nan]\n",
      "['Blank(s)' 'M1' 'M0' nan 'MX']\n",
      "[nan 'Blank(s)']\n",
      "[30  0 50 40 26 28 70 41 80 27 32 29 20 90 60 25 99 51 22 55 12 56 24 31\n",
      " 61 10 23 65 21 57 11 13 66 14]\n",
      "['Blank(s)' '4 or more regional lymph nodes removed' 'None'\n",
      " 'Number of regional lymph nodes removed unknown'\n",
      " '1 to 3 regional lymph nodes removed' 'Unknown or not applicable'\n",
      " 'Biopsy or aspiration of regional lymph node, NOS'\n",
      " 'Sentinel node biopsy and lym nd removed same/unstated time'\n",
      " 'Sentinel node biopsy and lym nd removed different times'\n",
      " 'Sentinel lymph node biopsy']\n",
      "['Blank(s)' 'None; diagnosed at autopsy'\n",
      " 'Non-primary surgical procedure to distant site'\n",
      " 'Any combo of sur proc to oth rg, dis lym nd, and/or dis site'\n",
      " 'Non-primary surgical procedure to other regional sites'\n",
      " 'Unknown; death certificate only'\n",
      " 'Non-primary surgical procedure performed'\n",
      " 'Non-primary surgical procedure to distant lymph node(s)']\n",
      "['No radiation and/or cancer-directed surgery' 'Radiation after surgery'\n",
      " 'Radiation prior to surgery' 'Sequence unknown, but both were given'\n",
      " 'Radiation before and after surgery'\n",
      " 'Intraoperative rad with other rad before/after surgery'\n",
      " 'Intraoperative radiation' 'Surgery both before and after radiation']\n",
      "['Surgery performed'\n",
      " 'Not recommended, contraindicated due to other cond; autopsy only (1973-2002)'\n",
      " 'Recommended, unknown if performed' 'Not recommended'\n",
      " 'Recommended but not performed, patient refused'\n",
      " 'Recommended but not performed, unknown reason'\n",
      " 'Unknown; death certificate; or autopsy only (2003+)'\n",
      " 'Not performed, patient died prior to recommended surgery']\n",
      "['None/Unknown' 'Beam radiation'\n",
      " 'Radiation, NOS  method or source not specified' 'Radioisotopes (1988+)'\n",
      " 'Radioactive implants (includes brachytherapy) (1988+)'\n",
      " 'Combination of beam with implants or isotopes' 'Refused (1988+)'\n",
      " 'Recommended, unknown if administered']\n",
      "['No/Unknown' 'Yes']\n",
      "['Blank(s)' 'Systemic therapy after surgery'\n",
      " 'No systemic therapy and/or surgical procedures'\n",
      " 'Systemic therapy before surgery' 'Intraoperative systemic therapy'\n",
      " 'Systemic therapy both before and after surgery'\n",
      " 'Surgery both before and after systemic therapy' 'Sequence unknown'\n",
      " 'Intraop systemic rx & oth systemic rx before/after surg']\n",
      "[10  8  0 16  7 14 13 18 20 98 27 66 23  9 12 53 99 11 34  6 17 15 19  5\n",
      "  3  4 29 33 44  2 36 30 24  1 32 41 22 21 35 80 25 58 26 48 38 31 69 40\n",
      " 52 43 39 55 54 97 28 42 84 45 95 37 70 50 47 59 56 64 49 51 96 67 46 73\n",
      " 61 65 57 62 83 90 78 63 82 71 68 79 74 60 72 89 77 86 81 87 76 75 88 85]\n",
      "[ 0  1 98  2 97 99  6  3  4 14  5  8 10 16 12 11  7  9 30 80 47 18 19 13\n",
      " 21 25 95 17 24 26 15 23 29 20 43 22 32 36 35 28 27 33 40 31 41 34 50 38\n",
      " 48 61 54 59 37 45 56 39 55 42 51 46 90 67 64 58 49 52 69 44 62 57 77 73\n",
      " 60 74 71 68 79 75 53 66 63]\n",
      "['Not 2010+ Breast']\n",
      "['Not 1990+ Breast']\n",
      "['Not 1990+ Breast']\n",
      "['Not 2010+ Breast']\n",
      "['Blank(s)' '035' '999' '050' '070' '040' '015' '007' '085' '010' '049'\n",
      " '030' '120' '060' '065' '053' '028' '063' '045' '003' '080' '055' '032'\n",
      " '021' '017' '025' '990' '031' '048' '052' '059' '046' '038' '095' '034'\n",
      " '020' '022' '058' '075' '006' '005' '105' '083' '042' '076' '140' '013'\n",
      " '037' '004' '016' '041' '036' '012' '104' '026' '029' '027' '002' '110'\n",
      " '068' '033' '044' '019' '024' '082' '130' '043' '000' '001' '062' '089'\n",
      " '125' '067' '054' '018' '009' '073' '061' '135' '100' '057' '023' '090'\n",
      " '008' '077' '039' '078' '064' '047' '150' '991' '109' '072' '081' '086'\n",
      " '014' '998' '700' '051' '069' '131' '115' '093' '011' '088' '066' '079'\n",
      " '056' '099' '165' '071' '102' '850' '098' '160' '074' '992' '084' '202'\n",
      " '117' '200' '092' '995' '087' '107' '103' '181' '133' '170' '097' '994'\n",
      " '145' '240' '993' '116' '122' '190' '108' '230' '989' '114' '300' '137'\n",
      " '750' '094' '112' '134' '127' '147' '119' '965' '500' '096' '106' '091'\n",
      " '126' '180' '185' '950' '148' '250' '132' '113' '194' '141' '390' '175'\n",
      " '124' '945' '450' '530' '800' '121' '136' '207' '152' '520' '550' '380'\n",
      " '210' '118' '400' '153' '101' '111' '146' '144' '123' '143' '830' '580'\n",
      " '225' '996' '155' '370' '223' '128' '420' '280' '168' '888' '600' '235'\n",
      " '174' '650' '270' '139' '510' '796' '222' '129' '151' '966' '220' '660'\n",
      " '138' '969' '189' '176' '808' '505' '260' '900' '285' '177' '405' '320'\n",
      " '142' '215' '198' '195' '310' '166' '440' '340' '988' '330' '173' '920'\n",
      " '350' '167' '161' '205' '157' '980' '790' '570' '154' '158' '670' '164'\n",
      " '640' '162' '183' '149' '492' '290' '269' '286' '975' '178' '303' '257'\n",
      " '637' '360' '457' '935' '172' '630' '163' '620' '156' '959' '938' '442'\n",
      " '970' '720' '206' '770' '182' '187' '159' '890' '193' '810' '606' '211'\n",
      " '803' '997' '430' '470' '960' '930' '204' '333' '201' '480' '780' '560'\n",
      " '870' '184' '295']\n",
      "['Blank(s)' '400' '450' '470' '160' '999' '110' '200' '300' '610' '500'\n",
      " '455' '650' '458' '565' '150' '600' '800' '750' '130' '100' '460' '700'\n",
      " '655' '550' '570' '170' '660' '140' '950' '120' '155' '210' '900' '415'\n",
      " '410' '555' '510' '165' '401' '560' '601' '490' '675' '850' '513' '451'\n",
      " '250' '810' '514' '330' '320' '335' '190' '180' '665' '512' '701' '270'\n",
      " '370' '511' '751' '501' '440']\n",
      "['Blank(s)' '100' '300' '000' '110' '999' '210' '800' '200' '050' '480'\n",
      " '220' '420' '430' '450' '470' '410' '460' '400']\n",
      "['Blank(s)' '40' '00' '50' '45' '36' '26' '99' '60' '10' '29' '31' '48'\n",
      " '16' '12' '33' '27' '08' '05' '11' '35' '23' '20' '18' '55' '15' '25']\n"
     ]
    },
    {
     "name": "stdout",
     "output_type": "stream",
     "text": [
      "['Blank(s)' '3' '0' '5' '9' '1' '6' '2' '8']\n",
      "['Blank(s)' '3' '0' '5' '9' '1' '6' '2' '8']\n",
      "['Blank(s)' '3' '0' '1' '9' '5' '6' '2' '8']\n",
      "['Blank(s)' '020' '998' '010' '999' '030' '997']\n",
      "['Blank(s)' '100' '020' '988' '000' '999' '400' '120' '010' '200' '110'\n",
      " '005' '998' '003' '300' '001']\n",
      "['Blank(s)' '988' 988]\n",
      "['Blank(s)' '020510' '020550' '020540' '020530' '020520']\n",
      "['Blank(s)' '010401' '020550' '010100' '020302' '010300' '010200' '020440'\n",
      " '010002' '020200' '010400' '010004' '010003' '010000' '020100' '020001'\n",
      " '010005' '000937']\n",
      "['Blank(s)' '020550']\n",
      "['Rectum and Rectosigmoid Junction' 'Alive'\n",
      " 'Chronic Obstructive Pulmonary Disease and Allied Cond'\n",
      " 'Other Cause of Death' 'Colon excluding Rectum' 'Diseases of Heart'\n",
      " 'Nephritis, Nephrotic Syndrome and Nephrosis' 'Cerebrovascular Diseases'\n",
      " 'Urinary Bladder' 'Aortic Aneurysm and Dissection' 'Lung and Bronchus'\n",
      " 'Diabetes Mellitus'\n",
      " 'State DC not available or state DC available but no COD'\n",
      " 'Atherosclerosis' 'Other Infectious and Parasitic Diseases including HIV'\n",
      " 'Alzheimers (ICD-9 and 10 only)' 'Hypertension without Heart Disease'\n",
      " 'Kidney and Renal Pelvis' 'Chronic Lymphocytic Leukemia'\n",
      " 'Accidents and Adverse Effects' 'Septicemia' 'Non-Hodgkin Lymphoma'\n",
      " 'Miscellaneous Malignant Cancer' 'Other Myeloid/Monocytic Leukemia'\n",
      " 'Pneumonia and Influenza' 'Breast' 'Uterus, NOS' 'Other Digestive Organs'\n",
      " 'Ovary' 'Other Acute Leukemia' 'Thyroid' 'Congenital Anomalies'\n",
      " 'Other Oral Cavity and Pharynx' 'Other Female Genital Organs'\n",
      " 'Acute Myeloid Leukemia' 'Testis' 'Prostate' 'Non-Melanoma Skin'\n",
      " 'Pancreas' 'Homicide and Legal Intervention' 'Corpus Uteri' 'Vagina'\n",
      " 'Intrahepatic Bile Duct' 'Stomach' 'Suicide and Self-Inflicted Injury'\n",
      " 'Myeloma' 'Symptoms, Signs and Ill-Defined Conditions'\n",
      " 'Other Lymphocytic Leukemia' 'Small Intestine' 'Hodgkin Lymphoma'\n",
      " 'Larynx' 'Liver' 'Anus, Anal Canal and Anorectum' 'Cervix Uteri'\n",
      " 'In situ, benign or unknown behavior neoplasm' 'Chronic Myeloid Leukemia'\n",
      " 'Brain and Other Nervous System' 'Melanoma of the Skin' 'Esophagus'\n",
      " 'Stomach and Duodenal Ulcers' 'Peritoneum, Omentum and Mesentery'\n",
      " 'Other Diseases of Arteries, Arterioles, Capillaries' 'Gallbladder'\n",
      " 'Nasopharynx' 'Chronic Liver Disease and Cirrhosis' 'Other Biliary'\n",
      " 'Gum and Other Mouth' 'Oropharynx' 'Aleukemic, Subleukemic and NOS'\n",
      " 'Retroperitoneum' 'Nose, Nasal Cavity and Middle Ear'\n",
      " 'Soft Tissue including Heart'\n",
      " 'Complications of Pregnancy, Childbirth, Puerperium' 'Tuberculosis'\n",
      " 'Pleura' 'Tongue' 'Penis' 'Other Urinary Organs' 'Bones and Joints'\n",
      " 'Other Endocrine including Thymus' 'Vulva' 'Acute Lymphocytic Leukemia'\n",
      " 'Salivary Gland' 'Ureter'\n",
      " 'Trachea, Mediastinum and Other Respiratory Organs' 'Hypopharynx'\n",
      " 'Tonsil' 'Floor of Mouth' 'Acute Monocytic Leukemia'\n",
      " 'Certain Conditions Originating in Perinatal Period' 'Eye and Orbit'\n",
      " 'Other Male Genital Organs' 'Syphilis' 'Lip']\n",
      "['Dead (attributable to this cancer dx)' 'Alive or dead of other cause'\n",
      " 'Dead (missing/unknown COD)' 'N/A not seq 0-59']\n",
      "['Alive or dead due to cancer'\n",
      " 'Dead (attributable to causes other than this cancer dx)'\n",
      " 'Dead (missing/unknown COD)' 'N/A not seq 0-59']\n",
      "['0049' '0119' '0000' '0042' '0004' '0158' '0074' '0029' '0080' '0059'\n",
      " '0110' '0127' '0002' '0006' '0001' '0026' '0053' '0023' '0013' '0015'\n",
      " '0175' '0007' '0067' '0177' '0030' '0019' '0113' '0020' '0155' '0011'\n",
      " '0083' '0205' '0095' '0041' '0181' '0043' '0071' '0073' '0112' '0092'\n",
      " '0062' '0003' '0055' '0100' '0010' '0191' '0114' '0056' '0060' '0065'\n",
      " '0136' '0022' '0061' '0037' '0129' '0145' '0197' '0031' '0098' '0125'\n",
      " '0012' '0075' '0046' '0185' '0198' '0077' '0048' '0016' '0038' '0142'\n",
      " '0094' '0146' '0134' '0078' '0033' '0104' '0076' '0079' '0005' '0025'\n",
      " '0058' '0028' '0143' '0034' '0164' '0069' '0207' '0123' '0206' '0017'\n",
      " '0171' '0186' '0021' '0170' '0044' '0027' '0101' '0141' '0126' '0201'\n",
      " '0018' '0039' '0050' '0052' '0064' '0130' '0137' '0176' '0008' '0108'\n",
      " '0009' '0168' '0036' '0161' '0063' '0035' '0172' '0196' '0040' '0214'\n",
      " '0066' '0107' '0081' '0070' '0120' '0180' '0115' '0014' '0116' '0184'\n",
      " '0144' '0051' '0121' '0084' '0135' '0192' '0160' '0117' '0089' '0024'\n",
      " '0045' '0133' '0182' '0054' '0118' '0148' '0105' '0032' '0212' '0187'\n",
      " '0150' '0087' '0082' '0088' '0099' '0213' '0153' 'Unknown' '0106' '0157'\n",
      " '0072' '0179' '0057' '0122' '0190' '0085' '0162' '0047' '0188' '0086'\n",
      " '0159' '0193' '0103' '0096' '0163' '0210' '0156' '0093' '0138' '0166'\n",
      " '0139' '0124' '0109' '0152' '0131' '0140' '0097' '0102' '0111' '0178'\n",
      " '0173' '0189' '0149' '0183' '0090' '0169' '0165' '0167' '0174' '0199'\n",
      " '0068' '0091' '0203' '0154' '0211' '0128' '0194' '0202' '0204' '0132'\n",
      " '0147' '0215' '0208' '0200' '0195' '0209' '0151' 33 31 7 15 27 21 32 6 0\n",
      " 12 20 5 26 24 2 11 18 34 28 30 50 17 25 39 23 35 4 1 19 10 22 40 14 9 29\n",
      " 16 36 118 43 8 45 73 38 42 13 3 37 44 46 41 52 149 47 58 140 125 54 90\n",
      " 104 77 160 71 132 51 55 114 57 102 195 84 99 193 194 113 201 155 61 200\n",
      " 203 116 179 211 209 207 199 208 197 91 65 56 196 74 82 198 158 191 142 53\n",
      " 59 151 72 166 202 80 81 76 119 141 138 88 204 49 64 63 48 186 147 62 173\n",
      " 87 103 108 107 187 135 115 92 181 164 85 98 182 67 124 133 190 130 159\n",
      " 184 75 168 86 106 167 176 154 93 122 156 60 152 185 94 78 215 105 214 97\n",
      " 183 175 206 157 180 172 120 100 192 146 163 111 126 145 70 153 66 112 68\n",
      " 210 136 143 150 205 177 212 174 178 101 69 95 89 123 79 161 171 144 162\n",
      " 96 139 188 110 137 121 127 83 189 128 148 129 117 131 109 170 165 134 169]\n",
      "['Complete dates are available and there are more than 0 days of survival'\n",
      " 'Incomplete dates are available and there cannot be zero days of follow-up'\n",
      " 'Complete dates are available and there are 0 days of survival'\n",
      " 'Not calculated because a Death Certificate Only or Autopsy Only case'\n",
      " 'Incomplete dates are available and there could be zero days of follow-up']\n",
      "['Rectum and Rectosigmoid Junction' 'Alive'\n",
      " 'Chronic Obstructive Pulmonary Disease and Allied Cond'\n",
      " 'Other Cause of Death' 'Colon excluding Rectum' 'Diseases of Heart'\n",
      " 'Nephritis, Nephrotic Syndrome and Nephrosis' 'Cerebrovascular Diseases'\n",
      " 'Urinary Bladder' 'Aortic Aneurysm and Dissection' 'Lung and Bronchus'\n",
      " 'Diabetes Mellitus'\n",
      " 'State DC not available or state DC available but no COD'\n",
      " 'Atherosclerosis' 'Other Infectious and Parasitic Diseases including HIV'\n",
      " 'Alzheimers (ICD-9 and 10 only)' 'Hypertension without Heart Disease'\n",
      " 'Kidney and Renal Pelvis' 'Chronic Lymphocytic Leukemia'\n",
      " 'Accidents and Adverse Effects' 'Septicemia' 'Non-Hodgkin Lymphoma'\n",
      " 'Miscellaneous Malignant Cancer' 'Other Myeloid/Monocytic Leukemia'\n",
      " 'Pneumonia and Influenza' 'Breast' 'Uterus, NOS' 'Other Digestive Organs'\n",
      " 'Ovary' 'Other Acute Leukemia' 'Thyroid' 'Congenital Anomalies'\n",
      " 'Other Oral Cavity and Pharynx' 'Other Female Genital Organs'\n",
      " 'Acute Myeloid Leukemia' 'Testis' 'Prostate'\n",
      " 'Kaposi Sarcoma (ICD-10 only)' 'Pancreas'\n",
      " 'Homicide and Legal Intervention' 'Corpus Uteri' 'Vagina'\n",
      " 'Intrahepatic Bile Duct' 'Stomach' 'Suicide and Self-Inflicted Injury'\n",
      " 'Myeloma' 'Symptoms, Signs and Ill-Defined Conditions'\n",
      " 'Other Lymphocytic Leukemia' 'Small Intestine' 'Hodgkin Lymphoma'\n",
      " 'Larynx' 'Liver' 'Anus, Anal Canal and Anorectum' 'Cervix Uteri'\n",
      " 'In situ, benign or unknown behavior neoplasm' 'Chronic Myeloid Leukemia'\n",
      " 'Mesothelioma (ICD-10 only)' 'Brain and Other Nervous System'\n",
      " 'Melanoma of the Skin' 'Esophagus' 'Stomach and Duodenal Ulcers'\n",
      " 'Peritoneum, Omentum and Mesentery'\n",
      " 'Other Diseases of Arteries, Arterioles, Capillaries' 'Gallbladder'\n",
      " 'Nasopharynx' 'Chronic Liver Disease and Cirrhosis' 'Other Biliary'\n",
      " 'Non-Melanoma Skin' 'Gum and Other Mouth' 'Oropharynx'\n",
      " 'Aleukemic, Subleukemic and NOS' 'Retroperitoneum'\n",
      " 'Nose, Nasal Cavity and Middle Ear' 'Soft Tissue including Heart'\n",
      " 'Complications of Pregnancy, Childbirth, Puerperium' 'Tuberculosis'\n",
      " 'Tongue' 'Penis' 'Other Urinary Organs' 'Bones and Joints'\n",
      " 'Other Endocrine including Thymus' 'Vulva' 'Acute Lymphocytic Leukemia'\n",
      " 'Salivary Gland' 'Ureter'\n",
      " 'Trachea, Mediastinum and Other Respiratory Organs' 'Hypopharynx'\n",
      " 'Tonsil' 'Pleura' 'Floor of Mouth' 'Acute Monocytic Leukemia'\n",
      " 'Certain Conditions Originating in Perinatal Period' 'Eye and Orbit'\n",
      " 'Other Male Genital Organs' 'Syphilis' 'Lip']\n",
      "['Dead' 'Alive']\n",
      "['2nd of 2 or more primaries' '3rd of 3 or more primaries'\n",
      " 'One primary only' '4th of 4 or more primaries'\n",
      " '1st of 2 or more primaries' '5th of 5 or more primaries'\n",
      " '6th of 6 or more primaries' '8th of 8 or more primaries'\n",
      " '7th of 7 or more primaries' '12th of 12 or more primaries'\n",
      " 'Unknown seq num - federally required in situ or malig tumors'\n",
      " '9th of 9 or more primaries' '20th of 20 or more primaries'\n",
      " '11th of 11 or more primaries']\n",
      "['No' 'Yes']\n",
      "['Yes' 'No']\n",
      "[2 1 4 3 5 8 6 7 9]\n",
      "[2 3 1 4 5 6 7 8 14 '01' '02' '03' '04' '05' '06' 'Unknown' 9 10 11 20\n",
      " '07']\n",
      "[0 1 2 3 4]\n"
     ]
    },
    {
     "name": "stdout",
     "output_type": "stream",
     "text": [
      "['Malignant' 'Borderline malignancy']\n",
      "[8140 8480 8261 8246 8000 8263 8210 8490 8240 8243 8070 8010 8123 8481\n",
      " 8262 8930 8211 8244 8041 8510 8800 8560 8012 8890 8980 8021 8720 8221\n",
      " 8245 8220 8032 8470 8124 8570 8001 8071 8933 8801 8145 8310 8072 8020\n",
      " 8440 8814 8542 8323 8550 8891 8241 8500 8144 8094 8572 9100 8260 9540\n",
      " 8503 8143 8050 8141 8950 8051 8441 8721 8742 8033 8142 9120 8380 8802\n",
      " 8045 8830 8120 8730 8931 8030 8920 8461 8858 8082 8201 8772 8022 8711\n",
      " 8230 8951 9064 9040 8073 8004 8251 8312 8571 8744 8430 8896 9580 8963\n",
      " 9180 8900 8810 8052 8074 8460 9364 8410 8031 8044 9473 8851 8471 9015\n",
      " 8850 8804 8075 8722 8320 8042 8076 9044 9130 8811 9260 8043 8982 8761\n",
      " 8250 9560 8573 9085 9500 8003 8147 8683 8940 8780 8770 9150 8002 8153\n",
      " 8472 8160 8011 8280 9041 9561]\n",
      "['White' 'Other (American Indian/AK Native, Asian/Pacific Islander)'\n",
      " 'Black' 'Unknown']\n",
      "['69 years' '39 years' '82 years' '67 years' '78 years' '64 years'\n",
      " '70 years' '76 years' '49 years' '85+ years' '65 years' '41 years'\n",
      " '54 years' '55 years' '84 years' '45 years' '83 years' '47 years'\n",
      " '51 years' '63 years' '74 years' '81 years' '79 years' '48 years'\n",
      " '68 years' '72 years' '50 years' '62 years' '66 years' '58 years'\n",
      " '56 years' '73 years' '59 years' '80 years' '34 years' '52 years'\n",
      " '40 years' '42 years' '61 years' '60 years' '53 years' '71 years'\n",
      " '77 years' '75 years' '57 years' '44 years' '43 years' '46 years'\n",
      " '36 years' '33 years' '38 years' '22 years' '31 years' '29 years'\n",
      " '23 years' '30 years' '37 years' '35 years' '32 years' '18 years'\n",
      " '26 years' '28 years' '24 years' '27 years' '21 years' '25 years'\n",
      " '20 years' '00 years' '19 years' '17 years' '15 years' '12 years'\n",
      " '13 years' '10 years' '16 years' '14 years' '11 years' '09 years'\n",
      " '08 years' '04 years' '06 years' '07 years']\n",
      "['White' 'Japanese' 'Chinese' 'Other Asian (1991+)'\n",
      " 'American Indian/Alaska Native' 'Black' 'Asian Indian (2010+)'\n",
      " 'Guamanian, NOS (1991+)' 'Filipino' 'Vietnamese (1988+)' 'Korean (1988+)'\n",
      " 'Laotian (1988+)' 'Unknown' 'Hawaiian'\n",
      " 'Asian Indian or Pakistani, NOS (1988+)' 'Samoan (1991+)'\n",
      " 'Melanesian, NOS (1991+)' 'Tongan (1991+)' 'Fiji Islander (1991+)'\n",
      " 'Other' 'Chamorran (1991+)' 'Pakistani (2010+)' 'Thai (1994+)'\n",
      " 'Hmong (1988+)' 'Kampuchean (1988+)' 'Pacific Islander, NOS (1991+)'\n",
      " 'Polynesian, NOS (1991+)' 'Micronesian, NOS (1991+)' 'Tahitian (1991+)'\n",
      " 'New Guinean (1991+)']\n",
      "['Record sent for linkage, no IHS match'\n",
      " 'Record sent for linkage, IHS match' 'Blank(s)']\n",
      "['69 years' '39 years' '82 years' '67 years' '78 years' '64 years'\n",
      " '70 years' '76 years' '49 years' '91 years' '65 years' '41 years'\n",
      " '90 years' '54 years' '92 years' '55 years' '84 years' '45 years'\n",
      " '83 years' '87 years' '85 years' '47 years' '89 years' '88 years'\n",
      " '51 years' '63 years' '74 years' '81 years' '79 years' '48 years'\n",
      " '68 years' '72 years' '50 years' '93 years' '62 years' '66 years'\n",
      " '86 years' '58 years' '96 years' '56 years' '73 years' '59 years'\n",
      " '80 years' '34 years' '52 years' '40 years' '42 years' '61 years'\n",
      " '60 years' '53 years' '71 years' '77 years' '94 years' '97 years'\n",
      " '75 years' '57 years' '44 years' '95 years' '99 years' '43 years'\n",
      " '98 years' '100+ years' '46 years' '36 years' '33 years' '38 years'\n",
      " '22 years' '31 years' '29 years' '23 years' '30 years' '37 years'\n",
      " '35 years' '32 years' '18 years' '26 years' '28 years' '24 years'\n",
      " '27 years' '21 years' '25 years' '20 years' '00 years' '19 years'\n",
      " '17 years' '15 years' '12 years' '13 years' '10 years' '16 years'\n",
      " '14 years' '11 years' '09 years' '08 years' '04 years' '06 years'\n",
      " '07 years']\n",
      "['California' 'Connecticut' 'Detroit (Metropolitan)' 'Hawaii' 'Iowa'\n",
      " 'New Mexico' 'Seattle (Puget Sound)' 'Utah' 'Georgia' 'Alaska Natives'\n",
      " 'Kentucky' 'Louisiana' 'New Jersey']\n",
      "[1 2 3 4 5]\n",
      "[1 2 3 4 5]\n",
      "[1 2 3 4 5]\n",
      "[1 2 3 4 5]\n",
      "['Rectum - mal+ins' 'Rectosigmoid Junction - mal+ins'\n",
      " 'Ascending Colon - mal+ins' 'Appendix - mal+ins'\n",
      " 'Sigmoid Colon - mal+ins' 'Cecum - mal+ins'\n",
      " 'Large Intestine, NOS - mal+ins' 'Transverse Colon - mal+ins'\n",
      " 'Splenic Flexure - mal+ins' 'Descending Colon - mal+ins'\n",
      " 'Hepatic Flexure - mal+ins']\n",
      "[1 2 3 4]\n",
      "[1 2 3 4]\n",
      "[1 2 3 4]\n",
      "[1 2 3 4]\n",
      "['Rectum - mal' 'Rectosigmoid Junction - mal' 'Ascending Colon - mal'\n",
      " 'Appendix - mal' 'Sigmoid Colon - mal' 'Cecum - mal'\n",
      " 'Large Intestine, NOS - mal' 'Transverse Colon - mal'\n",
      " 'Splenic Flexure - mal' 'Descending Colon - mal' 'Hepatic Flexure - mal']\n",
      "[1 3 4 2 5 6 7]\n",
      "[1 3 4 2 5 6 7]\n",
      "[1 3 4 2 5 6 7]\n",
      "[1 3 4 2 5 6 7]\n",
      "['Rectum and Rectosigmoid Junction - mal+ins'\n",
      " 'Colon excluding Rectum - mal+ins']\n",
      "[1 2 3 4 5 6 7]\n",
      "[1 2 3 4 5 6 7]\n",
      "[1 2 3 4 5 6 7]\n",
      "[1 2 3 4 5 6 7]\n",
      "['Rectum and Rectosigmoid Junction - mal' 'Colon excluding Rectum - mal']\n",
      "[1 3 4 2 5 6 7 8 9]\n",
      "[1 3 4 2 5 6 7 8 9]\n",
      "[1 3 4 2 5 6 7 8 9]\n",
      "[1 3 4 2 5 6 7 8 9]\n",
      "['Colon and Rectum - mal+ins']\n",
      "[1 2 3 4 5 6 7 8 9]\n",
      "[1 2 3 4 5 6 7 8 9]\n",
      "[1 2 3 4 5 6 7 8 9]\n",
      "[1 2 3 4 5 6 7 8 9]\n",
      "['Colon and Rectum - mal']\n",
      "[      19       25      337 ... 75826081 75826133 75826140]\n",
      "['Hospital inpatient/outpatient or clinic'\n",
      " 'Physicians office/private medical practitioner (LMD)'\n",
      " 'Radiation treatment or medical oncology center (2006+)'\n",
      " 'Death certificate only' 'Autopsy only'\n",
      " 'Laboratory only (hospital or private)'\n",
      " 'Other hospital outpatient unit or surgery center (2006+)'\n",
      " 'Nursing/convalescent home/hospice']\n",
      "['Single (never married)' 'Widowed' 'Married (including common law)'\n",
      " 'Divorced' 'Unknown' 'Unmarried or Domestic Partner' 'Separated']\n",
      "['$75,000+' '$65,000 - $69,999' '$70,000 - $74,999' '$60,000 - $64,999'\n",
      " '$55,000 - $59,999' '$45,000 - $49,999' '$40,000 - $44,999'\n",
      " '$50,000 - $54,999' '< $35,000' 'Unknown/missing/no match/Not 1990-2017'\n",
      " '$35,000 - $39,999']\n",
      "['Counties in metropolitan areas ge 1 million pop'\n",
      " 'Counties in metropolitan areas of 250,000 to 1 million pop'\n",
      " 'Nonmetropolitan counties adjacent to a metropolitan area'\n",
      " 'Nonmetropolitan counties not adjacent to a metropolitan area'\n",
      " 'Counties in metropolitan areas of lt 250 thousand pop'\n",
      " 'Unknown/missing/no match/Not 1990-2017'\n",
      " 'Unknown/missing/no match (Alaska or Hawaii - Entire State)']\n"
     ]
    }
   ],
   "source": [
    "for col in data:\n",
    "    print(data[col].unique())"
   ]
  },
  {
   "cell_type": "markdown",
   "metadata": {
    "id": "6_BEhCaU69JI"
   },
   "source": [
    "**List unique values of each column, select columns to delete based on redundancy, usefulness, past literature, and reference guide to column information from SEER database**"
   ]
  },
  {
   "cell_type": "code",
   "execution_count": 189,
   "metadata": {
    "id": "WUV79JcO69JI"
   },
   "outputs": [],
   "source": [
    "data.drop(data.iloc[:,77:116], axis = 1, inplace = True)"
   ]
  },
  {
   "cell_type": "code",
   "execution_count": 190,
   "metadata": {
    "id": "SMPJvC9a69JI"
   },
   "outputs": [],
   "source": [
    "data.drop(data.iloc[:,74:75], axis = 1, inplace = True)"
   ]
  },
  {
   "cell_type": "code",
   "execution_count": 191,
   "metadata": {
    "id": "ymSdYALP69JI"
   },
   "outputs": [],
   "source": [
    "data.drop(data.iloc[:,68:73], axis = 1, inplace = True)"
   ]
  },
  {
   "cell_type": "code",
   "execution_count": 192,
   "metadata": {
    "id": "vGdm3tDm69JJ"
   },
   "outputs": [],
   "source": [
    "data.drop(data.iloc[:,47:51], axis = 1, inplace = True)"
   ]
  },
  {
   "cell_type": "code",
   "execution_count": 193,
   "metadata": {
    "id": "MBnL6hpb69JJ"
   },
   "outputs": [],
   "source": [
    "data.drop(data.columns[36], axis = 1, inplace = True)"
   ]
  },
  {
   "cell_type": "code",
   "execution_count": 194,
   "metadata": {
    "id": "g2K3FgZ869JJ"
   },
   "outputs": [],
   "source": [
    "data.drop(data.iloc[:,21:29], axis = 1, inplace = True)"
   ]
  },
  {
   "cell_type": "code",
   "execution_count": 195,
   "metadata": {
    "id": "A-C1BRbD69JJ"
   },
   "outputs": [],
   "source": [
    "data.drop(data.iloc[:,8:18], axis = 1, inplace = True)"
   ]
  },
  {
   "cell_type": "code",
   "execution_count": 196,
   "metadata": {
    "id": "X7fuhpt069JJ"
   },
   "outputs": [],
   "source": [
    "data.drop(data.iloc[:,2:6], axis = 1, inplace = True)"
   ]
  },
  {
   "cell_type": "markdown",
   "metadata": {
    "id": "3W8SaeGy69JK"
   },
   "source": [
    "**Narrow down columns with target class information. Group three column together to form 1 column that has labels either \"dead\", \"alive\" or \"dead other\". Drop 2 unnecessary columns, drop rows with \"dead other\"**"
   ]
  },
  {
   "cell_type": "code",
   "execution_count": 197,
   "metadata": {
    "id": "sD3Mf0qz69JK",
    "outputId": "11a56206-3ba7-4ffe-b059-2204379943a2"
   },
   "outputs": [
    {
     "data": {
      "text/html": [
       "<div>\n",
       "<style scoped>\n",
       "    .dataframe tbody tr th:only-of-type {\n",
       "        vertical-align: middle;\n",
       "    }\n",
       "\n",
       "    .dataframe tbody tr th {\n",
       "        vertical-align: top;\n",
       "    }\n",
       "\n",
       "    .dataframe thead th {\n",
       "        text-align: right;\n",
       "    }\n",
       "</style>\n",
       "<table border=\"1\" class=\"dataframe\">\n",
       "  <thead>\n",
       "    <tr style=\"text-align: right;\">\n",
       "      <th></th>\n",
       "      <th>COD to site recode</th>\n",
       "      <th>SEER cause-specific death classification</th>\n",
       "      <th>SEER other cause of death classification</th>\n",
       "    </tr>\n",
       "  </thead>\n",
       "  <tbody>\n",
       "    <tr>\n",
       "      <th>0</th>\n",
       "      <td>Rectum and Rectosigmoid Junction</td>\n",
       "      <td>Dead (attributable to this cancer dx)</td>\n",
       "      <td>Alive or dead due to cancer</td>\n",
       "    </tr>\n",
       "    <tr>\n",
       "      <th>1</th>\n",
       "      <td>Alive</td>\n",
       "      <td>Alive or dead of other cause</td>\n",
       "      <td>Alive or dead due to cancer</td>\n",
       "    </tr>\n",
       "    <tr>\n",
       "      <th>2</th>\n",
       "      <td>Chronic Obstructive Pulmonary Disease and Alli...</td>\n",
       "      <td>Alive or dead of other cause</td>\n",
       "      <td>Dead (attributable to causes other than this c...</td>\n",
       "    </tr>\n",
       "    <tr>\n",
       "      <th>3</th>\n",
       "      <td>Alive</td>\n",
       "      <td>Alive or dead of other cause</td>\n",
       "      <td>Alive or dead due to cancer</td>\n",
       "    </tr>\n",
       "    <tr>\n",
       "      <th>4</th>\n",
       "      <td>Other Cause of Death</td>\n",
       "      <td>Dead (attributable to this cancer dx)</td>\n",
       "      <td>Alive or dead due to cancer</td>\n",
       "    </tr>\n",
       "    <tr>\n",
       "      <th>...</th>\n",
       "      <td>...</td>\n",
       "      <td>...</td>\n",
       "      <td>...</td>\n",
       "    </tr>\n",
       "    <tr>\n",
       "      <th>690445</th>\n",
       "      <td>Colon excluding Rectum</td>\n",
       "      <td>Dead (attributable to this cancer dx)</td>\n",
       "      <td>Alive or dead due to cancer</td>\n",
       "    </tr>\n",
       "    <tr>\n",
       "      <th>690446</th>\n",
       "      <td>Rectum and Rectosigmoid Junction</td>\n",
       "      <td>Dead (attributable to this cancer dx)</td>\n",
       "      <td>Alive or dead due to cancer</td>\n",
       "    </tr>\n",
       "    <tr>\n",
       "      <th>690447</th>\n",
       "      <td>Alive</td>\n",
       "      <td>Alive or dead of other cause</td>\n",
       "      <td>Alive or dead due to cancer</td>\n",
       "    </tr>\n",
       "    <tr>\n",
       "      <th>690448</th>\n",
       "      <td>Alive</td>\n",
       "      <td>Alive or dead of other cause</td>\n",
       "      <td>Alive or dead due to cancer</td>\n",
       "    </tr>\n",
       "    <tr>\n",
       "      <th>690449</th>\n",
       "      <td>State DC not available or state DC available b...</td>\n",
       "      <td>Dead (missing/unknown COD)</td>\n",
       "      <td>Dead (missing/unknown COD)</td>\n",
       "    </tr>\n",
       "  </tbody>\n",
       "</table>\n",
       "<p>690450 rows × 3 columns</p>\n",
       "</div>"
      ],
      "text/plain": [
       "                                       COD to site recode  \\\n",
       "0                        Rectum and Rectosigmoid Junction   \n",
       "1                                                   Alive   \n",
       "2       Chronic Obstructive Pulmonary Disease and Alli...   \n",
       "3                                                   Alive   \n",
       "4                                    Other Cause of Death   \n",
       "...                                                   ...   \n",
       "690445                             Colon excluding Rectum   \n",
       "690446                   Rectum and Rectosigmoid Junction   \n",
       "690447                                              Alive   \n",
       "690448                                              Alive   \n",
       "690449  State DC not available or state DC available b...   \n",
       "\n",
       "       SEER cause-specific death classification  \\\n",
       "0         Dead (attributable to this cancer dx)   \n",
       "1                  Alive or dead of other cause   \n",
       "2                  Alive or dead of other cause   \n",
       "3                  Alive or dead of other cause   \n",
       "4         Dead (attributable to this cancer dx)   \n",
       "...                                         ...   \n",
       "690445    Dead (attributable to this cancer dx)   \n",
       "690446    Dead (attributable to this cancer dx)   \n",
       "690447             Alive or dead of other cause   \n",
       "690448             Alive or dead of other cause   \n",
       "690449               Dead (missing/unknown COD)   \n",
       "\n",
       "                 SEER other cause of death classification  \n",
       "0                             Alive or dead due to cancer  \n",
       "1                             Alive or dead due to cancer  \n",
       "2       Dead (attributable to causes other than this c...  \n",
       "3                             Alive or dead due to cancer  \n",
       "4                             Alive or dead due to cancer  \n",
       "...                                                   ...  \n",
       "690445                        Alive or dead due to cancer  \n",
       "690446                        Alive or dead due to cancer  \n",
       "690447                        Alive or dead due to cancer  \n",
       "690448                        Alive or dead due to cancer  \n",
       "690449                         Dead (missing/unknown COD)  \n",
       "\n",
       "[690450 rows x 3 columns]"
      ]
     },
     "execution_count": 197,
     "metadata": {},
     "output_type": "execute_result"
    }
   ],
   "source": [
    "data.iloc[: , 37:40]"
   ]
  },
  {
   "cell_type": "code",
   "execution_count": 198,
   "metadata": {
    "id": "JiEd93ci69JK"
   },
   "outputs": [],
   "source": [
    "data.loc[data['COD to site recode'] == 'Alive', 'SEER cause-specific death classification'] = 'Alive'"
   ]
  },
  {
   "cell_type": "code",
   "execution_count": 199,
   "metadata": {
    "id": "OaI8dEqD69JK"
   },
   "outputs": [],
   "source": [
    "data['SEER cause-specific death classification'] = data['SEER cause-specific death classification'].replace(['Alive or dead of other cause'], 'Dead Other')"
   ]
  },
  {
   "cell_type": "code",
   "execution_count": 200,
   "metadata": {
    "id": "SxViizwv69JK"
   },
   "outputs": [],
   "source": [
    "data['SEER cause-specific death classification'] = data['SEER cause-specific death classification'].replace(['Dead (attributable to this cancer dx)'], 'Dead')"
   ]
  },
  {
   "cell_type": "code",
   "execution_count": 201,
   "metadata": {
    "id": "NjMnerlA69JL"
   },
   "outputs": [],
   "source": [
    "data['SEER cause-specific death classification'] = data['SEER cause-specific death classification'].replace(['Dead (missing/unknown COD)'], 'Dead Other')"
   ]
  },
  {
   "cell_type": "code",
   "execution_count": 202,
   "metadata": {
    "id": "CeNx-h8v69JL"
   },
   "outputs": [],
   "source": [
    "data.drop(data.columns[37], axis = 1, inplace = True)"
   ]
  },
  {
   "cell_type": "code",
   "execution_count": 203,
   "metadata": {
    "id": "xYEQ9-hs69JL"
   },
   "outputs": [],
   "source": [
    "data.drop(data.columns[38], axis = 1, inplace = True)"
   ]
  },
  {
   "cell_type": "code",
   "execution_count": 204,
   "metadata": {
    "id": "gjp_HBvZ69JL"
   },
   "outputs": [],
   "source": [
    "data1 = data[data['SEER cause-specific death classification'] != \"Dead Other\"]"
   ]
  },
  {
   "cell_type": "code",
   "execution_count": 205,
   "metadata": {
    "id": "XEV1faKK69JL"
   },
   "outputs": [],
   "source": [
    "data1 = data1[data1['SEER cause-specific death classification'] != \"N/A not seq 0-59\"]"
   ]
  },
  {
   "cell_type": "code",
   "execution_count": 206,
   "metadata": {
    "id": "X5YM0x3_69JL"
   },
   "outputs": [
    {
     "name": "stdout",
     "output_type": "stream",
     "text": [
      "['65-69 years' '35-39 years' '75-79 years' '60-64 years' '70-74 years'\n",
      " '40-44 years' '50-54 years' '85+ years' '55-59 years' '45-49 years'\n",
      " '80-84 years' '30-34 years' '20-24 years' '25-29 years' '15-19 years'\n",
      " '00 years' '10-14 years' '05-09 years' '01-04 years']\n",
      "['Male' 'Female']\n",
      "['Non-Hispanic White' 'Hispanic (All Races)'\n",
      " 'Non-Hispanic Asian or Pacific Islander' 'Non-Hispanic Black'\n",
      " 'Non-Hispanic American Indian/Alaska Native' 'Non-Hispanic Unknown Race']\n",
      "['Rectum' 'Rectosigmoid Junction' 'Appendix' 'Ascending Colon'\n",
      " 'Sigmoid Colon' 'Splenic Flexure' 'Transverse Colon' 'Descending Colon'\n",
      " 'Cecum' 'Hepatic Flexure' 'Large Intestine, NOS']\n",
      "['Well differentiated; Grade I' 'Moderately differentiated; Grade II'\n",
      " 'Unknown' 'Poorly differentiated; Grade III'\n",
      " 'Undifferentiated; anaplastic; Grade IV']\n",
      "['Not a paired  site' 'Right - origin of primary'\n",
      " 'Left - origin of primary'\n",
      " 'Paired site, but no information concerning laterality'\n",
      " 'Only one side - side unspecified' 'Bilateral, single primary']\n",
      "['Positive histology' 'Radiography without microscopic confirm'\n",
      " 'Positive exfoliative cytology, no positive histology'\n",
      " 'Positive laboratory test/marker study' 'Unknown'\n",
      " 'Direct visualization without microscopic confirmation'\n",
      " 'Clinical diagnosis only'\n",
      " 'Positive microscopic confirm, method not specified'\n",
      " 'Pos hist AND immunophenotyping AND/OR pos genetic studies']\n",
      "['Localized' 'Distant' 'Regional' 'Unknown/unstaged']\n",
      "['Blank(s)' 'Distant site(s)/node(s) involved'\n",
      " 'Regional by both direct extension and lymph node involvement'\n",
      " 'Regional lymph nodes involved only' 'Localized only'\n",
      " 'Regional by direct extension only' 'Unknown/unstaged/unspecified/DCO'\n",
      " 'Regional, NOS']\n",
      "['Localized' 'Distant' 'Regional' 'Blank(s)' 'Unstaged']\n",
      "['Blank(s)' 'IV' 'IIIB' 'IIA' 'IIIA' '0' 'I' 'IIB' 'IIIC' nan 'UNK Stage'\n",
      " 'IIINOS']\n",
      "['Blank(s)' 'T3' 'T1' 'TX' 'Tis' 'T2' 'T4' nan 'T0']\n",
      "['Blank(s)' 'N1' 'N0' 'NX' 'N2' nan]\n",
      "['Blank(s)' 'M1' 'M0' nan 'MX']\n",
      "[30  0 50 40 26 70 80 27 32 29 28 41 20 25 60 99 51 22 55 56 90 24 12 31\n",
      " 61 23 65 21 57 11 13 66 14 10]\n",
      "['Blank(s)' '4 or more regional lymph nodes removed' 'None'\n",
      " 'Number of regional lymph nodes removed unknown'\n",
      " '1 to 3 regional lymph nodes removed' 'Unknown or not applicable'\n",
      " 'Sentinel node biopsy and lym nd removed same/unstated time'\n",
      " 'Sentinel node biopsy and lym nd removed different times'\n",
      " 'Biopsy or aspiration of regional lymph node, NOS'\n",
      " 'Sentinel lymph node biopsy']\n",
      "['Blank(s)' 'None; diagnosed at autopsy'\n",
      " 'Non-primary surgical procedure to distant site'\n",
      " 'Any combo of sur proc to oth rg, dis lym nd, and/or dis site'\n",
      " 'Non-primary surgical procedure to other regional sites'\n",
      " 'Unknown; death certificate only'\n",
      " 'Non-primary surgical procedure performed'\n",
      " 'Non-primary surgical procedure to distant lymph node(s)']\n",
      "['No radiation and/or cancer-directed surgery' 'Radiation after surgery'\n",
      " 'Radiation prior to surgery' 'Sequence unknown, but both were given'\n",
      " 'Radiation before and after surgery'\n",
      " 'Intraoperative rad with other rad before/after surgery'\n",
      " 'Intraoperative radiation' 'Surgery both before and after radiation']\n",
      "['Surgery performed' 'Recommended, unknown if performed' 'Not recommended'\n",
      " 'Not recommended, contraindicated due to other cond; autopsy only (1973-2002)'\n",
      " 'Recommended but not performed, patient refused'\n",
      " 'Unknown; death certificate; or autopsy only (2003+)'\n",
      " 'Recommended but not performed, unknown reason'\n",
      " 'Not performed, patient died prior to recommended surgery']\n",
      "['None/Unknown' 'Beam radiation'\n",
      " 'Radiation, NOS  method or source not specified' 'Radioisotopes (1988+)'\n",
      " 'Radioactive implants (includes brachytherapy) (1988+)'\n",
      " 'Combination of beam with implants or isotopes' 'Refused (1988+)'\n",
      " 'Recommended, unknown if administered']\n",
      "['No/Unknown' 'Yes']\n",
      "['Blank(s)' 'Systemic therapy after surgery'\n",
      " 'No systemic therapy and/or surgical procedures'\n",
      " 'Systemic therapy before surgery' 'Intraoperative systemic therapy'\n",
      " 'Systemic therapy both before and after surgery'\n",
      " 'Surgery both before and after systemic therapy' 'Sequence unknown'\n",
      " 'Intraop systemic rx & oth systemic rx before/after surg']\n",
      "[10  8  0 16  7 13 18 98 66 23  9 12 53 99 11 34 20 14  6 17 19  5 15  3\n",
      " 44 36 30  4 24  2  1 41 29 27 32 21 35 80 58 26 25 48 22 38 31 69 43 39\n",
      " 40 55 33 54 28 42 97 70 47 59 56 50 37 49 51 96 95 67 46 45 73 52 61 65\n",
      " 57 62 83 90 78 64 63 82 71 68 79 74 60 72 84 89 77 86 81 87 76 88 75 85]\n",
      "[ 0  1 98  2 97 99  6  4  3 14  8 10 16 12  5 11  7  9 30 80 47 18 19 13\n",
      " 21 25 17 24 26 15 23 95 29 20 43 22 32 36 35 28 27 33 40 31 41 34 50 38\n",
      " 48 61 54 59 37 45 56 39 55 42 51 46 90 67 64 58 49 52 69 44 57 77 60 74\n",
      " 71 68 79 75 53 66 62]\n",
      "['Blank(s)' '035' '050' '070' '040' '015' '999' '007' '049' '030' '120'\n",
      " '085' '060' '065' '053' '003' '080' '055' '032' '021' '045' '017' '990'\n",
      " '031' '052' '059' '046' '038' '095' '025' '034' '075' '048' '006' '005'\n",
      " '105' '020' '010' '083' '076' '140' '037' '004' '016' '041' '012' '104'\n",
      " '029' '027' '002' '110' '068' '033' '024' '130' '043' '000' '001' '062'\n",
      " '042' '089' '125' '018' '036' '009' '073' '061' '044' '135' '100' '057'\n",
      " '023' '026' '008' '077' '039' '082' '022' '028' '019' '078' '058' '090'\n",
      " '064' '047' '150' '991' '109' '063' '072' '081' '086' '014' '013' '067'\n",
      " '700' '069' '131' '115' '054' '051' '093' '011' '088' '066' '079' '056'\n",
      " '099' '165' '071' '098' '160' '074' '202' '117' '200' '092' '995' '084'\n",
      " '087' '107' '103' '181' '133' '097' '994' '145' '240' '993' '116' '992'\n",
      " '122' '190' '108' '230' '170' '114' '300' '137' '750' '094' '112' '102'\n",
      " '134' '127' '147' '989' '119' '998' '965' '500' '106' '091' '096' '126'\n",
      " '180' '185' '148' '250' '132' '113' '194' '141' '390' '175' '124' '945'\n",
      " '450' '530' '850' '800' '121' '136' '207' '152' '520' '550' '210' '118'\n",
      " '153' '101' '111' '146' '144' '123' '143' '830' '580' '225' '370' '223'\n",
      " '128' '420' '400' '168' '888' '600' '235' '174' '650' '139' '510' '796'\n",
      " '222' '129' '151' '966' '220' '660' '138' '189' '176' '505' '260' '155'\n",
      " '280' '285' '177' '405' '320' '142' '270' '215' '198' '900' '195' '310'\n",
      " '166' '340' '988' '330' '173' '920' '350' '167' '161' '205' '157' '570'\n",
      " '154' '158' '670' '164' '640' '162' '183' '149' '492' '950' '290' '269'\n",
      " '286' '975' '178' '303' '257' '637' '360' '457' '935' '172' '630' '163'\n",
      " '156' '959' '938' '442' '970' '720' '770' '182' '187' '159' '890' '193'\n",
      " '810' '211' '997' '430' '206' '440' '470' '960' '930' '204' '333' '996'\n",
      " '201' '380' '480' '780' '560' '184' '295']\n",
      "['Blank(s)' '400' '470' '160' '999' '110' '200' '300' '610' '450' '500'\n",
      " '455' '650' '565' '150' '600' '800' '750' '130' '100' '460' '458' '700'\n",
      " '655' '550' '660' '140' '950' '120' '570' '155' '210' '170' '900' '415'\n",
      " '410' '555' '510' '560' '601' '675' '850' '401' '513' '451' '250' '810'\n",
      " '165' '514' '330' '320' '335' '190' '180' '665' '490' '512' '701' '270'\n",
      " '370' '511' '751' '501' '440']\n",
      "['Blank(s)' '100' '300' '000' '110' '999' '210' '200' '050' '480' '220'\n",
      " '800' '420' '430' '450' '470' '410' '460' '400']\n",
      "['Blank(s)' '40' '00' '50' '36' '26' '45' '99' '60' '10' '31' '48' '16'\n",
      " '12' '33' '27' '08' '05' '11' '35' '29' '23' '20' '18' '55' '15' '25']\n",
      "['Blank(s)' '3' '5' '9' '1' '0' '6' '2' '8']\n",
      "['Blank(s)' '3' '5' '9' '0' '1' '6' '2' '8']\n",
      "['Blank(s)' '3' '0' '1' '9' '5' '6' '2' '8']\n",
      "['Blank(s)' '020' '010' '998' '999' '030' '997']\n",
      "['Blank(s)' '100' '020' '988' '000' '999' '400' '120' '010' '200' '110'\n",
      " '005' '998' '003' '300' '001']\n",
      "['Blank(s)' '988' 988]\n",
      "['Blank(s)' '020510' '020550' '020540' '020530' '020520']\n",
      "['Blank(s)' '010401' '020550' '010100' '020302' '010300' '020440' '010200'\n",
      " '020200' '010002' '010400' '010003' '010004' '020100' '010000' '020001'\n",
      " '010005' '000937']\n",
      "['Blank(s)' '020550']\n",
      "['Dead' 'Alive']\n",
      "['0049' '0119' '0042' '0004' '0158' '0074' '0029' '0110' '0127' '0006'\n",
      " '0000' '0026' '0013' '0015' '0175' '0007' '0067' '0177' '0019' '0113'\n",
      " '0020' '0155' '0083' '0205' '0095' '0041' '0181' '0001' '0071' '0073'\n",
      " '0043' '0003' '0053' '0112' '0010' '0191' '0114' '0060' '0065' '0136'\n",
      " '0061' '0129' '0145' '0059' '0197' '0031' '0125' '0012' '0011' '0046'\n",
      " '0185' '0198' '0077' '0022' '0048' '0016' '0146' '0134' '0078' '0033'\n",
      " '0079' '0005' '0025' '0028' '0207' '0206' '0017' '0002' '0186' '0021'\n",
      " '0170' '0044' '0141' '0142' '0201' '0018' '0050' '0052' '0034' '0064'\n",
      " '0137' '0100' '0008' '0009' '0168' '0039' '0023' '0036' '0092' '0030'\n",
      " '0161' '0035' '0027' '0062' '0104' '0214' '0063' '0080' '0014' '0171'\n",
      " '0070' '0038' '0144' '0121' '0084' '0176' '0135' '0192' '0160' '0117'\n",
      " '0089' '0056' '0024' '0045' '0040' '0107' '0133' '0182' '0054' '0118'\n",
      " '0058' '0143' '0148' '0105' '0032' '0212' '0187' '0150' '0087' '0051'\n",
      " '0213' '0130' '0153' 'Unknown' '0157' '0055' '0179' '0076' '0122' '0190'\n",
      " '0162' '0088' '0047' '0188' '0108' '0037' '0081' '0123' '0193' '0069'\n",
      " '0082' '0163' '0210' '0156' '0093' '0138' '0166' '0124' '0131' '0103'\n",
      " '0066' '0097' '0102' '0111' '0178' '0173' '0189' '0149' '0183' '0085'\n",
      " '0165' '0086' '0167' '0174' '0101' '0072' '0115' '0094' '0140' '0169'\n",
      " '0098' '0159' '0068' '0203' '0199' '0154' '0116' '0109' '0211' '0057'\n",
      " '0152' '0075' '0194' '0096' '0204' '0099' '0090' '0139' '0091' '0196'\n",
      " '0132' '0126' '0180' '0128' '0215' '0200' '0195' '0209' '0208' '0202'\n",
      " '0147' '0172' '0164' '0184' '0120' '0106' '0151' 33 31 15 27 21 32 6 0 12\n",
      " 20 26 5 24 2 11 18 34 7 28 30 50 17 25 39 23 35 1 19 22 40 10 14 9 29 4\n",
      " 36 16 118 43 8 45 73 38 42 13 3 37 44 46 41 149 47 58 125 54 90 104 77 71\n",
      " 52 51 55 114 57 102 195 193 194 201 155 61 200 203 211 209 207 91 65 56\n",
      " 199 197 196 74 82 198 59 151 202 80 81 88 204 64 48 173 87 63 92 62 181\n",
      " 98 67 124 190 186 130 159 147 86 176 93 184 122 138 106 116 156 60 152 53\n",
      " 166 191 215 105 214 175 206 208 192 70 112 68 210 66 108 154 142 113 205\n",
      " 75 212 99 179 178 101 78 95 49 89 123 69 161 180 79 140 144 94 185 158 84\n",
      " 110 85 115 139 182 76 83 189 148 117 187 97 164 109 162 120 129 127 170\n",
      " 188 131 96 126 141 168 160 135 133 128 107 100 183 163 157 145 72 143 169\n",
      " 172 137 165]\n",
      "['Yes' 'No']\n",
      "[2 3 4 1 5 6 8 7 14 '01' '02' '03' '04' '05' '06' 9 10 'Unknown' 11 '07']\n",
      "[0 1 2 3]\n",
      "['Hospital inpatient/outpatient or clinic'\n",
      " 'Physicians office/private medical practitioner (LMD)'\n",
      " 'Radiation treatment or medical oncology center (2006+)'\n",
      " 'Death certificate only' 'Autopsy only'\n",
      " 'Laboratory only (hospital or private)'\n",
      " 'Other hospital outpatient unit or surgery center (2006+)'\n",
      " 'Nursing/convalescent home/hospice']\n",
      "['Single (never married)' 'Married (including common law)' 'Divorced'\n",
      " 'Widowed' 'Unknown' 'Unmarried or Domestic Partner' 'Separated']\n",
      "['$75,000+' '$65,000 - $69,999' '$70,000 - $74,999' '$60,000 - $64,999'\n",
      " '$55,000 - $59,999' '$45,000 - $49,999' '$40,000 - $44,999'\n",
      " '$50,000 - $54,999' '$35,000 - $39,999' '< $35,000'\n",
      " 'Unknown/missing/no match/Not 1990-2017']\n"
     ]
    },
    {
     "name": "stdout",
     "output_type": "stream",
     "text": [
      "['Counties in metropolitan areas ge 1 million pop'\n",
      " 'Counties in metropolitan areas of 250,000 to 1 million pop'\n",
      " 'Nonmetropolitan counties adjacent to a metropolitan area'\n",
      " 'Nonmetropolitan counties not adjacent to a metropolitan area'\n",
      " 'Counties in metropolitan areas of lt 250 thousand pop'\n",
      " 'Unknown/missing/no match/Not 1990-2017'\n",
      " 'Unknown/missing/no match (Alaska or Hawaii - Entire State)']\n"
     ]
    }
   ],
   "source": [
    "for col in data1:\n",
    "    print(data1[col].unique())"
   ]
  },
  {
   "cell_type": "code",
   "execution_count": 207,
   "metadata": {
    "id": "evaXsArQ69JM"
   },
   "outputs": [
    {
     "name": "stdout",
     "output_type": "stream",
     "text": [
      "<class 'pandas.core.frame.DataFrame'>\n",
      "Int64Index: 543412 entries, 0 to 690448\n",
      "Data columns (total 46 columns):\n",
      " #   Column                                                      Non-Null Count   Dtype \n",
      "---  ------                                                      --------------   ----- \n",
      " 0   Age recode with <1 year olds                                543412 non-null  object\n",
      " 1   Sex                                                         543412 non-null  object\n",
      " 2   Race and origin recode (NHW, NHB, NHAIAN, NHAPI, Hispanic)  543412 non-null  object\n",
      " 3   Site recode ICD-O-3/WHO 2008                                543412 non-null  object\n",
      " 4   Grade                                                       543412 non-null  object\n",
      " 5   Laterality                                                  543412 non-null  object\n",
      " 6   Diagnostic Confirmation                                     543412 non-null  object\n",
      " 7   Summary stage 2000 (1998+)                                  543412 non-null  object\n",
      " 8   SEER Combined Summary Stage 2000 (2004+)                    543412 non-null  object\n",
      " 9   SEER historic stage A (1973-2015)                           543412 non-null  object\n",
      " 10  Derived AJCC Stage Group, 6th ed (2004-2015)                527801 non-null  object\n",
      " 11  Derived AJCC T, 6th ed (2004-2015)                          527801 non-null  object\n",
      " 12  Derived AJCC N, 6th ed (2004-2015)                          527801 non-null  object\n",
      " 13  Derived AJCC M, 6th ed (2004-2015)                          527801 non-null  object\n",
      " 14  RX Summ--Surg Prim Site (1998+)                             543412 non-null  int64 \n",
      " 15  RX Summ--Scope Reg LN Sur (2003+)                           543412 non-null  object\n",
      " 16  RX Summ--Surg Oth Reg/Dis (2003+)                           543412 non-null  object\n",
      " 17  RX Summ--Surg/Rad Seq                                       543412 non-null  object\n",
      " 18  Reason no cancer-directed surgery                           543412 non-null  object\n",
      " 19  Radiation recode                                            543412 non-null  object\n",
      " 20  Chemotherapy recode (yes, no/unk)                           543412 non-null  object\n",
      " 21  RX Summ--Systemic/Sur Seq                                   543412 non-null  object\n",
      " 22  Regional nodes examined (1988+)                             543412 non-null  int64 \n",
      " 23  Regional nodes positive (1988+)                             543412 non-null  int64 \n",
      " 24  CS tumor size (2004-2015)                                   543412 non-null  object\n",
      " 25  CS extension (2004-2015)                                    543412 non-null  object\n",
      " 26  CS lymph nodes (2004-2015)                                  543412 non-null  object\n",
      " 27  CS mets at dx (2004-2015)                                   543412 non-null  object\n",
      " 28  CS Tumor Size/Ext Eval (2004-2015)                          543412 non-null  object\n",
      " 29  CS Reg Node Eval (2004-2015)                                543412 non-null  object\n",
      " 30  CS Mets Eval (2004-2015)                                    543412 non-null  object\n",
      " 31  CS site-specific factor 1 (2004+ varying by schema)         543412 non-null  object\n",
      " 32  CS site-specific factor 2 (2004+ varying by schema)         543412 non-null  object\n",
      " 33  CS site-specific factor 25 (2004+ varying by schema)        543412 non-null  object\n",
      " 34  CS version input current (2004-2015)                        543412 non-null  object\n",
      " 35  CS version input original (2004-2015)                       543412 non-null  object\n",
      " 36  CS version derived (2004-2015)                              543412 non-null  object\n",
      " 37  SEER cause-specific death classification                    543412 non-null  object\n",
      " 38  Survival months                                             543412 non-null  object\n",
      " 39  Primary by international rules                              543412 non-null  object\n",
      " 40  Total number of in situ/malignant tumors for patient        543412 non-null  object\n",
      " 41  Total number of benign/borderline tumors for patient        543412 non-null  int64 \n",
      " 42  Type of Reporting Source                                    543412 non-null  object\n",
      " 43  Marital status at diagnosis                                 543412 non-null  object\n",
      " 44  Median household income inflation adj to 2018               543412 non-null  object\n",
      " 45  Rural-Urban Continuum Code                                  543412 non-null  object\n",
      "dtypes: int64(4), object(42)\n",
      "memory usage: 194.9+ MB\n"
     ]
    }
   ],
   "source": [
    "data1.info()"
   ]
  },
  {
   "cell_type": "markdown",
   "metadata": {
    "id": "pe4vLQD069JM"
   },
   "source": [
    "### Review all possible 'unknown' labels, not only \"Blank(s)\" & Review each column closely\n",
    "* [2]: 'Non-Hispanic Unknown Race'\n",
    "* [4]: 'Unknown'\n",
    "* [5]: 'Paired site, but no information concerning laterality'\n",
    "* [6]: 'Unknown'\n",
    "* [7]: 'Unknown/unstaged'\n",
    "* [8]: 'Blank(s)', 'Unknown/unstaged/unspecified/DCO'\n",
    "* [9]: 'Blank(s)', 'Unstaged'\n",
    "* [10]: 'Blank(s)', nan, 'UNK Stage'\n",
    "* [11]: 'Blank(s)', 'TX', nan\n",
    "* [12]: 'Blank(s)', 'NX, nan\n",
    "* [13]: 'Blank(s)', 'MX, nan\n",
    "* [14]: '99'\n",
    "* [15]: 'Blank(s)'\n",
    "* [16]: **Remove** column completely, not as specific as other columns, redundant\n",
    "* [21]: 'Blank(s)', 'Sequence unknown'\n",
    "* [22]: '95', '96', '97', '98', '99', '126'\n",
    "* [23]: '95', '97', '99', '126'\n",
    "* [24]: 'Blank(s)', '999', '888', '1022'\n",
    "* [25]: 'Blank(s)', '999' ## CS extension same as T Stage\n",
    "* [26]: 'Blank(s)', '999' ## CS lymph nodes same as N Stage\n",
    "* [27]: 'Blank(s)', '99' ## CS mets at dx same as M Stage\n",
    "* [28, 29, 30]: **Remove** columns completley, used to determine last 3 columns\n",
    "* [31]: 'Blank(s)', '999', '997' ##SSF1\n",
    "* [32]: 'Blank(s)', '999', '988' ##SSF2, similar to N stage, no. of metastases in regional nodes or no. of regional nodes positive (may be removed as redundant)\n",
    "* [33]: **Remove** completely, all values 'Blank(s)' or '988'\n",
    "* [34, 35, 36]: **remove** completely, CS Version information\n",
    "* [38]: 'Unknown'\n",
    "* [42]: **Remove** column\n",
    "* [44]: 'Unknown/missing/no match/Not 1990-2017'\n",
    "* [45]: **Remove** column"
   ]
  },
  {
   "cell_type": "markdown",
   "metadata": {
    "id": "8FDNM8D069JM"
   },
   "source": [
    "**Regional nodes examined**  \n",
    "00: No nodes were examined  \n",
    "01-89: Exact number of nodes examined  \n",
    "90: 90 or more nodes were examined  \n",
    "95: No regional nodes were removed, but aspiration of regional nodes was performed  \n",
    "96: Regional lymph node removal was documented as a sampling, and the number of nodes is unknown/not stated  \n",
    "97: Regional lymph node removal was documented as a dissection, and the number of nodes is unknown/not stated  \n",
    "98: Regional lymph nodes were surgically removed, but the number of lymph nodes is unknown/not stated and not documented as a sampling or dissection; nodes were examined, but the number is unknown  \n",
    "99: Unknown whether nodes were examined; not applicable or negative; not stated in patient record  \n",
    "126: Blank  "
   ]
  },
  {
   "cell_type": "markdown",
   "metadata": {
    "id": "0WXtzFi169JM"
   },
   "source": [
    "**Regional nodes positive**  \n",
    "00: All nodes examined are negative  \n",
    "01-89: Exact number of nodes positive  \n",
    "90: 90 or more nodes are positive  \n",
    "95: Positive aspiration of lymph node(s) was performed  \n",
    "97: Positive nodes are documented, but number is unspecified  \n",
    "98: No nodes were examined  \n",
    "99: Unknown whether nodes are positive; not applicable; not stated in patient record  \n",
    "126: Blank"
   ]
  },
  {
   "cell_type": "code",
   "execution_count": 208,
   "metadata": {
    "id": "NoMjlaG969JN"
   },
   "outputs": [],
   "source": [
    "data1.drop(data1.columns[45], axis = 1, inplace = True)"
   ]
  },
  {
   "cell_type": "code",
   "execution_count": 209,
   "metadata": {
    "id": "_y1eAPnz69JN"
   },
   "outputs": [],
   "source": [
    "data1.drop(data1.columns[42], axis = 1, inplace = True)"
   ]
  },
  {
   "cell_type": "code",
   "execution_count": 210,
   "metadata": {
    "id": "9L5T0XFk69JO"
   },
   "outputs": [],
   "source": [
    "data1.drop(data1.iloc[:,34:37], axis = 1, inplace = True)"
   ]
  },
  {
   "cell_type": "code",
   "execution_count": 211,
   "metadata": {
    "id": "nNUrz7tG69JO"
   },
   "outputs": [],
   "source": [
    "data1.drop(data1.columns[33], axis = 1, inplace = True)"
   ]
  },
  {
   "cell_type": "code",
   "execution_count": 212,
   "metadata": {
    "id": "kNhsaRxw69JO"
   },
   "outputs": [],
   "source": [
    "data1.drop(data1.iloc[:,28:31], axis = 1, inplace = True)"
   ]
  },
  {
   "cell_type": "code",
   "execution_count": 213,
   "metadata": {
    "id": "cxqdi7na69JO"
   },
   "outputs": [],
   "source": [
    "data1.drop(data1.columns[16], axis = 1, inplace = True)"
   ]
  },
  {
   "cell_type": "markdown",
   "metadata": {
    "id": "vMbgZ4IJ69JO"
   },
   "source": [
    "### Removing rows where blanks occur in columns that are going to be kept"
   ]
  },
  {
   "cell_type": "code",
   "execution_count": 214,
   "metadata": {
    "id": "fPbHO8jM69JP"
   },
   "outputs": [],
   "source": [
    "data2 = data1[data1['Race and origin recode (NHW, NHB, NHAIAN, NHAPI, Hispanic)'] != 'Non-Hispanic Unknown Race']"
   ]
  },
  {
   "cell_type": "code",
   "execution_count": 215,
   "metadata": {
    "id": "G42FD5uZ69JP"
   },
   "outputs": [],
   "source": [
    "data2 = data2[data2['Grade'] != 'Unknown']"
   ]
  },
  {
   "cell_type": "code",
   "execution_count": 216,
   "metadata": {
    "id": "rf-OPjxl69JP"
   },
   "outputs": [],
   "source": [
    "data2 = data2[data2['Diagnostic Confirmation'] !='Unknown']"
   ]
  },
  {
   "cell_type": "code",
   "execution_count": 217,
   "metadata": {
    "id": "rJW6AdVo69JP"
   },
   "outputs": [],
   "source": [
    "data2 = data2[data2['Summary stage 2000 (1998+)'] != 'Unknown/unstaged']"
   ]
  },
  {
   "cell_type": "code",
   "execution_count": 218,
   "metadata": {
    "id": "6EGpkdkR69JP"
   },
   "outputs": [],
   "source": [
    "data2 = data2[data2['SEER Combined Summary Stage 2000 (2004+)'] != 'Unknown/unstaged/unspecified/DCO']"
   ]
  },
  {
   "cell_type": "code",
   "execution_count": 219,
   "metadata": {
    "id": "eBM-tK_E69JP"
   },
   "outputs": [],
   "source": [
    "data2 = data2[(data2['SEER historic stage A (1973-2015)'] != 'Blank(s)') & (data2['SEER historic stage A (1973-2015)'] != 'Unstaged')]"
   ]
  },
  {
   "cell_type": "code",
   "execution_count": 220,
   "metadata": {
    "id": "GEiUs9LD69JQ"
   },
   "outputs": [],
   "source": [
    "data2 = data2[data2['Derived AJCC Stage Group, 6th ed (2004-2015)'] != 'UNK Stage']"
   ]
  },
  {
   "cell_type": "code",
   "execution_count": 221,
   "metadata": {
    "id": "u0ItZ9rE69JQ"
   },
   "outputs": [],
   "source": [
    "data2 = data2[(data2['Derived AJCC T, 6th ed (2004-2015)'] != 'Blank(s)') & (data2['Derived AJCC T, 6th ed (2004-2015)'] != 'TX') & (data2['Derived AJCC T, 6th ed (2004-2015)'].notna())]"
   ]
  },
  {
   "cell_type": "code",
   "execution_count": 222,
   "metadata": {
    "id": "pA5g6upA69JQ"
   },
   "outputs": [],
   "source": [
    "data2 = data2[data2['Derived AJCC N, 6th ed (2004-2015)'] != 'NX']"
   ]
  },
  {
   "cell_type": "code",
   "execution_count": 223,
   "metadata": {
    "id": "_uUnMado69JQ"
   },
   "outputs": [],
   "source": [
    "data2 = data2[data2['Derived AJCC M, 6th ed (2004-2015)'] != 'MX']"
   ]
  },
  {
   "cell_type": "code",
   "execution_count": 224,
   "metadata": {
    "id": "lK9tNjKV69JQ"
   },
   "outputs": [],
   "source": [
    "data2 = data2[data2['RX Summ--Surg Prim Site (1998+)'] != 99]"
   ]
  },
  {
   "cell_type": "code",
   "execution_count": 225,
   "metadata": {
    "id": "Rsd40ajt69JQ"
   },
   "outputs": [],
   "source": [
    "data2 = data2[(data2['RX Summ--Scope Reg LN Sur (2003+)'] != 'Number of regional lymph nodes removed unknown') & (data2['RX Summ--Scope Reg LN Sur (2003+)'] != 'Unknown or not applicable')]"
   ]
  },
  {
   "cell_type": "code",
   "execution_count": 226,
   "metadata": {
    "id": "IJNGDdWO69JQ"
   },
   "outputs": [],
   "source": [
    "data2 = data2[(data2['RX Summ--Systemic/Sur Seq'] != 'Blank(s)') & (data2['RX Summ--Systemic/Sur Seq'] != 'Sequence unknown')]"
   ]
  },
  {
   "cell_type": "code",
   "execution_count": 227,
   "metadata": {
    "id": "LtXejnvO69JR"
   },
   "outputs": [],
   "source": [
    "data2 = data2[(data2['Regional nodes examined (1988+)'] != 99) & (data2['Regional nodes examined (1988+)'] != 126) & (data2['Regional nodes examined (1988+)'] != 98) & (data2['Regional nodes examined (1988+)'] != 97) & (data2['Regional nodes examined (1988+)'] != 95) & (data2['Regional nodes examined (1988+)'] != 96)]"
   ]
  },
  {
   "cell_type": "code",
   "execution_count": 228,
   "metadata": {
    "id": "401Qf8NJ69JR"
   },
   "outputs": [],
   "source": [
    "data2 = data2[(data2['Regional nodes positive (1988+)'] != 99) & (data2['Regional nodes positive (1988+)'] != 126) & (data2['Regional nodes positive (1988+)'] != 97) & (data2['Regional nodes positive (1988+)'] != 95)]"
   ]
  },
  {
   "cell_type": "code",
   "execution_count": 229,
   "metadata": {
    "id": "8JPfX1B569JR"
   },
   "outputs": [],
   "source": [
    "data2 = data2[(data2['CS tumor size (2004-2015)'] != '999') & (data2['CS tumor size (2004-2015)'] != '888') & (data2['CS tumor size (2004-2015)'] != '1022')] "
   ]
  },
  {
   "cell_type": "code",
   "execution_count": 230,
   "metadata": {
    "id": "CL-dWyhN69JR"
   },
   "outputs": [],
   "source": [
    "data2 = data2[data2['Survival months'] != 'Unknown']"
   ]
  },
  {
   "cell_type": "code",
   "execution_count": 231,
   "metadata": {
    "id": "AKTxTyH269JR"
   },
   "outputs": [],
   "source": [
    "data2 = data2[data2['Total number of in situ/malignant tumors for patient'] != 'Unknown']"
   ]
  },
  {
   "cell_type": "code",
   "execution_count": 232,
   "metadata": {
    "id": "GyjGIeLu69JR"
   },
   "outputs": [],
   "source": [
    "data2 = data2[data2['Median household income inflation adj to 2018'] != 'Unknown/missing/no match/Not 1990-2017']"
   ]
  },
  {
   "cell_type": "markdown",
   "metadata": {
    "id": "0RX3-AzK69JR"
   },
   "source": [
    "data3.columns[24:27] same as data3.columns[11:14] ##CS staging vs TNM staging"
   ]
  },
  {
   "cell_type": "code",
   "execution_count": 233,
   "metadata": {
    "id": "ZnV04jxF69JS"
   },
   "outputs": [],
   "source": [
    "data2.drop(data2.iloc[:,24:27], axis = 1, inplace = True)"
   ]
  },
  {
   "cell_type": "markdown",
   "metadata": {
    "id": "QbfrZpvb69JS"
   },
   "source": [
    "Drop column 24 (SSF1 because most values are unknown or test not ordered, codes: 080, 988, 997 and 999) and 25 (SSF2 because similar to N staging, most values are 000 or 999 or 998 which correspond to unknown / useless values)"
   ]
  },
  {
   "cell_type": "code",
   "execution_count": 234,
   "metadata": {
    "id": "hkXDPSE469JS",
    "outputId": "2df81d6d-c535-44ff-c60e-6872a1ad2ae8"
   },
   "outputs": [
    {
     "data": {
      "text/plain": [
       "020         64709\n",
       "010         50087\n",
       "999         45768\n",
       "998         29064\n",
       "997          2130\n",
       "Blank(s)     1487\n",
       "030           637\n",
       "Name: CS site-specific factor 1 (2004+ varying by schema), dtype: int64"
      ]
     },
     "execution_count": 234,
     "metadata": {},
     "output_type": "execute_result"
    }
   ],
   "source": [
    "data2['CS site-specific factor 1 (2004+ varying by schema)'].value_counts()"
   ]
  },
  {
   "cell_type": "code",
   "execution_count": 235,
   "metadata": {
    "id": "tUBj8QR169JS",
    "outputId": "af6bc132-b1ac-4049-b674-ff7e9d980d50"
   },
   "outputs": [
    {
     "data": {
      "text/plain": [
       "000    126970\n",
       "999     25120\n",
       "988     17102\n",
       "400     10407\n",
       "100      5905\n",
       "010      2745\n",
       "200      2293\n",
       "020      1761\n",
       "110       942\n",
       "120       637\n",
       "Name: CS site-specific factor 2 (2004+ varying by schema), dtype: int64"
      ]
     },
     "execution_count": 235,
     "metadata": {},
     "output_type": "execute_result"
    }
   ],
   "source": [
    "data2['CS site-specific factor 2 (2004+ varying by schema)'].value_counts() "
   ]
  },
  {
   "cell_type": "code",
   "execution_count": 236,
   "metadata": {
    "id": "bfpzMZH369JS"
   },
   "outputs": [],
   "source": [
    "data2.drop(data2.iloc[:,24:26], axis = 1, inplace = True)"
   ]
  },
  {
   "cell_type": "code",
   "execution_count": 237,
   "metadata": {
    "id": "k3KiYC-M69JT"
   },
   "outputs": [],
   "source": [
    "data2.drop(columns=['Reason no cancer-directed surgery'], axis = 1, inplace = True)"
   ]
  },
  {
   "cell_type": "code",
   "execution_count": 238,
   "metadata": {
    "id": "JzlxcaaK69JT"
   },
   "outputs": [],
   "source": [
    "data2.drop(columns=['Marital status at diagnosis'], axis = 1, inplace = True)"
   ]
  },
  {
   "cell_type": "code",
   "execution_count": 239,
   "metadata": {
    "id": "D6DtHeYY69JT"
   },
   "outputs": [],
   "source": [
    "data2.drop(columns=['Summary stage 2000 (1998+)'], axis = 1, inplace = True)"
   ]
  },
  {
   "cell_type": "code",
   "execution_count": 240,
   "metadata": {
    "id": "wlMtZCr-69JT"
   },
   "outputs": [],
   "source": [
    "data2.drop(columns=['SEER historic stage A (1973-2015)'], axis = 1, inplace = True)"
   ]
  },
  {
   "cell_type": "markdown",
   "metadata": {
    "id": "1Y6T4zuR69JT"
   },
   "source": [
    "#### Keep or discard value 98 (No nodes were examined) in column 'Regional nodes positive (1988+), or bin column with 98 value = 'None'"
   ]
  },
  {
   "cell_type": "code",
   "execution_count": 241,
   "metadata": {
    "id": "---ILsc-69JT",
    "outputId": "2dbae12d-3e87-4185-e6c4-89331ccdc92d"
   },
   "outputs": [
    {
     "data": {
      "text/plain": [
       "98    15427\n",
       "Name: Regional nodes positive (1988+), dtype: int64"
      ]
     },
     "execution_count": 241,
     "metadata": {},
     "output_type": "execute_result"
    }
   ],
   "source": [
    "data2['Regional nodes positive (1988+)'][data2['Regional nodes positive (1988+)'] == 98].value_counts()"
   ]
  },
  {
   "cell_type": "code",
   "execution_count": 242,
   "metadata": {
    "id": "Razxxogf69JT",
    "outputId": "1ebe76da-149d-48d2-e35a-795c02c62b03"
   },
   "outputs": [
    {
     "data": {
      "text/plain": [
       "0    15427\n",
       "Name: Regional nodes examined (1988+), dtype: int64"
      ]
     },
     "execution_count": 242,
     "metadata": {},
     "output_type": "execute_result"
    }
   ],
   "source": [
    "data2['Regional nodes examined (1988+)'][data2['Regional nodes examined (1988+)'] == 0].value_counts()"
   ]
  },
  {
   "cell_type": "code",
   "execution_count": 243,
   "metadata": {
    "id": "tBbEGNRJ69JU",
    "outputId": "841cef07-25af-4df9-83d9-bf0f877520a1"
   },
   "outputs": [
    {
     "data": {
      "text/plain": [
       "-0.12298033068560883"
      ]
     },
     "execution_count": 243,
     "metadata": {},
     "output_type": "execute_result"
    }
   ],
   "source": [
    "data2['Regional nodes positive (1988+)'].corr(data2['Survival months'].astype(int))"
   ]
  },
  {
   "cell_type": "code",
   "execution_count": 244,
   "metadata": {
    "id": "JC-2vG5669JU",
    "outputId": "bcec8bd2-f51a-4087-a0e0-1a9c51b757e7"
   },
   "outputs": [
    {
     "data": {
      "text/plain": [
       "0.046685069467678315"
      ]
     },
     "execution_count": 244,
     "metadata": {},
     "output_type": "execute_result"
    }
   ],
   "source": [
    "data2['Regional nodes examined (1988+)'].corr(data2['Survival months'].astype(int))"
   ]
  },
  {
   "cell_type": "code",
   "execution_count": 245,
   "metadata": {
    "id": "JtSVDypg69JU",
    "outputId": "c22cb75d-482d-44e3-b149-1af14dd343df"
   },
   "outputs": [
    {
     "data": {
      "text/plain": [
       "-0.25211320311209956"
      ]
     },
     "execution_count": 245,
     "metadata": {},
     "output_type": "execute_result"
    }
   ],
   "source": [
    "dftest = data2.copy()\n",
    "dftest = dftest[dftest['Regional nodes positive (1988+)'] != 98]\n",
    "dftest['Regional nodes positive (1988+)'].corr(dftest['Survival months'].astype(int))"
   ]
  },
  {
   "cell_type": "code",
   "execution_count": 246,
   "metadata": {
    "id": "RBJgIrNt69JV",
    "outputId": "4bee2023-59d7-4ce7-f715-99f03bec9209"
   },
   "outputs": [
    {
     "data": {
      "text/plain": [
       "0.0072470564908850505"
      ]
     },
     "execution_count": 246,
     "metadata": {},
     "output_type": "execute_result"
    }
   ],
   "source": [
    "dftest['Regional nodes examined (1988+)'].corr(dftest['Survival months'].astype(int))"
   ]
  },
  {
   "cell_type": "code",
   "execution_count": 247,
   "metadata": {
    "id": "oQe2EIjw69JV",
    "outputId": "45b11593-42a9-4208-ceeb-c78be0c3dd45"
   },
   "outputs": [
    {
     "data": {
      "text/plain": [
       "<AxesSubplot:>"
      ]
     },
     "execution_count": 247,
     "metadata": {},
     "output_type": "execute_result"
    },
    {
     "data": {
      "image/png": "[encoded data removed]",
      "text/plain": [
       "<Figure size 576x396 with 1 Axes>"
      ]
     },
     "metadata": {},
     "output_type": "display_data"
    }
   ],
   "source": [
    "dftest2 = data2.copy()\n",
    "dftest2 = dftest2[dftest2['Regional nodes positive (1988+)'] == 98]\n",
    "dftest2['Survival months'].astype(int).hist()"
   ]
  },
  {
   "cell_type": "code",
   "execution_count": 248,
   "metadata": {
    "id": "55BdQBKq69JV",
    "outputId": "0b4ac4d8-a20b-45bb-f2c1-22980c570c96"
   },
   "outputs": [
    {
     "data": {
      "text/plain": [
       "count    178455.000000\n",
       "mean          2.055168\n",
       "std           4.054779\n",
       "min           0.000000\n",
       "25%           0.000000\n",
       "50%           0.000000\n",
       "75%           2.000000\n",
       "max          90.000000\n",
       "Name: Regional nodes positive (1988+), dtype: float64"
      ]
     },
     "execution_count": 248,
     "metadata": {},
     "output_type": "execute_result"
    }
   ],
   "source": [
    "dftest['Regional nodes positive (1988+)'].describe()"
   ]
  },
  {
   "cell_type": "code",
   "execution_count": 249,
   "metadata": {
    "id": "eYNACDrb69JV",
    "outputId": "1d5b2e5b-de6d-4de7-8d06-b302ee4ee4f2"
   },
   "outputs": [
    {
     "data": {
      "text/plain": [
       "0.0"
      ]
     },
     "execution_count": 249,
     "metadata": {},
     "output_type": "execute_result"
    }
   ],
   "source": [
    "dftest['Regional nodes positive (1988+)'].median()"
   ]
  },
  {
   "cell_type": "code",
   "execution_count": 250,
   "metadata": {
    "id": "VpQImIna69JV"
   },
   "outputs": [],
   "source": [
    "data2['Survival months']=data2['Survival months'].astype(int)"
   ]
  },
  {
   "cell_type": "code",
   "execution_count": 251,
   "metadata": {
    "id": "tm2O4YnI69JW",
    "outputId": "5bcf3d7a-d272-47ce-9920-e1b8a38282ac"
   },
   "outputs": [
    {
     "data": {
      "text/html": [
       "<style  type=\"text/css\" >\n",
       "#T_b0f06741_9966_11eb_835a_7020840e056drow0_col0,#T_b0f06741_9966_11eb_835a_7020840e056drow1_col1,#T_b0f06741_9966_11eb_835a_7020840e056drow2_col2{\n",
       "            background-color:  #b40426;\n",
       "            color:  #f1f1f1;\n",
       "        }#T_b0f06741_9966_11eb_835a_7020840e056drow0_col1,#T_b0f06741_9966_11eb_835a_7020840e056drow0_col2,#T_b0f06741_9966_11eb_835a_7020840e056drow1_col0{\n",
       "            background-color:  #3b4cc0;\n",
       "            color:  #f1f1f1;\n",
       "        }#T_b0f06741_9966_11eb_835a_7020840e056drow1_col2{\n",
       "            background-color:  #6a8bef;\n",
       "            color:  #000000;\n",
       "        }#T_b0f06741_9966_11eb_835a_7020840e056drow2_col0{\n",
       "            background-color:  #81a4fb;\n",
       "            color:  #000000;\n",
       "        }#T_b0f06741_9966_11eb_835a_7020840e056drow2_col1{\n",
       "            background-color:  #aac7fd;\n",
       "            color:  #000000;\n",
       "        }</style><table id=\"T_b0f06741_9966_11eb_835a_7020840e056d\" ><thead>    <tr>        <th class=\"blank level0\" ></th>        <th class=\"col_heading level0 col0\" >Regional nodes positive (1988+)</th>        <th class=\"col_heading level0 col1\" >Regional nodes examined (1988+)</th>        <th class=\"col_heading level0 col2\" >Survival months</th>    </tr></thead><tbody>\n",
       "                <tr>\n",
       "                        <th id=\"T_b0f06741_9966_11eb_835a_7020840e056dlevel0_row0\" class=\"row_heading level0 row0\" >Regional nodes positive (1988+)</th>\n",
       "                        <td id=\"T_b0f06741_9966_11eb_835a_7020840e056drow0_col0\" class=\"data row0 col0\" >1.000000</td>\n",
       "                        <td id=\"T_b0f06741_9966_11eb_835a_7020840e056drow0_col1\" class=\"data row0 col1\" >-0.433425</td>\n",
       "                        <td id=\"T_b0f06741_9966_11eb_835a_7020840e056drow0_col2\" class=\"data row0 col2\" >-0.122980</td>\n",
       "            </tr>\n",
       "            <tr>\n",
       "                        <th id=\"T_b0f06741_9966_11eb_835a_7020840e056dlevel0_row1\" class=\"row_heading level0 row1\" >Regional nodes examined (1988+)</th>\n",
       "                        <td id=\"T_b0f06741_9966_11eb_835a_7020840e056drow1_col0\" class=\"data row1 col0\" >-0.433425</td>\n",
       "                        <td id=\"T_b0f06741_9966_11eb_835a_7020840e056drow1_col1\" class=\"data row1 col1\" >1.000000</td>\n",
       "                        <td id=\"T_b0f06741_9966_11eb_835a_7020840e056drow1_col2\" class=\"data row1 col2\" >0.046685</td>\n",
       "            </tr>\n",
       "            <tr>\n",
       "                        <th id=\"T_b0f06741_9966_11eb_835a_7020840e056dlevel0_row2\" class=\"row_heading level0 row2\" >Survival months</th>\n",
       "                        <td id=\"T_b0f06741_9966_11eb_835a_7020840e056drow2_col0\" class=\"data row2 col0\" >-0.122980</td>\n",
       "                        <td id=\"T_b0f06741_9966_11eb_835a_7020840e056drow2_col1\" class=\"data row2 col1\" >0.046685</td>\n",
       "                        <td id=\"T_b0f06741_9966_11eb_835a_7020840e056drow2_col2\" class=\"data row2 col2\" >1.000000</td>\n",
       "            </tr>\n",
       "    </tbody></table>"
      ],
      "text/plain": [
       "<pandas.io.formats.style.Styler at 0x194ff2d69d0>"
      ]
     },
     "execution_count": 251,
     "metadata": {},
     "output_type": "execute_result"
    }
   ],
   "source": [
    "corr = data2[['Regional nodes positive (1988+)', 'Regional nodes examined (1988+)', 'Survival months']].corr()\n",
    "corr.style.background_gradient(cmap='coolwarm')"
   ]
  },
  {
   "cell_type": "code",
   "execution_count": 252,
   "metadata": {
    "id": "FuZQlpvB69JW"
   },
   "outputs": [],
   "source": [
    "dftest['Survival months'] = dftest['Survival months'].astype(int)"
   ]
  },
  {
   "cell_type": "code",
   "execution_count": 253,
   "metadata": {
    "id": "wfOi4oyT69JW",
    "outputId": "2a66ec5d-61b7-4162-d8ba-6dfec49ebc3f"
   },
   "outputs": [
    {
     "data": {
      "text/html": [
       "<style  type=\"text/css\" >\n",
       "#T_b107d0b5_9966_11eb_90a0_7020840e056drow0_col0,#T_b107d0b5_9966_11eb_90a0_7020840e056drow1_col1,#T_b107d0b5_9966_11eb_90a0_7020840e056drow2_col2{\n",
       "            background-color:  #b40426;\n",
       "            color:  #f1f1f1;\n",
       "        }#T_b107d0b5_9966_11eb_90a0_7020840e056drow0_col1{\n",
       "            background-color:  #6b8df0;\n",
       "            color:  #000000;\n",
       "        }#T_b107d0b5_9966_11eb_90a0_7020840e056drow0_col2,#T_b107d0b5_9966_11eb_90a0_7020840e056drow2_col0,#T_b107d0b5_9966_11eb_90a0_7020840e056drow2_col1{\n",
       "            background-color:  #3b4cc0;\n",
       "            color:  #f1f1f1;\n",
       "        }#T_b107d0b5_9966_11eb_90a0_7020840e056drow1_col0{\n",
       "            background-color:  #a9c6fd;\n",
       "            color:  #000000;\n",
       "        }#T_b107d0b5_9966_11eb_90a0_7020840e056drow1_col2{\n",
       "            background-color:  #7ea1fa;\n",
       "            color:  #000000;\n",
       "        }</style><table id=\"T_b107d0b5_9966_11eb_90a0_7020840e056d\" ><thead>    <tr>        <th class=\"blank level0\" ></th>        <th class=\"col_heading level0 col0\" >Regional nodes positive (1988+)</th>        <th class=\"col_heading level0 col1\" >Regional nodes examined (1988+)</th>        <th class=\"col_heading level0 col2\" >Survival months</th>    </tr></thead><tbody>\n",
       "                <tr>\n",
       "                        <th id=\"T_b107d0b5_9966_11eb_90a0_7020840e056dlevel0_row0\" class=\"row_heading level0 row0\" >Regional nodes positive (1988+)</th>\n",
       "                        <td id=\"T_b107d0b5_9966_11eb_90a0_7020840e056drow0_col0\" class=\"data row0 col0\" >1.000000</td>\n",
       "                        <td id=\"T_b107d0b5_9966_11eb_90a0_7020840e056drow0_col1\" class=\"data row0 col1\" >0.161220</td>\n",
       "                        <td id=\"T_b107d0b5_9966_11eb_90a0_7020840e056drow0_col2\" class=\"data row0 col2\" >-0.252113</td>\n",
       "            </tr>\n",
       "            <tr>\n",
       "                        <th id=\"T_b107d0b5_9966_11eb_90a0_7020840e056dlevel0_row1\" class=\"row_heading level0 row1\" >Regional nodes examined (1988+)</th>\n",
       "                        <td id=\"T_b107d0b5_9966_11eb_90a0_7020840e056drow1_col0\" class=\"data row1 col0\" >0.161220</td>\n",
       "                        <td id=\"T_b107d0b5_9966_11eb_90a0_7020840e056drow1_col1\" class=\"data row1 col1\" >1.000000</td>\n",
       "                        <td id=\"T_b107d0b5_9966_11eb_90a0_7020840e056drow1_col2\" class=\"data row1 col2\" >0.007247</td>\n",
       "            </tr>\n",
       "            <tr>\n",
       "                        <th id=\"T_b107d0b5_9966_11eb_90a0_7020840e056dlevel0_row2\" class=\"row_heading level0 row2\" >Survival months</th>\n",
       "                        <td id=\"T_b107d0b5_9966_11eb_90a0_7020840e056drow2_col0\" class=\"data row2 col0\" >-0.252113</td>\n",
       "                        <td id=\"T_b107d0b5_9966_11eb_90a0_7020840e056drow2_col1\" class=\"data row2 col1\" >0.007247</td>\n",
       "                        <td id=\"T_b107d0b5_9966_11eb_90a0_7020840e056drow2_col2\" class=\"data row2 col2\" >1.000000</td>\n",
       "            </tr>\n",
       "    </tbody></table>"
      ],
      "text/plain": [
       "<pandas.io.formats.style.Styler at 0x194ff29d970>"
      ]
     },
     "execution_count": 253,
     "metadata": {},
     "output_type": "execute_result"
    }
   ],
   "source": [
    "corr = dftest[['Regional nodes positive (1988+)', 'Regional nodes examined (1988+)', 'Survival months']].corr()\n",
    "corr.style.background_gradient(cmap='coolwarm')"
   ]
  },
  {
   "cell_type": "markdown",
   "metadata": {
    "id": "u1CcKeZH69JW"
   },
   "source": [
    "Decided to remove the 98 value "
   ]
  },
  {
   "cell_type": "code",
   "execution_count": 254,
   "metadata": {
    "id": "6wZXAFCK69JW"
   },
   "outputs": [],
   "source": [
    "data2 = data2[data2['Regional nodes positive (1988+)'] != 98]"
   ]
  },
  {
   "cell_type": "code",
   "execution_count": 255,
   "metadata": {
    "id": "rD769beO69JW",
    "outputId": "3769208c-e4ef-4956-c581-5f7ab4433b03"
   },
   "outputs": [
    {
     "name": "stdout",
     "output_type": "stream",
     "text": [
      "['35-39 years' '70-74 years' '40-44 years' '80-84 years' '85+ years'\n",
      " '60-64 years' '65-69 years' '50-54 years' '55-59 years' '75-79 years'\n",
      " '45-49 years' '30-34 years' '25-29 years' '15-19 years' '20-24 years'\n",
      " '10-14 years']\n",
      "['Female' 'Male']\n",
      "['Hispanic (All Races)' 'Non-Hispanic White' 'Non-Hispanic Black'\n",
      " 'Non-Hispanic American Indian/Alaska Native'\n",
      " 'Non-Hispanic Asian or Pacific Islander']\n",
      "['Rectosigmoid Junction' 'Ascending Colon' 'Sigmoid Colon'\n",
      " 'Transverse Colon' 'Hepatic Flexure' 'Rectum' 'Cecum' 'Descending Colon'\n",
      " 'Splenic Flexure' 'Appendix' 'Large Intestine, NOS']\n",
      "['Moderately differentiated; Grade II' 'Poorly differentiated; Grade III'\n",
      " 'Well differentiated; Grade I' 'Undifferentiated; anaplastic; Grade IV']\n",
      "['Not a paired  site' 'Right - origin of primary'\n",
      " 'Left - origin of primary'\n",
      " 'Paired site, but no information concerning laterality'\n",
      " 'Only one side - side unspecified' 'Bilateral, single primary']\n",
      "['Positive histology' 'Positive microscopic confirm, method not specified'\n",
      " 'Positive exfoliative cytology, no positive histology'\n",
      " 'Direct visualization without microscopic confirmation'\n",
      " 'Pos hist AND immunophenotyping AND/OR pos genetic studies'\n",
      " 'Clinical diagnosis only' 'Radiography without microscopic confirm']\n",
      "['Distant site(s)/node(s) involved' 'Regional lymph nodes involved only'\n",
      " 'Localized only' 'Regional by direct extension only'\n",
      " 'Regional by both direct extension and lymph node involvement']\n",
      "['IV' 'IIIA' 'I' 'IIA' 'IIIC' 'IIIB' 'IIB' '0']\n",
      "['T3' 'T1' 'T2' 'T4' 'Tis' 'T0']\n",
      "['N1' 'N0' 'N2']\n",
      "['M1' 'M0']\n",
      "[30 40 50 27 32 80 60 41 51 26 29 55 70 56 20 90 31  0 28 22 25 61 57 65\n",
      " 66 23 10 12 24 14]\n",
      "['4 or more regional lymph nodes removed'\n",
      " '1 to 3 regional lymph nodes removed'\n",
      " 'Sentinel node biopsy and lym nd removed same/unstated time' 'None'\n",
      " 'Sentinel node biopsy and lym nd removed different times'\n",
      " 'Biopsy or aspiration of regional lymph node, NOS'\n",
      " 'Sentinel lymph node biopsy']\n",
      "['Radiation after surgery' 'No radiation and/or cancer-directed surgery'\n",
      " 'Radiation prior to surgery' 'Radiation before and after surgery'\n",
      " 'Intraoperative rad with other rad before/after surgery'\n",
      " 'Sequence unknown, but both were given'\n",
      " 'Surgery both before and after radiation' 'Intraoperative radiation']\n",
      "['Beam radiation' 'None/Unknown'\n",
      " 'Radiation, NOS  method or source not specified' 'Radioisotopes (1988+)'\n",
      " 'Radioactive implants (includes brachytherapy) (1988+)' 'Refused (1988+)'\n",
      " 'Recommended, unknown if administered'\n",
      " 'Combination of beam with implants or isotopes']\n",
      "['Yes' 'No/Unknown']\n",
      "['Systemic therapy after surgery'\n",
      " 'No systemic therapy and/or surgical procedures'\n",
      " 'Intraoperative systemic therapy' 'Systemic therapy before surgery'\n",
      " 'Systemic therapy both before and after surgery'\n",
      " 'Surgery both before and after systemic therapy'\n",
      " 'Intraop systemic rx & oth systemic rx before/after surg']\n",
      "[ 8 10 13 23 12 34 20 14 17 18  3  5  6 16 44 30  7 15 24  9 27 32 58 25\n",
      " 48 22 26 19 21 36  4 38 11 69 35 43 39  1 31  2 33 28 40 29 41 37 51 47\n",
      " 53 73 50 45 42 56 46 55 61 64 82 78 90 52 49 57 62 71 65 79 68 67 66 59\n",
      " 54 74 60 70 72 80 63 84 89 76 86 81 88 75 85 87 77 83]\n",
      "[ 1  0  4  6  8  2 10  3 12 11  7  9 47 18  5 19 25 13 16 24 17 26 29 14\n",
      " 20 27 28 15 23 22 21 40 31 35 41 34 30 33 50 38 32 37 56 55 42 36 51 43\n",
      " 48 46 39 49 64 44 54 90 74 45 71 52 75 53 60 59 58 62 68]\n",
      "['035' '015' '049' '030' '085' '060' '040' '053' '065' '050' '003' '032'\n",
      " '021' '045' '017' '031' '052' '059' '095' '034' '080' '075' '048' '105'\n",
      " '020' '010' '083' '055' '070' '025' '140' '012' '104' '027' '002' '068'\n",
      " '037' '033' '043' '006' '062' '089' '041' '046' '125' '018' '042' '036'\n",
      " '073' '061' '044' '135' '016' '004' '023' '026' '001' '077' '100' '039'\n",
      " '008' '007' '082' '022' '038' '028' '019' '024' '078' '058' '110' '090'\n",
      " '064' '057' '991' '029' '109' '072' '086' '063' '014' '047' '067' '700'\n",
      " '130' '069' '115' '150' '005' '054' '076' '066' '013' '099' '079' '051'\n",
      " '120' '202' '990' '088' '087' '071' '011' '074' '133' '093' '009' '107'\n",
      " '097' '098' '994' '056' '116' '081' '200' '122' '190' '108' '230' '170'\n",
      " '992' '750' '993' '000' '134' '094' '112' '147' '084' '998' '500' '092'\n",
      " '989' '102' '180' '185' '148' '132' '127' '114' '194' '165' '091' '175'\n",
      " '945' '113' '096' '450' '530' '800' '121' '145' '550' '210' '118' '160'\n",
      " '111' '144' '143' '250' '830' '580' '225' '123' '223' '117' '128' '119'\n",
      " '106' '103' '995' '420' '400' '600' '101' '139' '650' '510' '126' '124'\n",
      " '966' '220' '300' '660' '138' '176' '131' '505' '146' '136' '155' '280'\n",
      " '320' '142' '215' '900' '195' '310' '330' '850' '340' '350' '167' '161'\n",
      " '205' '157' '270' '570' '370' '988' '670' '640' '129' '240' '520' '183'\n",
      " '950' '269' '975' '303' '164' '141' '360' '935' '162' '163' '168' '156'\n",
      " '154' '172' '970' '151' '152' '137' '193' '810' '430' '206' '440' '158'\n",
      " '470' '204' '260' '920' '333' '201' '166' '380' '290' '480' '720' '560'\n",
      " '930' '184' '295']\n",
      "['Alive' 'Dead']\n",
      "[119  74 127   0  26  29 113  49  83  41  71  43 112 114  60  65 136  61\n",
      "  59  67  77  48   7 134  33   5  25  28 141  52  11   3  64  18   1   9\n",
      "  39   6  30  35  13  27 104 142  63  80  70 121  79  89  38  34  19  56\n",
      " 129  24  20 107  16 133 110   8  84  54  58 143   2  15 105  12  73  87\n",
      "  51 130  32  50  10  44  88 108  37 137  53  69  45  76  46 138 123 100\n",
      " 131 103  82  97 102  31 111   4  81  62  86  40  17 125 117  22  21  36\n",
      " 101  72 124 115  14  66  68  98  23  85 116  94 135  57  75  55 122  96\n",
      "  42  90  47  93 139  91  92 128 132 109 140 126  78  99 106  95 118 120]\n",
      "['Yes' 'No']\n",
      "[2 3 4 5 6 1 7 '02' '03' '01' '04' '06' '05' 8 9 11 '07']\n",
      "[0 1 2 3]\n",
      "['$75,000+' '$65,000 - $69,999' '$70,000 - $74,999' '$60,000 - $64,999'\n",
      " '$55,000 - $59,999' '$40,000 - $44,999' '$45,000 - $49,999'\n",
      " '$50,000 - $54,999' '$35,000 - $39,999' '< $35,000']\n"
     ]
    }
   ],
   "source": [
    "for col in data2:\n",
    "    print(data2[col].unique())"
   ]
  },
  {
   "cell_type": "code",
   "execution_count": 256,
   "metadata": {
    "id": "gktIY2WN69JX"
   },
   "outputs": [],
   "source": [
    "data2 = data2.reset_index(drop=True)"
   ]
  },
  {
   "cell_type": "markdown",
   "metadata": {
    "id": "w2_5epUE69JX"
   },
   "source": [
    "## Cleaning up and exploring values (Renaming columns, changing type, binning)"
   ]
  },
  {
   "cell_type": "markdown",
   "metadata": {
    "id": "ZhDsqRzG69JX"
   },
   "source": [
    "### After removing columns and rows - Final dataset 27 columns and 178455"
   ]
  },
  {
   "cell_type": "code",
   "execution_count": 257,
   "metadata": {
    "id": "UGURQgKX69JX",
    "outputId": "458da3c1-c88d-4949-84f7-e1765581ef00"
   },
   "outputs": [
    {
     "name": "stdout",
     "output_type": "stream",
     "text": [
      "<class 'pandas.core.frame.DataFrame'>\n",
      "RangeIndex: 178455 entries, 0 to 178454\n",
      "Data columns (total 27 columns):\n",
      " #   Column                                                      Non-Null Count   Dtype \n",
      "---  ------                                                      --------------   ----- \n",
      " 0   Age recode with <1 year olds                                178455 non-null  object\n",
      " 1   Sex                                                         178455 non-null  object\n",
      " 2   Race and origin recode (NHW, NHB, NHAIAN, NHAPI, Hispanic)  178455 non-null  object\n",
      " 3   Site recode ICD-O-3/WHO 2008                                178455 non-null  object\n",
      " 4   Grade                                                       178455 non-null  object\n",
      " 5   Laterality                                                  178455 non-null  object\n",
      " 6   Diagnostic Confirmation                                     178455 non-null  object\n",
      " 7   SEER Combined Summary Stage 2000 (2004+)                    178455 non-null  object\n",
      " 8   Derived AJCC Stage Group, 6th ed (2004-2015)                178455 non-null  object\n",
      " 9   Derived AJCC T, 6th ed (2004-2015)                          178455 non-null  object\n",
      " 10  Derived AJCC N, 6th ed (2004-2015)                          178455 non-null  object\n",
      " 11  Derived AJCC M, 6th ed (2004-2015)                          178455 non-null  object\n",
      " 12  RX Summ--Surg Prim Site (1998+)                             178455 non-null  int64 \n",
      " 13  RX Summ--Scope Reg LN Sur (2003+)                           178455 non-null  object\n",
      " 14  RX Summ--Surg/Rad Seq                                       178455 non-null  object\n",
      " 15  Radiation recode                                            178455 non-null  object\n",
      " 16  Chemotherapy recode (yes, no/unk)                           178455 non-null  object\n",
      " 17  RX Summ--Systemic/Sur Seq                                   178455 non-null  object\n",
      " 18  Regional nodes examined (1988+)                             178455 non-null  int64 \n",
      " 19  Regional nodes positive (1988+)                             178455 non-null  int64 \n",
      " 20  CS tumor size (2004-2015)                                   178455 non-null  object\n",
      " 21  SEER cause-specific death classification                    178455 non-null  object\n",
      " 22  Survival months                                             178455 non-null  int32 \n",
      " 23  Primary by international rules                              178455 non-null  object\n",
      " 24  Total number of in situ/malignant tumors for patient        178455 non-null  object\n",
      " 25  Total number of benign/borderline tumors for patient        178455 non-null  int64 \n",
      " 26  Median household income inflation adj to 2018               178455 non-null  object\n",
      "dtypes: int32(1), int64(4), object(22)\n",
      "memory usage: 36.1+ MB\n"
     ]
    }
   ],
   "source": [
    "data2.info()"
   ]
  },
  {
   "cell_type": "code",
   "execution_count": 258,
   "metadata": {
    "id": "hoD5O8gO69JX"
   },
   "outputs": [],
   "source": [
    "data2['CS tumor size (2004-2015)']=data2['CS tumor size (2004-2015)'].astype(int)"
   ]
  },
  {
   "cell_type": "code",
   "execution_count": 259,
   "metadata": {
    "id": "KsDk5qNT69JX"
   },
   "outputs": [],
   "source": [
    "data2['Total number of in situ/malignant tumors for patient']=data2['Total number of in situ/malignant tumors for patient'].astype(int)"
   ]
  },
  {
   "cell_type": "code",
   "execution_count": 260,
   "metadata": {
    "id": "0u8FDMIs69JY"
   },
   "outputs": [],
   "source": [
    "column_indices = [0, 2, 3, 7, 8, 9, 10, 11, 12, 13, 14, 15, 16, 17, 18, 19, 20, 21, 24, 25, 26]\n",
    "new_names = ['Age', 'Race', 'Site', 'Combined Summary Stage 2000', 'Derived AJCC Stage Group', 'Derived AJCC T', 'Derived AJCC N', 'Derived AJCC M', 'Surg Prim Site', 'Scope Reg Lymph Node Surg', 'Surg/Rad Seq', 'Radiation', 'Chemotherapy', 'Systemic/Sur Seq', 'Regional nodes examined', 'Regional nodes positive', 'Tumor Size', 'Alive/Dead', 'Num of in situ/malignant tumors', 'Num of benign/borderline tumors', 'Median household income']\n",
    "old_names = data2.columns[column_indices]\n",
    "data2.rename(columns=dict(zip(old_names, new_names)), inplace=True)"
   ]
  },
  {
   "cell_type": "code",
   "execution_count": 261,
   "metadata": {
    "id": "3Di0lvFx69JY"
   },
   "outputs": [],
   "source": [
    "data2['Grade'] = data2['Grade'].replace(['Moderately differentiated; Grade II','Well differentiated; Grade I','Poorly differentiated; Grade III','Undifferentiated; anaplastic; Grade IV'],['Grade II: Moderately differentiated','Grade I: Well differentiated','Grade III: Poorly differentiated','Grade IV: Undifferentiated; anaplastic'])"
   ]
  },
  {
   "cell_type": "code",
   "execution_count": 262,
   "metadata": {
    "id": "AdHY0_AA69JY"
   },
   "outputs": [],
   "source": [
    "data2['Median household income'] = data2['Median household income'].replace(['< $35,000'],'$0 - $34,999')"
   ]
  },
  {
   "cell_type": "code",
   "execution_count": 263,
   "metadata": {
    "id": "KDxNFTQV69JY"
   },
   "outputs": [],
   "source": [
    "data2['Radiation'] = data2['Radiation'].replace(['None/Unknown'],'No')"
   ]
  },
  {
   "cell_type": "code",
   "execution_count": 264,
   "metadata": {
    "id": "eHfo8v3869JY"
   },
   "outputs": [],
   "source": [
    "data2['Chemotherapy'] = data2['Chemotherapy'].replace(['No/Unknown'],'No')"
   ]
  },
  {
   "cell_type": "markdown",
   "metadata": {
    "id": "iIzyTp_O69JY"
   },
   "source": [
    "## Explore histogram of continuous variables before binning"
   ]
  },
  {
   "cell_type": "code",
   "execution_count": 265,
   "metadata": {
    "id": "YU8QOQYZ69JY",
    "outputId": "bb646644-72bf-445c-b729-ccafc968fd94"
   },
   "outputs": [
    {
     "name": "stdout",
     "output_type": "stream",
     "text": [
      "Requirement already satisfied: seaborn in c:\\users\\gchan\\anaconda3\\lib\\site-packages (0.11.0)\n",
      "Requirement already satisfied: scipy>=1.0 in c:\\users\\gchan\\anaconda3\\lib\\site-packages (from seaborn) (1.5.2)\n",
      "Requirement already satisfied: pandas>=0.23 in c:\\users\\gchan\\anaconda3\\lib\\site-packages (from seaborn) (1.1.3)\n",
      "Requirement already satisfied: matplotlib>=2.2 in c:\\users\\gchan\\anaconda3\\lib\\site-packages (from seaborn) (3.3.2)\n",
      "Requirement already satisfied: numpy>=1.15 in c:\\users\\gchan\\appdata\\roaming\\python\\python38\\site-packages (from seaborn) (1.20.0)\n",
      "Requirement already satisfied: python-dateutil>=2.7.3 in c:\\users\\gchan\\anaconda3\\lib\\site-packages (from pandas>=0.23->seaborn) (2.8.1)\n",
      "Requirement already satisfied: pytz>=2017.2 in c:\\users\\gchan\\anaconda3\\lib\\site-packages (from pandas>=0.23->seaborn) (2020.1)\n",
      "Requirement already satisfied: pillow>=6.2.0 in c:\\users\\gchan\\anaconda3\\lib\\site-packages (from matplotlib>=2.2->seaborn) (8.0.1)\n",
      "Requirement already satisfied: cycler>=0.10 in c:\\users\\gchan\\anaconda3\\lib\\site-packages (from matplotlib>=2.2->seaborn) (0.10.0)\n",
      "Requirement already satisfied: certifi>=2020.06.20 in c:\\users\\gchan\\anaconda3\\lib\\site-packages (from matplotlib>=2.2->seaborn) (2020.6.20)\n",
      "Requirement already satisfied: pyparsing!=2.0.4,!=2.1.2,!=2.1.6,>=2.0.3 in c:\\users\\gchan\\anaconda3\\lib\\site-packages (from matplotlib>=2.2->seaborn) (2.4.7)\n",
      "Requirement already satisfied: kiwisolver>=1.0.1 in c:\\users\\gchan\\anaconda3\\lib\\site-packages (from matplotlib>=2.2->seaborn) (1.3.0)\n",
      "Requirement already satisfied: six>=1.5 in c:\\users\\gchan\\anaconda3\\lib\\site-packages (from python-dateutil>=2.7.3->pandas>=0.23->seaborn) (1.15.0)\n"
     ]
    }
   ],
   "source": [
    "!pip install seaborn"
   ]
  },
  {
   "cell_type": "code",
   "execution_count": 266,
   "metadata": {
    "id": "eICNA0Dk69JZ"
   },
   "outputs": [],
   "source": [
    "import matplotlib.pyplot as plt\n",
    "import seaborn as sns"
   ]
  },
  {
   "cell_type": "code",
   "execution_count": 267,
   "metadata": {
    "id": "0Gy5jCpJ69JZ"
   },
   "outputs": [],
   "source": [
    "cont_cols = data2.iloc[:, [22,18,19,24,25]]"
   ]
  },
  {
   "cell_type": "code",
   "execution_count": 268,
   "metadata": {
    "id": "jUUtdZgs69JZ",
    "outputId": "f3bc20f3-1001-4891-e9d2-6e4f0b5c23b0"
   },
   "outputs": [
    {
     "data": {
      "text/html": [
       "<div>\n",
       "<style scoped>\n",
       "    .dataframe tbody tr th:only-of-type {\n",
       "        vertical-align: middle;\n",
       "    }\n",
       "\n",
       "    .dataframe tbody tr th {\n",
       "        vertical-align: top;\n",
       "    }\n",
       "\n",
       "    .dataframe thead th {\n",
       "        text-align: right;\n",
       "    }\n",
       "</style>\n",
       "<table border=\"1\" class=\"dataframe\">\n",
       "  <thead>\n",
       "    <tr style=\"text-align: right;\">\n",
       "      <th></th>\n",
       "      <th>Survival months</th>\n",
       "      <th>Regional nodes examined</th>\n",
       "      <th>Regional nodes positive</th>\n",
       "      <th>Num of in situ/malignant tumors</th>\n",
       "      <th>Num of benign/borderline tumors</th>\n",
       "    </tr>\n",
       "  </thead>\n",
       "  <tbody>\n",
       "    <tr>\n",
       "      <th>count</th>\n",
       "      <td>178455.000000</td>\n",
       "      <td>178455.000000</td>\n",
       "      <td>178455.000000</td>\n",
       "      <td>178455.000000</td>\n",
       "      <td>178455.000000</td>\n",
       "    </tr>\n",
       "    <tr>\n",
       "      <th>mean</th>\n",
       "      <td>56.569057</td>\n",
       "      <td>18.609750</td>\n",
       "      <td>2.055168</td>\n",
       "      <td>1.336421</td>\n",
       "      <td>0.004870</td>\n",
       "    </tr>\n",
       "    <tr>\n",
       "      <th>std</th>\n",
       "      <td>37.838533</td>\n",
       "      <td>10.140824</td>\n",
       "      <td>4.054779</td>\n",
       "      <td>0.656868</td>\n",
       "      <td>0.072761</td>\n",
       "    </tr>\n",
       "    <tr>\n",
       "      <th>min</th>\n",
       "      <td>0.000000</td>\n",
       "      <td>1.000000</td>\n",
       "      <td>0.000000</td>\n",
       "      <td>1.000000</td>\n",
       "      <td>0.000000</td>\n",
       "    </tr>\n",
       "    <tr>\n",
       "      <th>25%</th>\n",
       "      <td>27.000000</td>\n",
       "      <td>13.000000</td>\n",
       "      <td>0.000000</td>\n",
       "      <td>1.000000</td>\n",
       "      <td>0.000000</td>\n",
       "    </tr>\n",
       "    <tr>\n",
       "      <th>50%</th>\n",
       "      <td>50.000000</td>\n",
       "      <td>17.000000</td>\n",
       "      <td>0.000000</td>\n",
       "      <td>1.000000</td>\n",
       "      <td>0.000000</td>\n",
       "    </tr>\n",
       "    <tr>\n",
       "      <th>75%</th>\n",
       "      <td>85.000000</td>\n",
       "      <td>23.000000</td>\n",
       "      <td>2.000000</td>\n",
       "      <td>2.000000</td>\n",
       "      <td>0.000000</td>\n",
       "    </tr>\n",
       "    <tr>\n",
       "      <th>max</th>\n",
       "      <td>143.000000</td>\n",
       "      <td>90.000000</td>\n",
       "      <td>90.000000</td>\n",
       "      <td>11.000000</td>\n",
       "      <td>3.000000</td>\n",
       "    </tr>\n",
       "  </tbody>\n",
       "</table>\n",
       "</div>"
      ],
      "text/plain": [
       "       Survival months  Regional nodes examined  Regional nodes positive  \\\n",
       "count    178455.000000            178455.000000            178455.000000   \n",
       "mean         56.569057                18.609750                 2.055168   \n",
       "std          37.838533                10.140824                 4.054779   \n",
       "min           0.000000                 1.000000                 0.000000   \n",
       "25%          27.000000                13.000000                 0.000000   \n",
       "50%          50.000000                17.000000                 0.000000   \n",
       "75%          85.000000                23.000000                 2.000000   \n",
       "max         143.000000                90.000000                90.000000   \n",
       "\n",
       "       Num of in situ/malignant tumors  Num of benign/borderline tumors  \n",
       "count                    178455.000000                    178455.000000  \n",
       "mean                          1.336421                         0.004870  \n",
       "std                           0.656868                         0.072761  \n",
       "min                           1.000000                         0.000000  \n",
       "25%                           1.000000                         0.000000  \n",
       "50%                           1.000000                         0.000000  \n",
       "75%                           2.000000                         0.000000  \n",
       "max                          11.000000                         3.000000  "
      ]
     },
     "execution_count": 268,
     "metadata": {},
     "output_type": "execute_result"
    }
   ],
   "source": [
    "cont_cols.describe()"
   ]
  },
  {
   "cell_type": "code",
   "execution_count": 269,
   "metadata": {
    "id": "ATOdePeN69JZ",
    "outputId": "69428fea-2538-4ebb-cc85-629d2c6f407b"
   },
   "outputs": [
    {
     "data": {
      "text/plain": [
       "50"
      ]
     },
     "execution_count": 269,
     "metadata": {},
     "output_type": "execute_result"
    }
   ],
   "source": [
    "statistics.median(cont_cols['Survival months'])"
   ]
  },
  {
   "cell_type": "code",
   "execution_count": 270,
   "metadata": {
    "id": "UZQGaODW69JZ",
    "outputId": "2fcbd7aa-3195-4a9f-9a39-2cdaedde48d2"
   },
   "outputs": [
    {
     "data": {
      "text/plain": [
       "Text(0.5, 1.0, 'Survival Months')"
      ]
     },
     "execution_count": 270,
     "metadata": {},
     "output_type": "execute_result"
    },
    {
     "data": {
      "image/png": "[encoded data removed]",
      "text/plain": [
       "<Figure size 864x360 with 1 Axes>"
      ]
     },
     "metadata": {},
     "output_type": "display_data"
    }
   ],
   "source": [
    "cont_cols.hist(column='Survival months',\n",
    "        grid=True,\n",
    "        figsize=(12, 5),\n",
    "        legend=True,\n",
    "        bins=50,\n",
    "        color='#FFCF56');\n",
    "plt.xticks(np.arange(0, 143, 5))\n",
    "plt.xlabel('Months')\n",
    "plt.ylabel('Count')\n",
    "plt.title('Survival Months')"
   ]
  },
  {
   "cell_type": "code",
   "execution_count": 271,
   "metadata": {
    "id": "9-mN7Cm369Ja",
    "outputId": "1cdc0b8d-6428-485c-f95a-570eb8e9ee0c"
   },
   "outputs": [
    {
     "data": {
      "text/plain": [
       "Text(0.5, 1.0, 'Less than 30 months Survival')"
      ]
     },
     "execution_count": 271,
     "metadata": {},
     "output_type": "execute_result"
    },
    {
     "data": {
      "image/png": "[encoded data removed]",
      "text/plain": [
       "<Figure size 864x360 with 1 Axes>"
      ]
     },
     "metadata": {},
     "output_type": "display_data"
    }
   ],
   "source": [
    "cont_cols_24 = cont_cols[cont_cols['Survival months'] < 32]\n",
    "cont_cols_24.hist(column='Survival months',\n",
    "        grid=True,\n",
    "        figsize=(12, 5),\n",
    "        legend=True,\n",
    "        bins=31,\n",
    "        color='#FFCF56');\n",
    "plt.xticks(np.arange(0, 32, 1))\n",
    "plt.xlabel('Months')\n",
    "plt.ylabel('Count')\n",
    "plt.title('Less than 30 months Survival')"
   ]
  },
  {
   "cell_type": "markdown",
   "metadata": {
    "id": "w0MhyTNL69Ja"
   },
   "source": [
    "Right skew, median (50.0) slightly lower than mean (56.57), two peaks, 0 and 30 months"
   ]
  },
  {
   "cell_type": "code",
   "execution_count": 272,
   "metadata": {
    "id": "tkN8135_69Ja",
    "outputId": "afab8942-a519-404d-9f13-55b733edc560"
   },
   "outputs": [
    {
     "data": {
      "text/plain": [
       "Text(0.5, 1.0, 'Regional nodes examined')"
      ]
     },
     "execution_count": 272,
     "metadata": {},
     "output_type": "execute_result"
    },
    {
     "data": {
      "image/png": "[encoded data removed]",
      "text/plain": [
       "<Figure size 864x360 with 1 Axes>"
      ]
     },
     "metadata": {},
     "output_type": "display_data"
    }
   ],
   "source": [
    "cont_cols.hist(column='Regional nodes examined',\n",
    "        grid=True,\n",
    "        figsize=(12, 5),\n",
    "        legend=True,\n",
    "        bins=90,\n",
    "        color='red');\n",
    "plt.xticks(np.arange(0, 95, 5))\n",
    "plt.xlabel('Nodes')\n",
    "plt.ylabel('Count')\n",
    "plt.title('Regional nodes examined')"
   ]
  },
  {
   "cell_type": "code",
   "execution_count": 273,
   "metadata": {
    "id": "AOwvLwOd69Ja",
    "outputId": "ffb4a1ea-941f-4f1a-9332-3f439c621553"
   },
   "outputs": [
    {
     "data": {
      "text/plain": [
       "Text(0.5, 1.0, 'Regional nodes positive, without \"no nodes examined\" value')"
      ]
     },
     "execution_count": 273,
     "metadata": {},
     "output_type": "execute_result"
    },
    {
     "data": {
      "image/png": "[encoded data removed]",
      "text/plain": [
       "<Figure size 1080x360 with 1 Axes>"
      ]
     },
     "metadata": {},
     "output_type": "display_data"
    }
   ],
   "source": [
    "remove98 = data2[data2['Regional nodes positive'] != 98]\n",
    "remove98.hist(column='Regional nodes positive',\n",
    "        grid=True,\n",
    "        figsize=(15, 5),\n",
    "        legend=True,\n",
    "        bins=90,\n",
    "        color='red');\n",
    "plt.xticks(np.arange(0, 95, 5))\n",
    "plt.xlabel('Nodes')\n",
    "plt.ylabel('Count')\n",
    "plt.title('Regional nodes positive, without \"no nodes examined\" value')"
   ]
  },
  {
   "cell_type": "markdown",
   "metadata": {
    "id": "aOFUyQiM69Ja"
   },
   "source": [
    "# Binning"
   ]
  },
  {
   "cell_type": "markdown",
   "metadata": {
    "id": "9I629KeV69Jb"
   },
   "source": [
    "### Creating bins for survival months, 0-23 months, 24-59 months, >=60 months"
   ]
  },
  {
   "cell_type": "code",
   "execution_count": 274,
   "metadata": {
    "id": "mK-nP36Y69Jb",
    "outputId": "7230b224-7b5d-49ca-a590-0a0c86f9690e"
   },
   "outputs": [
    {
     "data": {
      "text/plain": [
       ">=60     74917\n",
       "24-35    26789\n",
       "36-47    22423\n",
       "0-11     21714\n",
       "48-59    17984\n",
       "12-23    14628\n",
       "Name: Survival months_6bins, dtype: int64"
      ]
     },
     "execution_count": 274,
     "metadata": {},
     "output_type": "execute_result"
    }
   ],
   "source": [
    "degrees = [\"0-11\", \"12-23\", \"24-35\", \"36-47\", \"48-59\", \">=60\"]\n",
    "column = data2['Survival months']\n",
    "\n",
    "data2['Survival months_6bins'] = pd.cut(column, [-1, 11, 23, 35, 47, 59, np.inf], labels=degrees)\n",
    "pd.value_counts(data2['Survival months_6bins'])"
   ]
  },
  {
   "cell_type": "code",
   "execution_count": 275,
   "metadata": {
    "id": "l2kdnPFn69Jb",
    "outputId": "1a7ced19-67cc-477a-9b24-8d7aadc8a1ea",
    "scrolled": true
   },
   "outputs": [
    {
     "data": {
      "text/plain": [
       ">=60     74917\n",
       "30-59    53096\n",
       "0-29     50442\n",
       "Name: Survival months_3bins, dtype: int64"
      ]
     },
     "execution_count": 275,
     "metadata": {},
     "output_type": "execute_result"
    }
   ],
   "source": [
    "degrees = [\"0-29\", \"30-59\", \">=60\"]\n",
    "column = data2['Survival months']\n",
    "\n",
    "data2['Survival months_3bins'] = pd.cut(column, [-1, 29, 59, np.inf], labels=degrees)\n",
    "pd.value_counts(data2['Survival months_3bins'])"
   ]
  },
  {
   "cell_type": "markdown",
   "metadata": {
    "id": "JJyi3tMB69Jb"
   },
   "source": [
    "### Creating bins for tumor size"
   ]
  },
  {
   "cell_type": "markdown",
   "metadata": {
    "id": "-_BiScuh69Jb"
   },
   "source": [
    "000: No mass/tumor found  \n",
    "001-988: 001 - 988 millimeters (Exact size in mm)  \n",
    "989: 989 mm or larger  \n",
    "990: Microscopic focus or foci only, no size of focus given  \n",
    "991: Described as \"less than 1 cm\"  \n",
    "992: Described as \"less than 2 cm,\" or \"greater than 1 cm,\" or \"between 1 cm and 2 cm\"  \n",
    "993: Described as \"less than 3 cm,\" or \"greater than 2 cm,\" or \"between 2 cm and 3 cm\"  \n",
    "994: Described as \"less than 4 cm,\" or \"greater than 3 cm,\" or \"between 3 cm and 4 cm\"  \n",
    "995: Described as \"less than 5 cm,\" or \"greater than 4 cm,\" or \"between 4 cm and 5 cm\"  \n",
    "998: Familial/multiple polyposis (M-8220/8221)  \n",
    "https://staging.seer.cancer.gov/cs/input/02.05.50/colon/size/?breadcrumbs=(~schema_list~),(~view_schema~,~colon~)"
   ]
  },
  {
   "cell_type": "code",
   "execution_count": 276,
   "metadata": {
    "id": "IMrGESEn69Jb"
   },
   "outputs": [],
   "source": [
    "data3 = data2.loc[(data2['Tumor Size'] >= 1) & (data2['Tumor Size'] <= 988)].copy()"
   ]
  },
  {
   "cell_type": "code",
   "execution_count": 277,
   "metadata": {
    "id": "PybbN_rJ69Jc"
   },
   "outputs": [],
   "source": [
    "data4 = data2.loc[(data2['Tumor Size'] == 0) | (data2['Tumor Size'] == 989) | (data2['Tumor Size'] == 990) | (data2['Tumor Size'] == 991) | (data2['Tumor Size'] == 992) | (data2['Tumor Size'] == 993) | (data2['Tumor Size'] == 994) | (data2['Tumor Size'] == 995) | (data2['Tumor Size'] == 998)].copy()"
   ]
  },
  {
   "cell_type": "code",
   "execution_count": 278,
   "metadata": {
    "id": "HnxldihL69Jc",
    "outputId": "b43add2b-7943-42f1-ccbe-e496cc5bc7e8",
    "scrolled": true
   },
   "outputs": [
    {
     "data": {
      "text/plain": [
       "40-49      31552\n",
       "30-39      31161\n",
       "50-59      25304\n",
       "20-29      22743\n",
       "60-69      17220\n",
       "10-19      12653\n",
       "70-79      11152\n",
       "80-89       7505\n",
       "100-149     6582\n",
       "1-9         6340\n",
       "90-99       4294\n",
       "150-199      583\n",
       "200-299      126\n",
       "300-399       48\n",
       "500-599       39\n",
       "400-499       29\n",
       "900-989       25\n",
       "800-899       19\n",
       "700-799       18\n",
       "600-699       17\n",
       "Name: Tumor Size, dtype: int64"
      ]
     },
     "execution_count": 278,
     "metadata": {},
     "output_type": "execute_result"
    }
   ],
   "source": [
    "t_degrees = [\"1-9\", \"10-19\", \"20-29\", \"30-39\", \"40-49\", \"50-59\", \"60-69\", \"70-79\", \"80-89\", \"90-99\", \"100-149\", \"150-199\", \"200-299\", \"300-399\", \"400-499\", \"500-599\", \"600-699\", \"700-799\", \"800-899\", \"900-989\"]\n",
    "column = data3['Tumor Size']\n",
    "\n",
    "data3['Tumor Size'] = pd.cut(column, [0, 9, 19, 29, 39, 49, 59, 69, 79, 89, 99, 149, 199, 299, 399, 499, 599, 699, 799, 899, 989], labels=t_degrees)\n",
    "pd.value_counts(data3['Tumor Size'])"
   ]
  },
  {
   "cell_type": "code",
   "execution_count": 279,
   "metadata": {
    "id": "zR0UkmpX69Jc"
   },
   "outputs": [],
   "source": [
    "level_map={0: '0', 990: \"Foci only\", 991: '1-9', 992: '10-19', 993: '20-29', 994: '30-39', 995: '40-49', 989: '989+', 998: \"multiple polyposis\"}\n",
    "data4['Tumor Size']=data4['Tumor Size'].replace(level_map)"
   ]
  },
  {
   "cell_type": "code",
   "execution_count": 280,
   "metadata": {
    "id": "Vku0W46R69Jc"
   },
   "outputs": [],
   "source": [
    "data2 = pd.concat([data3, data4])"
   ]
  },
  {
   "cell_type": "markdown",
   "metadata": {
    "id": "M1VkKpPm69Jc"
   },
   "source": [
    "**Data Description**\n",
    "\n",
    "\n",
    "| Ordinal | Nominal | Continuous |\n",
    "|:--|:--|:--|\n",
    "| Age | Sex | Regional nodes examined\n",
    "|Grade | Race | Num of in situ/malignant tumors\n",
    "|Derived AJCC Stage Group | Site | Num of borderline/benign tumors\n",
    "|Derived AJCC T | Laterality | Regional nodes positive |\n",
    "|Derived AJCC M | Diagnostic Confirmation |\n",
    "|Derived AJCC N | Combined Summary Stage 2000 |\n",
    "|Median household income | Scope Reg Lymph Node Surg |\n",
    "|Tumor Size| Surg/Rad Seq |\n",
    "|| Radiation |\n",
    "|| Systemic/Sur Seq |\n",
    "|| Chemotherapy |\n",
    "|| Primary by international rules |\n",
    "|| Surg Prim Site |\n",
    "|||\n",
    "\n",
    "Target: Survival months - Ordinal if binned, Continuous (in months) if not binned, Alive/Dead removed"
   ]
  },
  {
   "cell_type": "markdown",
   "metadata": {
    "id": "yafWAEHj69Jc"
   },
   "source": [
    "## Explore values using barplot, histograms, boxplot and value counts"
   ]
  },
  {
   "cell_type": "code",
   "execution_count": 281,
   "metadata": {
    "id": "NVBjDIvU69Jd",
    "outputId": "b082bc0c-7f57-49b0-cff9-b1d3e69b1e3b"
   },
   "outputs": [
    {
     "data": {
      "text/plain": [
       "Alive    118223\n",
       "Dead      60232\n",
       "Name: Alive/Dead, dtype: int64"
      ]
     },
     "execution_count": 281,
     "metadata": {},
     "output_type": "execute_result"
    }
   ],
   "source": [
    "data2[\"Alive/Dead\"].value_counts()"
   ]
  },
  {
   "cell_type": "code",
   "execution_count": 282,
   "metadata": {
    "id": "Pnyag5e369Jd",
    "outputId": "d8130209-c47e-4534-d4ea-1db7d24e4221"
   },
   "outputs": [
    {
     "data": {
      "text/plain": [
       "<seaborn.axisgrid.FacetGrid at 0x194f20db2b0>"
      ]
     },
     "execution_count": 282,
     "metadata": {},
     "output_type": "execute_result"
    },
    {
     "data": {
      "image/png": "[encoded data removed]",
      "text/plain": [
       "<Figure size 1080x360 with 1 Axes>"
      ]
     },
     "metadata": {},
     "output_type": "display_data"
    }
   ],
   "source": [
    "sns.catplot(y=\"Derived AJCC Stage Group\", kind=\"count\", aspect= 3, order=sorted(data2['Derived AJCC Stage Group'].unique()), palette=\"ch:s=.25, rot=-.25\", data=data2)"
   ]
  },
  {
   "cell_type": "code",
   "execution_count": 283,
   "metadata": {
    "id": "4_UZGpSj69Jd",
    "outputId": "212ed3e8-b16d-40a3-da38-4d5c39629f57"
   },
   "outputs": [
    {
     "data": {
      "text/plain": [
       "<seaborn.axisgrid.FacetGrid at 0x194dda9f2b0>"
      ]
     },
     "execution_count": 283,
     "metadata": {},
     "output_type": "execute_result"
    },
    {
     "data": {
      "image/png": "[encoded data removed]",
      "text/plain": [
       "<Figure size 1080x360 with 1 Axes>"
      ]
     },
     "metadata": {},
     "output_type": "display_data"
    }
   ],
   "source": [
    "sns.catplot(y=\"Age\", kind=\"count\", aspect = 3, order=sorted(data2.Age.unique()), palette=\"ch:.25\", data=data2)"
   ]
  },
  {
   "cell_type": "code",
   "execution_count": 284,
   "metadata": {
    "id": "vz9dHXyf69Jd",
    "outputId": "eb15e254-c10e-496a-90ba-ad05dda3c089"
   },
   "outputs": [
    {
     "data": {
      "text/plain": [
       "Non-Hispanic White                            122914\n",
       "Non-Hispanic Black                             20862\n",
       "Hispanic (All Races)                           18878\n",
       "Non-Hispanic Asian or Pacific Islander         14606\n",
       "Non-Hispanic American Indian/Alaska Native      1195\n",
       "Name: Race, dtype: int64"
      ]
     },
     "execution_count": 284,
     "metadata": {},
     "output_type": "execute_result"
    },
    {
     "data": {
      "image/png": "[encoded data removed]",
      "text/plain": [
       "<Figure size 900x360 with 1 Axes>"
      ]
     },
     "metadata": {},
     "output_type": "display_data"
    }
   ],
   "source": [
    "g = sns.catplot(x=\"Race\", kind=\"count\", aspect=2.5, data=data2)\n",
    "g.set_xticklabels(rotation=-30)\n",
    "data2[\"Race\"].value_counts()"
   ]
  },
  {
   "cell_type": "code",
   "execution_count": 285,
   "metadata": {
    "id": "TosCruCW69Je",
    "outputId": "787c39ef-0f3f-432a-f252-47d2ff68bc6b"
   },
   "outputs": [
    {
     "data": {
      "image/png": "[encoded data removed]",
      "text/plain": [
       "<Figure size 1080x576 with 1 Axes>"
      ]
     },
     "metadata": {},
     "output_type": "display_data"
    }
   ],
   "source": [
    "plt.figure(figsize=(15,8))\n",
    "graph = sns.countplot(x=\"Tumor Size\", palette = 'pastel', data=data2, order=['0','Foci only','1-9','10-19','20-29','30-39','40-49','50-59','60-69','70-79','80-89','90-99','100-149','150-199','200-299','300-399','400-499','500-599','600-699','700-799','800-899','900-989','989+','multiple polyposis'])\n",
    "graph.figure.suptitle('Tumor sizes, binned')\n",
    "graph.set_xticklabels(graph.get_xticklabels(),rotation=90)\n",
    "for p in graph.patches:\n",
    "        graph.annotate('{:.0f}'.format(p.get_height()), (p.get_x()+0.4, p.get_height()+60), ha=\"center\")\n",
    "plt.show()"
   ]
  },
  {
   "cell_type": "markdown",
   "metadata": {
    "id": "8x6yNfJ669Je"
   },
   "source": [
    "### Outliers in Tumor Size vs Survival months"
   ]
  },
  {
   "cell_type": "code",
   "execution_count": 286,
   "metadata": {
    "id": "cg96612V69Je"
   },
   "outputs": [],
   "source": [
    "data2['ts_150plus'] = data2['Tumor Size'][data2['Tumor Size'].isin(['150-199', '200-299', '300-399', '400-499', '500-599', '600-699', '700-799', '800-899', '900-989', '989+'])]"
   ]
  },
  {
   "cell_type": "code",
   "execution_count": 287,
   "metadata": {
    "id": "yOMCnknj69Je"
   },
   "outputs": [],
   "source": [
    "data5 = data2.copy()"
   ]
  },
  {
   "cell_type": "code",
   "execution_count": 288,
   "metadata": {
    "id": "IKs0ufJq69Je"
   },
   "outputs": [],
   "source": [
    "data2 = data2.drop(columns=['ts_150plus'])"
   ]
  },
  {
   "cell_type": "code",
   "execution_count": 289,
   "metadata": {
    "id": "uG-s5cQq69Je"
   },
   "outputs": [],
   "source": [
    "data5 = data5[data5['ts_150plus'].notna()]"
   ]
  },
  {
   "cell_type": "code",
   "execution_count": 290,
   "metadata": {
    "id": "z8mzCtTr69Jf",
    "outputId": "d0160c2e-8626-461d-d230-0c9e2a324956"
   },
   "outputs": [
    {
     "data": {
      "text/plain": [
       "Text(0.5, 0.98, 'Survival months, 3 ranges')"
      ]
     },
     "execution_count": 290,
     "metadata": {},
     "output_type": "execute_result"
    },
    {
     "data": {
      "image/png": "[encoded data removed]",
      "text/plain": [
       "<Figure size 970.775x595.44 with 1 Axes>"
      ]
     },
     "metadata": {},
     "output_type": "display_data"
    }
   ],
   "source": [
    "splt = sns.catplot(hue=\"Survival months_3bins\", x=\"ts_150plus\", kind=\"count\", data=data5, height=8.27, aspect=11.7/8.27)\n",
    "splt.fig.suptitle('Survival months, 3 ranges')"
   ]
  },
  {
   "cell_type": "code",
   "execution_count": 291,
   "metadata": {
    "id": "od7ptDrP69Jf",
    "outputId": "9cc34127-ed30-41e7-d88d-f38bb0497fe9"
   },
   "outputs": [
    {
     "data": {
      "text/plain": [
       "Text(0.5, 0.98, 'Survival months, tumor size above 150')"
      ]
     },
     "execution_count": 291,
     "metadata": {},
     "output_type": "execute_result"
    },
    {
     "data": {
      "image/png": "[encoded data removed]",
      "text/plain": [
       "<Figure size 900x360 with 1 Axes>"
      ]
     },
     "metadata": {},
     "output_type": "display_data"
    }
   ],
   "source": [
    "splt = sns.catplot(x=\"Survival months_3bins\", kind=\"count\", aspect = 2.5, data=data5)\n",
    "splt.fig.suptitle('Survival months, tumor size above 150')"
   ]
  },
  {
   "cell_type": "code",
   "execution_count": 292,
   "metadata": {
    "id": "IJUvanh069Jf",
    "outputId": "303643ae-ab5c-4526-e62e-b4ef697522c9"
   },
   "outputs": [
    {
     "data": {
      "text/plain": [
       "Text(0.5, 0.98, 'Survival months, 3 ranges')"
      ]
     },
     "execution_count": 292,
     "metadata": {},
     "output_type": "execute_result"
    },
    {
     "data": {
      "image/png": "[encoded data removed]",
      "text/plain": [
       "<Figure size 900x360 with 1 Axes>"
      ]
     },
     "metadata": {},
     "output_type": "display_data"
    }
   ],
   "source": [
    "splt = sns.catplot(x=\"Survival months_3bins\", kind=\"count\", aspect=2.5, data=data2)\n",
    "splt.fig.suptitle('Survival months, 3 ranges')"
   ]
  },
  {
   "cell_type": "code",
   "execution_count": 293,
   "metadata": {
    "id": "6XcZfvDA69Jf",
    "outputId": "0bb07b51-2920-4ede-9fc4-c06f9d1de344"
   },
   "outputs": [
    {
     "data": {
      "text/plain": [
       "Text(0.5, 0.98, 'Survival months, 6 ranges')"
      ]
     },
     "execution_count": 293,
     "metadata": {},
     "output_type": "execute_result"
    },
    {
     "data": {
      "image/png": "[encoded data removed]",
      "text/plain": [
       "<Figure size 900x360 with 1 Axes>"
      ]
     },
     "metadata": {},
     "output_type": "display_data"
    }
   ],
   "source": [
    "splt = sns.catplot(x=\"Survival months_6bins\", kind=\"count\", aspect=2.5, data=data2)\n",
    "splt.fig.suptitle('Survival months, 6 ranges')"
   ]
  },
  {
   "cell_type": "markdown",
   "metadata": {
    "id": "F7lO3mTi69Jf"
   },
   "source": [
    "## Encode ordinal and nominal categorical data"
   ]
  },
  {
   "cell_type": "markdown",
   "metadata": {
    "id": "gopaV1kl69Jf"
   },
   "source": [
    "### Ordinal"
   ]
  },
  {
   "cell_type": "code",
   "execution_count": 294,
   "metadata": {
    "id": "vJbejdYr69Jg"
   },
   "outputs": [
    {
     "name": "stdout",
     "output_type": "stream",
     "text": [
      "['35-39 years' '70-74 years' '40-44 years' '80-84 years' '85+ years'\n",
      " '60-64 years' '65-69 years' '50-54 years' '55-59 years' '75-79 years'\n",
      " '45-49 years' '30-34 years' '25-29 years' '15-19 years' '20-24 years'\n",
      " '10-14 years']\n",
      "['Female' 'Male']\n",
      "['Hispanic (All Races)' 'Non-Hispanic White' 'Non-Hispanic Black'\n",
      " 'Non-Hispanic American Indian/Alaska Native'\n",
      " 'Non-Hispanic Asian or Pacific Islander']\n",
      "['Rectosigmoid Junction' 'Ascending Colon' 'Sigmoid Colon'\n",
      " 'Transverse Colon' 'Hepatic Flexure' 'Rectum' 'Cecum' 'Descending Colon'\n",
      " 'Splenic Flexure' 'Appendix' 'Large Intestine, NOS']\n",
      "['Grade II: Moderately differentiated' 'Grade III: Poorly differentiated'\n",
      " 'Grade I: Well differentiated' 'Grade IV: Undifferentiated; anaplastic']\n",
      "['Not a paired  site' 'Right - origin of primary'\n",
      " 'Left - origin of primary'\n",
      " 'Paired site, but no information concerning laterality'\n",
      " 'Only one side - side unspecified' 'Bilateral, single primary']\n",
      "['Positive histology' 'Positive microscopic confirm, method not specified'\n",
      " 'Positive exfoliative cytology, no positive histology'\n",
      " 'Direct visualization without microscopic confirmation'\n",
      " 'Pos hist AND immunophenotyping AND/OR pos genetic studies'\n",
      " 'Clinical diagnosis only' 'Radiography without microscopic confirm']\n",
      "['Distant site(s)/node(s) involved' 'Regional lymph nodes involved only'\n",
      " 'Localized only' 'Regional by direct extension only'\n",
      " 'Regional by both direct extension and lymph node involvement']\n",
      "['IV' 'IIIA' 'I' 'IIA' 'IIIC' 'IIIB' 'IIB' '0']\n",
      "['T3' 'T1' 'T2' 'T4' 'Tis' 'T0']\n",
      "['N1' 'N0' 'N2']\n",
      "['M1' 'M0']\n",
      "[30 40 50 27 32 80 60 41 51 26 29 55 70 56 20 90 31  0 28 22 25 61 57 65\n",
      " 66 23 10 12 24 14]\n",
      "['4 or more regional lymph nodes removed'\n",
      " '1 to 3 regional lymph nodes removed'\n",
      " 'Sentinel node biopsy and lym nd removed same/unstated time' 'None'\n",
      " 'Sentinel node biopsy and lym nd removed different times'\n",
      " 'Biopsy or aspiration of regional lymph node, NOS'\n",
      " 'Sentinel lymph node biopsy']\n",
      "['Radiation after surgery' 'No radiation and/or cancer-directed surgery'\n",
      " 'Radiation prior to surgery' 'Radiation before and after surgery'\n",
      " 'Intraoperative rad with other rad before/after surgery'\n",
      " 'Sequence unknown, but both were given'\n",
      " 'Surgery both before and after radiation' 'Intraoperative radiation']\n",
      "['Beam radiation' 'No' 'Radiation, NOS  method or source not specified'\n",
      " 'Radioisotopes (1988+)'\n",
      " 'Radioactive implants (includes brachytherapy) (1988+)' 'Refused (1988+)'\n",
      " 'Recommended, unknown if administered'\n",
      " 'Combination of beam with implants or isotopes']\n",
      "['Yes' 'No']\n",
      "['Systemic therapy after surgery'\n",
      " 'No systemic therapy and/or surgical procedures'\n",
      " 'Intraoperative systemic therapy' 'Systemic therapy before surgery'\n",
      " 'Systemic therapy both before and after surgery'\n",
      " 'Surgery both before and after systemic therapy'\n",
      " 'Intraop systemic rx & oth systemic rx before/after surg']\n",
      "[ 8 10 13 23 12 34 20 14 17 18  3  5  6 16 44 30  7 15 24  9 27 32 58 25\n",
      " 48 22 26 19 21 36  4 38 11 69 35 43 39  1 31  2 33 28 40 29 41 37 51 47\n",
      " 53 73 50 45 42 56 46 55 61 64 82 90 52 49 57 62 71 65 79 78 68 67 66 59\n",
      " 54 74 60 70 72 80 63 84 89 76 86 81 85 87 77 75 83 88]\n",
      "[ 1  0  4  6  8  2 10  3 12 11  7  9 47 18  5 19 25 13 16 24 17 26 29 14\n",
      " 20 27 28 15 23 22 21 40 31 35 41 34 30 33 50 38 32 37 56 55 42 36 51 43\n",
      " 48 46 39 49 64 44 54 90 74 45 71 52 75 53 60 59 58 62 68]\n",
      "['30-39' '10-19' '40-49' '80-89' '60-69' '50-59' '1-9' '20-29' '90-99'\n",
      " '70-79' '100-149' '700-799' '150-199' '200-299' '500-599' '900-989'\n",
      " '400-499' '800-899' '600-699' '300-399' 'Foci only' '0'\n",
      " 'multiple polyposis' '989+']\n",
      "['Alive' 'Dead']\n",
      "[119  74 127   0  26  29 113  49  83  41  71  43 112 114  60  65 136  61\n",
      "  59  67  77  48   7 134  33   5  25  28 141  52  11   3  64  18   1   9\n",
      "  39   6  30  35  13  27 104 142  63  80  70 121  79  89  38  34  19  56\n",
      " 129  24  20 107  16 133 110   8  84  54  58 143   2  15 105  12  73  87\n",
      "  51 130  32  50  10  44  88 108  37 137  53  69  45  76  46 138 123 100\n",
      " 131 103  82  97 102  31 111   4  81  62  86  40  17 125 117  22  21  36\n",
      " 101  72 124 115  14  66  68  98  23  85 116  94 135  57  75  55 122  96\n",
      "  42  90  47  93 139  91  92 128 132 109 140 126  78  99 106  95 118 120]\n",
      "['Yes' 'No']\n",
      "[ 2  3  4  5  6  1  7  8  9 11]\n",
      "[0 1 2 3]\n",
      "['$75,000+' '$65,000 - $69,999' '$70,000 - $74,999' '$60,000 - $64,999'\n",
      " '$55,000 - $59,999' '$40,000 - $44,999' '$45,000 - $49,999'\n",
      " '$50,000 - $54,999' '$35,000 - $39,999' '$0 - $34,999']\n",
      "['>=60', '0-11', '24-35', '48-59', '36-47', '12-23']\n",
      "Categories (6, object): ['0-11' < '12-23' < '24-35' < '36-47' < '48-59' < '>=60']\n",
      "['>=60', '0-29', '30-59']\n",
      "Categories (3, object): ['0-29' < '30-59' < '>=60']\n"
     ]
    }
   ],
   "source": [
    "for col in data2:\n",
    "    print(data2[col].unique())"
   ]
  },
  {
   "cell_type": "markdown",
   "metadata": {
    "id": "PBEjlnPa69Jg"
   },
   "source": [
    "## Split data into ordinal, nominal or continuous categories"
   ]
  },
  {
   "cell_type": "code",
   "execution_count": 295,
   "metadata": {
    "id": "KngtP1P769Jg"
   },
   "outputs": [],
   "source": [
    "from sklearn.preprocessing import OrdinalEncoder"
   ]
  },
  {
   "cell_type": "code",
   "execution_count": 296,
   "metadata": {
    "id": "iVNKKY8F69Jg"
   },
   "outputs": [],
   "source": [
    "l_m = {'0':0,'Foci only':1, '1-9':2, '10-19':3, '20-29':4, '30-39':5,'40-49':6,'50-59':7,'60-69':8, '70-79':9 , '80-89':10, '90-99':11, '100-149':12, '150-199':13, '200-299':14, '300-399':15, '400-499':16, '500-599':17, '600-699':18, '700-799': 19, '800-899':20, '900-989':21, '989+':22,  'multiple polyposis':23}\n",
    "data2['Tumor Size']=data2['Tumor Size'].replace(l_m)"
   ]
  },
  {
   "cell_type": "code",
   "execution_count": 297,
   "metadata": {
    "id": "nbHf8RTj69Jg"
   },
   "outputs": [],
   "source": [
    "level_mapping={'T0':0, 'Tis':1, 'T1':2, 'T2':3, 'T3':4, 'T4':5}\n",
    "data2['Derived AJCC T']=data2['Derived AJCC T'].replace(level_mapping)"
   ]
  },
  {
   "cell_type": "code",
   "execution_count": 298,
   "metadata": {
    "id": "XJNTu_Gd69Jg"
   },
   "outputs": [],
   "source": [
    "enc = OrdinalEncoder()\n",
    "enc.fit(data2[[\"Age\", \"Grade\", \"Derived AJCC Stage Group\", \"Derived AJCC M\", \"Derived AJCC N\", \"Median household income\", \"Survival months\"]])\n",
    "data2[[\"Age\", \"Grade\", \"Derived AJCC Stage Group\", \"Derived AJCC M\", \"Derived AJCC N\", \"Median household income\", \"Survival months\"]] = enc.transform(data2[[\"Age\", \"Grade\", \"Derived AJCC Stage Group\", \"Derived AJCC M\", \"Derived AJCC N\", \"Median household income\", \"Survival months\"]]).astype(int)"
   ]
  },
  {
   "cell_type": "code",
   "execution_count": 299,
   "metadata": {
    "id": "3xdJN6jW69Jg",
    "outputId": "6f3e52e2-c339-4f46-d8b1-e8b4e2007c9b"
   },
   "outputs": [
    {
     "data": {
      "text/html": [
       "<div>\n",
       "<style scoped>\n",
       "    .dataframe tbody tr th:only-of-type {\n",
       "        vertical-align: middle;\n",
       "    }\n",
       "\n",
       "    .dataframe tbody tr th {\n",
       "        vertical-align: top;\n",
       "    }\n",
       "\n",
       "    .dataframe thead th {\n",
       "        text-align: right;\n",
       "    }\n",
       "</style>\n",
       "<table border=\"1\" class=\"dataframe\">\n",
       "  <thead>\n",
       "    <tr style=\"text-align: right;\">\n",
       "      <th></th>\n",
       "      <th>Age</th>\n",
       "      <th>Grade</th>\n",
       "      <th>Derived AJCC Stage Group</th>\n",
       "      <th>Derived AJCC T</th>\n",
       "      <th>Derived AJCC M</th>\n",
       "      <th>Derived AJCC N</th>\n",
       "      <th>Median household income</th>\n",
       "      <th>Survival months</th>\n",
       "      <th>Tumor Size</th>\n",
       "    </tr>\n",
       "  </thead>\n",
       "  <tbody>\n",
       "    <tr>\n",
       "      <th>0</th>\n",
       "      <td>5</td>\n",
       "      <td>1</td>\n",
       "      <td>7</td>\n",
       "      <td>4</td>\n",
       "      <td>1</td>\n",
       "      <td>1</td>\n",
       "      <td>9</td>\n",
       "      <td>119</td>\n",
       "      <td>5</td>\n",
       "    </tr>\n",
       "    <tr>\n",
       "      <th>1</th>\n",
       "      <td>12</td>\n",
       "      <td>1</td>\n",
       "      <td>4</td>\n",
       "      <td>2</td>\n",
       "      <td>0</td>\n",
       "      <td>1</td>\n",
       "      <td>9</td>\n",
       "      <td>74</td>\n",
       "      <td>3</td>\n",
       "    </tr>\n",
       "    <tr>\n",
       "      <th>2</th>\n",
       "      <td>6</td>\n",
       "      <td>1</td>\n",
       "      <td>1</td>\n",
       "      <td>3</td>\n",
       "      <td>0</td>\n",
       "      <td>0</td>\n",
       "      <td>9</td>\n",
       "      <td>127</td>\n",
       "      <td>5</td>\n",
       "    </tr>\n",
       "    <tr>\n",
       "      <th>3</th>\n",
       "      <td>14</td>\n",
       "      <td>1</td>\n",
       "      <td>1</td>\n",
       "      <td>3</td>\n",
       "      <td>0</td>\n",
       "      <td>0</td>\n",
       "      <td>9</td>\n",
       "      <td>0</td>\n",
       "      <td>6</td>\n",
       "    </tr>\n",
       "    <tr>\n",
       "      <th>4</th>\n",
       "      <td>15</td>\n",
       "      <td>1</td>\n",
       "      <td>2</td>\n",
       "      <td>4</td>\n",
       "      <td>0</td>\n",
       "      <td>0</td>\n",
       "      <td>9</td>\n",
       "      <td>26</td>\n",
       "      <td>5</td>\n",
       "    </tr>\n",
       "    <tr>\n",
       "      <th>5</th>\n",
       "      <td>10</td>\n",
       "      <td>1</td>\n",
       "      <td>7</td>\n",
       "      <td>4</td>\n",
       "      <td>1</td>\n",
       "      <td>0</td>\n",
       "      <td>9</td>\n",
       "      <td>29</td>\n",
       "      <td>10</td>\n",
       "    </tr>\n",
       "    <tr>\n",
       "      <th>6</th>\n",
       "      <td>12</td>\n",
       "      <td>1</td>\n",
       "      <td>2</td>\n",
       "      <td>4</td>\n",
       "      <td>0</td>\n",
       "      <td>0</td>\n",
       "      <td>9</td>\n",
       "      <td>113</td>\n",
       "      <td>5</td>\n",
       "    </tr>\n",
       "    <tr>\n",
       "      <th>7</th>\n",
       "      <td>14</td>\n",
       "      <td>2</td>\n",
       "      <td>7</td>\n",
       "      <td>5</td>\n",
       "      <td>1</td>\n",
       "      <td>2</td>\n",
       "      <td>9</td>\n",
       "      <td>0</td>\n",
       "      <td>8</td>\n",
       "    </tr>\n",
       "    <tr>\n",
       "      <th>8</th>\n",
       "      <td>11</td>\n",
       "      <td>1</td>\n",
       "      <td>2</td>\n",
       "      <td>4</td>\n",
       "      <td>0</td>\n",
       "      <td>0</td>\n",
       "      <td>9</td>\n",
       "      <td>49</td>\n",
       "      <td>6</td>\n",
       "    </tr>\n",
       "    <tr>\n",
       "      <th>9</th>\n",
       "      <td>15</td>\n",
       "      <td>0</td>\n",
       "      <td>2</td>\n",
       "      <td>4</td>\n",
       "      <td>0</td>\n",
       "      <td>0</td>\n",
       "      <td>9</td>\n",
       "      <td>83</td>\n",
       "      <td>7</td>\n",
       "    </tr>\n",
       "    <tr>\n",
       "      <th>10</th>\n",
       "      <td>15</td>\n",
       "      <td>2</td>\n",
       "      <td>2</td>\n",
       "      <td>4</td>\n",
       "      <td>0</td>\n",
       "      <td>0</td>\n",
       "      <td>9</td>\n",
       "      <td>41</td>\n",
       "      <td>8</td>\n",
       "    </tr>\n",
       "    <tr>\n",
       "      <th>11</th>\n",
       "      <td>10</td>\n",
       "      <td>1</td>\n",
       "      <td>6</td>\n",
       "      <td>4</td>\n",
       "      <td>0</td>\n",
       "      <td>2</td>\n",
       "      <td>9</td>\n",
       "      <td>71</td>\n",
       "      <td>7</td>\n",
       "    </tr>\n",
       "    <tr>\n",
       "      <th>12</th>\n",
       "      <td>14</td>\n",
       "      <td>1</td>\n",
       "      <td>1</td>\n",
       "      <td>2</td>\n",
       "      <td>0</td>\n",
       "      <td>0</td>\n",
       "      <td>9</td>\n",
       "      <td>43</td>\n",
       "      <td>2</td>\n",
       "    </tr>\n",
       "    <tr>\n",
       "      <th>13</th>\n",
       "      <td>12</td>\n",
       "      <td>2</td>\n",
       "      <td>1</td>\n",
       "      <td>3</td>\n",
       "      <td>0</td>\n",
       "      <td>0</td>\n",
       "      <td>9</td>\n",
       "      <td>112</td>\n",
       "      <td>5</td>\n",
       "    </tr>\n",
       "    <tr>\n",
       "      <th>14</th>\n",
       "      <td>10</td>\n",
       "      <td>1</td>\n",
       "      <td>2</td>\n",
       "      <td>4</td>\n",
       "      <td>0</td>\n",
       "      <td>0</td>\n",
       "      <td>9</td>\n",
       "      <td>114</td>\n",
       "      <td>5</td>\n",
       "    </tr>\n",
       "    <tr>\n",
       "      <th>15</th>\n",
       "      <td>14</td>\n",
       "      <td>1</td>\n",
       "      <td>2</td>\n",
       "      <td>4</td>\n",
       "      <td>0</td>\n",
       "      <td>0</td>\n",
       "      <td>9</td>\n",
       "      <td>60</td>\n",
       "      <td>7</td>\n",
       "    </tr>\n",
       "    <tr>\n",
       "      <th>16</th>\n",
       "      <td>8</td>\n",
       "      <td>1</td>\n",
       "      <td>6</td>\n",
       "      <td>5</td>\n",
       "      <td>0</td>\n",
       "      <td>2</td>\n",
       "      <td>9</td>\n",
       "      <td>65</td>\n",
       "      <td>5</td>\n",
       "    </tr>\n",
       "    <tr>\n",
       "      <th>17</th>\n",
       "      <td>14</td>\n",
       "      <td>1</td>\n",
       "      <td>2</td>\n",
       "      <td>4</td>\n",
       "      <td>0</td>\n",
       "      <td>0</td>\n",
       "      <td>9</td>\n",
       "      <td>136</td>\n",
       "      <td>4</td>\n",
       "    </tr>\n",
       "    <tr>\n",
       "      <th>18</th>\n",
       "      <td>11</td>\n",
       "      <td>2</td>\n",
       "      <td>1</td>\n",
       "      <td>3</td>\n",
       "      <td>0</td>\n",
       "      <td>0</td>\n",
       "      <td>9</td>\n",
       "      <td>74</td>\n",
       "      <td>6</td>\n",
       "    </tr>\n",
       "    <tr>\n",
       "      <th>19</th>\n",
       "      <td>9</td>\n",
       "      <td>1</td>\n",
       "      <td>5</td>\n",
       "      <td>4</td>\n",
       "      <td>0</td>\n",
       "      <td>1</td>\n",
       "      <td>9</td>\n",
       "      <td>61</td>\n",
       "      <td>3</td>\n",
       "    </tr>\n",
       "  </tbody>\n",
       "</table>\n",
       "</div>"
      ],
      "text/plain": [
       "    Age  Grade  Derived AJCC Stage Group  Derived AJCC T  Derived AJCC M  \\\n",
       "0     5      1                         7               4               1   \n",
       "1    12      1                         4               2               0   \n",
       "2     6      1                         1               3               0   \n",
       "3    14      1                         1               3               0   \n",
       "4    15      1                         2               4               0   \n",
       "5    10      1                         7               4               1   \n",
       "6    12      1                         2               4               0   \n",
       "7    14      2                         7               5               1   \n",
       "8    11      1                         2               4               0   \n",
       "9    15      0                         2               4               0   \n",
       "10   15      2                         2               4               0   \n",
       "11   10      1                         6               4               0   \n",
       "12   14      1                         1               2               0   \n",
       "13   12      2                         1               3               0   \n",
       "14   10      1                         2               4               0   \n",
       "15   14      1                         2               4               0   \n",
       "16    8      1                         6               5               0   \n",
       "17   14      1                         2               4               0   \n",
       "18   11      2                         1               3               0   \n",
       "19    9      1                         5               4               0   \n",
       "\n",
       "    Derived AJCC N  Median household income  Survival months  Tumor Size  \n",
       "0                1                        9              119           5  \n",
       "1                1                        9               74           3  \n",
       "2                0                        9              127           5  \n",
       "3                0                        9                0           6  \n",
       "4                0                        9               26           5  \n",
       "5                0                        9               29          10  \n",
       "6                0                        9              113           5  \n",
       "7                2                        9                0           8  \n",
       "8                0                        9               49           6  \n",
       "9                0                        9               83           7  \n",
       "10               0                        9               41           8  \n",
       "11               2                        9               71           7  \n",
       "12               0                        9               43           2  \n",
       "13               0                        9              112           5  \n",
       "14               0                        9              114           5  \n",
       "15               0                        9               60           7  \n",
       "16               2                        9               65           5  \n",
       "17               0                        9              136           4  \n",
       "18               0                        9               74           6  \n",
       "19               1                        9               61           3  "
      ]
     },
     "execution_count": 299,
     "metadata": {},
     "output_type": "execute_result"
    }
   ],
   "source": [
    "data2[['Age','Grade','Derived AJCC Stage Group', 'Derived AJCC T', 'Derived AJCC M', 'Derived AJCC N', 'Median household income', 'Survival months', 'Tumor Size']].head(20)"
   ]
  },
  {
   "cell_type": "markdown",
   "metadata": {
    "id": "BUBduaHs69Jh"
   },
   "source": [
    "### Nominal"
   ]
  },
  {
   "cell_type": "code",
   "execution_count": 300,
   "metadata": {
    "id": "Dvm1G9tg69Jh",
    "outputId": "c81a35b0-43ce-4403-8889-9e319802c5a7"
   },
   "outputs": [
    {
     "data": {
      "text/plain": [
       "['Female', 'Male']"
      ]
     },
     "execution_count": 300,
     "metadata": {},
     "output_type": "execute_result"
    }
   ],
   "source": [
    "sorted(data2.Sex.unique())"
   ]
  },
  {
   "cell_type": "code",
   "execution_count": 301,
   "metadata": {
    "id": "rojqttjM69Jh"
   },
   "outputs": [],
   "source": [
    "from sklearn import preprocessing\n",
    "from collections import defaultdict"
   ]
  },
  {
   "cell_type": "code",
   "execution_count": 302,
   "metadata": {
    "id": "jZIHrqCz69Ji"
   },
   "outputs": [],
   "source": [
    "import joblib"
   ]
  },
  {
   "cell_type": "code",
   "execution_count": 303,
   "metadata": {
    "id": "nKamwLjr69Ji"
   },
   "outputs": [],
   "source": [
    "dic = defaultdict(preprocessing.LabelEncoder)"
   ]
  },
  {
   "cell_type": "code",
   "execution_count": 304,
   "metadata": {
    "id": "__l0Ia1a69Ji"
   },
   "outputs": [],
   "source": [
    "le = preprocessing.LabelEncoder()"
   ]
  },
  {
   "cell_type": "code",
   "execution_count": 305,
   "metadata": {
    "id": "jJ8KBqaX69Ji"
   },
   "outputs": [],
   "source": [
    "data2[['Sex', 'Race', 'Site', 'Laterality', 'Diagnostic Confirmation', 'Combined Summary Stage 2000', 'Scope Reg Lymph Node Surg', 'Surg/Rad Seq', 'Radiation', 'Chemotherapy', 'Systemic/Sur Seq', 'Alive/Dead', 'Primary by international rules']] = data2[['Sex', 'Race', 'Site', 'Laterality', 'Diagnostic Confirmation', 'Combined Summary Stage 2000', 'Scope Reg Lymph Node Surg', 'Surg/Rad Seq', 'Radiation', 'Chemotherapy', 'Systemic/Sur Seq', 'Alive/Dead', 'Primary by international rules']].apply(lambda x: dic[x.name].fit_transform(x))"
   ]
  },
  {
   "cell_type": "code",
   "execution_count": 306,
   "metadata": {
    "id": "6AGaEtTF69Ji",
    "outputId": "682a9e0d-350f-46db-8f95-e646d0544681",
    "scrolled": true
   },
   "outputs": [
    {
     "name": "stdout",
     "output_type": "stream",
     "text": [
      "        0\n",
      "Female  0\n",
      "Male    1\n",
      "                                            0\n",
      "Hispanic (All Races)                        0\n",
      "Non-Hispanic American Indian/Alaska Native  1\n",
      "Non-Hispanic Asian or Pacific Islander      2\n",
      "Non-Hispanic Black                          3\n",
      "Non-Hispanic White                          4\n",
      "                        0\n",
      "Appendix                0\n",
      "Ascending Colon         1\n",
      "Cecum                   2\n",
      "Descending Colon        3\n",
      "Hepatic Flexure         4\n",
      "Large Intestine, NOS    5\n",
      "Rectosigmoid Junction   6\n",
      "Rectum                  7\n",
      "Sigmoid Colon           8\n",
      "Splenic Flexure         9\n",
      "Transverse Colon       10\n",
      "                                                    0\n",
      "Bilateral, single primary                           0\n",
      "Left - origin of primary                            1\n",
      "Not a paired  site                                  2\n",
      "Only one side - side unspecified                    3\n",
      "Paired site, but no information concerning late...  4\n",
      "Right - origin of primary                           5\n",
      "                                                    0\n",
      "Clinical diagnosis only                             0\n",
      "Direct visualization without microscopic confir...  1\n",
      "Pos hist AND immunophenotyping AND/OR pos genet...  2\n",
      "Positive exfoliative cytology, no positive hist...  3\n",
      "Positive histology                                  4\n",
      "Positive microscopic confirm, method not specified  5\n",
      "Radiography without microscopic confirm             6\n",
      "                                                    0\n",
      "Distant site(s)/node(s) involved                    0\n",
      "Localized only                                      1\n",
      "Regional by both direct extension and lymph nod...  2\n",
      "Regional by direct extension only                   3\n",
      "Regional lymph nodes involved only                  4\n",
      "                                                    0\n",
      "1 to 3 regional lymph nodes removed                 0\n",
      "4 or more regional lymph nodes removed              1\n",
      "Biopsy or aspiration of regional lymph node, NOS    2\n",
      "None                                                3\n",
      "Sentinel lymph node biopsy                          4\n",
      "Sentinel node biopsy and lym nd removed differe...  5\n",
      "Sentinel node biopsy and lym nd removed same/un...  6\n",
      "                                                    0\n",
      "Intraoperative rad with other rad before/after ...  0\n",
      "Intraoperative radiation                            1\n",
      "No radiation and/or cancer-directed surgery         2\n",
      "Radiation after surgery                             3\n",
      "Radiation before and after surgery                  4\n",
      "Radiation prior to surgery                          5\n",
      "Sequence unknown, but both were given               6\n",
      "Surgery both before and after radiation             7\n",
      "                                                    0\n",
      "Beam radiation                                      0\n",
      "Combination of beam with implants or isotopes       1\n",
      "No                                                  2\n",
      "Radiation, NOS  method or source not specified      3\n",
      "Radioactive implants (includes brachytherapy) (...  4\n",
      "Radioisotopes (1988+)                               5\n",
      "Recommended, unknown if administered                6\n",
      "Refused (1988+)                                     7\n",
      "     0\n",
      "No   0\n",
      "Yes  1\n",
      "                                                    0\n",
      "Intraop systemic rx & oth systemic rx before/af...  0\n",
      "Intraoperative systemic therapy                     1\n",
      "No systemic therapy and/or surgical procedures      2\n",
      "Surgery both before and after systemic therapy      3\n",
      "Systemic therapy after surgery                      4\n",
      "Systemic therapy before surgery                     5\n",
      "Systemic therapy both before and after surgery      6\n",
      "       0\n",
      "Alive  0\n",
      "Dead   1\n",
      "     0\n",
      "No   0\n",
      "Yes  1\n"
     ]
    }
   ],
   "source": [
    "for k in dic:\n",
    "    nom_dict = pd.DataFrame.from_dict(dict(zip(dic[k].classes_, le.fit_transform(dic[k].classes_, ))), orient='index')\n",
    "    print(nom_dict)"
   ]
  },
  {
   "cell_type": "code",
   "execution_count": 307,
   "metadata": {
    "id": "ZWjvdLXf69Ji",
    "outputId": "e6ce86c0-3264-4996-e2c3-5ba28f01117a"
   },
   "outputs": [
    {
     "name": "stdout",
     "output_type": "stream",
     "text": [
      "<class 'pandas.core.frame.DataFrame'>\n",
      "Int64Index: 178455 entries, 0 to 178324\n",
      "Data columns (total 29 columns):\n",
      " #   Column                           Non-Null Count   Dtype   \n",
      "---  ------                           --------------   -----   \n",
      " 0   Age                              178455 non-null  int64   \n",
      " 1   Sex                              178455 non-null  int32   \n",
      " 2   Race                             178455 non-null  int32   \n",
      " 3   Site                             178455 non-null  int32   \n",
      " 4   Grade                            178455 non-null  int64   \n",
      " 5   Laterality                       178455 non-null  int32   \n",
      " 6   Diagnostic Confirmation          178455 non-null  int32   \n",
      " 7   Combined Summary Stage 2000      178455 non-null  int32   \n",
      " 8   Derived AJCC Stage Group         178455 non-null  int64   \n",
      " 9   Derived AJCC T                   178455 non-null  int64   \n",
      " 10  Derived AJCC N                   178455 non-null  int64   \n",
      " 11  Derived AJCC M                   178455 non-null  int64   \n",
      " 12  Surg Prim Site                   178455 non-null  int64   \n",
      " 13  Scope Reg Lymph Node Surg        178455 non-null  int32   \n",
      " 14  Surg/Rad Seq                     178455 non-null  int32   \n",
      " 15  Radiation                        178455 non-null  int32   \n",
      " 16  Chemotherapy                     178455 non-null  int32   \n",
      " 17  Systemic/Sur Seq                 178455 non-null  int32   \n",
      " 18  Regional nodes examined          178455 non-null  int64   \n",
      " 19  Regional nodes positive          178455 non-null  int64   \n",
      " 20  Tumor Size                       178455 non-null  int64   \n",
      " 21  Alive/Dead                       178455 non-null  int32   \n",
      " 22  Survival months                  178455 non-null  int64   \n",
      " 23  Primary by international rules   178455 non-null  int32   \n",
      " 24  Num of in situ/malignant tumors  178455 non-null  int32   \n",
      " 25  Num of benign/borderline tumors  178455 non-null  int64   \n",
      " 26  Median household income          178455 non-null  int64   \n",
      " 27  Survival months_6bins            178455 non-null  category\n",
      " 28  Survival months_3bins            178455 non-null  category\n",
      "dtypes: category(2), int32(14), int64(13)\n",
      "memory usage: 33.9 MB\n"
     ]
    }
   ],
   "source": [
    "data2.info()"
   ]
  },
  {
   "cell_type": "markdown",
   "metadata": {
    "id": "w0xQZTN569Ji"
   },
   "source": [
    "# Cluster"
   ]
  },
  {
   "cell_type": "markdown",
   "metadata": {
    "id": "W_kHGRGp69Jj"
   },
   "source": [
    "## Determine K"
   ]
  },
  {
   "cell_type": "code",
   "execution_count": 308,
   "metadata": {
    "id": "CH2eGdDU69Jj"
   },
   "outputs": [],
   "source": [
    "data_no_tar = data2.drop(['Alive/Dead', 'Survival months', 'Survival months_6bins', 'Survival months_3bins'],axis=1)"
   ]
  },
  {
   "cell_type": "code",
   "execution_count": 309,
   "metadata": {
    "id": "95BKZdhT69Jj"
   },
   "outputs": [],
   "source": [
    "from sklearn.cluster import KMeans\n",
    "from sklearn import datasets"
   ]
  },
  {
   "cell_type": "code",
   "execution_count": 310,
   "metadata": {
    "id": "n1rZN0c969Jj"
   },
   "outputs": [],
   "source": [
    "Sum_of_squared_distances = []\n",
    "K = range(1,10)\n",
    "for k in K:\n",
    "    km = KMeans(n_clusters=k)\n",
    "    km = km.fit(data_no_tar)\n",
    "    Sum_of_squared_distances.append(km.inertia_)"
   ]
  },
  {
   "cell_type": "code",
   "execution_count": 311,
   "metadata": {
    "id": "PTp9BZlP69Jj",
    "outputId": "f37abeb9-a350-450d-b041-9209efb98abc"
   },
   "outputs": [
    {
     "data": {
      "image/png": "[encoded data removed]",
      "text/plain": [
       "<Figure size 576x396 with 1 Axes>"
      ]
     },
     "metadata": {},
     "output_type": "display_data"
    }
   ],
   "source": [
    "plt.plot(K, Sum_of_squared_distances, 'bx-')\n",
    "plt.xlabel('k')\n",
    "plt.ylabel('Sum_of_squared_distances')\n",
    "plt.title('Elbow Method For Optimal k')\n",
    "plt.show()"
   ]
  },
  {
   "cell_type": "code",
   "execution_count": 312,
   "metadata": {
    "id": "jrfDoTqP69Jj"
   },
   "outputs": [],
   "source": [
    "from sklearn.metrics import silhouette_score"
   ]
  },
  {
   "cell_type": "code",
   "execution_count": 313,
   "metadata": {
    "id": "djtR1iat69Jk",
    "outputId": "f8675e04-2afd-420b-8f80-5f3a93cf5108"
   },
   "outputs": [
    {
     "name": "stdout",
     "output_type": "stream",
     "text": [
      "Requirement already satisfied: yellowbrick in c:\\users\\gchan\\anaconda3\\lib\\site-packages (1.3.post1)\n",
      "Requirement already satisfied: scipy>=1.0.0 in c:\\users\\gchan\\anaconda3\\lib\\site-packages (from yellowbrick) (1.5.2)\n",
      "Collecting numpy<1.20,>=1.16.0\n",
      "  Using cached numpy-1.19.5-cp38-cp38-win_amd64.whl (13.3 MB)\n",
      "Requirement already satisfied: matplotlib!=3.0.0,>=2.0.2 in c:\\users\\gchan\\anaconda3\\lib\\site-packages (from yellowbrick) (3.3.2)\n",
      "Requirement already satisfied: scikit-learn>=0.20 in c:\\users\\gchan\\anaconda3\\lib\\site-packages (from yellowbrick) (0.23.2)\n",
      "Requirement already satisfied: cycler>=0.10.0 in c:\\users\\gchan\\anaconda3\\lib\\site-packages (from yellowbrick) (0.10.0)\n",
      "Requirement already satisfied: python-dateutil>=2.1 in c:\\users\\gchan\\anaconda3\\lib\\site-packages (from matplotlib!=3.0.0,>=2.0.2->yellowbrick) (2.8.1)\n",
      "Requirement already satisfied: certifi>=2020.06.20 in c:\\users\\gchan\\anaconda3\\lib\\site-packages (from matplotlib!=3.0.0,>=2.0.2->yellowbrick) (2020.6.20)\n",
      "Requirement already satisfied: pyparsing!=2.0.4,!=2.1.2,!=2.1.6,>=2.0.3 in c:\\users\\gchan\\anaconda3\\lib\\site-packages (from matplotlib!=3.0.0,>=2.0.2->yellowbrick) (2.4.7)\n",
      "Requirement already satisfied: kiwisolver>=1.0.1 in c:\\users\\gchan\\anaconda3\\lib\\site-packages (from matplotlib!=3.0.0,>=2.0.2->yellowbrick) (1.3.0)\n",
      "Requirement already satisfied: pillow>=6.2.0 in c:\\users\\gchan\\anaconda3\\lib\\site-packages (from matplotlib!=3.0.0,>=2.0.2->yellowbrick) (8.0.1)\n",
      "Requirement already satisfied: threadpoolctl>=2.0.0 in c:\\users\\gchan\\anaconda3\\lib\\site-packages (from scikit-learn>=0.20->yellowbrick) (2.1.0)\n",
      "Requirement already satisfied: joblib>=0.11 in c:\\users\\gchan\\anaconda3\\lib\\site-packages (from scikit-learn>=0.20->yellowbrick) (1.0.1)\n",
      "Requirement already satisfied: six in c:\\users\\gchan\\anaconda3\\lib\\site-packages (from cycler>=0.10.0->yellowbrick) (1.15.0)\n",
      "Installing collected packages: numpy\n",
      "  Attempting uninstall: numpy\n",
      "    Found existing installation: numpy 1.20.0\n",
      "    Uninstalling numpy-1.20.0:\n",
      "      Successfully uninstalled numpy-1.20.0\n"
     ]
    },
    {
     "name": "stderr",
     "output_type": "stream",
     "text": [
      "ERROR: Could not install packages due to an EnvironmentError: [WinError 5] Access is denied: 'C:\\\\Users\\\\Gchan\\\\AppData\\\\Roaming\\\\Python\\\\Python38\\\\site-packages\\\\~-mpy\\\\.libs\\\\libopenblas.4SP5SUA7CBGXUEOC35YP2ASOICYYEQZZ.gfortran-win_amd64.dll'\n",
      "Consider using the `--user` option or check the permissions.\n",
      "\n"
     ]
    }
   ],
   "source": [
    "!pip install yellowbrick"
   ]
  },
  {
   "cell_type": "code",
   "execution_count": 314,
   "metadata": {
    "id": "dCzsB6cS69Jk"
   },
   "outputs": [],
   "source": [
    "from yellowbrick.cluster import KElbowVisualizer"
   ]
  },
  {
   "cell_type": "code",
   "execution_count": 315,
   "metadata": {
    "id": "BfEgTfR869Jk",
    "outputId": "3dc4b9d5-3787-4070-80b6-db446e7ebc3f"
   },
   "outputs": [
    {
     "data": {
      "image/png": "[encoded data removed]",
      "text/plain": [
       "<Figure size 576x396 with 1 Axes>"
      ]
     },
     "metadata": {},
     "output_type": "display_data"
    },
    {
     "data": {
      "text/plain": [
       "<AxesSubplot:title={'center':'Calinski Harabasz Score Elbow for KMeans Clustering'}, xlabel='k', ylabel='calinski harabasz score'>"
      ]
     },
     "execution_count": 315,
     "metadata": {},
     "output_type": "execute_result"
    }
   ],
   "source": [
    "model = KMeans(random_state=10)\n",
    "\n",
    "visualizer = KElbowVisualizer(model, k=(2,10), metric='calinski_harabasz', timings=False)\n",
    "\n",
    "visualizer.fit(data_no_tar)    \n",
    "visualizer.poof()"
   ]
  },
  {
   "cell_type": "markdown",
   "metadata": {
    "id": "5mBradci69Jk"
   },
   "source": [
    "## Train: 70%, Test: 30%"
   ]
  },
  {
   "cell_type": "markdown",
   "metadata": {
    "id": "339zSeML69Jk"
   },
   "source": [
    "### Train Test Split for Continous Target Variable"
   ]
  },
  {
   "cell_type": "code",
   "execution_count": 316,
   "metadata": {
    "id": "EU4FT28x69Jl"
   },
   "outputs": [],
   "source": [
    "from sklearn.model_selection import train_test_split\n",
    "\n",
    "X = data2.drop(['Alive/Dead', 'Survival months', 'Survival months_6bins', 'Survival months_3bins'],axis=1)\n",
    "yc = data2['Survival months']\n",
    "\n",
    "X_train, X_test, yc_train, yc_test = train_test_split(X, yc, test_size=0.30, random_state=42)"
   ]
  },
  {
   "cell_type": "markdown",
   "metadata": {
    "id": "e_8myb1369Jl"
   },
   "source": [
    "### Train Test Split for Categorical Target Variable (6 ranges)"
   ]
  },
  {
   "cell_type": "code",
   "execution_count": 317,
   "metadata": {
    "id": "RyNZMUDw69Jl"
   },
   "outputs": [],
   "source": [
    "from sklearn.model_selection import train_test_split\n",
    "\n",
    "X = data2.drop(['Alive/Dead', 'Survival months', 'Survival months_6bins', 'Survival months_3bins'],axis=1)\n",
    "y6 = data2['Survival months_6bins']\n",
    "\n",
    "X_train, X_test, y6_train, y6_test = train_test_split(X, y6, test_size=0.30, random_state=42)"
   ]
  },
  {
   "cell_type": "markdown",
   "metadata": {
    "id": "6HnGwBWZ69Jl"
   },
   "source": [
    "### Train Test Split for Categorical Target Variable (3 ranges)"
   ]
  },
  {
   "cell_type": "code",
   "execution_count": 318,
   "metadata": {
    "id": "Y_i3kqbw69Jl"
   },
   "outputs": [],
   "source": [
    "from sklearn.model_selection import train_test_split\n",
    "\n",
    "X = data2.drop(['Alive/Dead', 'Survival months', 'Survival months_6bins', 'Survival months_3bins'],axis=1)\n",
    "y3 = data2['Survival months_3bins']\n",
    "\n",
    "X_train, X_test, y3_train, y3_test = train_test_split(X, y3, test_size=0.30, random_state=42)"
   ]
  },
  {
   "cell_type": "markdown",
   "metadata": {
    "id": "qgfW6jXg69Jm"
   },
   "source": [
    "## Feature Selection Categorical and Continuous"
   ]
  },
  {
   "cell_type": "code",
   "execution_count": 319,
   "metadata": {
    "id": "nJIrRlD569Jm"
   },
   "outputs": [],
   "source": [
    "from sklearn.feature_selection import SelectKBest\n",
    "from sklearn.feature_selection import chi2\n",
    "from sklearn.feature_selection import f_regression"
   ]
  },
  {
   "cell_type": "code",
   "execution_count": 320,
   "metadata": {
    "id": "AA8Z_aue69Jm"
   },
   "outputs": [],
   "source": [
    "def select_features(X_train, yc_train, X_test):\n",
    "    fs = SelectKBest(score_func=f_regression, k=10)\n",
    "    fs.fit(X_train, yc_train)\n",
    "    X_train = fs.transform(X_train)\n",
    "    X_test = fs.transform(X_test)\n",
    "    return X_train, X_test, fs"
   ]
  },
  {
   "cell_type": "code",
   "execution_count": 321,
   "metadata": {
    "id": "B7PoMmGx69Jm",
    "outputId": "f0e88ab4-f24e-4848-f9b5-fa12260530d3"
   },
   "outputs": [
    {
     "name": "stdout",
     "output_type": "stream",
     "text": [
      "Feature 0: 3341.869384\n",
      "Feature 1: 0.158846\n",
      "Feature 2: 63.227753\n",
      "Feature 3: 187.850470\n",
      "Feature 4: 2795.734927\n",
      "Feature 5: 58.072245\n",
      "Feature 6: 4.611209\n",
      "Feature 7: 2273.263438\n",
      "Feature 8: 15833.881736\n",
      "Feature 9: 8261.457387\n",
      "Feature 10: 9553.015455\n",
      "Feature 11: 14870.292103\n",
      "Feature 12: 287.648354\n",
      "Feature 13: 53.469276\n",
      "Feature 14: 155.708249\n",
      "Feature 15: 252.876811\n",
      "Feature 16: 17.970250\n",
      "Feature 17: 6.527737\n",
      "Feature 18: 11.434725\n",
      "Feature 19: 8407.761142\n",
      "Feature 20: 2675.560261\n",
      "Feature 21: 111.478329\n",
      "Feature 22: 5.497795\n",
      "Feature 23: 0.705748\n",
      "Feature 24: 359.754325\n"
     ]
    }
   ],
   "source": [
    "from matplotlib import pyplot\n",
    "X_train_fs, X_test_fs, fs = select_features(X_train, yc_train, X_test)\n",
    "\n",
    "for i in range(len(fs.scores_)):\n",
    "    print('Feature %d: %f' % (i, fs.scores_[i]))"
   ]
  },
  {
   "cell_type": "code",
   "execution_count": 322,
   "metadata": {
    "id": "V6Uqug2y69Jm",
    "outputId": "a8d029d1-1af0-481e-9aec-3a5989590f5d"
   },
   "outputs": [
    {
     "data": {
      "image/png": "[encoded data removed]",
      "text/plain": [
       "<Figure size 576x396 with 1 Axes>"
      ]
     },
     "metadata": {},
     "output_type": "display_data"
    }
   ],
   "source": [
    "pyplot.bar([i for i in range(len(fs.scores_))], sorted(fs.scores_, reverse=True))\n",
    "plt.title('Feature selection for continuous target variable')\n",
    "x = [i for i in range(len(fs.scores_))]\n",
    "plt.xticks(x, ('0','8','11','10','19','9','4','20','7','24','12','15','3','14','21','2','5','13','16','18','17','22','6','23','1'))\n",
    "plt.xlabel(\"Feature number\")\n",
    "plt.ylabel(\"Score\")\n",
    "pyplot.show()"
   ]
  },
  {
   "cell_type": "code",
   "execution_count": 323,
   "metadata": {
    "id": "gGOG6ZcN69Jn",
    "outputId": "03281da4-412e-4128-8af5-666d76e41763"
   },
   "outputs": [
    {
     "data": {
      "text/plain": [
       "['Age',\n",
       " 'Derived AJCC Stage Group',\n",
       " 'Derived AJCC M',\n",
       " 'Derived AJCC N',\n",
       " 'Regional nodes positive',\n",
       " 'Derived AJCC T',\n",
       " 'Grade',\n",
       " 'Tumor Size',\n",
       " 'Combined Summary Stage 2000',\n",
       " 'Median household income']"
      ]
     },
     "execution_count": 323,
     "metadata": {},
     "output_type": "execute_result"
    }
   ],
   "source": [
    "list(X_train.columns[[0,8,11,10,19,9,4,20,7,24]])"
   ]
  },
  {
   "cell_type": "code",
   "execution_count": 324,
   "metadata": {
    "id": "Nm59EN6-69Jn"
   },
   "outputs": [],
   "source": [
    "def select_features(X_train, y6_train, X_test):\n",
    "    fs = SelectKBest(score_func=chi2, k=10)\n",
    "    fs.fit(X_train, y6_train)\n",
    "    X_train = fs.transform(X_train)\n",
    "    X_test = fs.transform(X_test)\n",
    "    return X_train, X_test, fs"
   ]
  },
  {
   "cell_type": "code",
   "execution_count": 325,
   "metadata": {
    "id": "mya6chc169Jn",
    "outputId": "75fa62ee-2357-4d4c-af15-83081f58bd2d"
   },
   "outputs": [
    {
     "name": "stdout",
     "output_type": "stream",
     "text": [
      "Feature 0: 3452.790745\n",
      "Feature 1: 49.443936\n",
      "Feature 2: 66.867813\n",
      "Feature 3: 727.274255\n",
      "Feature 4: 1360.808405\n",
      "Feature 5: 1.190858\n",
      "Feature 6: 0.001788\n",
      "Feature 7: 3610.753727\n",
      "Feature 8: 24000.489069\n",
      "Feature 9: 1930.583346\n",
      "Feature 10: 10940.673370\n",
      "Feature 11: 15854.510482\n",
      "Feature 12: 706.094568\n",
      "Feature 13: 12.479379\n",
      "Feature 14: 223.683184\n",
      "Feature 15: 187.283569\n",
      "Feature 16: 1655.552565\n",
      "Feature 17: 1281.924591\n",
      "Feature 18: 3586.180564\n",
      "Feature 19: 97175.777622\n",
      "Feature 20: 3839.704307\n",
      "Feature 21: 3.642851\n",
      "Feature 22: 6.773290\n",
      "Feature 23: 11.516848\n",
      "Feature 24: 314.758378\n"
     ]
    }
   ],
   "source": [
    "from matplotlib import pyplot\n",
    "X_train_fs, X_test_fs, fs = select_features(X_train, y6_train, X_test)\n",
    "\n",
    "for i in range(len(fs.scores_)):\n",
    "    print('Feature %d: %f' % (i, fs.scores_[i]))"
   ]
  },
  {
   "cell_type": "code",
   "execution_count": 326,
   "metadata": {
    "id": "5c9yMoZb69Jn"
   },
   "outputs": [
    {
     "data": {
      "image/png": "[encoded data removed]",
      "text/plain": [
       "<Figure size 576x396 with 1 Axes>"
      ]
     },
     "metadata": {},
     "output_type": "display_data"
    }
   ],
   "source": [
    "pyplot.bar([i for i in range(len(fs.scores_))], sorted(fs.scores_, reverse=True))\n",
    "plt.title('Feature selection for binned target variable, 0-11,12-23,24-35,36-47,48-59,60+')\n",
    "x = [i for i in range(len(fs.scores_))]\n",
    "plt.xticks(x, (19,8,11,10,20,7,18,0,9,16,4,17,3,12,24,14,15,2,1,13,23,22,21,5,6))\n",
    "plt.xlabel(\"Feature number\")\n",
    "plt.ylabel(\"Score\")\n",
    "pyplot.show()"
   ]
  },
  {
   "cell_type": "code",
   "execution_count": 327,
   "metadata": {},
   "outputs": [
    {
     "data": {
      "text/plain": [
       "['Regional nodes positive',\n",
       " 'Derived AJCC Stage Group',\n",
       " 'Derived AJCC M',\n",
       " 'Derived AJCC N',\n",
       " 'Tumor Size',\n",
       " 'Combined Summary Stage 2000',\n",
       " 'Regional nodes examined',\n",
       " 'Age',\n",
       " 'Derived AJCC T',\n",
       " 'Chemotherapy']"
      ]
     },
     "execution_count": 327,
     "metadata": {},
     "output_type": "execute_result"
    }
   ],
   "source": [
    "list(X_train.columns[[19,8,11,10,20,7,18,0,9,16]])"
   ]
  },
  {
   "cell_type": "code",
   "execution_count": 328,
   "metadata": {
    "id": "5mS3h66I69Jn"
   },
   "outputs": [],
   "source": [
    "def select_features(X_train, y3_train, X_test):\n",
    "    fs = SelectKBest(score_func=chi2, k=10)\n",
    "    fs.fit(X_train, y3_train)\n",
    "    X_train = fs.transform(X_train)\n",
    "    X_test = fs.transform(X_test)\n",
    "    return X_train, X_test, fs"
   ]
  },
  {
   "cell_type": "code",
   "execution_count": 329,
   "metadata": {
    "id": "FErR6hDT69Jn",
    "outputId": "dc883f6e-a7d0-44be-d726-53ccfa7f05e3"
   },
   "outputs": [
    {
     "name": "stdout",
     "output_type": "stream",
     "text": [
      "Feature 0: 2205.073576\n",
      "Feature 1: 25.557572\n",
      "Feature 2: 33.599679\n",
      "Feature 3: 501.420561\n",
      "Feature 4: 1064.582537\n",
      "Feature 5: 0.919516\n",
      "Feature 6: 0.001241\n",
      "Feature 7: 2981.206025\n",
      "Feature 8: 21140.491621\n",
      "Feature 9: 1696.177072\n",
      "Feature 10: 9514.266876\n",
      "Feature 11: 13544.361431\n",
      "Feature 12: 535.730967\n",
      "Feature 13: 8.965150\n",
      "Feature 14: 135.191786\n",
      "Feature 15: 127.794992\n",
      "Feature 16: 217.353613\n",
      "Feature 17: 212.678125\n",
      "Feature 18: 2000.709814\n",
      "Feature 19: 79891.861382\n",
      "Feature 20: 3098.061187\n",
      "Feature 21: 3.195903\n",
      "Feature 22: 1.599593\n",
      "Feature 23: 7.178476\n",
      "Feature 24: 248.383432\n"
     ]
    }
   ],
   "source": [
    "from matplotlib import pyplot\n",
    "X_train_fs, X_test_fs, fs = select_features(X_train, y3_train, X_test)\n",
    "\n",
    "for i in range(len(fs.scores_)):\n",
    "    print('Feature %d: %f' % (i, fs.scores_[i]))"
   ]
  },
  {
   "cell_type": "code",
   "execution_count": 330,
   "metadata": {},
   "outputs": [
    {
     "data": {
      "image/png": "[encoded data removed]",
      "text/plain": [
       "<Figure size 576x396 with 1 Axes>"
      ]
     },
     "metadata": {},
     "output_type": "display_data"
    }
   ],
   "source": [
    "pyplot.bar([i for i in range(len(fs.scores_))], sorted(fs.scores_, reverse=True))\n",
    "plt.title('Feature selection for binned target variable, 0-29, 30-59, 60+')\n",
    "x = [i for i in range(len(fs.scores_))]\n",
    "plt.xticks(x, (19,8,11,10,20,7,0,18,9,4,12,3,24,16,17,14,15,2,1,13,23,21,22,5,6))\n",
    "plt.xlabel(\"Feature number\")\n",
    "plt.ylabel(\"Score\")\n",
    "pyplot.show()"
   ]
  },
  {
   "cell_type": "code",
   "execution_count": 331,
   "metadata": {
    "id": "tJ__I8Y969Jo",
    "outputId": "f2a5125a-93db-4eb6-a33e-ca3177c734ab"
   },
   "outputs": [
    {
     "data": {
      "text/plain": [
       "['Regional nodes positive',\n",
       " 'Derived AJCC Stage Group',\n",
       " 'Derived AJCC M',\n",
       " 'Derived AJCC N',\n",
       " 'Tumor Size',\n",
       " 'Combined Summary Stage 2000',\n",
       " 'Age',\n",
       " 'Regional nodes examined',\n",
       " 'Derived AJCC T',\n",
       " 'Grade']"
      ]
     },
     "execution_count": 331,
     "metadata": {},
     "output_type": "execute_result"
    }
   ],
   "source": [
    "list(X_train.columns[[19,8,11,10,20,7,0,18,9,4]])"
   ]
  },
  {
   "cell_type": "markdown",
   "metadata": {
    "id": "mfmhEQa069Jo"
   },
   "source": [
    "# HDBSCAN for classification only (3 bins)"
   ]
  },
  {
   "cell_type": "code",
   "execution_count": 332,
   "metadata": {
    "id": "eAfI24bO69Jo",
    "outputId": "485617aa-3369-4d9a-9068-635ae017d836"
   },
   "outputs": [
    {
     "name": "stdout",
     "output_type": "stream",
     "text": [
      "Collecting numpy==1.20.0\n",
      "  Using cached numpy-1.20.0-cp38-cp38-win_amd64.whl (13.7 MB)\n",
      "Installing collected packages: numpy\n",
      "Successfully installed numpy-1.20.0\n"
     ]
    },
    {
     "name": "stderr",
     "output_type": "stream",
     "text": [
      "  WARNING: The script f2py.exe is installed in 'C:\\Users\\Gchan\\AppData\\Roaming\\Python\\Python38\\Scripts' which is not on PATH.\n",
      "  Consider adding this directory to PATH or, if you prefer to suppress this warning, use --no-warn-script-location.\n",
      "ERROR: After October 2020 you may experience errors when installing or updating packages. This is because pip will change the way that it resolves dependency conflicts.\n",
      "\n",
      "We recommend you use --use-feature=2020-resolver to test your packages with the new resolver before it becomes the default.\n",
      "\n",
      "yellowbrick 1.3.post1 requires numpy<1.20,>=1.16.0, but you'll have numpy 1.20.0 which is incompatible.\n"
     ]
    }
   ],
   "source": [
    "!pip install --user numpy==1.20.0"
   ]
  },
  {
   "cell_type": "code",
   "execution_count": 333,
   "metadata": {
    "id": "Gk0LeqvF69Jo",
    "outputId": "47c481ff-0a75-40b4-c9a1-3a987769d476"
   },
   "outputs": [
    {
     "name": "stdout",
     "output_type": "stream",
     "text": [
      "Requirement already satisfied: hdbscan in c:\\users\\gchan\\anaconda3\\lib\\site-packages (0.8.27)\n",
      "Requirement already satisfied: cython>=0.27 in c:\\users\\gchan\\anaconda3\\lib\\site-packages (from hdbscan) (0.29.21)\n",
      "Requirement already satisfied: joblib>=1.0 in c:\\users\\gchan\\anaconda3\\lib\\site-packages (from hdbscan) (1.0.1)\n",
      "Requirement already satisfied: six in c:\\users\\gchan\\anaconda3\\lib\\site-packages (from hdbscan) (1.15.0)\n",
      "Requirement already satisfied: numpy>=1.16 in c:\\users\\gchan\\appdata\\roaming\\python\\python38\\site-packages (from hdbscan) (1.20.0)\n",
      "Requirement already satisfied: scipy>=1.0 in c:\\users\\gchan\\anaconda3\\lib\\site-packages (from hdbscan) (1.5.2)\n",
      "Requirement already satisfied: scikit-learn>=0.20 in c:\\users\\gchan\\anaconda3\\lib\\site-packages (from hdbscan) (0.23.2)\n",
      "Requirement already satisfied: threadpoolctl>=2.0.0 in c:\\users\\gchan\\anaconda3\\lib\\site-packages (from scikit-learn>=0.20->hdbscan) (2.1.0)\n"
     ]
    }
   ],
   "source": [
    "!pip install hdbscan --no-build-isolation --no-binary :all:"
   ]
  },
  {
   "cell_type": "code",
   "execution_count": 334,
   "metadata": {
    "id": "4Grziu--69Jo"
   },
   "outputs": [],
   "source": [
    "import hdbscan"
   ]
  },
  {
   "cell_type": "code",
   "execution_count": 335,
   "metadata": {
    "id": "0PDGC1CV69Jo"
   },
   "outputs": [],
   "source": [
    "clusterer = hdbscan.HDBSCAN(min_cluster_size=300, prediction_data=True)"
   ]
  },
  {
   "cell_type": "code",
   "execution_count": 336,
   "metadata": {
    "id": "ikEeZNTx69Jp"
   },
   "outputs": [],
   "source": [
    "HX_train_clstrs = X_train.copy()"
   ]
  },
  {
   "cell_type": "code",
   "execution_count": 337,
   "metadata": {
    "id": "i0wnbqe069Jp",
    "outputId": "87ed2dc3-517b-451b-cda1-60266d5172ca"
   },
   "outputs": [
    {
     "data": {
      "text/plain": [
       "HDBSCAN(min_cluster_size=300, prediction_data=True)"
      ]
     },
     "execution_count": 337,
     "metadata": {},
     "output_type": "execute_result"
    }
   ],
   "source": [
    "clusterer.fit(HX_train_clstrs)"
   ]
  },
  {
   "cell_type": "code",
   "execution_count": 338,
   "metadata": {
    "id": "JmhajhW969Jp"
   },
   "outputs": [],
   "source": [
    "HX_train_clstrs['Clusters']=clusterer.labels_"
   ]
  },
  {
   "cell_type": "code",
   "execution_count": 443,
   "metadata": {
    "id": "DRmFswew69Jp",
    "outputId": "0b150087-ca3a-4686-e7c1-0d556d55dc10"
   },
   "outputs": [
    {
     "data": {
      "text/plain": [
       "2"
      ]
     },
     "execution_count": 443,
     "metadata": {},
     "output_type": "execute_result"
    }
   ],
   "source": [
    "clusterer.labels_.max()"
   ]
  },
  {
   "cell_type": "code",
   "execution_count": 340,
   "metadata": {
    "id": "V3RAxVjY69Jp"
   },
   "outputs": [],
   "source": [
    "HX_test_clstrs = X_test.copy()"
   ]
  },
  {
   "cell_type": "code",
   "execution_count": 341,
   "metadata": {
    "id": "nbmFe3L269Jq"
   },
   "outputs": [],
   "source": [
    "htest_labels = hdbscan.approximate_predict(clusterer, HX_test_clstrs)"
   ]
  },
  {
   "cell_type": "code",
   "execution_count": 342,
   "metadata": {
    "id": "w2HH9P6k69Jq"
   },
   "outputs": [],
   "source": [
    "htest_labels = htest_labels[0]"
   ]
  },
  {
   "cell_type": "code",
   "execution_count": 343,
   "metadata": {
    "id": "TYMhg1WE69Jq"
   },
   "outputs": [],
   "source": [
    "HX_test_clstrs['Clusters'] = htest_labels"
   ]
  },
  {
   "cell_type": "code",
   "execution_count": 344,
   "metadata": {
    "id": "_wszPkgv69Jq",
    "outputId": "3e238f34-c610-4a93-d9e6-f3dcb37038c2"
   },
   "outputs": [
    {
     "data": {
      "text/plain": [
       " 1    55085\n",
       " 2    54274\n",
       "-1    11036\n",
       " 0     4523\n",
       "Name: Clusters, dtype: int64"
      ]
     },
     "execution_count": 344,
     "metadata": {},
     "output_type": "execute_result"
    }
   ],
   "source": [
    "HX_train_clstrs['Clusters'].value_counts()"
   ]
  },
  {
   "cell_type": "code",
   "execution_count": 345,
   "metadata": {
    "id": "dpb8LKi269Jq",
    "outputId": "e06f7a11-fb75-4300-9943-cb5a009fae88"
   },
   "outputs": [
    {
     "data": {
      "text/plain": [
       " 2    23451\n",
       " 1    23410\n",
       "-1     4776\n",
       " 0     1900\n",
       "Name: Clusters, dtype: int64"
      ]
     },
     "execution_count": 345,
     "metadata": {},
     "output_type": "execute_result"
    }
   ],
   "source": [
    "HX_test_clstrs['Clusters'].value_counts()"
   ]
  },
  {
   "cell_type": "code",
   "execution_count": 346,
   "metadata": {},
   "outputs": [
    {
     "data": {
      "text/html": [
       "<div>\n",
       "<style scoped>\n",
       "    .dataframe tbody tr th:only-of-type {\n",
       "        vertical-align: middle;\n",
       "    }\n",
       "\n",
       "    .dataframe tbody tr th {\n",
       "        vertical-align: top;\n",
       "    }\n",
       "\n",
       "    .dataframe thead th {\n",
       "        text-align: right;\n",
       "    }\n",
       "</style>\n",
       "<table border=\"1\" class=\"dataframe\">\n",
       "  <thead>\n",
       "    <tr style=\"text-align: right;\">\n",
       "      <th></th>\n",
       "      <th>Age</th>\n",
       "      <th>Sex</th>\n",
       "      <th>Race</th>\n",
       "      <th>Site</th>\n",
       "      <th>Grade</th>\n",
       "      <th>Laterality</th>\n",
       "      <th>Diagnostic Confirmation</th>\n",
       "      <th>Combined Summary Stage 2000</th>\n",
       "      <th>Derived AJCC Stage Group</th>\n",
       "      <th>Derived AJCC T</th>\n",
       "      <th>...</th>\n",
       "      <th>Chemotherapy</th>\n",
       "      <th>Systemic/Sur Seq</th>\n",
       "      <th>Regional nodes examined</th>\n",
       "      <th>Regional nodes positive</th>\n",
       "      <th>Tumor Size</th>\n",
       "      <th>Primary by international rules</th>\n",
       "      <th>Num of in situ/malignant tumors</th>\n",
       "      <th>Num of benign/borderline tumors</th>\n",
       "      <th>Median household income</th>\n",
       "      <th>Clusters</th>\n",
       "    </tr>\n",
       "  </thead>\n",
       "  <tbody>\n",
       "    <tr>\n",
       "      <th>54478</th>\n",
       "      <td>9</td>\n",
       "      <td>1</td>\n",
       "      <td>3</td>\n",
       "      <td>2</td>\n",
       "      <td>1</td>\n",
       "      <td>2</td>\n",
       "      <td>4</td>\n",
       "      <td>1</td>\n",
       "      <td>2</td>\n",
       "      <td>4</td>\n",
       "      <td>...</td>\n",
       "      <td>0</td>\n",
       "      <td>2</td>\n",
       "      <td>12</td>\n",
       "      <td>0</td>\n",
       "      <td>6</td>\n",
       "      <td>1</td>\n",
       "      <td>1</td>\n",
       "      <td>0</td>\n",
       "      <td>3</td>\n",
       "      <td>2</td>\n",
       "    </tr>\n",
       "    <tr>\n",
       "      <th>20793</th>\n",
       "      <td>11</td>\n",
       "      <td>0</td>\n",
       "      <td>4</td>\n",
       "      <td>1</td>\n",
       "      <td>1</td>\n",
       "      <td>2</td>\n",
       "      <td>4</td>\n",
       "      <td>4</td>\n",
       "      <td>4</td>\n",
       "      <td>3</td>\n",
       "      <td>...</td>\n",
       "      <td>1</td>\n",
       "      <td>4</td>\n",
       "      <td>20</td>\n",
       "      <td>2</td>\n",
       "      <td>4</td>\n",
       "      <td>1</td>\n",
       "      <td>1</td>\n",
       "      <td>0</td>\n",
       "      <td>3</td>\n",
       "      <td>1</td>\n",
       "    </tr>\n",
       "    <tr>\n",
       "      <th>41087</th>\n",
       "      <td>15</td>\n",
       "      <td>1</td>\n",
       "      <td>4</td>\n",
       "      <td>9</td>\n",
       "      <td>2</td>\n",
       "      <td>2</td>\n",
       "      <td>4</td>\n",
       "      <td>0</td>\n",
       "      <td>7</td>\n",
       "      <td>5</td>\n",
       "      <td>...</td>\n",
       "      <td>1</td>\n",
       "      <td>4</td>\n",
       "      <td>9</td>\n",
       "      <td>8</td>\n",
       "      <td>10</td>\n",
       "      <td>1</td>\n",
       "      <td>2</td>\n",
       "      <td>0</td>\n",
       "      <td>9</td>\n",
       "      <td>-1</td>\n",
       "    </tr>\n",
       "    <tr>\n",
       "      <th>103928</th>\n",
       "      <td>9</td>\n",
       "      <td>1</td>\n",
       "      <td>4</td>\n",
       "      <td>1</td>\n",
       "      <td>1</td>\n",
       "      <td>5</td>\n",
       "      <td>4</td>\n",
       "      <td>4</td>\n",
       "      <td>6</td>\n",
       "      <td>4</td>\n",
       "      <td>...</td>\n",
       "      <td>0</td>\n",
       "      <td>2</td>\n",
       "      <td>27</td>\n",
       "      <td>19</td>\n",
       "      <td>9</td>\n",
       "      <td>1</td>\n",
       "      <td>1</td>\n",
       "      <td>0</td>\n",
       "      <td>5</td>\n",
       "      <td>-1</td>\n",
       "    </tr>\n",
       "    <tr>\n",
       "      <th>32018</th>\n",
       "      <td>15</td>\n",
       "      <td>1</td>\n",
       "      <td>4</td>\n",
       "      <td>1</td>\n",
       "      <td>1</td>\n",
       "      <td>2</td>\n",
       "      <td>4</td>\n",
       "      <td>1</td>\n",
       "      <td>1</td>\n",
       "      <td>2</td>\n",
       "      <td>...</td>\n",
       "      <td>0</td>\n",
       "      <td>2</td>\n",
       "      <td>12</td>\n",
       "      <td>0</td>\n",
       "      <td>5</td>\n",
       "      <td>1</td>\n",
       "      <td>1</td>\n",
       "      <td>0</td>\n",
       "      <td>4</td>\n",
       "      <td>2</td>\n",
       "    </tr>\n",
       "    <tr>\n",
       "      <th>...</th>\n",
       "      <td>...</td>\n",
       "      <td>...</td>\n",
       "      <td>...</td>\n",
       "      <td>...</td>\n",
       "      <td>...</td>\n",
       "      <td>...</td>\n",
       "      <td>...</td>\n",
       "      <td>...</td>\n",
       "      <td>...</td>\n",
       "      <td>...</td>\n",
       "      <td>...</td>\n",
       "      <td>...</td>\n",
       "      <td>...</td>\n",
       "      <td>...</td>\n",
       "      <td>...</td>\n",
       "      <td>...</td>\n",
       "      <td>...</td>\n",
       "      <td>...</td>\n",
       "      <td>...</td>\n",
       "      <td>...</td>\n",
       "      <td>...</td>\n",
       "    </tr>\n",
       "    <tr>\n",
       "      <th>120550</th>\n",
       "      <td>8</td>\n",
       "      <td>1</td>\n",
       "      <td>4</td>\n",
       "      <td>2</td>\n",
       "      <td>1</td>\n",
       "      <td>2</td>\n",
       "      <td>4</td>\n",
       "      <td>0</td>\n",
       "      <td>7</td>\n",
       "      <td>5</td>\n",
       "      <td>...</td>\n",
       "      <td>1</td>\n",
       "      <td>4</td>\n",
       "      <td>30</td>\n",
       "      <td>4</td>\n",
       "      <td>11</td>\n",
       "      <td>1</td>\n",
       "      <td>3</td>\n",
       "      <td>0</td>\n",
       "      <td>4</td>\n",
       "      <td>-1</td>\n",
       "    </tr>\n",
       "    <tr>\n",
       "      <th>104290</th>\n",
       "      <td>8</td>\n",
       "      <td>0</td>\n",
       "      <td>4</td>\n",
       "      <td>8</td>\n",
       "      <td>1</td>\n",
       "      <td>2</td>\n",
       "      <td>4</td>\n",
       "      <td>4</td>\n",
       "      <td>6</td>\n",
       "      <td>4</td>\n",
       "      <td>...</td>\n",
       "      <td>1</td>\n",
       "      <td>4</td>\n",
       "      <td>25</td>\n",
       "      <td>18</td>\n",
       "      <td>6</td>\n",
       "      <td>1</td>\n",
       "      <td>2</td>\n",
       "      <td>0</td>\n",
       "      <td>9</td>\n",
       "      <td>-1</td>\n",
       "    </tr>\n",
       "    <tr>\n",
       "      <th>132695</th>\n",
       "      <td>11</td>\n",
       "      <td>0</td>\n",
       "      <td>4</td>\n",
       "      <td>3</td>\n",
       "      <td>2</td>\n",
       "      <td>2</td>\n",
       "      <td>4</td>\n",
       "      <td>4</td>\n",
       "      <td>5</td>\n",
       "      <td>4</td>\n",
       "      <td>...</td>\n",
       "      <td>1</td>\n",
       "      <td>4</td>\n",
       "      <td>23</td>\n",
       "      <td>1</td>\n",
       "      <td>6</td>\n",
       "      <td>1</td>\n",
       "      <td>1</td>\n",
       "      <td>0</td>\n",
       "      <td>4</td>\n",
       "      <td>2</td>\n",
       "    </tr>\n",
       "    <tr>\n",
       "      <th>147708</th>\n",
       "      <td>10</td>\n",
       "      <td>1</td>\n",
       "      <td>4</td>\n",
       "      <td>7</td>\n",
       "      <td>1</td>\n",
       "      <td>2</td>\n",
       "      <td>4</td>\n",
       "      <td>3</td>\n",
       "      <td>2</td>\n",
       "      <td>4</td>\n",
       "      <td>...</td>\n",
       "      <td>1</td>\n",
       "      <td>4</td>\n",
       "      <td>14</td>\n",
       "      <td>0</td>\n",
       "      <td>5</td>\n",
       "      <td>1</td>\n",
       "      <td>1</td>\n",
       "      <td>0</td>\n",
       "      <td>9</td>\n",
       "      <td>2</td>\n",
       "    </tr>\n",
       "    <tr>\n",
       "      <th>122654</th>\n",
       "      <td>10</td>\n",
       "      <td>1</td>\n",
       "      <td>4</td>\n",
       "      <td>8</td>\n",
       "      <td>1</td>\n",
       "      <td>2</td>\n",
       "      <td>4</td>\n",
       "      <td>1</td>\n",
       "      <td>2</td>\n",
       "      <td>4</td>\n",
       "      <td>...</td>\n",
       "      <td>0</td>\n",
       "      <td>2</td>\n",
       "      <td>48</td>\n",
       "      <td>0</td>\n",
       "      <td>9</td>\n",
       "      <td>1</td>\n",
       "      <td>1</td>\n",
       "      <td>0</td>\n",
       "      <td>3</td>\n",
       "      <td>-1</td>\n",
       "    </tr>\n",
       "  </tbody>\n",
       "</table>\n",
       "<p>124918 rows × 26 columns</p>\n",
       "</div>"
      ],
      "text/plain": [
       "        Age  Sex  Race  Site  Grade  Laterality  Diagnostic Confirmation  \\\n",
       "54478     9    1     3     2      1           2                        4   \n",
       "20793    11    0     4     1      1           2                        4   \n",
       "41087    15    1     4     9      2           2                        4   \n",
       "103928    9    1     4     1      1           5                        4   \n",
       "32018    15    1     4     1      1           2                        4   \n",
       "...     ...  ...   ...   ...    ...         ...                      ...   \n",
       "120550    8    1     4     2      1           2                        4   \n",
       "104290    8    0     4     8      1           2                        4   \n",
       "132695   11    0     4     3      2           2                        4   \n",
       "147708   10    1     4     7      1           2                        4   \n",
       "122654   10    1     4     8      1           2                        4   \n",
       "\n",
       "        Combined Summary Stage 2000  Derived AJCC Stage Group  Derived AJCC T  \\\n",
       "54478                             1                         2               4   \n",
       "20793                             4                         4               3   \n",
       "41087                             0                         7               5   \n",
       "103928                            4                         6               4   \n",
       "32018                             1                         1               2   \n",
       "...                             ...                       ...             ...   \n",
       "120550                            0                         7               5   \n",
       "104290                            4                         6               4   \n",
       "132695                            4                         5               4   \n",
       "147708                            3                         2               4   \n",
       "122654                            1                         2               4   \n",
       "\n",
       "        ...  Chemotherapy  Systemic/Sur Seq  Regional nodes examined  \\\n",
       "54478   ...             0                 2                       12   \n",
       "20793   ...             1                 4                       20   \n",
       "41087   ...             1                 4                        9   \n",
       "103928  ...             0                 2                       27   \n",
       "32018   ...             0                 2                       12   \n",
       "...     ...           ...               ...                      ...   \n",
       "120550  ...             1                 4                       30   \n",
       "104290  ...             1                 4                       25   \n",
       "132695  ...             1                 4                       23   \n",
       "147708  ...             1                 4                       14   \n",
       "122654  ...             0                 2                       48   \n",
       "\n",
       "        Regional nodes positive  Tumor Size  Primary by international rules  \\\n",
       "54478                         0           6                               1   \n",
       "20793                         2           4                               1   \n",
       "41087                         8          10                               1   \n",
       "103928                       19           9                               1   \n",
       "32018                         0           5                               1   \n",
       "...                         ...         ...                             ...   \n",
       "120550                        4          11                               1   \n",
       "104290                       18           6                               1   \n",
       "132695                        1           6                               1   \n",
       "147708                        0           5                               1   \n",
       "122654                        0           9                               1   \n",
       "\n",
       "        Num of in situ/malignant tumors  Num of benign/borderline tumors  \\\n",
       "54478                                 1                                0   \n",
       "20793                                 1                                0   \n",
       "41087                                 2                                0   \n",
       "103928                                1                                0   \n",
       "32018                                 1                                0   \n",
       "...                                 ...                              ...   \n",
       "120550                                3                                0   \n",
       "104290                                2                                0   \n",
       "132695                                1                                0   \n",
       "147708                                1                                0   \n",
       "122654                                1                                0   \n",
       "\n",
       "        Median household income  Clusters  \n",
       "54478                         3         2  \n",
       "20793                         3         1  \n",
       "41087                         9        -1  \n",
       "103928                        5        -1  \n",
       "32018                         4         2  \n",
       "...                         ...       ...  \n",
       "120550                        4        -1  \n",
       "104290                        9        -1  \n",
       "132695                        4         2  \n",
       "147708                        9         2  \n",
       "122654                        3        -1  \n",
       "\n",
       "[124918 rows x 26 columns]"
      ]
     },
     "execution_count": 346,
     "metadata": {},
     "output_type": "execute_result"
    }
   ],
   "source": [
    "HX_train_clstrs"
   ]
  },
  {
   "cell_type": "code",
   "execution_count": 347,
   "metadata": {},
   "outputs": [],
   "source": [
    "HX_train_clstrs = pd.concat([HX_train_clstrs, y3_train], axis=1)"
   ]
  },
  {
   "cell_type": "code",
   "execution_count": 348,
   "metadata": {},
   "outputs": [],
   "source": [
    "HX_test_clstrs = pd.concat([HX_test_clstrs, y3_test], axis=1)"
   ]
  },
  {
   "cell_type": "code",
   "execution_count": 349,
   "metadata": {},
   "outputs": [],
   "source": [
    "HX_train_clstrs = HX_train_clstrs[HX_train_clstrs['Clusters'] != -1]"
   ]
  },
  {
   "cell_type": "code",
   "execution_count": 350,
   "metadata": {},
   "outputs": [],
   "source": [
    "HX_test_clstrs = HX_test_clstrs[HX_test_clstrs['Clusters'] != -1]"
   ]
  },
  {
   "cell_type": "code",
   "execution_count": 351,
   "metadata": {},
   "outputs": [
    {
     "data": {
      "text/html": [
       "<div>\n",
       "<style scoped>\n",
       "    .dataframe tbody tr th:only-of-type {\n",
       "        vertical-align: middle;\n",
       "    }\n",
       "\n",
       "    .dataframe tbody tr th {\n",
       "        vertical-align: top;\n",
       "    }\n",
       "\n",
       "    .dataframe thead th {\n",
       "        text-align: right;\n",
       "    }\n",
       "</style>\n",
       "<table border=\"1\" class=\"dataframe\">\n",
       "  <thead>\n",
       "    <tr style=\"text-align: right;\">\n",
       "      <th></th>\n",
       "      <th>Age</th>\n",
       "      <th>Sex</th>\n",
       "      <th>Race</th>\n",
       "      <th>Site</th>\n",
       "      <th>Grade</th>\n",
       "      <th>Laterality</th>\n",
       "      <th>Diagnostic Confirmation</th>\n",
       "      <th>Combined Summary Stage 2000</th>\n",
       "      <th>Derived AJCC Stage Group</th>\n",
       "      <th>Derived AJCC T</th>\n",
       "      <th>...</th>\n",
       "      <th>Systemic/Sur Seq</th>\n",
       "      <th>Regional nodes examined</th>\n",
       "      <th>Regional nodes positive</th>\n",
       "      <th>Tumor Size</th>\n",
       "      <th>Primary by international rules</th>\n",
       "      <th>Num of in situ/malignant tumors</th>\n",
       "      <th>Num of benign/borderline tumors</th>\n",
       "      <th>Median household income</th>\n",
       "      <th>Clusters</th>\n",
       "      <th>Survival months_3bins</th>\n",
       "    </tr>\n",
       "  </thead>\n",
       "  <tbody>\n",
       "    <tr>\n",
       "      <th>54478</th>\n",
       "      <td>9</td>\n",
       "      <td>1</td>\n",
       "      <td>3</td>\n",
       "      <td>2</td>\n",
       "      <td>1</td>\n",
       "      <td>2</td>\n",
       "      <td>4</td>\n",
       "      <td>1</td>\n",
       "      <td>2</td>\n",
       "      <td>4</td>\n",
       "      <td>...</td>\n",
       "      <td>2</td>\n",
       "      <td>12</td>\n",
       "      <td>0</td>\n",
       "      <td>6</td>\n",
       "      <td>1</td>\n",
       "      <td>1</td>\n",
       "      <td>0</td>\n",
       "      <td>3</td>\n",
       "      <td>2</td>\n",
       "      <td>0-29</td>\n",
       "    </tr>\n",
       "    <tr>\n",
       "      <th>20793</th>\n",
       "      <td>11</td>\n",
       "      <td>0</td>\n",
       "      <td>4</td>\n",
       "      <td>1</td>\n",
       "      <td>1</td>\n",
       "      <td>2</td>\n",
       "      <td>4</td>\n",
       "      <td>4</td>\n",
       "      <td>4</td>\n",
       "      <td>3</td>\n",
       "      <td>...</td>\n",
       "      <td>4</td>\n",
       "      <td>20</td>\n",
       "      <td>2</td>\n",
       "      <td>4</td>\n",
       "      <td>1</td>\n",
       "      <td>1</td>\n",
       "      <td>0</td>\n",
       "      <td>3</td>\n",
       "      <td>1</td>\n",
       "      <td>&gt;=60</td>\n",
       "    </tr>\n",
       "    <tr>\n",
       "      <th>32018</th>\n",
       "      <td>15</td>\n",
       "      <td>1</td>\n",
       "      <td>4</td>\n",
       "      <td>1</td>\n",
       "      <td>1</td>\n",
       "      <td>2</td>\n",
       "      <td>4</td>\n",
       "      <td>1</td>\n",
       "      <td>1</td>\n",
       "      <td>2</td>\n",
       "      <td>...</td>\n",
       "      <td>2</td>\n",
       "      <td>12</td>\n",
       "      <td>0</td>\n",
       "      <td>5</td>\n",
       "      <td>1</td>\n",
       "      <td>1</td>\n",
       "      <td>0</td>\n",
       "      <td>4</td>\n",
       "      <td>2</td>\n",
       "      <td>0-29</td>\n",
       "    </tr>\n",
       "    <tr>\n",
       "      <th>125347</th>\n",
       "      <td>7</td>\n",
       "      <td>0</td>\n",
       "      <td>4</td>\n",
       "      <td>0</td>\n",
       "      <td>0</td>\n",
       "      <td>2</td>\n",
       "      <td>4</td>\n",
       "      <td>3</td>\n",
       "      <td>3</td>\n",
       "      <td>5</td>\n",
       "      <td>...</td>\n",
       "      <td>2</td>\n",
       "      <td>9</td>\n",
       "      <td>0</td>\n",
       "      <td>6</td>\n",
       "      <td>1</td>\n",
       "      <td>1</td>\n",
       "      <td>0</td>\n",
       "      <td>4</td>\n",
       "      <td>1</td>\n",
       "      <td>&gt;=60</td>\n",
       "    </tr>\n",
       "    <tr>\n",
       "      <th>72515</th>\n",
       "      <td>14</td>\n",
       "      <td>0</td>\n",
       "      <td>4</td>\n",
       "      <td>3</td>\n",
       "      <td>2</td>\n",
       "      <td>2</td>\n",
       "      <td>4</td>\n",
       "      <td>0</td>\n",
       "      <td>7</td>\n",
       "      <td>4</td>\n",
       "      <td>...</td>\n",
       "      <td>2</td>\n",
       "      <td>18</td>\n",
       "      <td>11</td>\n",
       "      <td>5</td>\n",
       "      <td>1</td>\n",
       "      <td>2</td>\n",
       "      <td>1</td>\n",
       "      <td>6</td>\n",
       "      <td>1</td>\n",
       "      <td>0-29</td>\n",
       "    </tr>\n",
       "    <tr>\n",
       "      <th>...</th>\n",
       "      <td>...</td>\n",
       "      <td>...</td>\n",
       "      <td>...</td>\n",
       "      <td>...</td>\n",
       "      <td>...</td>\n",
       "      <td>...</td>\n",
       "      <td>...</td>\n",
       "      <td>...</td>\n",
       "      <td>...</td>\n",
       "      <td>...</td>\n",
       "      <td>...</td>\n",
       "      <td>...</td>\n",
       "      <td>...</td>\n",
       "      <td>...</td>\n",
       "      <td>...</td>\n",
       "      <td>...</td>\n",
       "      <td>...</td>\n",
       "      <td>...</td>\n",
       "      <td>...</td>\n",
       "      <td>...</td>\n",
       "      <td>...</td>\n",
       "    </tr>\n",
       "    <tr>\n",
       "      <th>138127</th>\n",
       "      <td>13</td>\n",
       "      <td>1</td>\n",
       "      <td>3</td>\n",
       "      <td>3</td>\n",
       "      <td>1</td>\n",
       "      <td>2</td>\n",
       "      <td>4</td>\n",
       "      <td>0</td>\n",
       "      <td>7</td>\n",
       "      <td>5</td>\n",
       "      <td>...</td>\n",
       "      <td>4</td>\n",
       "      <td>13</td>\n",
       "      <td>4</td>\n",
       "      <td>10</td>\n",
       "      <td>1</td>\n",
       "      <td>1</td>\n",
       "      <td>0</td>\n",
       "      <td>1</td>\n",
       "      <td>2</td>\n",
       "      <td>0-29</td>\n",
       "    </tr>\n",
       "    <tr>\n",
       "      <th>55219</th>\n",
       "      <td>7</td>\n",
       "      <td>0</td>\n",
       "      <td>3</td>\n",
       "      <td>8</td>\n",
       "      <td>1</td>\n",
       "      <td>2</td>\n",
       "      <td>4</td>\n",
       "      <td>0</td>\n",
       "      <td>7</td>\n",
       "      <td>4</td>\n",
       "      <td>...</td>\n",
       "      <td>4</td>\n",
       "      <td>27</td>\n",
       "      <td>1</td>\n",
       "      <td>7</td>\n",
       "      <td>1</td>\n",
       "      <td>1</td>\n",
       "      <td>0</td>\n",
       "      <td>6</td>\n",
       "      <td>0</td>\n",
       "      <td>0-29</td>\n",
       "    </tr>\n",
       "    <tr>\n",
       "      <th>110893</th>\n",
       "      <td>12</td>\n",
       "      <td>1</td>\n",
       "      <td>4</td>\n",
       "      <td>6</td>\n",
       "      <td>1</td>\n",
       "      <td>2</td>\n",
       "      <td>4</td>\n",
       "      <td>2</td>\n",
       "      <td>5</td>\n",
       "      <td>4</td>\n",
       "      <td>...</td>\n",
       "      <td>4</td>\n",
       "      <td>46</td>\n",
       "      <td>1</td>\n",
       "      <td>7</td>\n",
       "      <td>1</td>\n",
       "      <td>2</td>\n",
       "      <td>0</td>\n",
       "      <td>5</td>\n",
       "      <td>2</td>\n",
       "      <td>30-59</td>\n",
       "    </tr>\n",
       "    <tr>\n",
       "      <th>132695</th>\n",
       "      <td>11</td>\n",
       "      <td>0</td>\n",
       "      <td>4</td>\n",
       "      <td>3</td>\n",
       "      <td>2</td>\n",
       "      <td>2</td>\n",
       "      <td>4</td>\n",
       "      <td>4</td>\n",
       "      <td>5</td>\n",
       "      <td>4</td>\n",
       "      <td>...</td>\n",
       "      <td>4</td>\n",
       "      <td>23</td>\n",
       "      <td>1</td>\n",
       "      <td>6</td>\n",
       "      <td>1</td>\n",
       "      <td>1</td>\n",
       "      <td>0</td>\n",
       "      <td>4</td>\n",
       "      <td>2</td>\n",
       "      <td>&gt;=60</td>\n",
       "    </tr>\n",
       "    <tr>\n",
       "      <th>147708</th>\n",
       "      <td>10</td>\n",
       "      <td>1</td>\n",
       "      <td>4</td>\n",
       "      <td>7</td>\n",
       "      <td>1</td>\n",
       "      <td>2</td>\n",
       "      <td>4</td>\n",
       "      <td>3</td>\n",
       "      <td>2</td>\n",
       "      <td>4</td>\n",
       "      <td>...</td>\n",
       "      <td>4</td>\n",
       "      <td>14</td>\n",
       "      <td>0</td>\n",
       "      <td>5</td>\n",
       "      <td>1</td>\n",
       "      <td>1</td>\n",
       "      <td>0</td>\n",
       "      <td>9</td>\n",
       "      <td>2</td>\n",
       "      <td>&gt;=60</td>\n",
       "    </tr>\n",
       "  </tbody>\n",
       "</table>\n",
       "<p>113882 rows × 27 columns</p>\n",
       "</div>"
      ],
      "text/plain": [
       "        Age  Sex  Race  Site  Grade  Laterality  Diagnostic Confirmation  \\\n",
       "54478     9    1     3     2      1           2                        4   \n",
       "20793    11    0     4     1      1           2                        4   \n",
       "32018    15    1     4     1      1           2                        4   \n",
       "125347    7    0     4     0      0           2                        4   \n",
       "72515    14    0     4     3      2           2                        4   \n",
       "...     ...  ...   ...   ...    ...         ...                      ...   \n",
       "138127   13    1     3     3      1           2                        4   \n",
       "55219     7    0     3     8      1           2                        4   \n",
       "110893   12    1     4     6      1           2                        4   \n",
       "132695   11    0     4     3      2           2                        4   \n",
       "147708   10    1     4     7      1           2                        4   \n",
       "\n",
       "        Combined Summary Stage 2000  Derived AJCC Stage Group  Derived AJCC T  \\\n",
       "54478                             1                         2               4   \n",
       "20793                             4                         4               3   \n",
       "32018                             1                         1               2   \n",
       "125347                            3                         3               5   \n",
       "72515                             0                         7               4   \n",
       "...                             ...                       ...             ...   \n",
       "138127                            0                         7               5   \n",
       "55219                             0                         7               4   \n",
       "110893                            2                         5               4   \n",
       "132695                            4                         5               4   \n",
       "147708                            3                         2               4   \n",
       "\n",
       "        ...  Systemic/Sur Seq  Regional nodes examined  \\\n",
       "54478   ...                 2                       12   \n",
       "20793   ...                 4                       20   \n",
       "32018   ...                 2                       12   \n",
       "125347  ...                 2                        9   \n",
       "72515   ...                 2                       18   \n",
       "...     ...               ...                      ...   \n",
       "138127  ...                 4                       13   \n",
       "55219   ...                 4                       27   \n",
       "110893  ...                 4                       46   \n",
       "132695  ...                 4                       23   \n",
       "147708  ...                 4                       14   \n",
       "\n",
       "        Regional nodes positive  Tumor Size  Primary by international rules  \\\n",
       "54478                         0           6                               1   \n",
       "20793                         2           4                               1   \n",
       "32018                         0           5                               1   \n",
       "125347                        0           6                               1   \n",
       "72515                        11           5                               1   \n",
       "...                         ...         ...                             ...   \n",
       "138127                        4          10                               1   \n",
       "55219                         1           7                               1   \n",
       "110893                        1           7                               1   \n",
       "132695                        1           6                               1   \n",
       "147708                        0           5                               1   \n",
       "\n",
       "        Num of in situ/malignant tumors  Num of benign/borderline tumors  \\\n",
       "54478                                 1                                0   \n",
       "20793                                 1                                0   \n",
       "32018                                 1                                0   \n",
       "125347                                1                                0   \n",
       "72515                                 2                                1   \n",
       "...                                 ...                              ...   \n",
       "138127                                1                                0   \n",
       "55219                                 1                                0   \n",
       "110893                                2                                0   \n",
       "132695                                1                                0   \n",
       "147708                                1                                0   \n",
       "\n",
       "        Median household income  Clusters  Survival months_3bins  \n",
       "54478                         3         2                   0-29  \n",
       "20793                         3         1                   >=60  \n",
       "32018                         4         2                   0-29  \n",
       "125347                        4         1                   >=60  \n",
       "72515                         6         1                   0-29  \n",
       "...                         ...       ...                    ...  \n",
       "138127                        1         2                   0-29  \n",
       "55219                         6         0                   0-29  \n",
       "110893                        5         2                  30-59  \n",
       "132695                        4         2                   >=60  \n",
       "147708                        9         2                   >=60  \n",
       "\n",
       "[113882 rows x 27 columns]"
      ]
     },
     "execution_count": 351,
     "metadata": {},
     "output_type": "execute_result"
    }
   ],
   "source": [
    "HX_train_clstrs"
   ]
  },
  {
   "cell_type": "code",
   "execution_count": 352,
   "metadata": {},
   "outputs": [],
   "source": [
    "Hy3_train = HX_train_clstrs['Survival months_3bins']"
   ]
  },
  {
   "cell_type": "code",
   "execution_count": 353,
   "metadata": {},
   "outputs": [],
   "source": [
    "Hy3_test = HX_test_clstrs['Survival months_3bins']"
   ]
  },
  {
   "cell_type": "code",
   "execution_count": 354,
   "metadata": {},
   "outputs": [],
   "source": [
    "HX_test_clstrs = HX_test_clstrs.drop(['Survival months_3bins'],axis=1)"
   ]
  },
  {
   "cell_type": "code",
   "execution_count": 355,
   "metadata": {},
   "outputs": [],
   "source": [
    "HX_train_clstrs = HX_train_clstrs.drop(['Survival months_3bins'],axis=1)"
   ]
  },
  {
   "cell_type": "code",
   "execution_count": 356,
   "metadata": {},
   "outputs": [
    {
     "data": {
      "text/html": [
       "<div>\n",
       "<style scoped>\n",
       "    .dataframe tbody tr th:only-of-type {\n",
       "        vertical-align: middle;\n",
       "    }\n",
       "\n",
       "    .dataframe tbody tr th {\n",
       "        vertical-align: top;\n",
       "    }\n",
       "\n",
       "    .dataframe thead th {\n",
       "        text-align: right;\n",
       "    }\n",
       "</style>\n",
       "<table border=\"1\" class=\"dataframe\">\n",
       "  <thead>\n",
       "    <tr style=\"text-align: right;\">\n",
       "      <th></th>\n",
       "      <th>Age</th>\n",
       "      <th>Sex</th>\n",
       "      <th>Race</th>\n",
       "      <th>Site</th>\n",
       "      <th>Grade</th>\n",
       "      <th>Laterality</th>\n",
       "      <th>Diagnostic Confirmation</th>\n",
       "      <th>Combined Summary Stage 2000</th>\n",
       "      <th>Derived AJCC Stage Group</th>\n",
       "      <th>Derived AJCC T</th>\n",
       "      <th>...</th>\n",
       "      <th>Chemotherapy</th>\n",
       "      <th>Systemic/Sur Seq</th>\n",
       "      <th>Regional nodes examined</th>\n",
       "      <th>Regional nodes positive</th>\n",
       "      <th>Tumor Size</th>\n",
       "      <th>Primary by international rules</th>\n",
       "      <th>Num of in situ/malignant tumors</th>\n",
       "      <th>Num of benign/borderline tumors</th>\n",
       "      <th>Median household income</th>\n",
       "      <th>Clusters</th>\n",
       "    </tr>\n",
       "  </thead>\n",
       "  <tbody>\n",
       "    <tr>\n",
       "      <th>4918</th>\n",
       "      <td>8</td>\n",
       "      <td>1</td>\n",
       "      <td>4</td>\n",
       "      <td>8</td>\n",
       "      <td>1</td>\n",
       "      <td>2</td>\n",
       "      <td>4</td>\n",
       "      <td>1</td>\n",
       "      <td>1</td>\n",
       "      <td>2</td>\n",
       "      <td>...</td>\n",
       "      <td>0</td>\n",
       "      <td>2</td>\n",
       "      <td>14</td>\n",
       "      <td>0</td>\n",
       "      <td>2</td>\n",
       "      <td>1</td>\n",
       "      <td>1</td>\n",
       "      <td>0</td>\n",
       "      <td>9</td>\n",
       "      <td>2</td>\n",
       "    </tr>\n",
       "    <tr>\n",
       "      <th>172211</th>\n",
       "      <td>14</td>\n",
       "      <td>0</td>\n",
       "      <td>4</td>\n",
       "      <td>1</td>\n",
       "      <td>1</td>\n",
       "      <td>2</td>\n",
       "      <td>4</td>\n",
       "      <td>1</td>\n",
       "      <td>1</td>\n",
       "      <td>3</td>\n",
       "      <td>...</td>\n",
       "      <td>0</td>\n",
       "      <td>2</td>\n",
       "      <td>18</td>\n",
       "      <td>0</td>\n",
       "      <td>5</td>\n",
       "      <td>1</td>\n",
       "      <td>1</td>\n",
       "      <td>0</td>\n",
       "      <td>1</td>\n",
       "      <td>1</td>\n",
       "    </tr>\n",
       "    <tr>\n",
       "      <th>89775</th>\n",
       "      <td>10</td>\n",
       "      <td>1</td>\n",
       "      <td>4</td>\n",
       "      <td>8</td>\n",
       "      <td>1</td>\n",
       "      <td>2</td>\n",
       "      <td>4</td>\n",
       "      <td>1</td>\n",
       "      <td>2</td>\n",
       "      <td>4</td>\n",
       "      <td>...</td>\n",
       "      <td>0</td>\n",
       "      <td>2</td>\n",
       "      <td>17</td>\n",
       "      <td>0</td>\n",
       "      <td>6</td>\n",
       "      <td>1</td>\n",
       "      <td>1</td>\n",
       "      <td>0</td>\n",
       "      <td>9</td>\n",
       "      <td>2</td>\n",
       "    </tr>\n",
       "    <tr>\n",
       "      <th>111852</th>\n",
       "      <td>8</td>\n",
       "      <td>0</td>\n",
       "      <td>3</td>\n",
       "      <td>1</td>\n",
       "      <td>0</td>\n",
       "      <td>2</td>\n",
       "      <td>4</td>\n",
       "      <td>1</td>\n",
       "      <td>0</td>\n",
       "      <td>1</td>\n",
       "      <td>...</td>\n",
       "      <td>0</td>\n",
       "      <td>2</td>\n",
       "      <td>19</td>\n",
       "      <td>0</td>\n",
       "      <td>1</td>\n",
       "      <td>1</td>\n",
       "      <td>1</td>\n",
       "      <td>0</td>\n",
       "      <td>5</td>\n",
       "      <td>1</td>\n",
       "    </tr>\n",
       "    <tr>\n",
       "      <th>171367</th>\n",
       "      <td>7</td>\n",
       "      <td>1</td>\n",
       "      <td>3</td>\n",
       "      <td>9</td>\n",
       "      <td>1</td>\n",
       "      <td>2</td>\n",
       "      <td>4</td>\n",
       "      <td>2</td>\n",
       "      <td>5</td>\n",
       "      <td>5</td>\n",
       "      <td>...</td>\n",
       "      <td>1</td>\n",
       "      <td>4</td>\n",
       "      <td>22</td>\n",
       "      <td>3</td>\n",
       "      <td>9</td>\n",
       "      <td>1</td>\n",
       "      <td>1</td>\n",
       "      <td>0</td>\n",
       "      <td>7</td>\n",
       "      <td>1</td>\n",
       "    </tr>\n",
       "    <tr>\n",
       "      <th>...</th>\n",
       "      <td>...</td>\n",
       "      <td>...</td>\n",
       "      <td>...</td>\n",
       "      <td>...</td>\n",
       "      <td>...</td>\n",
       "      <td>...</td>\n",
       "      <td>...</td>\n",
       "      <td>...</td>\n",
       "      <td>...</td>\n",
       "      <td>...</td>\n",
       "      <td>...</td>\n",
       "      <td>...</td>\n",
       "      <td>...</td>\n",
       "      <td>...</td>\n",
       "      <td>...</td>\n",
       "      <td>...</td>\n",
       "      <td>...</td>\n",
       "      <td>...</td>\n",
       "      <td>...</td>\n",
       "      <td>...</td>\n",
       "      <td>...</td>\n",
       "    </tr>\n",
       "    <tr>\n",
       "      <th>37676</th>\n",
       "      <td>9</td>\n",
       "      <td>0</td>\n",
       "      <td>4</td>\n",
       "      <td>7</td>\n",
       "      <td>1</td>\n",
       "      <td>2</td>\n",
       "      <td>4</td>\n",
       "      <td>0</td>\n",
       "      <td>7</td>\n",
       "      <td>4</td>\n",
       "      <td>...</td>\n",
       "      <td>1</td>\n",
       "      <td>4</td>\n",
       "      <td>23</td>\n",
       "      <td>16</td>\n",
       "      <td>8</td>\n",
       "      <td>1</td>\n",
       "      <td>1</td>\n",
       "      <td>0</td>\n",
       "      <td>2</td>\n",
       "      <td>2</td>\n",
       "    </tr>\n",
       "    <tr>\n",
       "      <th>19082</th>\n",
       "      <td>12</td>\n",
       "      <td>0</td>\n",
       "      <td>4</td>\n",
       "      <td>1</td>\n",
       "      <td>1</td>\n",
       "      <td>2</td>\n",
       "      <td>4</td>\n",
       "      <td>2</td>\n",
       "      <td>6</td>\n",
       "      <td>4</td>\n",
       "      <td>...</td>\n",
       "      <td>0</td>\n",
       "      <td>2</td>\n",
       "      <td>17</td>\n",
       "      <td>4</td>\n",
       "      <td>4</td>\n",
       "      <td>1</td>\n",
       "      <td>1</td>\n",
       "      <td>0</td>\n",
       "      <td>3</td>\n",
       "      <td>1</td>\n",
       "    </tr>\n",
       "    <tr>\n",
       "      <th>87315</th>\n",
       "      <td>14</td>\n",
       "      <td>0</td>\n",
       "      <td>4</td>\n",
       "      <td>7</td>\n",
       "      <td>2</td>\n",
       "      <td>2</td>\n",
       "      <td>4</td>\n",
       "      <td>4</td>\n",
       "      <td>6</td>\n",
       "      <td>3</td>\n",
       "      <td>...</td>\n",
       "      <td>1</td>\n",
       "      <td>4</td>\n",
       "      <td>15</td>\n",
       "      <td>4</td>\n",
       "      <td>6</td>\n",
       "      <td>1</td>\n",
       "      <td>2</td>\n",
       "      <td>0</td>\n",
       "      <td>5</td>\n",
       "      <td>2</td>\n",
       "    </tr>\n",
       "    <tr>\n",
       "      <th>102915</th>\n",
       "      <td>14</td>\n",
       "      <td>0</td>\n",
       "      <td>2</td>\n",
       "      <td>8</td>\n",
       "      <td>1</td>\n",
       "      <td>2</td>\n",
       "      <td>4</td>\n",
       "      <td>1</td>\n",
       "      <td>1</td>\n",
       "      <td>3</td>\n",
       "      <td>...</td>\n",
       "      <td>0</td>\n",
       "      <td>2</td>\n",
       "      <td>16</td>\n",
       "      <td>0</td>\n",
       "      <td>6</td>\n",
       "      <td>1</td>\n",
       "      <td>2</td>\n",
       "      <td>0</td>\n",
       "      <td>8</td>\n",
       "      <td>1</td>\n",
       "    </tr>\n",
       "    <tr>\n",
       "      <th>127680</th>\n",
       "      <td>10</td>\n",
       "      <td>0</td>\n",
       "      <td>4</td>\n",
       "      <td>10</td>\n",
       "      <td>1</td>\n",
       "      <td>2</td>\n",
       "      <td>4</td>\n",
       "      <td>1</td>\n",
       "      <td>1</td>\n",
       "      <td>3</td>\n",
       "      <td>...</td>\n",
       "      <td>0</td>\n",
       "      <td>2</td>\n",
       "      <td>17</td>\n",
       "      <td>0</td>\n",
       "      <td>7</td>\n",
       "      <td>1</td>\n",
       "      <td>1</td>\n",
       "      <td>0</td>\n",
       "      <td>5</td>\n",
       "      <td>1</td>\n",
       "    </tr>\n",
       "  </tbody>\n",
       "</table>\n",
       "<p>48761 rows × 26 columns</p>\n",
       "</div>"
      ],
      "text/plain": [
       "        Age  Sex  Race  Site  Grade  Laterality  Diagnostic Confirmation  \\\n",
       "4918      8    1     4     8      1           2                        4   \n",
       "172211   14    0     4     1      1           2                        4   \n",
       "89775    10    1     4     8      1           2                        4   \n",
       "111852    8    0     3     1      0           2                        4   \n",
       "171367    7    1     3     9      1           2                        4   \n",
       "...     ...  ...   ...   ...    ...         ...                      ...   \n",
       "37676     9    0     4     7      1           2                        4   \n",
       "19082    12    0     4     1      1           2                        4   \n",
       "87315    14    0     4     7      2           2                        4   \n",
       "102915   14    0     2     8      1           2                        4   \n",
       "127680   10    0     4    10      1           2                        4   \n",
       "\n",
       "        Combined Summary Stage 2000  Derived AJCC Stage Group  Derived AJCC T  \\\n",
       "4918                              1                         1               2   \n",
       "172211                            1                         1               3   \n",
       "89775                             1                         2               4   \n",
       "111852                            1                         0               1   \n",
       "171367                            2                         5               5   \n",
       "...                             ...                       ...             ...   \n",
       "37676                             0                         7               4   \n",
       "19082                             2                         6               4   \n",
       "87315                             4                         6               3   \n",
       "102915                            1                         1               3   \n",
       "127680                            1                         1               3   \n",
       "\n",
       "        ...  Chemotherapy  Systemic/Sur Seq  Regional nodes examined  \\\n",
       "4918    ...             0                 2                       14   \n",
       "172211  ...             0                 2                       18   \n",
       "89775   ...             0                 2                       17   \n",
       "111852  ...             0                 2                       19   \n",
       "171367  ...             1                 4                       22   \n",
       "...     ...           ...               ...                      ...   \n",
       "37676   ...             1                 4                       23   \n",
       "19082   ...             0                 2                       17   \n",
       "87315   ...             1                 4                       15   \n",
       "102915  ...             0                 2                       16   \n",
       "127680  ...             0                 2                       17   \n",
       "\n",
       "        Regional nodes positive  Tumor Size  Primary by international rules  \\\n",
       "4918                          0           2                               1   \n",
       "172211                        0           5                               1   \n",
       "89775                         0           6                               1   \n",
       "111852                        0           1                               1   \n",
       "171367                        3           9                               1   \n",
       "...                         ...         ...                             ...   \n",
       "37676                        16           8                               1   \n",
       "19082                         4           4                               1   \n",
       "87315                         4           6                               1   \n",
       "102915                        0           6                               1   \n",
       "127680                        0           7                               1   \n",
       "\n",
       "        Num of in situ/malignant tumors  Num of benign/borderline tumors  \\\n",
       "4918                                  1                                0   \n",
       "172211                                1                                0   \n",
       "89775                                 1                                0   \n",
       "111852                                1                                0   \n",
       "171367                                1                                0   \n",
       "...                                 ...                              ...   \n",
       "37676                                 1                                0   \n",
       "19082                                 1                                0   \n",
       "87315                                 2                                0   \n",
       "102915                                2                                0   \n",
       "127680                                1                                0   \n",
       "\n",
       "        Median household income  Clusters  \n",
       "4918                          9         2  \n",
       "172211                        1         1  \n",
       "89775                         9         2  \n",
       "111852                        5         1  \n",
       "171367                        7         1  \n",
       "...                         ...       ...  \n",
       "37676                         2         2  \n",
       "19082                         3         1  \n",
       "87315                         5         2  \n",
       "102915                        8         1  \n",
       "127680                        5         1  \n",
       "\n",
       "[48761 rows x 26 columns]"
      ]
     },
     "execution_count": 356,
     "metadata": {},
     "output_type": "execute_result"
    }
   ],
   "source": [
    "HX_test_clstrs"
   ]
  },
  {
   "cell_type": "markdown",
   "metadata": {
    "id": "BgxhlobO69Jr"
   },
   "source": [
    "## Scaling HDBSCAN Clustered Data"
   ]
  },
  {
   "cell_type": "code",
   "execution_count": 357,
   "metadata": {
    "id": "DIXigqjE69Jr"
   },
   "outputs": [],
   "source": [
    "from sklearn.preprocessing import StandardScaler\n",
    "def scale_features(HX_train_clstrs: pd.DataFrame, HX_test_clstrs: pd.DataFrame):\n",
    "    sc = StandardScaler()\n",
    "    HX_train_clstrs = sc.fit_transform(HX_train_clstrs)\n",
    "    HX_test_clstrs = sc.transform (HX_test_clstrs)\n",
    "    \n",
    "    return HX_train_clstrs, HX_test_clstrs\n",
    "HX_train_scaled, HX_test_scaled = scale_features(HX_train_clstrs, HX_test_clstrs)"
   ]
  },
  {
   "cell_type": "code",
   "execution_count": 358,
   "metadata": {
    "id": "rKN9YJrM69Jr"
   },
   "outputs": [],
   "source": [
    "HX_train_scaled = pd.DataFrame(HX_train_scaled, index=HX_train_clstrs.index, columns=HX_train_clstrs.columns)"
   ]
  },
  {
   "cell_type": "code",
   "execution_count": 359,
   "metadata": {
    "id": "PU0LDHs169Jr"
   },
   "outputs": [],
   "source": [
    "HX_test_scaled = pd.DataFrame(HX_test_scaled, index=HX_test_clstrs.index, columns=HX_test_clstrs.columns)"
   ]
  },
  {
   "cell_type": "markdown",
   "metadata": {
    "id": "IcB6ENPZ69Jr"
   },
   "source": [
    "## Split Data into 0, 1, 2 , 3 and base Clusters"
   ]
  },
  {
   "cell_type": "code",
   "execution_count": 440,
   "metadata": {
    "id": "bvDwUnbh69Jr",
    "outputId": "9db185ee-ac22-46af-bfca-ddc499d9e772"
   },
   "outputs": [
    {
     "data": {
      "text/plain": [
       " 0.987126    23451\n",
       "-0.765785    23410\n",
       "-2.518696     1900\n",
       "Name: Clusters, dtype: int64"
      ]
     },
     "execution_count": 440,
     "metadata": {},
     "output_type": "execute_result"
    }
   ],
   "source": [
    "HX_test_scaled['Clusters'].value_counts()"
   ]
  },
  {
   "cell_type": "code",
   "execution_count": 441,
   "metadata": {
    "id": "c7YqjuAJ69Jr"
   },
   "outputs": [],
   "source": [
    "# locate the \"0\" cluster\n",
    "HX_train0 = HX_train_scaled[(HX_train_scaled['Clusters'] > -3) & (HX_train_scaled['Clusters'] < -1)]\n",
    "HX_test0 = HX_test_scaled[(HX_test_scaled['Clusters'] > -3) & (HX_test_scaled['Clusters'] < -1)]\n",
    "Hy3_train0 = Hy3_train[(HX_train_scaled['Clusters'] > -3) & (HX_train_scaled['Clusters'] < -1)]\n",
    "Hy3_test0 = Hy3_test[(HX_test_scaled['Clusters'] > -3) & (HX_test_scaled['Clusters'] < -1)]\n",
    "\n",
    "# locate the \"1\" cluster\n",
    "HX_train1 = HX_train_scaled[(HX_train_scaled['Clusters'] > -1) & (HX_train_scaled['Clusters'] < -0)]\n",
    "HX_test1 = HX_test_scaled[(HX_test_scaled['Clusters'] > -1) & (HX_test_scaled['Clusters'] < -0)]\n",
    "Hy3_train1 = Hy3_train[(HX_train_scaled['Clusters'] > -1) & (HX_train_scaled['Clusters'] < -0)]\n",
    "Hy3_test1 = Hy3_test[(HX_test_scaled['Clusters'] > -1) & (HX_test_scaled['Clusters'] < -0)]\n",
    "\n",
    "# locate the \"2\" cluster\n",
    "HX_train2 = HX_train_scaled[HX_train_scaled['Clusters'] > 0]\n",
    "HX_test2 = HX_test_scaled[HX_test_scaled['Clusters'] > 0]\n",
    "Hy3_train2 = Hy3_train[HX_train_scaled['Clusters'] > 0]\n",
    "Hy3_test2 = Hy3_test[HX_test_scaled['Clusters'] > 0]\n",
    "\n",
    "# drop cluster from the base dataset \n",
    "HX_train_base = HX_train_scaled.drop(columns=['Clusters'])\n",
    "HX_test_base = HX_test_scaled.drop(columns=['Clusters'])\n",
    "Hy3_train_base = Hy3_train.copy()\n",
    "Hy3_test_base = Hy3_test.copy()"
   ]
  },
  {
   "cell_type": "code",
   "execution_count": 442,
   "metadata": {
    "id": "OnXHkfKV69Js"
   },
   "outputs": [],
   "source": [
    "datasets = {\n",
    "    'base': (HX_train_base, Hy3_train_base, HX_test_base, Hy3_test_base),\n",
    "    'cluster-0': (HX_train0, Hy3_train0, HX_test0, Hy3_test0),\n",
    "    'cluster-1': (HX_train1, Hy3_train1, HX_test1, Hy3_test1),\n",
    "    'cluster-2': (HX_train2, Hy3_train2, HX_test2, Hy3_test2),\n",
    "}"
   ]
  },
  {
   "cell_type": "markdown",
   "metadata": {},
   "source": [
    "## LogReg"
   ]
  },
  {
   "cell_type": "markdown",
   "metadata": {
    "id": "DFjhbZRX69Jw"
   },
   "source": [
    "#### LogReg on Survival months (3 ranges) using HDBSCAN clusters"
   ]
  },
  {
   "cell_type": "code",
   "execution_count": 371,
   "metadata": {
    "id": "_eAXnv_L69Jw"
   },
   "outputs": [
    {
     "name": "stdout",
     "output_type": "stream",
     "text": [
      "0.5157195299522159\n",
      "[[ 8224  1937  2930]\n",
      " [ 4108  3928  6650]\n",
      " [ 3409  4580 12995]]\n",
      "              precision    recall  f1-score   support\n",
      "\n",
      "        0-29      0.522     0.628     0.570     13091\n",
      "       30-59      0.376     0.267     0.313     14686\n",
      "        >=60      0.576     0.619     0.597     20984\n",
      "\n",
      "    accuracy                          0.516     48761\n",
      "   macro avg      0.491     0.505     0.493     48761\n",
      "weighted avg      0.501     0.516     0.504     48761\n",
      "\n"
     ]
    }
   ],
   "source": [
    "lrmodel = LogisticRegression(class_weight='balanced', solver='lbfgs', random_state=999, max_iter=10000)\n",
    "lrmodel.fit(HX_train_base, Hy3_train_base)\n",
    "predictions = lrmodel.predict(HX_test_base)\n",
    "print(accuracy_score(Hy3_test_base, predictions))\n",
    "print(confusion_matrix(Hy3_test_base, predictions))\n",
    "print(classification_report(Hy3_test_base, predictions, digits=3))"
   ]
  },
  {
   "cell_type": "code",
   "execution_count": 372,
   "metadata": {
    "id": "ge718oX969Jw"
   },
   "outputs": [
    {
     "name": "stdout",
     "output_type": "stream",
     "text": [
      "0.46\n",
      "[[266 100 104]\n",
      " [199 192 256]\n",
      " [195 172 416]]\n",
      "              precision    recall  f1-score   support\n",
      "\n",
      "        0-29      0.403     0.566     0.471       470\n",
      "       30-59      0.414     0.297     0.346       647\n",
      "        >=60      0.536     0.531     0.534       783\n",
      "\n",
      "    accuracy                          0.460      1900\n",
      "   macro avg      0.451     0.465     0.450      1900\n",
      "weighted avg      0.462     0.460     0.454      1900\n",
      "\n"
     ]
    }
   ],
   "source": [
    "lrmodel = LogisticRegression(class_weight='balanced', solver='lbfgs', random_state=999, max_iter=10000)\n",
    "lrmodel.fit(HX_train0, Hy3_train0)\n",
    "predictions = lrmodel.predict(HX_test0)\n",
    "print(accuracy_score(Hy3_test0, predictions))\n",
    "print(confusion_matrix(Hy3_test0, predictions))\n",
    "print(classification_report(Hy3_test0, predictions, digits=3))"
   ]
  },
  {
   "cell_type": "code",
   "execution_count": 373,
   "metadata": {
    "id": "udRz_a_V69Jx"
   },
   "outputs": [
    {
     "name": "stdout",
     "output_type": "stream",
     "text": [
      "0.5273814609141393\n",
      "[[4373 1100 1455]\n",
      " [1750 1885 3133]\n",
      " [1396 2230 6088]]\n",
      "              precision    recall  f1-score   support\n",
      "\n",
      "        0-29      0.582     0.631     0.605      6928\n",
      "       30-59      0.361     0.279     0.315      6768\n",
      "        >=60      0.570     0.627     0.597      9714\n",
      "\n",
      "    accuracy                          0.527     23410\n",
      "   macro avg      0.504     0.512     0.506     23410\n",
      "weighted avg      0.513     0.527     0.518     23410\n",
      "\n"
     ]
    }
   ],
   "source": [
    "lrmodel = LogisticRegression(class_weight='balanced', solver='lbfgs', random_state=999, max_iter=10000)\n",
    "lrmodel.fit(HX_train1, Hy3_train1)\n",
    "predictions = lrmodel.predict(HX_test1)\n",
    "print(accuracy_score(Hy3_test1, predictions))\n",
    "print(confusion_matrix(Hy3_test1, predictions))\n",
    "print(classification_report(Hy3_test1, predictions, digits=3))"
   ]
  },
  {
   "cell_type": "code",
   "execution_count": 374,
   "metadata": {
    "id": "udRz_a_V69Jx"
   },
   "outputs": [
    {
     "name": "stdout",
     "output_type": "stream",
     "text": [
      "0.5051383736301224\n",
      "[[3504  832 1357]\n",
      " [2128 1925 3218]\n",
      " [1798 2272 6417]]\n",
      "              precision    recall  f1-score   support\n",
      "\n",
      "        0-29      0.472     0.615     0.534      5693\n",
      "       30-59      0.383     0.265     0.313      7271\n",
      "        >=60      0.584     0.612     0.598     10487\n",
      "\n",
      "    accuracy                          0.505     23451\n",
      "   macro avg      0.479     0.497     0.482     23451\n",
      "weighted avg      0.494     0.505     0.494     23451\n",
      "\n"
     ]
    }
   ],
   "source": [
    "lrmodel = LogisticRegression(class_weight='balanced', solver='lbfgs', random_state=999, max_iter=10000)\n",
    "lrmodel.fit(HX_train2, Hy3_train2)\n",
    "predictions = lrmodel.predict(HX_test2)\n",
    "print(accuracy_score(Hy3_test2, predictions))\n",
    "print(confusion_matrix(Hy3_test2, predictions))\n",
    "print(classification_report(Hy3_test2, predictions, digits=3))"
   ]
  },
  {
   "cell_type": "markdown",
   "metadata": {
    "id": "yMV11gsk69Js"
   },
   "source": [
    "## K-means clustering, only done once as only done on training dataset without any target variables"
   ]
  },
  {
   "cell_type": "code",
   "execution_count": 376,
   "metadata": {
    "id": "cXKZm-Ov69Js"
   },
   "outputs": [],
   "source": [
    "from typing import Tuple"
   ]
  },
  {
   "cell_type": "code",
   "execution_count": 377,
   "metadata": {
    "id": "xTE2Pg2R69Js"
   },
   "outputs": [],
   "source": [
    "def get_clusters(X_train: pd.DataFrame, X_test: pd.DataFrame, n_clusters: int) -> Tuple[pd.DataFrame, pd.DataFrame]:\n",
    "\n",
    "    clustering = KMeans(n_clusters=n_clusters, random_state=1022)\n",
    "    clustering.fit(X_train)\n",
    "\n",
    "    train_labels = clustering.labels_\n",
    "    X_train_clstrs = X_train.copy()\n",
    "    X_train_clstrs['clusters'] = train_labels\n",
    "    \n",
    "\n",
    "    test_labels = clustering.predict(X_test)\n",
    "    X_test_clstrs = X_test.copy()\n",
    "    X_test_clstrs['clusters'] = test_labels\n",
    "    \n",
    "    return X_train_clstrs, X_test_clstrs"
   ]
  },
  {
   "cell_type": "code",
   "execution_count": 378,
   "metadata": {
    "id": "pH19eI2069Jt"
   },
   "outputs": [],
   "source": [
    "X_train_clstrs, X_test_clstrs = get_clusters(X_train, X_test, 2)"
   ]
  },
  {
   "cell_type": "markdown",
   "metadata": {
    "id": "xYu90jcS69Jt"
   },
   "source": [
    "## Scaling K means Clustered Data"
   ]
  },
  {
   "cell_type": "code",
   "execution_count": 379,
   "metadata": {
    "id": "gceFHezV69Jt"
   },
   "outputs": [],
   "source": [
    "from sklearn.preprocessing import StandardScaler\n",
    "def scale_features(X_train_clstrs: pd.DataFrame, X_test_clstrs: pd.DataFrame):\n",
    "    sc = StandardScaler()\n",
    "    X_train_clstrs = sc.fit_transform(X_train_clstrs)\n",
    "    X_test_clstrs = sc.transform (X_test_clstrs)\n",
    "    \n",
    "    return X_train_clstrs, X_test_clstrs\n",
    "X_train_scaled, X_test_scaled = scale_features(X_train_clstrs, X_test_clstrs)"
   ]
  },
  {
   "cell_type": "code",
   "execution_count": 380,
   "metadata": {
    "id": "Qobv0MvC69Jt"
   },
   "outputs": [],
   "source": [
    "X_train_scaled = pd.DataFrame(X_train_scaled, index=X_train_clstrs.index, columns=X_train_clstrs.columns)"
   ]
  },
  {
   "cell_type": "code",
   "execution_count": 381,
   "metadata": {
    "id": "Cj0Ea_oX69Ju"
   },
   "outputs": [],
   "source": [
    "X_test_scaled = pd.DataFrame(X_test_scaled, index=X_test_clstrs.index, columns=X_test_clstrs.columns)"
   ]
  },
  {
   "cell_type": "markdown",
   "metadata": {
    "id": "fvWkAsdf69Ju"
   },
   "source": [
    "## Split Data into 0, 1 and base Clusters"
   ]
  },
  {
   "cell_type": "code",
   "execution_count": 382,
   "metadata": {
    "id": "GcIwK-kt69Ju"
   },
   "outputs": [],
   "source": [
    "# locate the \"0\" cluster\n",
    "X_train0 = X_train_scaled[X_train_scaled['clusters'] < 0]\n",
    "X_test0 = X_test_scaled[X_test_scaled['clusters'] < 0]\n",
    "yc_train0 = yc_train[X_train_scaled['clusters'] < 0]\n",
    "yc_test0 = yc_test[X_test_scaled['clusters'] < 0]\n",
    "y6_train0 = y6_train[X_train_scaled['clusters'] < 0]\n",
    "y6_test0 = y6_test[X_test_scaled['clusters'] < 0]\n",
    "y3_train0 = y3_train[X_train_scaled['clusters'] < 0]\n",
    "y3_test0 = y3_test[X_test_scaled['clusters'] < 0]\n",
    "\n",
    "# locate the \"1\" cluster\n",
    "X_train1 = X_train_scaled[X_train_scaled['clusters'] > 0]\n",
    "X_test1 = X_test_scaled[X_test_scaled['clusters'] > 0]\n",
    "yc_train1 = yc_train[X_train_scaled['clusters'] > 0]\n",
    "yc_test1 = yc_test[X_test_scaled['clusters'] > 0]\n",
    "y6_train1 = y6_train[X_train_scaled['clusters'] > 0]\n",
    "y6_test1 = y6_test[X_test_scaled['clusters'] > 0]\n",
    "y3_train1 = y3_train[X_train_scaled['clusters'] > 0]\n",
    "y3_test1 = y3_test[X_test_scaled['clusters'] > 0]\n",
    "\n",
    "# drop cluster from the base dataset \n",
    "X_train_base = X_train_scaled.drop(columns=['clusters'])\n",
    "X_test_base = X_test_scaled.drop(columns=['clusters'])\n",
    "yc_train_base = yc_train.copy()\n",
    "yc_test_base = yc_test.copy()\n",
    "y6_train_base = y6_train.copy()\n",
    "y6_test_base = y6_test.copy()\n",
    "y3_train_base = y3_train.copy()\n",
    "y3_test_base = y3_test.copy()"
   ]
  },
  {
   "cell_type": "code",
   "execution_count": 383,
   "metadata": {
    "id": "Siz0PYym69Ju"
   },
   "outputs": [],
   "source": [
    "datasets = {\n",
    "    'base': (X_train_base, yc_train_base, X_test_base, yc_test_base),\n",
    "    'base': (X_train_base, y6_train_base, X_test_base, y6_test_base),\n",
    "    'base': (X_train_base, y3_train_base, X_test_base, y3_test_base),\n",
    "    'cluster-0': (X_train0, yc_train0, X_test0, yc_test0),\n",
    "    'cluster-1': (X_train1, yc_train1, X_test1, yc_test1),\n",
    "    'cluster-0': (X_train0, y6_train0, X_test0, y6_test0),\n",
    "    'cluster-1': (X_train1, y6_train1, X_test1, y6_test1),\n",
    "    'cluster-0': (X_train0, y3_train0, X_test0, y3_test0),\n",
    "    'cluster-1': (X_train1, y3_train1, X_test1, y3_test1),\n",
    "}"
   ]
  },
  {
   "cell_type": "code",
   "execution_count": 384,
   "metadata": {},
   "outputs": [
    {
     "data": {
      "text/html": [
       "<div>\n",
       "<style scoped>\n",
       "    .dataframe tbody tr th:only-of-type {\n",
       "        vertical-align: middle;\n",
       "    }\n",
       "\n",
       "    .dataframe tbody tr th {\n",
       "        vertical-align: top;\n",
       "    }\n",
       "\n",
       "    .dataframe thead th {\n",
       "        text-align: right;\n",
       "    }\n",
       "</style>\n",
       "<table border=\"1\" class=\"dataframe\">\n",
       "  <thead>\n",
       "    <tr style=\"text-align: right;\">\n",
       "      <th></th>\n",
       "      <th>Age</th>\n",
       "      <th>Sex</th>\n",
       "      <th>Race</th>\n",
       "      <th>Site</th>\n",
       "      <th>Grade</th>\n",
       "      <th>Laterality</th>\n",
       "      <th>Diagnostic Confirmation</th>\n",
       "      <th>Combined Summary Stage 2000</th>\n",
       "      <th>Derived AJCC Stage Group</th>\n",
       "      <th>Derived AJCC T</th>\n",
       "      <th>...</th>\n",
       "      <th>Radiation</th>\n",
       "      <th>Chemotherapy</th>\n",
       "      <th>Systemic/Sur Seq</th>\n",
       "      <th>Regional nodes examined</th>\n",
       "      <th>Regional nodes positive</th>\n",
       "      <th>Tumor Size</th>\n",
       "      <th>Primary by international rules</th>\n",
       "      <th>Num of in situ/malignant tumors</th>\n",
       "      <th>Num of benign/borderline tumors</th>\n",
       "      <th>Median household income</th>\n",
       "    </tr>\n",
       "  </thead>\n",
       "  <tbody>\n",
       "    <tr>\n",
       "      <th>54478</th>\n",
       "      <td>-0.632680</td>\n",
       "      <td>0.990677</td>\n",
       "      <td>-0.211157</td>\n",
       "      <td>-0.980446</td>\n",
       "      <td>-0.264494</td>\n",
       "      <td>-0.065439</td>\n",
       "      <td>0.005682</td>\n",
       "      <td>-0.597746</td>\n",
       "      <td>-0.763646</td>\n",
       "      <td>0.230815</td>\n",
       "      <td>...</td>\n",
       "      <td>0.264631</td>\n",
       "      <td>-0.854862</td>\n",
       "      <td>-0.804239</td>\n",
       "      <td>-0.652168</td>\n",
       "      <td>-0.507052</td>\n",
       "      <td>-0.113594</td>\n",
       "      <td>0.17539</td>\n",
       "      <td>-0.512170</td>\n",
       "      <td>-0.066627</td>\n",
       "      <td>-1.155850</td>\n",
       "    </tr>\n",
       "    <tr>\n",
       "      <th>20793</th>\n",
       "      <td>0.112824</td>\n",
       "      <td>-1.009410</td>\n",
       "      <td>0.561329</td>\n",
       "      <td>-1.300990</td>\n",
       "      <td>-0.264494</td>\n",
       "      <td>-0.065439</td>\n",
       "      <td>0.005682</td>\n",
       "      <td>1.643879</td>\n",
       "      <td>0.139313</td>\n",
       "      <td>-0.924353</td>\n",
       "      <td>...</td>\n",
       "      <td>0.264631</td>\n",
       "      <td>1.169779</td>\n",
       "      <td>0.880196</td>\n",
       "      <td>0.135462</td>\n",
       "      <td>-0.015116</td>\n",
       "      <td>-0.918266</td>\n",
       "      <td>0.17539</td>\n",
       "      <td>-0.512170</td>\n",
       "      <td>-0.066627</td>\n",
       "      <td>-1.155850</td>\n",
       "    </tr>\n",
       "    <tr>\n",
       "      <th>41087</th>\n",
       "      <td>1.603833</td>\n",
       "      <td>0.990677</td>\n",
       "      <td>0.561329</td>\n",
       "      <td>1.263362</td>\n",
       "      <td>1.421566</td>\n",
       "      <td>-0.065439</td>\n",
       "      <td>0.005682</td>\n",
       "      <td>-1.344955</td>\n",
       "      <td>1.493753</td>\n",
       "      <td>1.385983</td>\n",
       "      <td>...</td>\n",
       "      <td>0.264631</td>\n",
       "      <td>1.169779</td>\n",
       "      <td>0.880196</td>\n",
       "      <td>-0.947529</td>\n",
       "      <td>1.460692</td>\n",
       "      <td>1.495748</td>\n",
       "      <td>0.17539</td>\n",
       "      <td>1.006336</td>\n",
       "      <td>-0.066627</td>\n",
       "      <td>1.193942</td>\n",
       "    </tr>\n",
       "    <tr>\n",
       "      <th>103928</th>\n",
       "      <td>-0.632680</td>\n",
       "      <td>0.990677</td>\n",
       "      <td>0.561329</td>\n",
       "      <td>-1.300990</td>\n",
       "      <td>-0.264494</td>\n",
       "      <td>13.596737</td>\n",
       "      <td>0.005682</td>\n",
       "      <td>1.643879</td>\n",
       "      <td>1.042273</td>\n",
       "      <td>0.230815</td>\n",
       "      <td>...</td>\n",
       "      <td>0.264631</td>\n",
       "      <td>-0.854862</td>\n",
       "      <td>-0.804239</td>\n",
       "      <td>0.824638</td>\n",
       "      <td>4.166340</td>\n",
       "      <td>1.093413</td>\n",
       "      <td>0.17539</td>\n",
       "      <td>-0.512170</td>\n",
       "      <td>-0.066627</td>\n",
       "      <td>-0.372586</td>\n",
       "    </tr>\n",
       "    <tr>\n",
       "      <th>32018</th>\n",
       "      <td>1.603833</td>\n",
       "      <td>0.990677</td>\n",
       "      <td>0.561329</td>\n",
       "      <td>-1.300990</td>\n",
       "      <td>-0.264494</td>\n",
       "      <td>-0.065439</td>\n",
       "      <td>0.005682</td>\n",
       "      <td>-0.597746</td>\n",
       "      <td>-1.215126</td>\n",
       "      <td>-2.079520</td>\n",
       "      <td>...</td>\n",
       "      <td>0.264631</td>\n",
       "      <td>-0.854862</td>\n",
       "      <td>-0.804239</td>\n",
       "      <td>-0.652168</td>\n",
       "      <td>-0.507052</td>\n",
       "      <td>-0.515930</td>\n",
       "      <td>0.17539</td>\n",
       "      <td>-0.512170</td>\n",
       "      <td>-0.066627</td>\n",
       "      <td>-0.764218</td>\n",
       "    </tr>\n",
       "    <tr>\n",
       "      <th>...</th>\n",
       "      <td>...</td>\n",
       "      <td>...</td>\n",
       "      <td>...</td>\n",
       "      <td>...</td>\n",
       "      <td>...</td>\n",
       "      <td>...</td>\n",
       "      <td>...</td>\n",
       "      <td>...</td>\n",
       "      <td>...</td>\n",
       "      <td>...</td>\n",
       "      <td>...</td>\n",
       "      <td>...</td>\n",
       "      <td>...</td>\n",
       "      <td>...</td>\n",
       "      <td>...</td>\n",
       "      <td>...</td>\n",
       "      <td>...</td>\n",
       "      <td>...</td>\n",
       "      <td>...</td>\n",
       "      <td>...</td>\n",
       "      <td>...</td>\n",
       "    </tr>\n",
       "    <tr>\n",
       "      <th>120550</th>\n",
       "      <td>-1.005432</td>\n",
       "      <td>0.990677</td>\n",
       "      <td>0.561329</td>\n",
       "      <td>-0.980446</td>\n",
       "      <td>-0.264494</td>\n",
       "      <td>-0.065439</td>\n",
       "      <td>0.005682</td>\n",
       "      <td>-1.344955</td>\n",
       "      <td>1.493753</td>\n",
       "      <td>1.385983</td>\n",
       "      <td>...</td>\n",
       "      <td>0.264631</td>\n",
       "      <td>1.169779</td>\n",
       "      <td>0.880196</td>\n",
       "      <td>1.119999</td>\n",
       "      <td>0.476820</td>\n",
       "      <td>1.898084</td>\n",
       "      <td>0.17539</td>\n",
       "      <td>2.524842</td>\n",
       "      <td>-0.066627</td>\n",
       "      <td>-0.764218</td>\n",
       "    </tr>\n",
       "    <tr>\n",
       "      <th>104290</th>\n",
       "      <td>-1.005432</td>\n",
       "      <td>-1.009410</td>\n",
       "      <td>0.561329</td>\n",
       "      <td>0.942818</td>\n",
       "      <td>-0.264494</td>\n",
       "      <td>-0.065439</td>\n",
       "      <td>0.005682</td>\n",
       "      <td>1.643879</td>\n",
       "      <td>1.042273</td>\n",
       "      <td>0.230815</td>\n",
       "      <td>...</td>\n",
       "      <td>0.264631</td>\n",
       "      <td>1.169779</td>\n",
       "      <td>0.880196</td>\n",
       "      <td>0.627731</td>\n",
       "      <td>3.920372</td>\n",
       "      <td>-0.113594</td>\n",
       "      <td>0.17539</td>\n",
       "      <td>1.006336</td>\n",
       "      <td>-0.066627</td>\n",
       "      <td>1.193942</td>\n",
       "    </tr>\n",
       "    <tr>\n",
       "      <th>132695</th>\n",
       "      <td>0.112824</td>\n",
       "      <td>-1.009410</td>\n",
       "      <td>0.561329</td>\n",
       "      <td>-0.659902</td>\n",
       "      <td>1.421566</td>\n",
       "      <td>-0.065439</td>\n",
       "      <td>0.005682</td>\n",
       "      <td>1.643879</td>\n",
       "      <td>0.590793</td>\n",
       "      <td>0.230815</td>\n",
       "      <td>...</td>\n",
       "      <td>0.264631</td>\n",
       "      <td>1.169779</td>\n",
       "      <td>0.880196</td>\n",
       "      <td>0.430823</td>\n",
       "      <td>-0.261084</td>\n",
       "      <td>-0.113594</td>\n",
       "      <td>0.17539</td>\n",
       "      <td>-0.512170</td>\n",
       "      <td>-0.066627</td>\n",
       "      <td>-0.764218</td>\n",
       "    </tr>\n",
       "    <tr>\n",
       "      <th>147708</th>\n",
       "      <td>-0.259928</td>\n",
       "      <td>0.990677</td>\n",
       "      <td>0.561329</td>\n",
       "      <td>0.622274</td>\n",
       "      <td>-0.264494</td>\n",
       "      <td>-0.065439</td>\n",
       "      <td>0.005682</td>\n",
       "      <td>0.896670</td>\n",
       "      <td>-0.763646</td>\n",
       "      <td>0.230815</td>\n",
       "      <td>...</td>\n",
       "      <td>-2.440539</td>\n",
       "      <td>1.169779</td>\n",
       "      <td>0.880196</td>\n",
       "      <td>-0.455260</td>\n",
       "      <td>-0.507052</td>\n",
       "      <td>-0.515930</td>\n",
       "      <td>0.17539</td>\n",
       "      <td>-0.512170</td>\n",
       "      <td>-0.066627</td>\n",
       "      <td>1.193942</td>\n",
       "    </tr>\n",
       "    <tr>\n",
       "      <th>122654</th>\n",
       "      <td>-0.259928</td>\n",
       "      <td>0.990677</td>\n",
       "      <td>0.561329</td>\n",
       "      <td>0.942818</td>\n",
       "      <td>-0.264494</td>\n",
       "      <td>-0.065439</td>\n",
       "      <td>0.005682</td>\n",
       "      <td>-0.597746</td>\n",
       "      <td>-0.763646</td>\n",
       "      <td>0.230815</td>\n",
       "      <td>...</td>\n",
       "      <td>0.264631</td>\n",
       "      <td>-0.854862</td>\n",
       "      <td>-0.804239</td>\n",
       "      <td>2.892166</td>\n",
       "      <td>-0.507052</td>\n",
       "      <td>1.093413</td>\n",
       "      <td>0.17539</td>\n",
       "      <td>-0.512170</td>\n",
       "      <td>-0.066627</td>\n",
       "      <td>-1.155850</td>\n",
       "    </tr>\n",
       "  </tbody>\n",
       "</table>\n",
       "<p>124918 rows × 25 columns</p>\n",
       "</div>"
      ],
      "text/plain": [
       "             Age       Sex      Race      Site     Grade  Laterality  \\\n",
       "54478  -0.632680  0.990677 -0.211157 -0.980446 -0.264494   -0.065439   \n",
       "20793   0.112824 -1.009410  0.561329 -1.300990 -0.264494   -0.065439   \n",
       "41087   1.603833  0.990677  0.561329  1.263362  1.421566   -0.065439   \n",
       "103928 -0.632680  0.990677  0.561329 -1.300990 -0.264494   13.596737   \n",
       "32018   1.603833  0.990677  0.561329 -1.300990 -0.264494   -0.065439   \n",
       "...          ...       ...       ...       ...       ...         ...   \n",
       "120550 -1.005432  0.990677  0.561329 -0.980446 -0.264494   -0.065439   \n",
       "104290 -1.005432 -1.009410  0.561329  0.942818 -0.264494   -0.065439   \n",
       "132695  0.112824 -1.009410  0.561329 -0.659902  1.421566   -0.065439   \n",
       "147708 -0.259928  0.990677  0.561329  0.622274 -0.264494   -0.065439   \n",
       "122654 -0.259928  0.990677  0.561329  0.942818 -0.264494   -0.065439   \n",
       "\n",
       "        Diagnostic Confirmation  Combined Summary Stage 2000  \\\n",
       "54478                  0.005682                    -0.597746   \n",
       "20793                  0.005682                     1.643879   \n",
       "41087                  0.005682                    -1.344955   \n",
       "103928                 0.005682                     1.643879   \n",
       "32018                  0.005682                    -0.597746   \n",
       "...                         ...                          ...   \n",
       "120550                 0.005682                    -1.344955   \n",
       "104290                 0.005682                     1.643879   \n",
       "132695                 0.005682                     1.643879   \n",
       "147708                 0.005682                     0.896670   \n",
       "122654                 0.005682                    -0.597746   \n",
       "\n",
       "        Derived AJCC Stage Group  Derived AJCC T  ...  Radiation  \\\n",
       "54478                  -0.763646        0.230815  ...   0.264631   \n",
       "20793                   0.139313       -0.924353  ...   0.264631   \n",
       "41087                   1.493753        1.385983  ...   0.264631   \n",
       "103928                  1.042273        0.230815  ...   0.264631   \n",
       "32018                  -1.215126       -2.079520  ...   0.264631   \n",
       "...                          ...             ...  ...        ...   \n",
       "120550                  1.493753        1.385983  ...   0.264631   \n",
       "104290                  1.042273        0.230815  ...   0.264631   \n",
       "132695                  0.590793        0.230815  ...   0.264631   \n",
       "147708                 -0.763646        0.230815  ...  -2.440539   \n",
       "122654                 -0.763646        0.230815  ...   0.264631   \n",
       "\n",
       "        Chemotherapy  Systemic/Sur Seq  Regional nodes examined  \\\n",
       "54478      -0.854862         -0.804239                -0.652168   \n",
       "20793       1.169779          0.880196                 0.135462   \n",
       "41087       1.169779          0.880196                -0.947529   \n",
       "103928     -0.854862         -0.804239                 0.824638   \n",
       "32018      -0.854862         -0.804239                -0.652168   \n",
       "...              ...               ...                      ...   \n",
       "120550      1.169779          0.880196                 1.119999   \n",
       "104290      1.169779          0.880196                 0.627731   \n",
       "132695      1.169779          0.880196                 0.430823   \n",
       "147708      1.169779          0.880196                -0.455260   \n",
       "122654     -0.854862         -0.804239                 2.892166   \n",
       "\n",
       "        Regional nodes positive  Tumor Size  Primary by international rules  \\\n",
       "54478                 -0.507052   -0.113594                         0.17539   \n",
       "20793                 -0.015116   -0.918266                         0.17539   \n",
       "41087                  1.460692    1.495748                         0.17539   \n",
       "103928                 4.166340    1.093413                         0.17539   \n",
       "32018                 -0.507052   -0.515930                         0.17539   \n",
       "...                         ...         ...                             ...   \n",
       "120550                 0.476820    1.898084                         0.17539   \n",
       "104290                 3.920372   -0.113594                         0.17539   \n",
       "132695                -0.261084   -0.113594                         0.17539   \n",
       "147708                -0.507052   -0.515930                         0.17539   \n",
       "122654                -0.507052    1.093413                         0.17539   \n",
       "\n",
       "        Num of in situ/malignant tumors  Num of benign/borderline tumors  \\\n",
       "54478                         -0.512170                        -0.066627   \n",
       "20793                         -0.512170                        -0.066627   \n",
       "41087                          1.006336                        -0.066627   \n",
       "103928                        -0.512170                        -0.066627   \n",
       "32018                         -0.512170                        -0.066627   \n",
       "...                                 ...                              ...   \n",
       "120550                         2.524842                        -0.066627   \n",
       "104290                         1.006336                        -0.066627   \n",
       "132695                        -0.512170                        -0.066627   \n",
       "147708                        -0.512170                        -0.066627   \n",
       "122654                        -0.512170                        -0.066627   \n",
       "\n",
       "        Median household income  \n",
       "54478                 -1.155850  \n",
       "20793                 -1.155850  \n",
       "41087                  1.193942  \n",
       "103928                -0.372586  \n",
       "32018                 -0.764218  \n",
       "...                         ...  \n",
       "120550                -0.764218  \n",
       "104290                 1.193942  \n",
       "132695                -0.764218  \n",
       "147708                 1.193942  \n",
       "122654                -1.155850  \n",
       "\n",
       "[124918 rows x 25 columns]"
      ]
     },
     "execution_count": 384,
     "metadata": {},
     "output_type": "execute_result"
    }
   ],
   "source": [
    "X_train_base"
   ]
  },
  {
   "cell_type": "code",
   "execution_count": 415,
   "metadata": {},
   "outputs": [
    {
     "data": {
      "text/html": [
       "<div>\n",
       "<style scoped>\n",
       "    .dataframe tbody tr th:only-of-type {\n",
       "        vertical-align: middle;\n",
       "    }\n",
       "\n",
       "    .dataframe tbody tr th {\n",
       "        vertical-align: top;\n",
       "    }\n",
       "\n",
       "    .dataframe thead th {\n",
       "        text-align: right;\n",
       "    }\n",
       "</style>\n",
       "<table border=\"1\" class=\"dataframe\">\n",
       "  <thead>\n",
       "    <tr style=\"text-align: right;\">\n",
       "      <th></th>\n",
       "      <th>Age</th>\n",
       "      <th>Sex</th>\n",
       "      <th>Race</th>\n",
       "      <th>Site</th>\n",
       "      <th>Grade</th>\n",
       "      <th>Laterality</th>\n",
       "      <th>Diagnostic Confirmation</th>\n",
       "      <th>Combined Summary Stage 2000</th>\n",
       "      <th>Derived AJCC Stage Group</th>\n",
       "      <th>Derived AJCC T</th>\n",
       "      <th>...</th>\n",
       "      <th>Chemotherapy</th>\n",
       "      <th>Systemic/Sur Seq</th>\n",
       "      <th>Regional nodes examined</th>\n",
       "      <th>Regional nodes positive</th>\n",
       "      <th>Tumor Size</th>\n",
       "      <th>Primary by international rules</th>\n",
       "      <th>Num of in situ/malignant tumors</th>\n",
       "      <th>Num of benign/borderline tumors</th>\n",
       "      <th>Median household income</th>\n",
       "      <th>clusters</th>\n",
       "    </tr>\n",
       "  </thead>\n",
       "  <tbody>\n",
       "    <tr>\n",
       "      <th>103928</th>\n",
       "      <td>-0.632680</td>\n",
       "      <td>0.990677</td>\n",
       "      <td>0.561329</td>\n",
       "      <td>-1.300990</td>\n",
       "      <td>-0.264494</td>\n",
       "      <td>13.596737</td>\n",
       "      <td>0.005682</td>\n",
       "      <td>1.643879</td>\n",
       "      <td>1.042273</td>\n",
       "      <td>0.230815</td>\n",
       "      <td>...</td>\n",
       "      <td>-0.854862</td>\n",
       "      <td>-0.804239</td>\n",
       "      <td>0.824638</td>\n",
       "      <td>4.166340</td>\n",
       "      <td>1.093413</td>\n",
       "      <td>0.175390</td>\n",
       "      <td>-0.512170</td>\n",
       "      <td>-0.066627</td>\n",
       "      <td>-0.372586</td>\n",
       "      <td>-1.877943</td>\n",
       "    </tr>\n",
       "    <tr>\n",
       "      <th>16363</th>\n",
       "      <td>-1.005432</td>\n",
       "      <td>-1.009410</td>\n",
       "      <td>0.561329</td>\n",
       "      <td>-0.980446</td>\n",
       "      <td>-0.264494</td>\n",
       "      <td>-0.065439</td>\n",
       "      <td>0.005682</td>\n",
       "      <td>0.896670</td>\n",
       "      <td>-0.763646</td>\n",
       "      <td>0.230815</td>\n",
       "      <td>...</td>\n",
       "      <td>1.169779</td>\n",
       "      <td>0.880196</td>\n",
       "      <td>3.285981</td>\n",
       "      <td>-0.507052</td>\n",
       "      <td>-0.918266</td>\n",
       "      <td>-5.701583</td>\n",
       "      <td>1.006336</td>\n",
       "      <td>-0.066627</td>\n",
       "      <td>1.193942</td>\n",
       "      <td>-1.877943</td>\n",
       "    </tr>\n",
       "    <tr>\n",
       "      <th>80272</th>\n",
       "      <td>0.112824</td>\n",
       "      <td>-1.009410</td>\n",
       "      <td>0.561329</td>\n",
       "      <td>-0.980446</td>\n",
       "      <td>-0.264494</td>\n",
       "      <td>-0.065439</td>\n",
       "      <td>0.005682</td>\n",
       "      <td>0.149462</td>\n",
       "      <td>0.590793</td>\n",
       "      <td>1.385983</td>\n",
       "      <td>...</td>\n",
       "      <td>-0.854862</td>\n",
       "      <td>-0.804239</td>\n",
       "      <td>2.793713</td>\n",
       "      <td>-0.015116</td>\n",
       "      <td>-0.113594</td>\n",
       "      <td>0.175390</td>\n",
       "      <td>-0.512170</td>\n",
       "      <td>-0.066627</td>\n",
       "      <td>0.019046</td>\n",
       "      <td>-1.877943</td>\n",
       "    </tr>\n",
       "    <tr>\n",
       "      <th>20294</th>\n",
       "      <td>0.485576</td>\n",
       "      <td>0.990677</td>\n",
       "      <td>0.561329</td>\n",
       "      <td>-0.339358</td>\n",
       "      <td>-0.264494</td>\n",
       "      <td>-0.065439</td>\n",
       "      <td>0.005682</td>\n",
       "      <td>0.149462</td>\n",
       "      <td>0.590793</td>\n",
       "      <td>0.230815</td>\n",
       "      <td>...</td>\n",
       "      <td>-0.854862</td>\n",
       "      <td>-0.804239</td>\n",
       "      <td>0.824638</td>\n",
       "      <td>-0.261084</td>\n",
       "      <td>-0.113594</td>\n",
       "      <td>0.175390</td>\n",
       "      <td>-0.512170</td>\n",
       "      <td>-0.066627</td>\n",
       "      <td>-1.155850</td>\n",
       "      <td>-1.877943</td>\n",
       "    </tr>\n",
       "    <tr>\n",
       "      <th>123197</th>\n",
       "      <td>0.112824</td>\n",
       "      <td>-1.009410</td>\n",
       "      <td>0.561329</td>\n",
       "      <td>1.583906</td>\n",
       "      <td>-0.264494</td>\n",
       "      <td>-0.065439</td>\n",
       "      <td>0.005682</td>\n",
       "      <td>-0.597746</td>\n",
       "      <td>-0.763646</td>\n",
       "      <td>0.230815</td>\n",
       "      <td>...</td>\n",
       "      <td>-0.854862</td>\n",
       "      <td>-0.804239</td>\n",
       "      <td>1.218453</td>\n",
       "      <td>-0.507052</td>\n",
       "      <td>0.288741</td>\n",
       "      <td>0.175390</td>\n",
       "      <td>-0.512170</td>\n",
       "      <td>-0.066627</td>\n",
       "      <td>1.193942</td>\n",
       "      <td>-1.877943</td>\n",
       "    </tr>\n",
       "    <tr>\n",
       "      <th>...</th>\n",
       "      <td>...</td>\n",
       "      <td>...</td>\n",
       "      <td>...</td>\n",
       "      <td>...</td>\n",
       "      <td>...</td>\n",
       "      <td>...</td>\n",
       "      <td>...</td>\n",
       "      <td>...</td>\n",
       "      <td>...</td>\n",
       "      <td>...</td>\n",
       "      <td>...</td>\n",
       "      <td>...</td>\n",
       "      <td>...</td>\n",
       "      <td>...</td>\n",
       "      <td>...</td>\n",
       "      <td>...</td>\n",
       "      <td>...</td>\n",
       "      <td>...</td>\n",
       "      <td>...</td>\n",
       "      <td>...</td>\n",
       "      <td>...</td>\n",
       "    </tr>\n",
       "    <tr>\n",
       "      <th>55219</th>\n",
       "      <td>-1.378185</td>\n",
       "      <td>-1.009410</td>\n",
       "      <td>-0.211157</td>\n",
       "      <td>0.942818</td>\n",
       "      <td>-0.264494</td>\n",
       "      <td>-0.065439</td>\n",
       "      <td>0.005682</td>\n",
       "      <td>-1.344955</td>\n",
       "      <td>1.493753</td>\n",
       "      <td>0.230815</td>\n",
       "      <td>...</td>\n",
       "      <td>1.169779</td>\n",
       "      <td>0.880196</td>\n",
       "      <td>0.824638</td>\n",
       "      <td>-0.261084</td>\n",
       "      <td>0.288741</td>\n",
       "      <td>0.175390</td>\n",
       "      <td>-0.512170</td>\n",
       "      <td>-0.066627</td>\n",
       "      <td>0.019046</td>\n",
       "      <td>-1.877943</td>\n",
       "    </tr>\n",
       "    <tr>\n",
       "      <th>110893</th>\n",
       "      <td>0.485576</td>\n",
       "      <td>0.990677</td>\n",
       "      <td>0.561329</td>\n",
       "      <td>0.301730</td>\n",
       "      <td>-0.264494</td>\n",
       "      <td>-0.065439</td>\n",
       "      <td>0.005682</td>\n",
       "      <td>0.149462</td>\n",
       "      <td>0.590793</td>\n",
       "      <td>0.230815</td>\n",
       "      <td>...</td>\n",
       "      <td>1.169779</td>\n",
       "      <td>0.880196</td>\n",
       "      <td>2.695259</td>\n",
       "      <td>-0.261084</td>\n",
       "      <td>0.288741</td>\n",
       "      <td>0.175390</td>\n",
       "      <td>1.006336</td>\n",
       "      <td>-0.066627</td>\n",
       "      <td>-0.372586</td>\n",
       "      <td>-1.877943</td>\n",
       "    </tr>\n",
       "    <tr>\n",
       "      <th>120550</th>\n",
       "      <td>-1.005432</td>\n",
       "      <td>0.990677</td>\n",
       "      <td>0.561329</td>\n",
       "      <td>-0.980446</td>\n",
       "      <td>-0.264494</td>\n",
       "      <td>-0.065439</td>\n",
       "      <td>0.005682</td>\n",
       "      <td>-1.344955</td>\n",
       "      <td>1.493753</td>\n",
       "      <td>1.385983</td>\n",
       "      <td>...</td>\n",
       "      <td>1.169779</td>\n",
       "      <td>0.880196</td>\n",
       "      <td>1.119999</td>\n",
       "      <td>0.476820</td>\n",
       "      <td>1.898084</td>\n",
       "      <td>0.175390</td>\n",
       "      <td>2.524842</td>\n",
       "      <td>-0.066627</td>\n",
       "      <td>-0.764218</td>\n",
       "      <td>-1.877943</td>\n",
       "    </tr>\n",
       "    <tr>\n",
       "      <th>104290</th>\n",
       "      <td>-1.005432</td>\n",
       "      <td>-1.009410</td>\n",
       "      <td>0.561329</td>\n",
       "      <td>0.942818</td>\n",
       "      <td>-0.264494</td>\n",
       "      <td>-0.065439</td>\n",
       "      <td>0.005682</td>\n",
       "      <td>1.643879</td>\n",
       "      <td>1.042273</td>\n",
       "      <td>0.230815</td>\n",
       "      <td>...</td>\n",
       "      <td>1.169779</td>\n",
       "      <td>0.880196</td>\n",
       "      <td>0.627731</td>\n",
       "      <td>3.920372</td>\n",
       "      <td>-0.113594</td>\n",
       "      <td>0.175390</td>\n",
       "      <td>1.006336</td>\n",
       "      <td>-0.066627</td>\n",
       "      <td>1.193942</td>\n",
       "      <td>-1.877943</td>\n",
       "    </tr>\n",
       "    <tr>\n",
       "      <th>122654</th>\n",
       "      <td>-0.259928</td>\n",
       "      <td>0.990677</td>\n",
       "      <td>0.561329</td>\n",
       "      <td>0.942818</td>\n",
       "      <td>-0.264494</td>\n",
       "      <td>-0.065439</td>\n",
       "      <td>0.005682</td>\n",
       "      <td>-0.597746</td>\n",
       "      <td>-0.763646</td>\n",
       "      <td>0.230815</td>\n",
       "      <td>...</td>\n",
       "      <td>-0.854862</td>\n",
       "      <td>-0.804239</td>\n",
       "      <td>2.892166</td>\n",
       "      <td>-0.507052</td>\n",
       "      <td>1.093413</td>\n",
       "      <td>0.175390</td>\n",
       "      <td>-0.512170</td>\n",
       "      <td>-0.066627</td>\n",
       "      <td>-1.155850</td>\n",
       "      <td>-1.877943</td>\n",
       "    </tr>\n",
       "  </tbody>\n",
       "</table>\n",
       "<p>27596 rows × 26 columns</p>\n",
       "</div>"
      ],
      "text/plain": [
       "             Age       Sex      Race      Site     Grade  Laterality  \\\n",
       "103928 -0.632680  0.990677  0.561329 -1.300990 -0.264494   13.596737   \n",
       "16363  -1.005432 -1.009410  0.561329 -0.980446 -0.264494   -0.065439   \n",
       "80272   0.112824 -1.009410  0.561329 -0.980446 -0.264494   -0.065439   \n",
       "20294   0.485576  0.990677  0.561329 -0.339358 -0.264494   -0.065439   \n",
       "123197  0.112824 -1.009410  0.561329  1.583906 -0.264494   -0.065439   \n",
       "...          ...       ...       ...       ...       ...         ...   \n",
       "55219  -1.378185 -1.009410 -0.211157  0.942818 -0.264494   -0.065439   \n",
       "110893  0.485576  0.990677  0.561329  0.301730 -0.264494   -0.065439   \n",
       "120550 -1.005432  0.990677  0.561329 -0.980446 -0.264494   -0.065439   \n",
       "104290 -1.005432 -1.009410  0.561329  0.942818 -0.264494   -0.065439   \n",
       "122654 -0.259928  0.990677  0.561329  0.942818 -0.264494   -0.065439   \n",
       "\n",
       "        Diagnostic Confirmation  Combined Summary Stage 2000  \\\n",
       "103928                 0.005682                     1.643879   \n",
       "16363                  0.005682                     0.896670   \n",
       "80272                  0.005682                     0.149462   \n",
       "20294                  0.005682                     0.149462   \n",
       "123197                 0.005682                    -0.597746   \n",
       "...                         ...                          ...   \n",
       "55219                  0.005682                    -1.344955   \n",
       "110893                 0.005682                     0.149462   \n",
       "120550                 0.005682                    -1.344955   \n",
       "104290                 0.005682                     1.643879   \n",
       "122654                 0.005682                    -0.597746   \n",
       "\n",
       "        Derived AJCC Stage Group  Derived AJCC T  ...  Chemotherapy  \\\n",
       "103928                  1.042273        0.230815  ...     -0.854862   \n",
       "16363                  -0.763646        0.230815  ...      1.169779   \n",
       "80272                   0.590793        1.385983  ...     -0.854862   \n",
       "20294                   0.590793        0.230815  ...     -0.854862   \n",
       "123197                 -0.763646        0.230815  ...     -0.854862   \n",
       "...                          ...             ...  ...           ...   \n",
       "55219                   1.493753        0.230815  ...      1.169779   \n",
       "110893                  0.590793        0.230815  ...      1.169779   \n",
       "120550                  1.493753        1.385983  ...      1.169779   \n",
       "104290                  1.042273        0.230815  ...      1.169779   \n",
       "122654                 -0.763646        0.230815  ...     -0.854862   \n",
       "\n",
       "        Systemic/Sur Seq  Regional nodes examined  Regional nodes positive  \\\n",
       "103928         -0.804239                 0.824638                 4.166340   \n",
       "16363           0.880196                 3.285981                -0.507052   \n",
       "80272          -0.804239                 2.793713                -0.015116   \n",
       "20294          -0.804239                 0.824638                -0.261084   \n",
       "123197         -0.804239                 1.218453                -0.507052   \n",
       "...                  ...                      ...                      ...   \n",
       "55219           0.880196                 0.824638                -0.261084   \n",
       "110893          0.880196                 2.695259                -0.261084   \n",
       "120550          0.880196                 1.119999                 0.476820   \n",
       "104290          0.880196                 0.627731                 3.920372   \n",
       "122654         -0.804239                 2.892166                -0.507052   \n",
       "\n",
       "        Tumor Size  Primary by international rules  \\\n",
       "103928    1.093413                        0.175390   \n",
       "16363    -0.918266                       -5.701583   \n",
       "80272    -0.113594                        0.175390   \n",
       "20294    -0.113594                        0.175390   \n",
       "123197    0.288741                        0.175390   \n",
       "...            ...                             ...   \n",
       "55219     0.288741                        0.175390   \n",
       "110893    0.288741                        0.175390   \n",
       "120550    1.898084                        0.175390   \n",
       "104290   -0.113594                        0.175390   \n",
       "122654    1.093413                        0.175390   \n",
       "\n",
       "        Num of in situ/malignant tumors  Num of benign/borderline tumors  \\\n",
       "103928                        -0.512170                        -0.066627   \n",
       "16363                          1.006336                        -0.066627   \n",
       "80272                         -0.512170                        -0.066627   \n",
       "20294                         -0.512170                        -0.066627   \n",
       "123197                        -0.512170                        -0.066627   \n",
       "...                                 ...                              ...   \n",
       "55219                         -0.512170                        -0.066627   \n",
       "110893                         1.006336                        -0.066627   \n",
       "120550                         2.524842                        -0.066627   \n",
       "104290                         1.006336                        -0.066627   \n",
       "122654                        -0.512170                        -0.066627   \n",
       "\n",
       "        Median household income  clusters  \n",
       "103928                -0.372586 -1.877943  \n",
       "16363                  1.193942 -1.877943  \n",
       "80272                  0.019046 -1.877943  \n",
       "20294                 -1.155850 -1.877943  \n",
       "123197                 1.193942 -1.877943  \n",
       "...                         ...       ...  \n",
       "55219                  0.019046 -1.877943  \n",
       "110893                -0.372586 -1.877943  \n",
       "120550                -0.764218 -1.877943  \n",
       "104290                 1.193942 -1.877943  \n",
       "122654                -1.155850 -1.877943  \n",
       "\n",
       "[27596 rows x 26 columns]"
      ]
     },
     "execution_count": 415,
     "metadata": {},
     "output_type": "execute_result"
    }
   ],
   "source": [
    "X_train0"
   ]
  },
  {
   "cell_type": "markdown",
   "metadata": {
    "id": "RW07g4VU69Ju"
   },
   "source": [
    "### Comparison of the RF, NB and LogReg Classificatio Models on Base Training Set "
   ]
  },
  {
   "cell_type": "code",
   "execution_count": 385,
   "metadata": {
    "id": "MwQaxR2y69Jv"
   },
   "outputs": [],
   "source": [
    "from matplotlib import pyplot\n",
    "from sklearn import model_selection\n",
    "from sklearn.model_selection import cross_val_score\n",
    "from sklearn.model_selection import StratifiedKFold\n",
    "from sklearn.linear_model import LogisticRegression\n",
    "from sklearn.linear_model import LinearRegression\n",
    "from sklearn.naive_bayes import GaussianNB\n",
    "from sklearn.ensemble import RandomForestClassifier\n",
    "from sklearn.ensemble import RandomForestRegressor\n",
    "from sklearn import tree\n",
    "from sklearn.svm import SVC\n",
    "from sklearn.metrics import accuracy_score\n",
    "from sklearn.metrics import confusion_matrix\n",
    "from sklearn.metrics import classification_report\n",
    "from sklearn.metrics import r2_score\n",
    "from sklearn.metrics import mean_squared_error"
   ]
  },
  {
   "cell_type": "code",
   "execution_count": 386,
   "metadata": {
    "id": "HMPgWr8y69Jv"
   },
   "outputs": [
    {
     "name": "stdout",
     "output_type": "stream",
     "text": [
      "RF: 0.518244 (0.005580)\n",
      "NB: 0.514754 (0.003326)\n",
      "LR: 0.522647 (0.003723)\n"
     ]
    }
   ],
   "source": [
    "models = []\n",
    "models.append(('RF', RandomForestClassifier(n_estimators=30)))\n",
    "models.append(('NB', GaussianNB()))\n",
    "models.append(('LR', LogisticRegression(multi_class='multinomial', class_weight='balanced', solver='lbfgs', random_state=999, max_iter=10000)))\n",
    "results = []\n",
    "names = []\n",
    "for name, model in models:\n",
    "    kfold = StratifiedKFold(n_splits=10, random_state=1, shuffle=True)\n",
    "    cv_results = cross_val_score(model, X_train_base, y3_train_base, cv=kfold, scoring='accuracy')\n",
    "    results.append(cv_results)\n",
    "    names.append(name)\n",
    "    print('%s: %f (%f)' % (name, cv_results.mean(), cv_results.std()))"
   ]
  },
  {
   "cell_type": "code",
   "execution_count": 410,
   "metadata": {
    "id": "NcsRHi6t69Jv"
   },
   "outputs": [
    {
     "data": {
      "image/png": "[encoded data removed]",
      "text/plain": [
       "<Figure size 576x396 with 1 Axes>"
      ]
     },
     "metadata": {},
     "output_type": "display_data"
    }
   ],
   "source": [
    "pyplot.boxplot(results, labels=names)\n",
    "pyplot.title('Algorithm Comparison')\n",
    "pyplot.ylabel('Accuracy')\n",
    "pyplot.xlabel('Model')\n",
    "pyplot.show()"
   ]
  },
  {
   "cell_type": "markdown",
   "metadata": {
    "id": "5e_I6I5z69Jv"
   },
   "source": [
    "### Prediction using Logistic Regression on Base, 0 and 1 Clusters"
   ]
  },
  {
   "cell_type": "markdown",
   "metadata": {
    "id": "ubhZgTL269Jv"
   },
   "source": [
    "#### LogReg on Survival months (6 ranges)"
   ]
  },
  {
   "cell_type": "code",
   "execution_count": 388,
   "metadata": {
    "id": "x992nnsM69Jv"
   },
   "outputs": [
    {
     "name": "stdout",
     "output_type": "stream",
     "text": [
      "0.3752358182191755\n",
      "[[ 3850  1208   149   113   389   739]\n",
      " [ 1348  1709   206   164   322   598]\n",
      " [ 1337  1720   513   468  1236  2796]\n",
      " [  943  1144   405   485  1169  2710]\n",
      " [  666   702   298   332  1096  2278]\n",
      " [ 2188  1740   978  1220  3882 12436]]\n",
      "              precision    recall  f1-score   support\n",
      "\n",
      "        0-11      0.373     0.597     0.459      6448\n",
      "       12-23      0.208     0.393     0.272      4347\n",
      "       24-35      0.201     0.064     0.097      8070\n",
      "       36-47      0.174     0.071     0.101      6856\n",
      "       48-59      0.135     0.204     0.163      5372\n",
      "        >=60      0.577     0.554     0.565     22444\n",
      "\n",
      "    accuracy                          0.375     53537\n",
      "   macro avg      0.278     0.314     0.276     53537\n",
      "weighted avg      0.370     0.375     0.358     53537\n",
      "\n"
     ]
    }
   ],
   "source": [
    "lrmodel = LogisticRegression(class_weight='balanced', solver='lbfgs', random_state=999, max_iter=10000)\n",
    "lrmodel.fit(X_train_base, y6_train_base)\n",
    "predictions = lrmodel.predict(X_test_base)\n",
    "print(accuracy_score(y6_test_base, predictions))\n",
    "print(confusion_matrix(y6_test_base, predictions))\n",
    "print(classification_report(y6_test_base, predictions, digits=3))"
   ]
  },
  {
   "cell_type": "code",
   "execution_count": 389,
   "metadata": {
    "id": "Zu1c6-lC69Jw"
   },
   "outputs": [
    {
     "name": "stdout",
     "output_type": "stream",
     "text": [
      "0.35573223903565016\n",
      "[[ 677  280   10   25   93  138]\n",
      " [ 267  392   30   27   79  121]\n",
      " [ 247  455   90   83  347  701]\n",
      " [ 165  284   80   89  315  647]\n",
      " [ 141  187   50   61  269  560]\n",
      " [ 400  451  148  232  912 2644]]\n",
      "              precision    recall  f1-score   support\n",
      "\n",
      "        0-11      0.357     0.554     0.434      1223\n",
      "       12-23      0.191     0.428     0.264       916\n",
      "       24-35      0.221     0.047     0.077      1923\n",
      "       36-47      0.172     0.056     0.085      1580\n",
      "       48-59      0.133     0.212     0.164      1268\n",
      "        >=60      0.550     0.552     0.551      4787\n",
      "\n",
      "    accuracy                          0.356     11697\n",
      "   macro avg      0.271     0.308     0.263     11697\n",
      "weighted avg      0.351     0.356     0.333     11697\n",
      "\n"
     ]
    }
   ],
   "source": [
    "lrmodel = LogisticRegression(class_weight='balanced', solver='lbfgs', random_state=999, max_iter=10000)\n",
    "lrmodel.fit(X_train0, y6_train0)\n",
    "predictions = lrmodel.predict(X_test0)\n",
    "print(accuracy_score(y6_test0, predictions))\n",
    "print(confusion_matrix(y6_test0, predictions))\n",
    "print(classification_report(y6_test0, predictions, digits=3))"
   ]
  },
  {
   "cell_type": "code",
   "execution_count": 390,
   "metadata": {
    "id": "bJ1M1P0h69Jw"
   },
   "outputs": [
    {
     "name": "stdout",
     "output_type": "stream",
     "text": [
      "0.37361376673040153\n",
      "[[3132  919  209   86  318  561]\n",
      " [1088 1311  215  123  244  450]\n",
      " [1029 1260  503  384  980 1991]\n",
      " [ 713  830  472  380  912 1969]\n",
      " [ 496  492  302  265  903 1646]\n",
      " [1674 1270 1059 1031 3220 9403]]\n",
      "              precision    recall  f1-score   support\n",
      "\n",
      "        0-11      0.385     0.599     0.469      5225\n",
      "       12-23      0.216     0.382     0.276      3431\n",
      "       24-35      0.182     0.082     0.113      6147\n",
      "       36-47      0.167     0.072     0.101      5276\n",
      "       48-59      0.137     0.220     0.169      4104\n",
      "        >=60      0.587     0.533     0.558     17657\n",
      "\n",
      "    accuracy                          0.374     41840\n",
      "   macro avg      0.279     0.315     0.281     41840\n",
      "weighted avg      0.375     0.374     0.363     41840\n",
      "\n"
     ]
    }
   ],
   "source": [
    "lrmodel = LogisticRegression(class_weight='balanced', solver='lbfgs', random_state=999, max_iter=10000)\n",
    "lrmodel.fit(X_train1, y6_train1)\n",
    "predictions = lrmodel.predict(X_test1)\n",
    "print(accuracy_score(y6_test1, predictions))\n",
    "print(confusion_matrix(y6_test1, predictions))\n",
    "print(classification_report(y6_test1, predictions, digits=3))"
   ]
  },
  {
   "cell_type": "markdown",
   "metadata": {
    "id": "DFjhbZRX69Jw"
   },
   "source": [
    "#### LogReg on Survival months (3 ranges)"
   ]
  },
  {
   "cell_type": "code",
   "execution_count": 391,
   "metadata": {
    "id": "_eAXnv_L69Jw"
   },
   "outputs": [
    {
     "name": "stdout",
     "output_type": "stream",
     "text": [
      "0.5213403814184583\n",
      "[[ 9542  2133  3353]\n",
      " [ 4382  4147  7536]\n",
      " [ 3467  4755 14222]]\n",
      "              precision    recall  f1-score   support\n",
      "\n",
      "        0-29      0.549     0.635     0.589     15028\n",
      "       30-59      0.376     0.258     0.306     16065\n",
      "        >=60      0.566     0.634     0.598     22444\n",
      "\n",
      "    accuracy                          0.521     53537\n",
      "   macro avg      0.497     0.509     0.498     53537\n",
      "weighted avg      0.504     0.521     0.508     53537\n",
      "\n"
     ]
    }
   ],
   "source": [
    "lrmodel = LogisticRegression(class_weight='balanced', solver='lbfgs', random_state=999, max_iter=10000)\n",
    "lrmodel.fit(X_train_base, y3_train_base)\n",
    "predictions = lrmodel.predict(X_test_base)\n",
    "print(accuracy_score(y3_test_base, predictions))\n",
    "print(confusion_matrix(y3_test_base, predictions))\n",
    "print(classification_report(y3_test_base, predictions, digits=3))"
   ]
  },
  {
   "cell_type": "code",
   "execution_count": 392,
   "metadata": {
    "id": "ge718oX969Jw"
   },
   "outputs": [
    {
     "name": "stdout",
     "output_type": "stream",
     "text": [
      "0.5062836624775583\n",
      "[[1932  466  725]\n",
      " [ 968  922 1897]\n",
      " [ 740  979 3068]]\n",
      "              precision    recall  f1-score   support\n",
      "\n",
      "        0-29      0.531     0.619     0.571      3123\n",
      "       30-59      0.390     0.243     0.300      3787\n",
      "        >=60      0.539     0.641     0.586      4787\n",
      "\n",
      "    accuracy                          0.506     11697\n",
      "   macro avg      0.486     0.501     0.486     11697\n",
      "weighted avg      0.488     0.506     0.489     11697\n",
      "\n"
     ]
    }
   ],
   "source": [
    "lrmodel = LogisticRegression(class_weight='balanced', solver='lbfgs', random_state=999, max_iter=10000)\n",
    "lrmodel.fit(X_train0, y3_train0)\n",
    "predictions = lrmodel.predict(X_test0)\n",
    "print(accuracy_score(y3_test0, predictions))\n",
    "print(confusion_matrix(y3_test0, predictions))\n",
    "print(classification_report(y3_test0, predictions, digits=3))"
   ]
  },
  {
   "cell_type": "code",
   "execution_count": 393,
   "metadata": {
    "id": "udRz_a_V69Jx"
   },
   "outputs": [
    {
     "name": "stdout",
     "output_type": "stream",
     "text": [
      "0.5256453154875717\n",
      "[[ 7597  1808  2500]\n",
      " [ 3323  3447  5508]\n",
      " [ 2633  4075 10949]]\n",
      "              precision    recall  f1-score   support\n",
      "\n",
      "        0-29      0.561     0.638     0.597     11905\n",
      "       30-59      0.369     0.281     0.319     12278\n",
      "        >=60      0.578     0.620     0.598     17657\n",
      "\n",
      "    accuracy                          0.526     41840\n",
      "   macro avg      0.503     0.513     0.505     41840\n",
      "weighted avg      0.512     0.526     0.516     41840\n",
      "\n"
     ]
    }
   ],
   "source": [
    "lrmodel = LogisticRegression(class_weight='balanced', solver='lbfgs', random_state=999, max_iter=10000)\n",
    "lrmodel.fit(X_train1, y3_train1)\n",
    "predictions = lrmodel.predict(X_test1)\n",
    "print(accuracy_score(y3_test1, predictions))\n",
    "print(confusion_matrix(y3_test1, predictions))\n",
    "print(classification_report(y3_test1, predictions, digits=3))"
   ]
  },
  {
   "cell_type": "markdown",
   "metadata": {
    "id": "QSt7IkKq69Jx"
   },
   "source": [
    "### Prediction Using Random Forest on Base, 0 and 1 Clusters"
   ]
  },
  {
   "cell_type": "markdown",
   "metadata": {
    "id": "mghLuqyM69Jx"
   },
   "source": [
    "#### Random Forest Classifier on Survival months (6 ranges)"
   ]
  },
  {
   "cell_type": "code",
   "execution_count": 394,
   "metadata": {
    "id": "B4WlbQOr69Jx"
   },
   "outputs": [
    {
     "name": "stdout",
     "output_type": "stream",
     "text": [
      "0.4449446177410015\n",
      "[[ 3264   590   473   170    90  1861]\n",
      " [ 1233   643   579   203    82  1607]\n",
      " [  902   543   943   396   253  5033]\n",
      " [  542   319   682   334   197  4782]\n",
      " [  325   198   471   272   218  3888]\n",
      " [  949   443  1303   777   553 18419]]\n",
      "              precision    recall  f1-score   support\n",
      "\n",
      "        0-11      0.452     0.506     0.478      6448\n",
      "       12-23      0.235     0.148     0.182      4347\n",
      "       24-35      0.212     0.117     0.151      8070\n",
      "       36-47      0.155     0.049     0.074      6856\n",
      "       48-59      0.156     0.041     0.064      5372\n",
      "        >=60      0.518     0.821     0.635     22444\n",
      "\n",
      "    accuracy                          0.445     53537\n",
      "   macro avg      0.288     0.280     0.264     53537\n",
      "weighted avg      0.358     0.445     0.377     53537\n",
      "\n"
     ]
    }
   ],
   "source": [
    "rfmodel = RandomForestClassifier(n_estimators=30)\n",
    "rfmodel.fit(X_train_base, y6_train_base)\n",
    "predictions = rfmodel.predict(X_test_base)\n",
    "print(accuracy_score(y6_test_base, predictions))\n",
    "print(confusion_matrix(y6_test_base, predictions))\n",
    "print(classification_report(y6_test_base, predictions, digits=3))"
   ]
  },
  {
   "cell_type": "code",
   "execution_count": 395,
   "metadata": {
    "id": "F763jdJb69Jx"
   },
   "outputs": [
    {
     "name": "stdout",
     "output_type": "stream",
     "text": [
      "0.4270325724544755\n",
      "[[ 563  114  113   35   19  379]\n",
      " [ 244  150  131   36   24  331]\n",
      " [ 159  127  249  111   43 1234]\n",
      " [ 104   69  156   86   53 1112]\n",
      " [  75   37  109   55   48  944]\n",
      " [ 162   82  331  191  122 3899]]\n",
      "              precision    recall  f1-score   support\n",
      "\n",
      "        0-11      0.431     0.460     0.445      1223\n",
      "       12-23      0.259     0.164     0.201       916\n",
      "       24-35      0.229     0.129     0.165      1923\n",
      "       36-47      0.167     0.054     0.082      1580\n",
      "       48-59      0.155     0.038     0.061      1268\n",
      "        >=60      0.494     0.814     0.615      4787\n",
      "\n",
      "    accuracy                          0.427     11697\n",
      "   macro avg      0.289     0.277     0.261     11697\n",
      "weighted avg      0.344     0.427     0.359     11697\n",
      "\n"
     ]
    }
   ],
   "source": [
    "rfmodel = RandomForestClassifier(n_estimators=30)\n",
    "rfmodel.fit(X_train0, y6_train0)\n",
    "predictions = rfmodel.predict(X_test0)\n",
    "print(accuracy_score(y6_test0, predictions))\n",
    "print(confusion_matrix(y6_test0, predictions))\n",
    "print(classification_report(y6_test0, predictions, digits=3))"
   ]
  },
  {
   "cell_type": "code",
   "execution_count": 396,
   "metadata": {
    "id": "pC1fbRkr69Jx"
   },
   "outputs": [
    {
     "name": "stdout",
     "output_type": "stream",
     "text": [
      "0.4513862332695985\n",
      "[[ 2707   460   365   127    81  1485]\n",
      " [  987   507   437   153    63  1284]\n",
      " [  713   420   645   313   178  3878]\n",
      " [  425   265   517   278   159  3632]\n",
      " [  281   169   346   231   172  2905]\n",
      " [  756   335   946   627   416 14577]]\n",
      "              precision    recall  f1-score   support\n",
      "\n",
      "        0-11      0.461     0.518     0.488      5225\n",
      "       12-23      0.235     0.148     0.181      3431\n",
      "       24-35      0.198     0.105     0.137      6147\n",
      "       36-47      0.161     0.053     0.079      5276\n",
      "       48-59      0.161     0.042     0.066      4104\n",
      "        >=60      0.525     0.826     0.642     17657\n",
      "\n",
      "    accuracy                          0.451     41840\n",
      "   macro avg      0.290     0.282     0.266     41840\n",
      "weighted avg      0.364     0.451     0.383     41840\n",
      "\n"
     ]
    }
   ],
   "source": [
    "rfmodel = RandomForestClassifier(n_estimators=30)\n",
    "rfmodel.fit(X_train1, y6_train1)\n",
    "predictions = rfmodel.predict(X_test1)\n",
    "print(accuracy_score(y6_test1, predictions))\n",
    "print(confusion_matrix(y6_test1, predictions))\n",
    "print(classification_report(y6_test1, predictions, digits=3))"
   ]
  },
  {
   "cell_type": "markdown",
   "metadata": {
    "id": "3RrZkSco69Jy"
   },
   "source": [
    "#### Random Forest Classifier on Survival months (3 ranges)"
   ]
  },
  {
   "cell_type": "code",
   "execution_count": 397,
   "metadata": {
    "id": "RCMM5ONx69Jy"
   },
   "outputs": [
    {
     "name": "stdout",
     "output_type": "stream",
     "text": [
      "0.5168761790910958\n",
      "[[ 8345  2420  4263]\n",
      " [ 3490  4012  8563]\n",
      " [ 2603  4526 15315]]\n",
      "              precision    recall  f1-score   support\n",
      "\n",
      "        0-29      0.578     0.555     0.566     15028\n",
      "       30-59      0.366     0.250     0.297     16065\n",
      "        >=60      0.544     0.682     0.606     22444\n",
      "\n",
      "    accuracy                          0.517     53537\n",
      "   macro avg      0.496     0.496     0.490     53537\n",
      "weighted avg      0.500     0.517     0.502     53537\n",
      "\n"
     ]
    }
   ],
   "source": [
    "rfmodel = RandomForestClassifier(n_estimators=30)\n",
    "rfmodel.fit(X_train_base, y3_train_base)\n",
    "predictions = rfmodel.predict(X_test_base)\n",
    "print(accuracy_score(y3_test_base, predictions))\n",
    "print(confusion_matrix(y3_test_base, predictions))\n",
    "print(classification_report(y3_test_base, predictions, digits=3))"
   ]
  },
  {
   "cell_type": "code",
   "execution_count": 398,
   "metadata": {
    "id": "vH-YqlMP69Jy"
   },
   "outputs": [
    {
     "name": "stdout",
     "output_type": "stream",
     "text": [
      "0.5233269598470364\n",
      "[[ 6637  1893  3375]\n",
      " [ 2692  3062  6524]\n",
      " [ 2038  3422 12197]]\n",
      "              precision    recall  f1-score   support\n",
      "\n",
      "        0-29      0.584     0.557     0.570     11905\n",
      "       30-59      0.366     0.249     0.296     12278\n",
      "        >=60      0.552     0.691     0.614     17657\n",
      "\n",
      "    accuracy                          0.523     41840\n",
      "   macro avg      0.500     0.499     0.494     41840\n",
      "weighted avg      0.506     0.523     0.508     41840\n",
      "\n"
     ]
    }
   ],
   "source": [
    "rfmodel = RandomForestClassifier(n_estimators=30)\n",
    "rfmodel.fit(X_train1, y3_train1)\n",
    "predictions = rfmodel.predict(X_test1)\n",
    "print(accuracy_score(y3_test1, predictions))\n",
    "print(confusion_matrix(y3_test1, predictions))\n",
    "print(classification_report(y3_test1, predictions, digits=3))"
   ]
  },
  {
   "cell_type": "code",
   "execution_count": 399,
   "metadata": {
    "id": "tL2N34zP69Jy"
   },
   "outputs": [
    {
     "name": "stdout",
     "output_type": "stream",
     "text": [
      "0.4991023339317774\n",
      "[[1641  604  878]\n",
      " [ 740 1082 1965]\n",
      " [ 511 1161 3115]]\n",
      "              precision    recall  f1-score   support\n",
      "\n",
      "        0-29      0.567     0.525     0.546      3123\n",
      "       30-59      0.380     0.286     0.326      3787\n",
      "        >=60      0.523     0.651     0.580      4787\n",
      "\n",
      "    accuracy                          0.499     11697\n",
      "   macro avg      0.490     0.487     0.484     11697\n",
      "weighted avg      0.489     0.499     0.489     11697\n",
      "\n"
     ]
    }
   ],
   "source": [
    "rfmodel = RandomForestClassifier(n_estimators=30)\n",
    "rfmodel = rfmodel.fit(X_train0, y3_train0)\n",
    "predictions = rfmodel.predict(X_test0)\n",
    "print(accuracy_score(y3_test0, predictions))\n",
    "print(confusion_matrix(y3_test0, predictions))\n",
    "print(classification_report(y3_test0, predictions, digits=3))"
   ]
  },
  {
   "cell_type": "code",
   "execution_count": 400,
   "metadata": {
    "id": "A12t-Env69Jy"
   },
   "outputs": [
    {
     "name": "stdout",
     "output_type": "stream",
     "text": [
      "[(0.1476, 'Regional nodes examined'), (0.1088, 'Age'), (0.1076, 'Tumor Size'), (0.0907, 'Site'), (0.0883, 'Median household income'), (0.0624, 'Regional nodes positive'), (0.0521, 'Surg Prim Site'), (0.0412, 'Race'), (0.0402, 'Grade'), (0.039, 'Num of in situ/malignant tumors'), (0.0333, 'Derived AJCC Stage Group'), (0.0332, 'Combined Summary Stage 2000'), (0.0328, 'Sex'), (0.0292, 'Derived AJCC T'), (0.017, 'Systemic/Sur Seq'), (0.0147, 'Derived AJCC M'), (0.0141, 'Derived AJCC N'), (0.0113, 'Chemotherapy'), (0.0088, 'Radiation'), (0.0086, 'Surg/Rad Seq'), (0.0072, 'Scope Reg Lymph Node Surg'), (0.0071, 'Primary by international rules'), (0.0031, 'Laterality'), (0.0016, 'Num of benign/borderline tumors'), (0.0002, 'Diagnostic Confirmation')]\n"
     ]
    }
   ],
   "source": [
    "print(sorted(zip(map(lambda x: round(x, 4), rfmodel.feature_importances_), X_train_base.columns), reverse=True))"
   ]
  },
  {
   "cell_type": "markdown",
   "metadata": {
    "id": "PvHw6Kkj69Jy"
   },
   "source": [
    "### Prediction Using Naive Bayes on Base, 0 and 1 Clusters"
   ]
  },
  {
   "cell_type": "markdown",
   "metadata": {
    "id": "IUjfW8tS69Jz"
   },
   "source": [
    "#### NB Classifier on Survival months (6 ranges)"
   ]
  },
  {
   "cell_type": "code",
   "execution_count": 401,
   "metadata": {
    "id": "-DC_GuDh69Jz"
   },
   "outputs": [
    {
     "name": "stdout",
     "output_type": "stream",
     "text": [
      "0.4423669611670433\n",
      "[[ 3450   491    85    15   110  2297]\n",
      " [ 1746   749   122    19   104  1607]\n",
      " [ 1320   954   227    41   251  5277]\n",
      " [  799   658   174    63   245  4917]\n",
      " [  492   404   139    29   210  4098]\n",
      " [ 1384   989   365    73   649 18984]]\n",
      "              precision    recall  f1-score   support\n",
      "\n",
      "        0-11      0.375     0.535     0.441      6448\n",
      "       12-23      0.176     0.172     0.174      4347\n",
      "       24-35      0.204     0.028     0.049      8070\n",
      "       36-47      0.263     0.009     0.018      6856\n",
      "       48-59      0.134     0.039     0.061      5372\n",
      "        >=60      0.511     0.846     0.637     22444\n",
      "\n",
      "    accuracy                          0.442     53537\n",
      "   macro avg      0.277     0.272     0.230     53537\n",
      "weighted avg      0.351     0.442     0.350     53537\n",
      "\n"
     ]
    }
   ],
   "source": [
    "model = GaussianNB()\n",
    "model.fit(X_train_base, y6_train_base)\n",
    "predictions = model.predict(X_test_base)\n",
    "print(accuracy_score(y6_test_base, predictions))\n",
    "print(confusion_matrix(y6_test_base, predictions))\n",
    "print(classification_report(y6_test_base, predictions, digits=3))"
   ]
  },
  {
   "cell_type": "code",
   "execution_count": 402,
   "metadata": {
    "id": "pnKKkVAU69Jz"
   },
   "outputs": [
    {
     "name": "stdout",
     "output_type": "stream",
     "text": [
      "0.42070616397366845\n",
      "[[ 529  234   15   13    6  426]\n",
      " [ 228  327   25   13   15  308]\n",
      " [ 138  409   54   49   34 1239]\n",
      " [  82  263   59   44   18 1114]\n",
      " [  56  174   35   28   12  963]\n",
      " [ 151  386  110  131   54 3955]]\n",
      "              precision    recall  f1-score   support\n",
      "\n",
      "        0-11      0.447     0.433     0.440      1223\n",
      "       12-23      0.182     0.357     0.241       916\n",
      "       24-35      0.181     0.028     0.049      1923\n",
      "       36-47      0.158     0.028     0.047      1580\n",
      "       48-59      0.086     0.009     0.017      1268\n",
      "        >=60      0.494     0.826     0.618      4787\n",
      "\n",
      "    accuracy                          0.421     11697\n",
      "   macro avg      0.258     0.280     0.235     11697\n",
      "weighted avg      0.324     0.421     0.334     11697\n",
      "\n"
     ]
    }
   ],
   "source": [
    "model = GaussianNB()\n",
    "model.fit(X_train0, y6_train0)\n",
    "predictions = model.predict(X_test0)\n",
    "print(accuracy_score(y6_test0, predictions))\n",
    "print(confusion_matrix(y6_test0, predictions))\n",
    "print(classification_report(y6_test0, predictions, digits=3))"
   ]
  },
  {
   "cell_type": "code",
   "execution_count": 403,
   "metadata": {
    "id": "MvNHw38z69Jz"
   },
   "outputs": [
    {
     "name": "stdout",
     "output_type": "stream",
     "text": [
      "0.4465105162523901\n",
      "[[ 2868   375    68    12    76  1826]\n",
      " [ 1443   557    92    11    66  1262]\n",
      " [ 1066   704   196    30   161  3990]\n",
      " [  678   517   151    47   167  3716]\n",
      " [  404   321   116    16   147  3100]\n",
      " [ 1153   846   354    60   377 14867]]\n",
      "              precision    recall  f1-score   support\n",
      "\n",
      "        0-11      0.377     0.549     0.447      5225\n",
      "       12-23      0.168     0.162     0.165      3431\n",
      "       24-35      0.201     0.032     0.055      6147\n",
      "       36-47      0.267     0.009     0.017      5276\n",
      "       48-59      0.148     0.036     0.058      4104\n",
      "        >=60      0.517     0.842     0.641     17657\n",
      "\n",
      "    accuracy                          0.447     41840\n",
      "   macro avg      0.280     0.272     0.230     41840\n",
      "weighted avg      0.357     0.447     0.356     41840\n",
      "\n"
     ]
    }
   ],
   "source": [
    "model = GaussianNB()\n",
    "model.fit(X_train1, y6_train1)\n",
    "predictions = model.predict(X_test1)\n",
    "print(accuracy_score(y6_test1, predictions))\n",
    "print(confusion_matrix(y6_test1, predictions))\n",
    "print(classification_report(y6_test1, predictions, digits=3))"
   ]
  },
  {
   "cell_type": "markdown",
   "metadata": {
    "id": "Wu_GOcYZ69Jz"
   },
   "source": [
    "#### NB Classifier on Survival months (3 ranges)"
   ]
  },
  {
   "cell_type": "code",
   "execution_count": 404,
   "metadata": {
    "id": "TNmBSLgN69Jz"
   },
   "outputs": [
    {
     "name": "stdout",
     "output_type": "stream",
     "text": [
      "0.5145973812503503\n",
      "[[ 7659   787  6582]\n",
      " [ 3479  1235 11351]\n",
      " [ 2532  1256 18656]]\n",
      "              precision    recall  f1-score   support\n",
      "\n",
      "        0-29      0.560     0.510     0.534     15028\n",
      "       30-59      0.377     0.077     0.128     16065\n",
      "        >=60      0.510     0.831     0.632     22444\n",
      "\n",
      "    accuracy                          0.515     53537\n",
      "   macro avg      0.482     0.473     0.431     53537\n",
      "weighted avg      0.484     0.515     0.453     53537\n",
      "\n"
     ]
    }
   ],
   "source": [
    "model = GaussianNB()\n",
    "model.fit(X_train_base, y3_train_base)\n",
    "predictions = model.predict(X_test_base)\n",
    "print(accuracy_score(y3_test_base, predictions))\n",
    "print(confusion_matrix(y3_test_base, predictions))\n",
    "print(classification_report(y3_test_base, predictions, digits=3))"
   ]
  },
  {
   "cell_type": "code",
   "execution_count": 405,
   "metadata": {
    "id": "DUx4cYGb69Jz"
   },
   "outputs": [
    {
     "name": "stdout",
     "output_type": "stream",
     "text": [
      "0.49705052577583997\n",
      "[[1697  124 1302]\n",
      " [ 875  233 2679]\n",
      " [ 621  282 3884]]\n",
      "              precision    recall  f1-score   support\n",
      "\n",
      "        0-29      0.531     0.543     0.537      3123\n",
      "       30-59      0.365     0.062     0.105      3787\n",
      "        >=60      0.494     0.811     0.614      4787\n",
      "\n",
      "    accuracy                          0.497     11697\n",
      "   macro avg      0.463     0.472     0.419     11697\n",
      "weighted avg      0.462     0.497     0.429     11697\n",
      "\n"
     ]
    }
   ],
   "source": [
    "model = GaussianNB()\n",
    "model.fit(X_train0, y3_train0)\n",
    "predictions = model.predict(X_test0)\n",
    "print(accuracy_score(y3_test0, predictions))\n",
    "print(confusion_matrix(y3_test0, predictions))\n",
    "print(classification_report(y3_test0, predictions, digits=3))"
   ]
  },
  {
   "cell_type": "code",
   "execution_count": 406,
   "metadata": {
    "id": "B0KXundS69J0"
   },
   "outputs": [
    {
     "name": "stdout",
     "output_type": "stream",
     "text": [
      "0.518546845124283\n",
      "[[ 6145   513  5247]\n",
      " [ 2804   806  8668]\n",
      " [ 2159   753 14745]]\n",
      "              precision    recall  f1-score   support\n",
      "\n",
      "        0-29      0.553     0.516     0.534     11905\n",
      "       30-59      0.389     0.066     0.112     12278\n",
      "        >=60      0.514     0.835     0.637     17657\n",
      "\n",
      "    accuracy                          0.519     41840\n",
      "   macro avg      0.486     0.472     0.428     41840\n",
      "weighted avg      0.489     0.519     0.454     41840\n",
      "\n"
     ]
    }
   ],
   "source": [
    "model = GaussianNB()\n",
    "model.fit(X_train1, y3_train1)\n",
    "predictions = model.predict(X_test1)\n",
    "print(accuracy_score(y3_test1, predictions))\n",
    "print(confusion_matrix(y3_test1, predictions))\n",
    "print(classification_report(y3_test1, predictions, digits=3))"
   ]
  },
  {
   "cell_type": "markdown",
   "metadata": {
    "id": "GOqBuezK69J0"
   },
   "source": [
    "# LogReg results for test_base"
   ]
  },
  {
   "cell_type": "markdown",
   "metadata": {
    "id": "JZ8FzYAc69J0"
   },
   "source": [
    "accuracy: 0.5215001284356537  "
   ]
  },
  {
   "cell_type": "markdown",
   "metadata": {
    "id": "0LqR6nLD69J0"
   },
   "source": [
    "Confusion Matrix:  \n",
    "  \n",
    "||Pred 0|Pred 1|Pred 2|\n",
    "|---|---|---|---|\n",
    "|Actual 0|8802|1680|2077 |\n",
    "|Actual 1|5619|5622|10684|\n",
    "|Actual 2|3007|4875|16029|"
   ]
  },
  {
   "cell_type": "markdown",
   "metadata": {
    "id": "-kaKpBeB69J0"
   },
   "source": [
    "||precision|recall|f1-score|support|\n",
    "|---\t|:---\t|:---\t|:---\t|:--- |\n",
    "|0   \t|0.505  |0.701  |0.587   |12559|\n",
    "|1   \t|0.462  |0.256 \t|0.330 \t| 21925|\n",
    "|2   \t|0.557 \t|0.670\t|0.608 \t| 23911|\n",
    "|macro avg \t| 0.508  |0.543\t|0.508 \t| 58395 |\n",
    "|weighted avg |0.510 |0.522\t| 0.499\t| 58395 |"
   ]
  },
  {
   "cell_type": "markdown",
   "metadata": {
    "id": "F2oWQ_ii69J0"
   },
   "source": [
    "## Linear Regression "
   ]
  },
  {
   "cell_type": "code",
   "execution_count": 407,
   "metadata": {
    "id": "ervLW91A69J0"
   },
   "outputs": [
    {
     "name": "stdout",
     "output_type": "stream",
     "text": [
      "0.20495609122261427\n",
      "33.776982044560825\n"
     ]
    }
   ],
   "source": [
    "lrmodel = LinearRegression()\n",
    "lrmodel.fit(X_train_base, yc_train_base)\n",
    "predictions = lrmodel.predict(X_test_base)\n",
    "print(r2_score(yc_test_base, predictions))\n",
    "print(mean_squared_error(yc_test_base, predictions, squared=False))"
   ]
  },
  {
   "cell_type": "code",
   "execution_count": 422,
   "metadata": {},
   "outputs": [
    {
     "data": {
      "image/png": "[encoded data removed]",
      "text/plain": [
       "<Figure size 576x396 with 1 Axes>"
      ]
     },
     "metadata": {},
     "output_type": "display_data"
    }
   ],
   "source": [
    "fig, ax = plt.subplots()\n",
    "ax.scatter(yc_test_base, predictions)\n",
    "ax.plot([yc_test_base.min(), yc_test_base.max()], [yc_test_base.min(), yc_test_base.max()], 'k--', lw=1)\n",
    "ax.set_xlabel('Actual')\n",
    "ax.set_ylabel('Predicted')\n",
    "plt.show()"
   ]
  },
  {
   "cell_type": "code",
   "execution_count": 423,
   "metadata": {
    "id": "i2X4K7AU69J1"
   },
   "outputs": [
    {
     "name": "stdout",
     "output_type": "stream",
     "text": [
      "0.21152213379526108\n",
      "34.00924413390754\n"
     ]
    }
   ],
   "source": [
    "lrmodel = LinearRegression()\n",
    "lrmodel.fit(X_train1, yc_train1)\n",
    "predictions = lrmodel.predict(X_test1)\n",
    "print(r2_score(yc_test1, predictions))\n",
    "print(mean_squared_error(yc_test1, predictions, squared=False))"
   ]
  },
  {
   "cell_type": "code",
   "execution_count": 424,
   "metadata": {
    "id": "GHQ7tqpZ69J1"
   },
   "outputs": [
    {
     "name": "stdout",
     "output_type": "stream",
     "text": [
      "0.18390667119170334\n",
      "32.82827047937867\n"
     ]
    }
   ],
   "source": [
    "lrmodel = LinearRegression()\n",
    "lrmodel.fit(X_train0, yc_train0)\n",
    "predictions = lrmodel.predict(X_test0)\n",
    "print(r2_score(yc_test0, predictions))\n",
    "print(mean_squared_error(yc_test0, predictions, squared=False))"
   ]
  },
  {
   "cell_type": "markdown",
   "metadata": {
    "id": "eg26mnkO69J1"
   },
   "source": [
    "## Re-do Kmeans and model using further filtered dataset on Survival months (3 ranges)"
   ]
  },
  {
   "cell_type": "code",
   "execution_count": 425,
   "metadata": {
    "id": "YaV1Bbi869J1"
   },
   "outputs": [],
   "source": [
    "data2_filt = data2.iloc[:, [19,8,11,10,20,7,0,18,9,4,21,22,27,28]]"
   ]
  },
  {
   "cell_type": "code",
   "execution_count": 426,
   "metadata": {
    "id": "zlFzJyjV69J1"
   },
   "outputs": [],
   "source": [
    "data2_filt_cont = data2.iloc[:, [8,11,10,19,9,0,4,20,7,21,22,27,28]]"
   ]
  },
  {
   "cell_type": "code",
   "execution_count": 427,
   "metadata": {
    "id": "6KornwkQ69J4"
   },
   "outputs": [],
   "source": [
    "filt_no_target = data2_filt.drop(['Alive/Dead', 'Survival months', 'Survival months_6bins', 'Survival months_3bins'],axis=1)\n",
    "filt_target = data2_filt[['Survival months_3bins']]"
   ]
  },
  {
   "cell_type": "code",
   "execution_count": 428,
   "metadata": {
    "id": "5Aom9Q7X69J4"
   },
   "outputs": [],
   "source": [
    "Sum_of_squared_distances = []\n",
    "K = range(1,10)\n",
    "for k in K:\n",
    "    km = KMeans(n_clusters=k)\n",
    "    km = km.fit(filt_no_target)\n",
    "    Sum_of_squared_distances.append(km.inertia_)"
   ]
  },
  {
   "cell_type": "code",
   "execution_count": 429,
   "metadata": {
    "id": "aU-mRBsI69J4",
    "scrolled": true
   },
   "outputs": [
    {
     "data": {
      "image/png": "[encoded data removed]",
      "text/plain": [
       "<Figure size 576x396 with 1 Axes>"
      ]
     },
     "metadata": {},
     "output_type": "display_data"
    }
   ],
   "source": [
    "plt.plot(K, Sum_of_squared_distances, 'bx-')\n",
    "plt.xlabel('k')\n",
    "plt.ylabel('Sum_of_squared_distances')\n",
    "plt.title('Elbow Method For Optimal k')\n",
    "plt.show()"
   ]
  },
  {
   "cell_type": "code",
   "execution_count": 430,
   "metadata": {
    "id": "aMVXM_We69J4"
   },
   "outputs": [],
   "source": [
    "from sklearn.model_selection import train_test_split\n",
    "\n",
    "Xf = data2_filt.drop(['Alive/Dead', 'Survival months', 'Survival months_3bins', 'Survival months_6bins'],axis=1)\n",
    "yf = data2_filt['Survival months_3bins']\n",
    "\n",
    "Xf_train, Xf_test, yf_train, yf_test = train_test_split(Xf, yf, test_size=0.30, random_state=42)"
   ]
  },
  {
   "cell_type": "code",
   "execution_count": 431,
   "metadata": {
    "id": "yZ4IJke369J4"
   },
   "outputs": [],
   "source": [
    "from typing import Tuple"
   ]
  },
  {
   "cell_type": "code",
   "execution_count": 432,
   "metadata": {
    "id": "-fWv7r1j69J4"
   },
   "outputs": [],
   "source": [
    "def get_clusters(Xf_train: pd.DataFrame, Xf_test: pd.DataFrame, n_clusters: int) -> Tuple[pd.DataFrame, pd.DataFrame]:\n",
    "\n",
    "    clustering = KMeans(n_clusters=n_clusters, random_state=1022)\n",
    "    clustering.fit(Xf_train)\n",
    "\n",
    "    train_labels = clustering.labels_\n",
    "    Xf_train_clstrs = Xf_train.copy()\n",
    "    Xf_train_clstrs['clusters'] = train_labels\n",
    "    \n",
    "\n",
    "    test_labels = clustering.predict(Xf_test)\n",
    "    Xf_test_clstrs = Xf_test.copy()\n",
    "    Xf_test_clstrs['clusters'] = test_labels\n",
    "    \n",
    "    return Xf_train_clstrs, Xf_test_clstrs"
   ]
  },
  {
   "cell_type": "code",
   "execution_count": 433,
   "metadata": {
    "id": "zmQdL42869J4"
   },
   "outputs": [],
   "source": [
    "Xf_train_clstrs, Xf_test_clstrs = get_clusters(Xf_train, Xf_test, 2)"
   ]
  },
  {
   "cell_type": "code",
   "execution_count": 434,
   "metadata": {
    "id": "xTs-OwOx69J5"
   },
   "outputs": [],
   "source": [
    "from sklearn.preprocessing import StandardScaler\n",
    "def scale_features(Xf_train_clstrs: pd.DataFrame, Xf_test_clstrs: pd.DataFrame):\n",
    "    sc = StandardScaler()\n",
    "    Xf_train_clstrs = sc.fit_transform(Xf_train_clstrs)\n",
    "    Xf_test_clstrs = sc.transform(Xf_test_clstrs)\n",
    "    \n",
    "    return Xf_train_clstrs, Xf_test_clstrs\n",
    "Xf_train_scaled, Xf_test_scaled = scale_features(Xf_train_clstrs, Xf_test_clstrs)"
   ]
  },
  {
   "cell_type": "code",
   "execution_count": 435,
   "metadata": {
    "id": "xwmBwtRO69J5"
   },
   "outputs": [],
   "source": [
    "Xf_train_scaled = pd.DataFrame(Xf_train_scaled, index=Xf_train_clstrs.index, columns=Xf_train_clstrs.columns)"
   ]
  },
  {
   "cell_type": "code",
   "execution_count": 436,
   "metadata": {
    "id": "9CgMUkvz69J5"
   },
   "outputs": [],
   "source": [
    "Xf_test_scaled = pd.DataFrame(Xf_test_scaled, index=Xf_test_clstrs.index, columns=Xf_test_clstrs.columns)"
   ]
  },
  {
   "cell_type": "code",
   "execution_count": 437,
   "metadata": {
    "id": "wryKk_Fy69J5"
   },
   "outputs": [],
   "source": [
    "# locate the \"0\" cluster\n",
    "Xf_train0 = Xf_train_scaled[Xf_train_scaled['clusters'] < 0]\n",
    "Xf_test0 = Xf_test_scaled[Xf_test_scaled['clusters'] < 0]\n",
    "yf_train0 = yf_train[Xf_train_scaled['clusters'] < 0]\n",
    "yf_test0 = yf_test[Xf_test_scaled['clusters'] < 0]\n",
    "\n",
    "# locate the \"1\" cluster\n",
    "Xf_train1 = Xf_train_scaled[Xf_train_scaled['clusters'] > 0]\n",
    "Xf_test1 = Xf_test_scaled[Xf_test_scaled['clusters'] > 0]\n",
    "yf_train1 = yf_train[Xf_train_scaled['clusters'] > 0]\n",
    "yf_test1 = yf_test[Xf_test_scaled['clusters'] > 0]\n",
    "\n",
    "# drop cluster from the base dataset \n",
    "Xf_train_base = Xf_train_scaled.drop(columns=['clusters'])\n",
    "Xf_test_base = Xf_test_scaled.drop(columns=['clusters'])\n",
    "yf_train_base = yf_train.copy()\n",
    "yf_test_base = yf_test.copy()"
   ]
  },
  {
   "cell_type": "markdown",
   "metadata": {
    "id": "J0Wmcfwh69J5"
   },
   "source": [
    "### Classification"
   ]
  },
  {
   "cell_type": "code",
   "execution_count": 438,
   "metadata": {
    "id": "5waecrLg69J5"
   },
   "outputs": [
    {
     "name": "stdout",
     "output_type": "stream",
     "text": [
      "RF: 0.475184 (0.002729)\n",
      "NB: 0.514514 (0.003625)\n",
      "LR: 0.515650 (0.003929)\n"
     ]
    }
   ],
   "source": [
    "models = []\n",
    "models.append(('RF', RandomForestClassifier(n_estimators=20)))\n",
    "models.append(('NB', GaussianNB()))\n",
    "models.append(('LR', LogisticRegression(multi_class='multinomial', class_weight='balanced', solver='lbfgs', random_state=999, max_iter=10000)))\n",
    "results = []\n",
    "names = []\n",
    "for name, model in models:\n",
    "    kfold = StratifiedKFold(n_splits=10, random_state=1, shuffle=True)\n",
    "    cv_results = cross_val_score(model, Xf_train_base, yf_train_base, cv=kfold, scoring='accuracy')\n",
    "    results.append(cv_results)\n",
    "    names.append(name)\n",
    "    print('%s: %f (%f)' % (name, cv_results.mean(), cv_results.std()))"
   ]
  },
  {
   "cell_type": "code",
   "execution_count": 439,
   "metadata": {
    "id": "khENWwis69J5"
   },
   "outputs": [
    {
     "data": {
      "image/png": "[encoded data removed]",
      "text/plain": [
       "<Figure size 576x396 with 1 Axes>"
      ]
     },
     "metadata": {},
     "output_type": "display_data"
    }
   ],
   "source": [
    "pyplot.boxplot(results, labels=names)\n",
    "pyplot.title('Algorithm Comparison')\n",
    "pyplot.show()"
   ]
  }
 ],
 "metadata": {
  "colab": {
   "name": "CIND820CodeApr1 (1).ipynb",
   "provenance": []
  },
  "kernelspec": {
   "display_name": "Python 3",
   "language": "python",
   "name": "python3"
  }
 },
 "nbformat": 4,
 "nbformat_minor": 1
}
